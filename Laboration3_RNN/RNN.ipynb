{
 "cells": [
  {
   "cell_type": "markdown",
   "metadata": {
    "id": "y8SC3p-UCusw"
   },
   "source": [
    "# RNN Machine Translation Laboration"
   ]
  },
  {
   "cell_type": "markdown",
   "metadata": {
    "id": "tpKfOYP9sDEV"
   },
   "source": [
    "\n",
    "**Presented By**\n",
    "\n",
    "Hirbod Gholamniaetakhsami (hirgh815) &\n",
    "Sachini Niwanthani Bambaranda Bambaranda Gamage (bamba063)\n",
    "\n",
    "---\n",
    "\n"
   ]
  },
  {
   "cell_type": "markdown",
   "metadata": {
    "id": "nvKNkEYrCusy"
   },
   "source": [
    "In this lab, your task is to build a sequence-to-sequence model, using recurrent neural networks, that translates short sentences from Swedish into English."
   ]
  },
  {
   "cell_type": "code",
   "execution_count": 1,
   "metadata": {
    "executionInfo": {
     "elapsed": 623,
     "status": "ok",
     "timestamp": 1687783198275,
     "user": {
      "displayName": "hhh khjf",
      "userId": "15112222139699376117"
     },
     "user_tz": -120
    },
    "id": "SETzmyGdsDEZ",
    "tags": [],
    "ExecuteTime": {
     "end_time": "2023-07-04T17:24:52.824732800Z",
     "start_time": "2023-07-04T17:24:52.044818600Z"
    }
   },
   "outputs": [],
   "source": [
    "import os\n",
    "os.environ[\"TF_CPP_MIN_LOG_LEVEL\"] = \"2\"# Tensorflow is quite chatty; filter out warnings"
   ]
  },
  {
   "cell_type": "code",
   "execution_count": 2,
   "metadata": {
    "executionInfo": {
     "elapsed": 2124,
     "status": "ok",
     "timestamp": 1687783201468,
     "user": {
      "displayName": "hhh khjf",
      "userId": "15112222139699376117"
     },
     "user_tz": -120
    },
    "id": "IDNS-GhLCusz",
    "tags": [],
    "ExecuteTime": {
     "end_time": "2023-07-04T16:17:23.133993600Z",
     "start_time": "2023-07-04T16:17:02.468375400Z"
    }
   },
   "outputs": [],
   "source": [
    "import tensorflow as tf\n",
    "from tensorflow import keras\n",
    "from tensorflow.keras import layers"
   ]
  },
  {
   "cell_type": "markdown",
   "metadata": {
    "id": "QIYxg4JCsDEc"
   },
   "source": [
    "### Check that Tensorflow uses a GPU _(optional)_\n",
    "\n",
    "Training the models in this notebook can be sped up significantly with a GPU.  The following cell can be used to check if the GPU is set up correctly.  If you run on CPU, you can either run or just ignore this cell."
   ]
  },
  {
   "cell_type": "code",
   "execution_count": 3,
   "metadata": {
    "colab": {
     "base_uri": "https://localhost:8080/"
    },
    "executionInfo": {
     "elapsed": 878,
     "status": "ok",
     "timestamp": 1687783208839,
     "user": {
      "displayName": "hhh khjf",
      "userId": "15112222139699376117"
     },
     "user_tz": -120
    },
    "id": "S4naaxAzsDEd",
    "outputId": "406d0cf6-62f8-49a4-8e1e-a8e1235fd69d",
    "ExecuteTime": {
     "end_time": "2023-07-04T16:17:23.782260600Z",
     "start_time": "2023-07-04T16:17:23.139978600Z"
    }
   },
   "outputs": [
    {
     "name": "stdout",
     "output_type": "stream",
     "text": [
      "✗ Tensorflow has NOT detected a GPU.\n",
      "\n",
      "For GPU support, visit: <https://www.tensorflow.org/install/pip>\n"
     ]
    }
   ],
   "source": [
    "os.environ[\"CUDA_DEVICE_ORDER\"]=\"PCI_BUS_ID\"\n",
    "# The GPU id to use, usually either \"0\" or \"1\"\n",
    "os.environ[\"CUDA_VISIBLE_DEVICES\"]=\"0\"\n",
    "\n",
    "if tf.config.list_physical_devices(\"GPU\"):\n",
    "    print(\"✓ Tensorflow has detected a GPU.\")\n",
    "    import shutil\n",
    "    if not shutil.which(\"ptxas\"):\n",
    "        print(\"\\n✗ Command 'ptxas' not found in path -- you might have to install `cudatoolkit-dev`\")\n",
    "    if not \"XLA_FLAGS\" in os.environ:\n",
    "        print(\"\\n✗ XLA_FLAGS not set. If you encounter errors during training, you might have to set\")\n",
    "        print(\"        XLA_FLAGS=\\\"--xla_gpu_cuda_data_dir=$CONDA_PREFIX/lib/\\\"\")\n",
    "\n",
    "    # Allow growth of GPU memory, otherwise it will always look like all the memory is being used\n",
    "    physical_devices = tf.config.experimental.list_physical_devices('GPU')\n",
    "    tf.config.experimental.set_memory_growth(physical_devices[0], True)\n",
    "else:\n",
    "    print(\"✗ Tensorflow has NOT detected a GPU.\")\n",
    "    print()\n",
    "    print(\"For GPU support, visit: <https://www.tensorflow.org/install/pip>\")"
   ]
  },
  {
   "cell_type": "code",
   "execution_count": 4,
   "metadata": {
    "colab": {
     "base_uri": "https://localhost:8080/"
    },
    "executionInfo": {
     "elapsed": 22,
     "status": "ok",
     "timestamp": 1687783208840,
     "user": {
      "displayName": "hhh khjf",
      "userId": "15112222139699376117"
     },
     "user_tz": -120
    },
    "id": "zpDicartsDEf",
    "outputId": "8fcbcc4c-5c0b-4b33-f363-38afe506de03",
    "ExecuteTime": {
     "end_time": "2023-07-04T16:17:23.897949900Z",
     "start_time": "2023-07-04T16:17:23.781262500Z"
    }
   },
   "outputs": [
    {
     "data": {
      "text/plain": "[]"
     },
     "execution_count": 4,
     "metadata": {},
     "output_type": "execute_result"
    }
   ],
   "source": [
    "tf.config.list_physical_devices(\"GPU\")"
   ]
  },
  {
   "cell_type": "markdown",
   "metadata": {
    "id": "kqHFdA_OsDEh"
   },
   "source": [
    "## Problem Specification\n",
    "\n",
    "Your task in this assignment is to:\n",
    "\n",
    "1. Build an encoder—decoder model based on recurrent neural networks.\n",
    "2. Train this model on the provided training data, a collection of parallel Swedish–English sentences.\n",
    "3. Evaluate the performance of this model on the provided test data."
   ]
  },
  {
   "cell_type": "markdown",
   "metadata": {
    "id": "aX-5kU7mCus1"
   },
   "source": [
    "### The data: Swedish–English Anki corpus"
   ]
  },
  {
   "cell_type": "markdown",
   "metadata": {
    "id": "luSjyoOqCus2"
   },
   "source": [
    "The data in this lab consists of bilingual Swedish–English sentence pairs from the [Tatoeba Project](https://tatoeba.org/en) as collected by [Anki](http://www.manythings.org/anki/).  These are comparatively short sentences, suitable for language learners, and therefore also well-suited for building a small machine translation model. Here are some example sentences from the training set:"
   ]
  },
  {
   "cell_type": "code",
   "execution_count": 5,
   "metadata": {
    "colab": {
     "base_uri": "https://localhost:8080/"
    },
    "executionInfo": {
     "elapsed": 1001,
     "status": "ok",
     "timestamp": 1687783209833,
     "user": {
      "displayName": "hhh khjf",
      "userId": "15112222139699376117"
     },
     "user_tz": -120
    },
    "id": "EaFUyzF-Cus2",
    "outputId": "a4c50a60-e319-4d6d-85d6-c2d1ec55f90e",
    "tags": [],
    "ExecuteTime": {
     "end_time": "2023-07-04T16:17:23.919891700Z",
     "start_time": "2023-07-04T16:17:23.816169700Z"
    }
   },
   "outputs": [
    {
     "name": "stdout",
     "output_type": "stream",
     "text": [
      "['i returned to japan .', 'jag Ã¥tervÃ¤nde till japan .']\n",
      "['i love her .', 'jag Ã¤lskar henne .']\n",
      "[\"this is tom ' s school .\", 'detta Ã¤r toms skola .']\n",
      "['i can hardly stand .', 'jag kan knappt stÃ¥ .']\n"
     ]
    }
   ],
   "source": [
    "with open(\"en-sv-train.txt\", \"rt\") as f:\n",
    "    for i, line in enumerate(f):\n",
    "        pair = [sent for sent in line.rstrip().split(\"\\t\")]\n",
    "        print(pair)\n",
    "        if i > 2:\n",
    "            break"
   ]
  },
  {
   "cell_type": "markdown",
   "metadata": {
    "id": "cVYZFLVyCus3"
   },
   "source": [
    "Each line in the data files consists of an English–Swedish sentence pair. The sentences are already lower-cased and pre-tokenized (using the [toktok tokenizer from NLTK](https://www.nltk.org/howto/tokenize.html)), so we can simply split them up by whitespace to get sequences of tokens.  To make your life a bit easier, we have removed sentences longer than 15 words.\n",
    "\n",
    "The next cell contains code that yields the sentences contained in a file as lists of strings:"
   ]
  },
  {
   "cell_type": "code",
   "execution_count": 6,
   "metadata": {
    "colab": {
     "base_uri": "https://localhost:8080/"
    },
    "executionInfo": {
     "elapsed": 31,
     "status": "ok",
     "timestamp": 1687783209834,
     "user": {
      "displayName": "hhh khjf",
      "userId": "15112222139699376117"
     },
     "user_tz": -120
    },
    "id": "Eay_PCwACus4",
    "outputId": "2dcd6f00-1b4d-478a-8078-9f99d54490b5",
    "tags": [],
    "ExecuteTime": {
     "end_time": "2023-07-04T16:17:23.920891800Z",
     "start_time": "2023-07-04T16:17:23.898948Z"
    }
   },
   "outputs": [
    {
     "data": {
      "text/plain": "['i', 'returned', 'to', 'japan', '.']"
     },
     "execution_count": 6,
     "metadata": {},
     "output_type": "execute_result"
    }
   ],
   "source": [
    "ENGLISH = 0\n",
    "SWEDISH = 1\n",
    "\n",
    "def sentences(filename, idx):\n",
    "    # Use idx=0 for English, idx=1 for Swedish\n",
    "    with open(filename, \"rt\",encoding=\"utf-8\") as source:\n",
    "        for line in source:\n",
    "            yield line.rstrip().split(\"\\t\")[idx].split()\n",
    "\n",
    "# Example usage\n",
    "next(sentences(\"en-sv-train.txt\", ENGLISH))"
   ]
  },
  {
   "cell_type": "markdown",
   "metadata": {
    "id": "Ypi63gGlCus5"
   },
   "source": [
    "## Part 1: Build the vocabularies"
   ]
  },
  {
   "cell_type": "markdown",
   "metadata": {
    "id": "REbT89KqCus5"
   },
   "source": [
    "Before we can feed them into any model, we first need to convert the text strings to integers. For this purpose, we'll create a **vocabulary** of tokens that are known to the model, one vocabulary for each language. We need four **special tokens (or \"pseudowords\")**:\n",
    "\n",
    "1. `<pad>` at index 0 for padding purposes\n",
    "2. `<unk>` at index 1 to represent unknown words\n",
    "3. `<bos>` at index 2 to mark the \"beginning of sequence\" in the decoder\n",
    "4. `<eos>` at index 3 to mark the \"end of sequence\" in the decoder\n",
    "\n",
    "The remaining items in the vocabulary should be made up of the **most frequent words** in the training data for the respective language."
   ]
  },
  {
   "cell_type": "markdown",
   "metadata": {
    "id": "U_IldcGdsDEs",
    "tags": []
   },
   "source": [
    "#### 🤔 Task 1: Write the function to build the vocabularies"
   ]
  },
  {
   "cell_type": "code",
   "execution_count": 7,
   "metadata": {
    "executionInfo": {
     "elapsed": 21,
     "status": "ok",
     "timestamp": 1687783209836,
     "user": {
      "displayName": "hhh khjf",
      "userId": "15112222139699376117"
     },
     "user_tz": -120
    },
    "id": "R29hmyaRCus5",
    "tags": [],
    "ExecuteTime": {
     "end_time": "2023-07-04T16:17:39.880293200Z",
     "start_time": "2023-07-04T16:17:39.801504600Z"
    }
   },
   "outputs": [],
   "source": [
    "from collections import Counter as counter\n",
    "from operator import itemgetter\n",
    "def make_vocab(sentences, max_size, pi):\n",
    "    \"\"\"Return a list of the `max_size` most frequent tokens in `sentences`.\"\"\"\n",
    "    #store the type of first element in the list\n",
    "    sent=list(sentences)\n",
    "    #print(sent)\n",
    "    sent0=sent[0]\n",
    "    #print(type(sent0))\n",
    "    if type(sentences)==str:\n",
    "        sentences=sentences.lower().rstrip().split()\n",
    "        xstring=counter(sentences)\n",
    "        sortedxstring=sorted(xstring.items(),key=itemgetter(1), reverse=True)\n",
    "        bagofwords=[word for word, freq in sortedxstring]\n",
    "    #else if the type is a generator\n",
    "    elif type(sentences)==\"generator\":\n",
    "        sentences=list(sentences)\n",
    "        #sentences=sentences.lower().rstrip().split()\n",
    "        xstring=counter(sentences)\n",
    "        sortedxstring=sorted(xstring.items(),key=itemgetter(1), reverse=True)\n",
    "        bagofwords=[word for word, freq in sortedxstring]\n",
    "    elif type(sent0)==list:\n",
    "        #print(sent)\n",
    "        #from the list of lists, we need to make a list of strings\n",
    "        sentences_iter=[item for sublist in sent for item in sublist]\n",
    "        #print(sentences_iter)\n",
    "        xstring=counter(sentences_iter)\n",
    "        #print(xstring)\n",
    "        sortedxstring=sorted(xstring.items(),key=itemgetter(1), reverse=True)\n",
    "        #print(sortedxstring)\n",
    "        bagofwords=[word for word, freq in sortedxstring]\n",
    "        #print(bagofwords)\n",
    "    if pi:\n",
    "        for word, freq in xstring.items():\n",
    "            print('word is {word:10} and frequency is {freq:10}'.format(word=word,freq=freq))\n",
    "    m_size=max_size-4\n",
    "    CountingList = ['<pad>', '<unk>', '<bos>', '<eos>']\n",
    "    vocab_list=CountingList+bagofwords[:m_size]\n",
    "    # 1. Count of how often each word occurs in the data (done)\n",
    "    # 2. Sort the words by their frequency, in descending order (done)\n",
    "    # 3. Make a list of the special tokens plus the most frequent words, up to a length of `max_size`. (done)\n",
    "    # 4. Return the list (done)\n",
    "    return vocab_list"
   ]
  },
  {
   "cell_type": "code",
   "execution_count": 8,
   "metadata": {
    "colab": {
     "base_uri": "https://localhost:8080/"
    },
    "executionInfo": {
     "elapsed": 21,
     "status": "ok",
     "timestamp": 1687783209837,
     "user": {
      "displayName": "hhh khjf",
      "userId": "15112222139699376117"
     },
     "user_tz": -120
    },
    "id": "E7eSAVAqsDEt",
    "outputId": "2d91a280-3efe-4663-f04e-82d3ca8cfdd4",
    "ExecuteTime": {
     "end_time": "2023-07-04T16:17:40.080758200Z",
     "start_time": "2023-07-04T16:17:40.004960600Z"
    }
   },
   "outputs": [
    {
     "name": "stdout",
     "output_type": "stream",
     "text": [
      "word is make       and frequency is          1\n",
      "word is a          and frequency is          2\n",
      "word is list       and frequency is          1\n",
      "word is of         and frequency is          2\n",
      "word is the        and frequency is          2\n",
      "word is special    and frequency is          1\n",
      "word is tokens     and frequency is          1\n",
      "word is plus       and frequency is          1\n",
      "word is most       and frequency is          1\n",
      "word is frequent   and frequency is          1\n",
      "word is words,     and frequency is          1\n",
      "word is up         and frequency is          1\n",
      "word is to         and frequency is          1\n",
      "word is length     and frequency is          1\n",
      "word is `max_size`. and frequency is          1\n"
     ]
    },
    {
     "data": {
      "text/plain": "['<pad>',\n '<unk>',\n '<bos>',\n '<eos>',\n 'a',\n 'of',\n 'the',\n 'make',\n 'list',\n 'special']"
     },
     "execution_count": 8,
     "metadata": {},
     "output_type": "execute_result"
    }
   ],
   "source": [
    "make_vocab(\"Make a list of the special tokens plus the most frequent words, up to a length of `max_size`.\",10, True)"
   ]
  },
  {
   "cell_type": "code",
   "execution_count": 9,
   "metadata": {
    "colab": {
     "base_uri": "https://localhost:8080/"
    },
    "executionInfo": {
     "elapsed": 569,
     "status": "ok",
     "timestamp": 1687783210392,
     "user": {
      "displayName": "hhh khjf",
      "userId": "15112222139699376117"
     },
     "user_tz": -120
    },
    "id": "zMAdCtepsDEw",
    "outputId": "fcffb460-09a3-4779-9380-d7525a367c6b",
    "ExecuteTime": {
     "end_time": "2023-07-04T16:17:40.523611300Z",
     "start_time": "2023-07-04T16:17:40.206421800Z"
    }
   },
   "outputs": [
    {
     "data": {
      "text/plain": "['<pad>', '<unk>', '<bos>', '<eos>', '.']"
     },
     "execution_count": 9,
     "metadata": {},
     "output_type": "execute_result"
    }
   ],
   "source": [
    "make_vocab(sentences(\"en-sv-train.txt\", SWEDISH), 5, False)"
   ]
  },
  {
   "cell_type": "markdown",
   "metadata": {
    "id": "Zmr7Oe9cCus7"
   },
   "source": [
    "With this function, we can construct vocabularies containing the 5,000 most frequent words as follows:"
   ]
  },
  {
   "cell_type": "code",
   "execution_count": 10,
   "metadata": {
    "executionInfo": {
     "elapsed": 18,
     "status": "ok",
     "timestamp": 1687783210394,
     "user": {
      "displayName": "hhh khjf",
      "userId": "15112222139699376117"
     },
     "user_tz": -120
    },
    "id": "onyml-oDCus7",
    "tags": [],
    "ExecuteTime": {
     "end_time": "2023-07-04T16:17:41.082164500Z",
     "start_time": "2023-07-04T16:17:40.613372700Z"
    }
   },
   "outputs": [],
   "source": [
    "src_vocab = make_vocab(sentences('en-sv-train.txt', SWEDISH), 5000, False)\n",
    "tgt_vocab = make_vocab(sentences('en-sv-train.txt', ENGLISH), 5000, False)"
   ]
  },
  {
   "cell_type": "markdown",
   "metadata": {
    "id": "HX9T47dnCus8"
   },
   "source": [
    "#### 🤞 Test your code\n",
    "\n",
    "To test your code, check that each vocabulary contains 5,000 words, and includes the pseudowords at the right positions:"
   ]
  },
  {
   "cell_type": "code",
   "execution_count": 11,
   "metadata": {
    "colab": {
     "base_uri": "https://localhost:8080/"
    },
    "executionInfo": {
     "elapsed": 17,
     "status": "ok",
     "timestamp": 1687783210395,
     "user": {
      "displayName": "hhh khjf",
      "userId": "15112222139699376117"
     },
     "user_tz": -120
    },
    "id": "tZBil9ezCus8",
    "outputId": "23438146-af8c-4a2f-9d95-3afb2a217151",
    "tags": [
     "solution"
    ],
    "ExecuteTime": {
     "end_time": "2023-07-04T16:17:41.092216600Z",
     "start_time": "2023-07-04T16:17:41.066989500Z"
    }
   },
   "outputs": [
    {
     "name": "stdout",
     "output_type": "stream",
     "text": [
      "All good!\n"
     ]
    }
   ],
   "source": [
    "\n",
    "def test1():\n",
    "    assert len(src_vocab) == 5000\n",
    "    assert len(tgt_vocab) == 5000\n",
    "    assert src_vocab[:4] == ['<pad>', '<unk>', '<bos>', '<eos>']\n",
    "    assert tgt_vocab[:4] == ['<pad>', '<unk>', '<bos>', '<eos>']\n",
    "    print(\"All good!\")\n",
    "\n",
    "test1()"
   ]
  },
  {
   "cell_type": "code",
   "execution_count": 12,
   "metadata": {
    "colab": {
     "base_uri": "https://localhost:8080/"
    },
    "executionInfo": {
     "elapsed": 22,
     "status": "ok",
     "timestamp": 1687783210853,
     "user": {
      "displayName": "hhh khjf",
      "userId": "15112222139699376117"
     },
     "user_tz": -120
    },
    "id": "ORsbdQHgsDE1",
    "outputId": "e28cd7bf-92eb-4feb-bb28-a9e41149b924",
    "ExecuteTime": {
     "end_time": "2023-07-04T16:17:41.362801100Z",
     "start_time": "2023-07-04T16:17:41.277030500Z"
    }
   },
   "outputs": [
    {
     "name": "stdout",
     "output_type": "stream",
     "text": [
      "['<pad>', '<unk>', '<bos>', '<eos>']\n",
      "<pad>\n",
      "['<unk>', '<bos>', '<eos>']\n"
     ]
    }
   ],
   "source": [
    "ss=['<pad>', '<unk>', '<bos>', '<eos>']\n",
    "print(ss)\n",
    "ss1=ss\n",
    "ss1=ss1.pop(0)\n",
    "print(ss1)\n",
    "print(ss)"
   ]
  },
  {
   "cell_type": "markdown",
   "metadata": {
    "id": "mVZjxDD8sDE2"
   },
   "source": [
    "### Wrap the vocabularies in StringLookup layers\n",
    "\n",
    "For mapping tokens to their vocabulary IDs, we can use Keras' `StringLookup` layer. The next cell constructs layers for both the source and target vocabulary."
   ]
  },
  {
   "cell_type": "code",
   "execution_count": 13,
   "metadata": {
    "executionInfo": {
     "elapsed": 2629,
     "status": "ok",
     "timestamp": 1687783213470,
     "user": {
      "displayName": "hhh khjf",
      "userId": "15112222139699376117"
     },
     "user_tz": -120
    },
    "id": "wXk9vpensDE2",
    "tags": [],
    "ExecuteTime": {
     "end_time": "2023-07-04T16:17:41.989272200Z",
     "start_time": "2023-07-04T16:17:41.820287500Z"
    }
   },
   "outputs": [],
   "source": [
    "string_lookup_args = dict(output_mode=\"int\", mask_token=\"<pad>\", oov_token=\"<unk>\")\n",
    "src_lookup = layers.StringLookup(vocabulary=src_vocab, **string_lookup_args)\n",
    "tgt_lookup = layers.StringLookup(vocabulary=tgt_vocab, **string_lookup_args)"
   ]
  },
  {
   "cell_type": "markdown",
   "metadata": {
    "id": "ePEyuJfEsDE3"
   },
   "source": [
    "The next cell gives an example how these `StringLookup` layers can be used. Note that the layers already return *tensors*."
   ]
  },
  {
   "cell_type": "code",
   "execution_count": 14,
   "metadata": {
    "colab": {
     "base_uri": "https://localhost:8080/"
    },
    "executionInfo": {
     "elapsed": 29,
     "status": "ok",
     "timestamp": 1687783213473,
     "user": {
      "displayName": "hhh khjf",
      "userId": "15112222139699376117"
     },
     "user_tz": -120
    },
    "id": "XtjMhOWWsDE4",
    "outputId": "1e8d7736-579e-4bbd-92b0-d40426018565",
    "tags": [],
    "ExecuteTime": {
     "end_time": "2023-07-04T16:17:42.490622300Z",
     "start_time": "2023-07-04T16:17:42.274512300Z"
    }
   },
   "outputs": [
    {
     "name": "stdout",
     "output_type": "stream",
     "text": [
      "tf.Tensor([   5 1005   11  530  188    4], shape=(6,), dtype=int64)\n"
     ]
    }
   ],
   "source": [
    "example = \"i returned to japan yesterday .\".split()\n",
    "print(tgt_lookup(example))"
   ]
  },
  {
   "cell_type": "markdown",
   "metadata": {
    "id": "XuiL2eOosDE5"
   },
   "source": [
    "#### 🤔 Task 2: Sanity-check that these numbers are correct\n",
    "\n",
    "Check your understanding of what's happening in the `StringLookup` layer by writing two lines of code:\n",
    "1. One that prints the token corresponding to the _second integer_ in the tensor above.\n",
    "2. One that prints the integer corresponding to the _second word_ (\"returned\") in the example above.\n",
    "\n",
    "Use `tgt_vocab` directly for that, not the lookup layer!"
   ]
  },
  {
   "cell_type": "code",
   "execution_count": 15,
   "metadata": {
    "colab": {
     "base_uri": "https://localhost:8080/"
    },
    "executionInfo": {
     "elapsed": 17,
     "status": "ok",
     "timestamp": 1687783213473,
     "user": {
      "displayName": "hhh khjf",
      "userId": "15112222139699376117"
     },
     "user_tz": -120
    },
    "id": "Yh4iwFn1sDE5",
    "outputId": "57a7e973-1218-4159-be9f-eb66c80e75e5",
    "ExecuteTime": {
     "end_time": "2023-07-04T16:17:42.859514900Z",
     "start_time": "2023-07-04T16:17:42.753270800Z"
    }
   },
   "outputs": [
    {
     "name": "stdout",
     "output_type": "stream",
     "text": [
      "<unk>\n",
      "tf.Tensor(1005, shape=(), dtype=int64)\n"
     ]
    }
   ],
   "source": [
    "# sanity check 1\n",
    "print(tgt_vocab[1])\n",
    "# sanity check 2\n",
    "print(tgt_lookup(example)[1])"
   ]
  },
  {
   "cell_type": "markdown",
   "metadata": {
    "id": "T2fQzgkPCus9"
   },
   "source": [
    "### Wrapping everything in data loaders"
   ]
  },
  {
   "cell_type": "markdown",
   "metadata": {
    "id": "9MF4JRJVCus9"
   },
   "source": [
    "The next cell defines a function that wraps our dataset in TensorFlow's [`tf.data.Dataset`](https://www.tensorflow.org/api_docs/python/tf/data/Dataset) API, which represents map-style datasets. The advantage of this is that it lets us use standard infrastructure related to the loading and automatic batching of data."
   ]
  },
  {
   "cell_type": "code",
   "execution_count": 16,
   "metadata": {
    "executionInfo": {
     "elapsed": 13,
     "status": "ok",
     "timestamp": 1687783213474,
     "user": {
      "displayName": "hhh khjf",
      "userId": "15112222139699376117"
     },
     "user_tz": -120
    },
    "id": "TkFTb0LkCus9",
    "tags": [],
    "ExecuteTime": {
     "end_time": "2023-07-04T16:17:43.410381900Z",
     "start_time": "2023-07-04T16:17:43.358499400Z"
    }
   },
   "outputs": [],
   "source": [
    "def append_eos(tensor):\n",
    "    \"Helper function that appends '<eos>' to a sequence.\"\n",
    "    return tf.concat([tensor, tf.constant([\"<eos>\"], dtype=tf.string)], axis=0)\n",
    "\n",
    "def load_translation_dataset(src_lookup, tgt_lookup, filename):\n",
    "    # Build source dataset and convert with src_lookup\n",
    "    src_dataset = tf.data.Dataset.from_tensor_slices(\n",
    "        tf.ragged.constant(list(sentences(filename, SWEDISH)))\n",
    "    )\n",
    "    src_dataset = src_dataset.map(src_lookup)\n",
    "\n",
    "    # Build target dataset, append <eos> and convert with tgt_lookup\n",
    "    tgt_dataset = tf.data.Dataset.from_tensor_slices(\n",
    "        tf.ragged.constant(list(sentences(filename, ENGLISH)))\n",
    "    )\n",
    "    tgt_dataset = tgt_dataset.map(append_eos).map(tgt_lookup)\n",
    "\n",
    "    # Zip them together\n",
    "    return tf.data.Dataset.zip((src_dataset, tgt_dataset))"
   ]
  },
  {
   "cell_type": "markdown",
   "metadata": {
    "id": "wnPlzxWrCus-"
   },
   "source": [
    "We load the training data:"
   ]
  },
  {
   "cell_type": "code",
   "execution_count": 17,
   "metadata": {
    "executionInfo": {
     "elapsed": 882,
     "status": "ok",
     "timestamp": 1687783214344,
     "user": {
      "displayName": "hhh khjf",
      "userId": "15112222139699376117"
     },
     "user_tz": -120
    },
    "id": "t1tyWbfbCus-",
    "tags": [],
    "ExecuteTime": {
     "end_time": "2023-07-04T16:17:46.214885Z",
     "start_time": "2023-07-04T16:17:44.135580300Z"
    }
   },
   "outputs": [],
   "source": [
    "train_dataset = load_translation_dataset(src_lookup, tgt_lookup, \"en-sv-train.txt\")"
   ]
  },
  {
   "cell_type": "markdown",
   "metadata": {
    "id": "BoUAW-GcCus_"
   },
   "source": [
    "The following function can be helpful for debugging. It extracts a single source–target pair of sentences from the specified *dataset* and converts it into batches of size&nbsp;1, which can be fed into the encoder–decoder model. This also illustrates how the `Dataset` API works:"
   ]
  },
  {
   "cell_type": "code",
   "execution_count": 18,
   "metadata": {
    "executionInfo": {
     "elapsed": 14,
     "status": "ok",
     "timestamp": 1687783214346,
     "user": {
      "displayName": "hhh khjf",
      "userId": "15112222139699376117"
     },
     "user_tz": -120
    },
    "id": "DC2j_oZyCus_",
    "tags": [],
    "ExecuteTime": {
     "end_time": "2023-07-04T16:17:46.214885Z",
     "start_time": "2023-07-04T16:17:46.158170900Z"
    }
   },
   "outputs": [],
   "source": [
    "def example(dataset, i):\n",
    "    if i > 0:\n",
    "        dataset = dataset.skip(i-1)\n",
    "    return list(dataset.take(1).batch(1))[0]"
   ]
  },
  {
   "cell_type": "code",
   "execution_count": 19,
   "metadata": {
    "colab": {
     "base_uri": "https://localhost:8080/"
    },
    "executionInfo": {
     "elapsed": 11,
     "status": "ok",
     "timestamp": 1687783214347,
     "user": {
      "displayName": "hhh khjf",
      "userId": "15112222139699376117"
     },
     "user_tz": -120
    },
    "id": "dYhTBym7Cus_",
    "outputId": "a14c6bd3-48fd-476e-b091-664fa062d19c",
    "tags": [],
    "ExecuteTime": {
     "end_time": "2023-07-04T16:17:46.214885Z",
     "start_time": "2023-07-04T16:17:46.166696400Z"
    }
   },
   "outputs": [
    {
     "name": "stdout",
     "output_type": "stream",
     "text": [
      "tf.Tensor([[  6  10 245  15  20   7]], shape=(1, 6), dtype=int64)\n",
      "tf.Tensor([[ 29   9 477  55  28   8   3]], shape=(1, 7), dtype=int64)\n"
     ]
    }
   ],
   "source": [
    "x, y = example(train_dataset, 42)\n",
    "print(x)\n",
    "print(y)"
   ]
  },
  {
   "cell_type": "markdown",
   "metadata": {
    "id": "Iw62gfhdCutA"
   },
   "source": [
    "## Part 2: The encoder–decoder architecture"
   ]
  },
  {
   "cell_type": "markdown",
   "metadata": {
    "id": "nB280fFjCutA"
   },
   "source": [
    "In this section, you will implement the encoder–decoder architecture, including the extension of that architecture by an attention mechanism. The implementation consists of four parts: the encoder, the attention mechanism, the decoder, and a class that wraps the complete architecture."
   ]
  },
  {
   "cell_type": "markdown",
   "metadata": {
    "id": "XUFFRKwGCutA"
   },
   "source": [
    "### Part 2.1: Implement the encoder"
   ]
  },
  {
   "cell_type": "markdown",
   "metadata": {
    "id": "mKeHOZyxCutA"
   },
   "source": [
    "The encoder is a component that takes an input tensor of vocabulary IDs, like the `x` tensor from the example above, and performs the following steps:\n",
    "\n",
    "1. Look up **word embeddings** for each token in the sequence.\n",
    "2. Process them with a **bi-directional recurrent neural network**. This works with any type of RNN, but we will use **GRU (gated recurrent unit) layers** throughout this laboration.\n",
    "3. Feed the output through a linear layer. We also take the last hidden state of the forward GRU and the last hidden state of the backward GRU, concatenate them, and pass them through a linear layer. This produces a \"summary\" of the source sentence, which we will later feed into the decoder."
   ]
  },
  {
   "cell_type": "markdown",
   "metadata": {
    "id": "2ik-DmJ1sDFF"
   },
   "source": [
    "Let's implement the encoder by defining it as a **custom Keras layer.** For this, we have to define a class that subclasses from `keras.layers.Layer`, instantiate all required model weights and/or (sub)layers in the `__init__()` function, and uses them to perform the layer's computation in the `call()` function. Below is some skeleton code to get you started; you can also [read more about making custom layers in the Keras Docs](https://keras.io/guides/making_new_layers_and_models_via_subclassing/)."
   ]
  },
  {
   "cell_type": "markdown",
   "metadata": {
    "id": "86hiOyU6sDFG"
   },
   "source": [
    "#### 🤔 Task 3: Implement the encoder by completing the skeleton code below"
   ]
  },
  {
   "cell_type": "code",
   "execution_count": 20,
   "metadata": {
    "executionInfo": {
     "elapsed": 10,
     "status": "ok",
     "timestamp": 1687783214348,
     "user": {
      "displayName": "hhh khjf",
      "userId": "15112222139699376117"
     },
     "user_tz": -120
    },
    "id": "klNT7vTPCutB",
    "tags": [],
    "ExecuteTime": {
     "end_time": "2023-07-04T16:17:48.309221Z",
     "start_time": "2023-07-04T16:17:48.262353400Z"
    }
   },
   "outputs": [],
   "source": [
    "class Encoder(layers.Layer):\n",
    "    def __init__(self, num_words, embedding_dim=128, hidden_dim=256):\n",
    "        # in the __init__ function, we define all model weights and the corresponding sub-layers we need\n",
    "        super(Encoder, self).__init__()\n",
    "        self.embedding = layers.Embedding(num_words, embedding_dim)\n",
    "        self.rnn = layers.Bidirectional(layers.GRU(hidden_dim, return_sequences=True, return_state=True))\n",
    "        self.linear = layers.Dense(hidden_dim)\n",
    "\n",
    "    def call(self, inputs, mask=None):\n",
    "        # TODO\n",
    "        # 1. Look up the embeddings for the source words\n",
    "        # 2. Apply a bi-directional GRU over the source sequences\n",
    "        # 3. Apply a linear transformation to the GRU's output\n",
    "        # 4. Concatenate forward + backward hidden states and apply a linear transformation on them too\n",
    "        embeddings = self.embedding(inputs)\n",
    "        #rnn_output, forward_state, backward_state = self.rnn(embeddings)\n",
    "        rnn_output, forward_state, backward_state = self.rnn(embeddings, mask=mask)\n",
    "        output = self.linear(rnn_output)\n",
    "        hidden = self.linear(tf.concat([forward_state, backward_state], axis=1))\n",
    "        return output, hidden\n",
    "        #raise NotImplementedError"
   ]
  },
  {
   "cell_type": "markdown",
   "metadata": {
    "id": "Ut1QP_1hCutB"
   },
   "source": [
    "Your code must comply with the following specification:\n",
    "\n",
    "**__init__** (*num_words*, *embedding_dim* = 128, *hidden_dim* = 256)\n",
    "\n",
    "> Initialises the encoder. The encoder consists of an embedding layer that maps each of *num_words* words to an embedding vector of size *embedding_dim*, a bidirectional GRU that maps each embedding vector to a position-specific representation of size 2 × *hidden_dim*, and a final linear layer that projects these representations to new representations of size *hidden_dim*.\n",
    "\n",
    "**call** (*self*, *inputs*)\n",
    "\n",
    "> Takes a tensor *inputs* with source-language word ids and sends it through the encoder. The input tensor has shape (*batch_size*, *src_len*), where *src_len* is the length of the sentences in the batch. (We will make sure that all sentences in the same batch have the same length.) The method returns a pair of tensors (*output*, *hidden*), where *output* has shape (*batch_size*, *src_len*, *hidden_dim*), and *hidden* has shape (*batch_size*, *hidden_dim*)."
   ]
  },
  {
   "cell_type": "markdown",
   "metadata": {
    "id": "xybpq39KCutC"
   },
   "source": [
    "#### 🤞 Test your code\n",
    "\n",
    "To test your code, instantiate an encoder, feed it the first source sentence in the training data, and check that the tensors returned by the encoder have the expected shapes."
   ]
  },
  {
   "cell_type": "code",
   "execution_count": 21,
   "metadata": {
    "colab": {
     "base_uri": "https://localhost:8080/"
    },
    "executionInfo": {
     "elapsed": 5139,
     "status": "ok",
     "timestamp": 1687783219478,
     "user": {
      "displayName": "hhh khjf",
      "userId": "15112222139699376117"
     },
     "user_tz": -120
    },
    "id": "LU4SIh0NCutC",
    "outputId": "c5268959-099c-4f90-8888-e1dea720dce0",
    "tags": [
     "solution"
    ],
    "ExecuteTime": {
     "end_time": "2023-07-04T16:17:49.826544300Z",
     "start_time": "2023-07-04T16:17:49.291406300Z"
    }
   },
   "outputs": [
    {
     "name": "stdout",
     "output_type": "stream",
     "text": [
      "(1, 6, 256)\n",
      "(1, 256)\n"
     ]
    }
   ],
   "source": [
    "def test21():\n",
    "    src, tgt = example(train_dataset, 42)\n",
    "    encoder = Encoder(src_lookup.vocabulary_size())\n",
    "    output, hidden = encoder(src)\n",
    "    print(output.shape)  # should be (batch_size, src_len, hidden_dim)\n",
    "    print(hidden.shape)  # should be (batch_size, hidden_dim)\n",
    "\n",
    "test21()"
   ]
  },
  {
   "cell_type": "markdown",
   "metadata": {
    "id": "LnD4At5uCutD"
   },
   "source": [
    "### Part 2.2: Implement the attention mechanism"
   ]
  },
  {
   "cell_type": "markdown",
   "metadata": {
    "id": "twmxl69tCutD"
   },
   "source": [
    "Your next task is to implement the attention mechanism. Recall that the purpose of this mechanism is to inform the decoder when generating the translation of the next word. For this, attention has access to the previous hidden state of the decoder, as well as the complete output of the encoder. It returns the attention-weighted sum of the encoder output, the so-called *context* vector. For later usage, we also return the attention weights.\n",
    "\n",
    "As mentioned in the lecture, attention can be implemented in various ways. One very simple implementation is *uniform attention*, which assigns equal weight to each position-specific representation in the output of the encoder, and completely ignores the hidden state of the decoder. This mechanism is implemented in the cell below:"
   ]
  },
  {
   "cell_type": "code",
   "execution_count": 22,
   "metadata": {
    "executionInfo": {
     "elapsed": 12,
     "status": "ok",
     "timestamp": 1687783219479,
     "user": {
      "displayName": "hhh khjf",
      "userId": "15112222139699376117"
     },
     "user_tz": -120
    },
    "id": "VK4LsCUfCutD",
    "tags": [],
    "ExecuteTime": {
     "end_time": "2023-07-04T16:17:50.496762300Z",
     "start_time": "2023-07-04T16:17:50.427760700Z"
    }
   },
   "outputs": [],
   "source": [
    "class UniformAttention(layers.Layer):\n",
    "    def __init__(self):\n",
    "        super().__init__()\n",
    "        self.supports_masking = True\n",
    "\n",
    "    def call(self, decoder_hidden, encoder_output, mask=None):\n",
    "        # Set all attention scores to the same constant value (0). After\n",
    "        # the softmax, we will have uniform weights.\n",
    "        scores = tf.zeros_like(encoder_output[:, :, -1])\n",
    "\n",
    "        # Mask out the attention scores for the padding tokens. We set\n",
    "        # them to -inf. After the softmax, we will have 0.\n",
    "        if mask is not None:\n",
    "            masked_value = -float('inf') * tf.ones_like(scores)\n",
    "            scores = tf.where(mask, scores, masked_value)\n",
    "\n",
    "        # Convert scores into weights\n",
    "        alpha = tf.nn.softmax(scores, axis=1)\n",
    "\n",
    "        # The context is the alpha-weighted sum of the encoder outputs.\n",
    "        context = tf.linalg.matmul(tf.expand_dims(alpha, axis=1), encoder_output)\n",
    "        context = tf.squeeze(context, axis=1)\n",
    "\n",
    "        return alpha, context"
   ]
  },
  {
   "cell_type": "markdown",
   "metadata": {
    "id": "noYs0hSHCutE"
   },
   "source": [
    "One technical detail in this code is our use of *mask* to compute attention weights only for the ‘real’ tokens in the source sentences, but not for the padding tokens that we introduce to bring all sentences in a batch to the same length.\n",
    "\n",
    "Your task now is to implement the attention mechanism from the paper by [Bahdanau et al. (2015)](https://arxiv.org/abs/1409.0473). The relevant equation is in Section&nbsp;A.1.2:\n",
    "\n",
    "$$\n",
    "a(s_{i-1}, h_j) = v^{\\top} \\tanh(W s_{i-1} + U h_j)\n",
    "$$\n",
    "\n",
    "This equation specifies how to compute the attention score (a scalar) for the previous hidden state of the decoder, denoted by $s_{i-1}$, and the $j$-th position-specific representation in the output of the encoder, denoted by $h_j$. The equation refers to three parameters: a vector $v$ and $W$ and $U$. In PyTorch, these parameters can be represented in terms of (bias-free) linear layers that are trained along with the other parameters of the model.\n",
    "\n",
    "Here is the skeleton code for this problem. As you can see, your specific task is to initialise the required parameters and to compute the attention scores (*scores*); the rest of the code is the same as for the uniform attention."
   ]
  },
  {
   "cell_type": "markdown",
   "metadata": {
    "id": "bonjx0ICsDFJ"
   },
   "source": [
    "#### 🤔 Task 4: Implement Bahdanau attention by completing the skeleton code below\n"
   ]
  },
  {
   "cell_type": "markdown",
   "metadata": {
    "id": "pYA9Kg-hsDFL"
   },
   "source": [
    "Essentially Attention mechanism enables the decoder to produce high quality prediction by focusing on the more relevant part of the source sentence. The output of attention is a context vector which is a weighted sum of the encoder output(also the number of context vectors depend on the number of encoder outputs). Such weighted sum should be computed by the attention scores, which is a scaler value computed by the previous hidden state of the decoder and the j-th position-specific representation in the output of the encoder, therefore we need to train individual layers. The attention scores are computed by the following equation:"
   ]
  },
  {
   "cell_type": "code",
   "execution_count": 23,
   "metadata": {
    "executionInfo": {
     "elapsed": 12,
     "status": "ok",
     "timestamp": 1687783219480,
     "user": {
      "displayName": "hhh khjf",
      "userId": "15112222139699376117"
     },
     "user_tz": -120
    },
    "id": "RyclW2osCutE",
    "tags": [],
    "ExecuteTime": {
     "end_time": "2023-07-04T16:17:52.128459400Z",
     "start_time": "2023-07-04T16:17:52.065971800Z"
    }
   },
   "outputs": [],
   "source": [
    "class BahdanauAttention(layers.Layer):\n",
    "    def __init__(self, hidden_dim=256):\n",
    "        super(BahdanauAttention, self).__init__()\n",
    "        self.supports_masking = True\n",
    "        # code here that defines the required layers/weights\n",
    "        #define the parameters without bias\n",
    "        # w is normal linear layer\n",
    "        self.w = tf.keras.layers.Dense(hidden_dim)\n",
    "        # u is also a linear layer\n",
    "        self.u = tf.keras.layers.Dense(hidden_dim)\n",
    "        # v is a transpose of a vector\n",
    "        self.v  = tf.keras.layers.Dense(1)\n",
    "\n",
    "    def call(self, decoder_hidden, encoder_output, mask=None):\n",
    "        # code here that computes the attention scores\n",
    "\n",
    "        # we need to ensure compatibility of the dimensions\n",
    "        #print(decoder_hidden.shape)\n",
    "        #print(encoder_output.shape)\n",
    "        decoder_with_time_axis = tf.expand_dims(decoder_hidden, 1)\n",
    "        #print(decoder_with_time_axis.shape)\n",
    "        # scores represent a single attention score per time step(from the decoder)\n",
    "        #scores = tf.matmul(self.v(tf.nn.tanh(self.w(decoder_with_time_axis) + self.u(encoder_output))), tf.ones_like(encoder_output[:, :, -1]))\n",
    "        scores = self.v(tf.nn.tanh(self.w(decoder_with_time_axis) + self.u(encoder_output)))\n",
    "        scores = tf.squeeze(scores, axis=2)\n",
    "        #print(scores.shape)\n",
    "        # ... The rest of the code is as in UniformAttention — NO NEED TO MODIFY BELOW THIS LINE!\n",
    "\n",
    "        # Mask out the attention scores for the padding tokens. We set\n",
    "        # them to -inf. After the softmax, we will have 0.\n",
    "        if mask is not None:\n",
    "            masked_value = -float('inf') * tf.ones_like(scores)\n",
    "            scores = tf.where(mask, scores, masked_value)\n",
    "\n",
    "        # Convert scores into weights\n",
    "        alpha = tf.nn.softmax(scores, axis=1)\n",
    "\n",
    "        # The context is the alpha-weighted sum of the encoder outputs.\n",
    "\n",
    "        context = tf.linalg.matmul(tf.expand_dims(alpha, axis=1), encoder_output)\n",
    "        context = tf.squeeze(context, axis=1)\n",
    "        #alternative way to compute context\n",
    "        #context = tf.reduce_sum(tf.expand_dims(alpha, axis=2) * encoder_output, axis=1)\n",
    "        #print(alpha.shape, context.shape)\n",
    "        #alpha = tf.squeeze(alpha, axis=1)\n",
    "        return alpha, context"
   ]
  },
  {
   "cell_type": "markdown",
   "metadata": {
    "id": "cTB0RPfDCutF"
   },
   "source": [
    "Your code must comply with the following specification:\n",
    "\n",
    "**call** (*decoder_hidden*, *encoder_output*, *mask*)\n",
    "\n",
    "> Takes the previous hidden state of the decoder (*decoder_hidden*) and the encoder output (*encoder_output*) and returns a pair (*alpha*, *context*) where *context* is the context as computed as in [Bahdanau et al. (2015)](https://arxiv.org/abs/1409.0473), and *alpha* are the corresponding attention weights. The hidden state has shape (*batch_size*, *hidden_dim*), the encoder output has shape (*batch_size*, *src_len*, *hidden_dim*), the context has shape (*batch_size*, *hidden_dim*), and the attention weights have shape (*batch_size*, *src_len*).\n",
    "\n",
    "#### 💡 Hints on the implementation\n",
    "\n",
    "You may need a few more \"low-level\" TensorFlow functions to implement this part, concretely:\n",
    "    \n",
    "- `tf.expand_dims()` and `tf.squeeze()` to add/remove a dimension from a tensor. This is because some tensors have a \"timestep\" dimension while others (e.g. the hidden state of the decoder) don't.\n",
    "- `tf.nn.tanh()` to compute the $\\tanh$ function on a tensor."
   ]
  },
  {
   "cell_type": "markdown",
   "metadata": {
    "id": "OxNwwlmuCutF"
   },
   "source": [
    "#### 🤞 Test your code\n",
    "\n",
    "To test your code, extend your test from Task 3: Feed the output of your encoder into your attention class. As the previous hidden state of the decoder, you can use the hidden state returned by the encoder. Later, you don't need to pass the mask explicitly (Keras will do this automatically), but for testing purposes, you can obtain the mask from a layer's output via `output._keras_mask`.\n",
    "\n",
    "Check that the context tensor and the attention weights returned by the attention class have the expected shapes."
   ]
  },
  {
   "cell_type": "code",
   "execution_count": 24,
   "metadata": {
    "colab": {
     "base_uri": "https://localhost:8080/"
    },
    "executionInfo": {
     "elapsed": 434,
     "status": "ok",
     "timestamp": 1687783219903,
     "user": {
      "displayName": "hhh khjf",
      "userId": "15112222139699376117"
     },
     "user_tz": -120
    },
    "id": "ZUqLpHXiCutG",
    "outputId": "0becd2d8-8f41-4369-a556-a45e04a05a51",
    "tags": [
     "solution"
    ],
    "ExecuteTime": {
     "end_time": "2023-07-04T16:17:53.333282400Z",
     "start_time": "2023-07-04T16:17:53.085845200Z"
    }
   },
   "outputs": [
    {
     "name": "stdout",
     "output_type": "stream",
     "text": [
      "(1, 6)\n",
      "(1, 256)\n"
     ]
    }
   ],
   "source": [
    "def test22():\n",
    "    src, tgt = example(train_dataset, 42)\n",
    "    encoder = Encoder(src_lookup.vocabulary_size())\n",
    "    output, hidden = encoder(src)\n",
    "    attention = BahdanauAttention()\n",
    "    #attention = UniformAttention()\n",
    "    # masking the result\n",
    "    mask = tf.math.logical_not(tf.math.equal(src, 0)) # source sequence is not 0\n",
    "    alpha, context = attention(hidden, output, mask=mask)\n",
    "    print(alpha.shape)    # should be (batch_size, src_len)\n",
    "    print(context.shape)  # should be (batch_size, hidden_dim)\n",
    "\n",
    "test22()"
   ]
  },
  {
   "cell_type": "markdown",
   "metadata": {
    "id": "fB2A4Qa1CutG"
   },
   "source": [
    "### Part 2.3: Implement the decoder"
   ]
  },
  {
   "cell_type": "markdown",
   "metadata": {
    "id": "AO_4A4XXCutH"
   },
   "source": [
    "there aNow you are ready to implement the decoder. Like the encoder, the decoder is based on a GRU; but this time we use a unidirectional network, as we generate the target sentences left-to-right.\n",
    "\n",
    "**⚠️ We expect that solving this problem will take you the longest time in this lab.**\n",
    "\n",
    "Because the decoder is an autoregressive model, we need to unroll the GRU \"manually\": At each position, we take the previous hidden state as well as the new input, and apply the GRU for one step. The initial hidden state comes from the encoder. The new input is the embedding of the previous word, concatenated with the context vector from the attention model. To produce the final output, we take the output of the GRU, concatenate the embedding vector and the context vector (residual connection), and feed the result into a linear layer. Here is a graphical representation:\n",
    "\n",
    "<img src=\"./decoder.svg\" width=\"50%\" alt=\"Decoder architecture\"/>\n",
    "\n",
    "We need to implement this manual unrolling for two very similar tasks: When *training*, both the inputs to and the target outputs of the GRU come from the training data. When *decoding*, the outputs of the GRU are used to generate new target-side words, and these words become the inputs to the next step of the unrolling. **We have already implemented the `call` method that handles both these two different modes of usage — you don't need to modify this.**"
   ]
  },
  {
   "cell_type": "markdown",
   "metadata": {
    "id": "sqfDZgDDsDFN"
   },
   "source": [
    "#### 🤔 Task 5: Implement the `step` method that takes a single step with the GRU\n",
    "\n",
    "You will also need to add any necessary layers/weights that you use in the `__init__` function."
   ]
  },
  {
   "cell_type": "code",
   "execution_count": 25,
   "metadata": {
    "executionInfo": {
     "elapsed": 11,
     "status": "ok",
     "timestamp": 1687783219906,
     "user": {
      "displayName": "hhh khjf",
      "userId": "15112222139699376117"
     },
     "user_tz": -120
    },
    "id": "hO9iWN3isDFN",
    "ExecuteTime": {
     "end_time": "2023-07-04T16:17:55.221209Z",
     "start_time": "2023-07-04T16:17:55.157379700Z"
    }
   },
   "outputs": [],
   "source": [
    "class Decoder(layers.Layer):\n",
    "    def __init__(self, trg_lookup, attention, embedding_dim=128, hidden_dim=256, max_len=16):\n",
    "        super().__init__()\n",
    "\n",
    "        num_words = trg_lookup.vocabulary_size()\n",
    "        self.embedding = layers.Embedding(num_words, embedding_dim, mask_zero=True)\n",
    "        self.bos_index = trg_lookup([\"<bos>\"]).numpy()\n",
    "        self.max_len = max_len\n",
    "        # TODO: Add your code here that defines the required layers/weights\n",
    "        self.attention = attention\n",
    "        self.rnn_cell = layers.GRUCell(hidden_dim)\n",
    "        self.linear = layers.Dense(num_words)\n",
    "\n",
    "    def call(self, encoder_output, initial_state, targets=None, training=False, mask=None):\n",
    "        # YOU WON'T NEED TO MODIFY ANYTHING IN THIS FUNCTION.\n",
    "\n",
    "        if training:\n",
    "            assert targets is not None\n",
    "\n",
    "        # Initialise the hidden state from `initial_state`\n",
    "        state = initial_state\n",
    "\n",
    "        # Initialise the decoder input with the `<bos>` symbol\n",
    "        next_input = self.bos_index * tf.ones_like(initial_state, dtype=tf.int64)\n",
    "        next_input = next_input[:, 0]\n",
    "\n",
    "        # Initialise the list of outputs and attention weights\n",
    "        outputs = tf.TensorArray(\n",
    "            tf.float32,\n",
    "            size=0 if training else self.max_len,\n",
    "            dynamic_size=training,\n",
    "        )\n",
    "        alphas = tf.TensorArray(\n",
    "            tf.float32,\n",
    "            size=0 if training else self.max_len,\n",
    "            dynamic_size=training,\n",
    "        )\n",
    "        inputs = tf.TensorArray(\n",
    "            tf.int64,\n",
    "            size=0 if training else self.max_len,\n",
    "            dynamic_size=training,\n",
    "        )\n",
    "\n",
    "        # In training mode, we iterate over the length of the target sentences,\n",
    "        # otherwise we iterate until `self.max_len` is reached\n",
    "        max_len = tf.shape(targets)[1] if training else self.max_len\n",
    "\n",
    "        for i in range(max_len):\n",
    "            # In training mode, we feed the correct (gold) predictions as the next input\n",
    "            if training and i > 0:\n",
    "                next_input = targets[:, i-1]\n",
    "\n",
    "            # Get the embedding for the previous word\n",
    "            prev_embed = self.embedding(next_input)\n",
    "\n",
    "            # Take one step with the RNN\n",
    "            step_output, state, alpha = self.step(encoder_output, state, prev_embed, mask=mask)\n",
    "\n",
    "            # Update the list of generated words and attention weights\n",
    "            outputs = outputs.write(i, step_output)\n",
    "            alphas = alphas.write(i, alpha)\n",
    "            inputs = inputs.write(i, next_input)\n",
    "\n",
    "            # Set the prediction with highest probability as the input for the next timestep\n",
    "            if not training:\n",
    "                next_input = tf.math.argmax(step_output, axis=-1)\n",
    "\n",
    "        # Lists of outputs and attention weights are [tgt_len, batch_size, *],\n",
    "        # so we transpose them to have the batch dimension in first place again.\n",
    "        outputs = tf.transpose(outputs.stack(), perm=[1,0,2])\n",
    "        alphas = tf.transpose(alphas.stack(), perm=[1,0,2])\n",
    "        inputs = tf.transpose(inputs.stack(), perm=[1,0])\n",
    "        outputs._keras_mask = (inputs != 0)\n",
    "\n",
    "        return outputs, alphas\n",
    "\n",
    "    def step(self, encoder_output, hidden_state, prev_embed, mask=None):\n",
    "        # TODO: Replace the next line with your own code; this should follow the illustration above.\n",
    "        # 1. Get the attention weights and context vector\n",
    "        alpha, context = self.attention(hidden_state, encoder_output, mask=mask)\n",
    "        # 2. Concatenate the inputs for the GRU\n",
    "        rnn_input = tf.concat([prev_embed, context], axis=-1)\n",
    "        # 3. Take one step with the GRU cell\n",
    "        rnn_output, hidden_state = self.rnn_cell(rnn_input, hidden_state)\n",
    "        # 4. Concatenate the respective tensors to produce the final output\n",
    "        output = self.linear(tf.concat([rnn_output, context], axis=-1))\n",
    "\n",
    "        return output, hidden_state, alpha"
   ]
  },
  {
   "cell_type": "markdown",
   "metadata": {
    "id": "ej2-lzyVCutH"
   },
   "source": [
    "Your implementation should comply with the following specification:\n",
    "\n",
    "**step** (*self*, *encoder_output*, *hidden*, *prev_embed*, *mask*)\n",
    "\n",
    "> Performs a single step in the manual unrolling of the decoder GRU. This takes the output of the encoder (*encoder_output*), the previous hidden state of the decoder (*hidden*), the embedding vector of the previous word (*prev_embed*), and the source mask as described in Problem&nbsp;2.2 (*mask*), and computes the output as described above.\n",
    ">\n",
    "> The shape of *encoder_output* is (*batch_size*, *src_len*, *hidden_dim*); the shape of *hidden* is (*batch_size*, *hidden_dim*); the shape of *src_mask* is (*batch_size*, *src_len*); and the shape of *prev_embed* is (*batch_size*, *embedding_dim*).\n",
    ">\n",
    "> The method returns a triple of tensors (*output*, *hidden*, *alpha*) where *output* is the position-specific output of the GRU, of shape (*batch_size*, *num_words*); *hidden* is the new hidden state, of shape (*batch_size*, *hidden_dim*); and *alpha* are the attention weights that were used to compute the *output*, of shape (*batch_size*, *src_len*).\n",
    "\n",
    "#### 💡 Hints on the implementation\n",
    "\n",
    "**GRU vs. GRUCell.** In Keras, an RNN layer like `GRU` is used to process an entire sequence. A single *time-step* of a sequence is handled by a [`GRUCell`](https://www.tensorflow.org/api_docs/python/tf/keras/layers/GRUCell) instead. You can think of a `GRU` layer as functionally equivalent to a for-loop around a `GRUCell`. Since we want to perform the RNN steps individually for this model, you should use a [`GRUCell`](https://www.tensorflow.org/api_docs/python/tf/keras/layers/GRUCell) instead of a `GRU` layer here."
   ]
  },
  {
   "cell_type": "markdown",
   "metadata": {
    "id": "cFvNiX-YCutI"
   },
   "source": [
    "#### 🤞 Test your code\n",
    "\n",
    "To test your code, extend your test from the previous problems, and simulate a complete forward pass of the encoder–decoder architecture on the example sentence. Check the shapes of the resulting tensors."
   ]
  },
  {
   "cell_type": "code",
   "execution_count": 26,
   "metadata": {
    "colab": {
     "base_uri": "https://localhost:8080/"
    },
    "executionInfo": {
     "elapsed": 956,
     "status": "ok",
     "timestamp": 1687783220852,
     "user": {
      "displayName": "hhh khjf",
      "userId": "15112222139699376117"
     },
     "user_tz": -120
    },
    "id": "65lLG-bBCutI",
    "outputId": "ceb78b69-d843-4ef9-9046-c2f2909b4533",
    "tags": [
     "solution"
    ],
    "ExecuteTime": {
     "end_time": "2023-07-04T16:17:57.437347700Z",
     "start_time": "2023-07-04T16:17:56.597173400Z"
    }
   },
   "outputs": [
    {
     "name": "stdout",
     "output_type": "stream",
     "text": [
      "(4, 16, 5000)\n",
      "(4, 16, 5)\n",
      "(4, 8, 5000)\n"
     ]
    }
   ],
   "source": [
    "def test23():\n",
    "    src, tgt = list(train_dataset.take(4).padded_batch(4))[0]\n",
    "    encoder = Encoder(src_lookup.vocabulary_size())\n",
    "    mask = tf.math.not_equal(src, 0)  # Create a mask to exclude padding tokens\n",
    "    encoder_output, hidden = encoder(src, mask=mask)  # Pass the mask to the Encoder\n",
    "    attention = BahdanauAttention()\n",
    "    #attention = UniformAttention()\n",
    "    decoder = Decoder(tgt_lookup, attention)\n",
    "    decoded, alphas = decoder(encoder_output, hidden)\n",
    "    print(decoded.shape)  # should be (batch_size, max_len, vocabulary_size)\n",
    "    print(alphas.shape)   # should be (batch_size, max_len, src_len)\n",
    "    decoded, _ = decoder(encoder_output, hidden, targets=tgt, training=True)\n",
    "    print(decoded.shape)  # should be (batch_size, tgt_len, vocabulary_size)\n",
    "\n",
    "test23()"
   ]
  },
  {
   "cell_type": "markdown",
   "metadata": {
    "id": "70yHTFS9CutJ"
   },
   "source": [
    "### Encoder–Decoder wrapper class"
   ]
  },
  {
   "cell_type": "markdown",
   "metadata": {
    "id": "DeKfvES5CutJ"
   },
   "source": [
    "The last part of the implementation is a class that wraps the encoder and the decoder as a single model.  We also implement a custom `train_step` function so that the gold targets will get passed to the decoder during training, and a custom `test_step` function to make sure the decoded sequences and the gold sequences are padded to the same length before computing losses and evaluation metrics."
   ]
  },
  {
   "cell_type": "code",
   "execution_count": 27,
   "metadata": {
    "executionInfo": {
     "elapsed": 20,
     "status": "ok",
     "timestamp": 1687783220853,
     "user": {
      "displayName": "hhh khjf",
      "userId": "15112222139699376117"
     },
     "user_tz": -120
    },
    "id": "lUjIGniZCutJ",
    "tags": [],
    "ExecuteTime": {
     "end_time": "2023-07-04T16:17:58.278611500Z",
     "start_time": "2023-07-04T16:17:58.191943900Z"
    }
   },
   "outputs": [],
   "source": [
    "class EncoderDecoder(keras.Model):\n",
    "    def __init__(self, src_lookup, tgt_lookup, embedding_dim=128, hidden_dim=256, max_len=16, **kwargs):\n",
    "        super().__init__(**kwargs)\n",
    "        self.encoder = Encoder(\n",
    "            src_lookup.vocabulary_size(),\n",
    "            embedding_dim=embedding_dim,\n",
    "            hidden_dim=hidden_dim\n",
    "        )\n",
    "        self.decoder = Decoder(\n",
    "            tgt_lookup,\n",
    "            BahdanauAttention(hidden_dim=hidden_dim),\n",
    "            embedding_dim=embedding_dim,\n",
    "            hidden_dim=hidden_dim,\n",
    "            max_len=max_len,\n",
    "        )\n",
    "\n",
    "    def call(self, inputs, training=False, targets=None):\n",
    "        x_out, x_hidden = self.encoder(inputs, training=training)\n",
    "        outputs, alphas = self.decoder(x_out, x_hidden, training=training, targets=targets)\n",
    "        if training:\n",
    "            return outputs\n",
    "        else:\n",
    "            return outputs, alphas\n",
    "\n",
    "    # Following <https://keras.io/guides/customizing_what_happens_in_fit/>\n",
    "    def train_step(self, data):\n",
    "        x, y = data\n",
    "\n",
    "        with tf.GradientTape() as tape:\n",
    "            # Here we supply \"targets\" so that the decoder has access to it\n",
    "            y_pred = self(x, training=True, targets=y)\n",
    "            loss = self.compiled_loss(y, y_pred, regularization_losses=self.losses)\n",
    "\n",
    "        trainable_vars = self.trainable_variables\n",
    "        gradients = tape.gradient(loss, trainable_vars)\n",
    "        self.optimizer.apply_gradients(zip(gradients, trainable_vars))\n",
    "        self.compiled_metrics.update_state(y, y_pred)\n",
    "        return {m.name: m.result() for m in self.metrics}\n",
    "\n",
    "    def test_step(self, data):\n",
    "        x, y = data\n",
    "        y_pred, _alphas = self(x, training=False)\n",
    "\n",
    "        # Pad sequences to the same number of time-steps\n",
    "        max_len = tf.math.maximum(tf.shape(y)[1], tf.shape(y_pred)[1])\n",
    "        y_pad = [[0, 0], [0, max_len - tf.shape(y)[1]]]\n",
    "        y = tf.pad(y, y_pad)\n",
    "        y_pred_pad = [[0, 0], [0, max_len - tf.shape(y_pred)[1]], [0, 0]]\n",
    "        y_pred = tf.pad(y_pred, y_pred_pad)\n",
    "\n",
    "        self.compute_loss(x, y, y_pred, None)\n",
    "        return self.compute_metrics(x, y, y_pred, None)"
   ]
  },
  {
   "cell_type": "markdown",
   "metadata": {
    "id": "u3uW3TKACutK"
   },
   "source": [
    "#### 🤞 Test your code\n",
    "\n",
    "As a final test, instantiate an encoder–decoder model and use it to decode the example sentence. Check the shapes of the resulting tensors."
   ]
  },
  {
   "cell_type": "code",
   "execution_count": 28,
   "metadata": {
    "colab": {
     "base_uri": "https://localhost:8080/"
    },
    "executionInfo": {
     "elapsed": 855,
     "status": "ok",
     "timestamp": 1687783221693,
     "user": {
      "displayName": "hhh khjf",
      "userId": "15112222139699376117"
     },
     "user_tz": -120
    },
    "id": "oO6zONDwCutK",
    "outputId": "99beeed6-78f5-48d3-d3d3-2a801fb5e110",
    "tags": [
     "solution"
    ],
    "ExecuteTime": {
     "end_time": "2023-07-04T16:18:00.447111700Z",
     "start_time": "2023-07-04T16:17:59.575451700Z"
    }
   },
   "outputs": [
    {
     "name": "stdout",
     "output_type": "stream",
     "text": [
      "(1, 16, 5000)\n",
      "(1, 16, 6)\n"
     ]
    }
   ],
   "source": [
    "def test24():\n",
    "    src, tgt = example(train_dataset, 42)\n",
    "    encoder_decoder = EncoderDecoder(src_lookup, tgt_lookup)\n",
    "    outputs, alphas = encoder_decoder(src)\n",
    "    print(outputs.shape)  # should be (batch_size, max_len, vocabulary_size)\n",
    "    print(alphas.shape)   # should be (batch_size, max_len, src_len)\n",
    "\n",
    "test24()"
   ]
  },
  {
   "cell_type": "markdown",
   "metadata": {
    "id": "laK9bbq8CutL"
   },
   "source": [
    "## Part 3: Train a translator"
   ]
  },
  {
   "cell_type": "markdown",
   "metadata": {
    "id": "Q68aWc_2CutL"
   },
   "source": [
    "We now have all the pieces to build and train a complete translation system."
   ]
  },
  {
   "cell_type": "markdown",
   "metadata": {
    "id": "w5MYw2PJCutL"
   },
   "source": [
    "### Translator class\n",
    "\n",
    "We first define a class `Translator` that initialises an encoder–decoder model and uses it to translate sentences."
   ]
  },
  {
   "cell_type": "code",
   "execution_count": 29,
   "metadata": {
    "executionInfo": {
     "elapsed": 16,
     "status": "ok",
     "timestamp": 1687783221694,
     "user": {
      "displayName": "hhh khjf",
      "userId": "15112222139699376117"
     },
     "user_tz": -120
    },
    "id": "Evi-J7BfCutM",
    "tags": [],
    "ExecuteTime": {
     "end_time": "2023-07-04T16:18:01.744163600Z",
     "start_time": "2023-07-04T16:18:01.673701200Z"
    }
   },
   "outputs": [],
   "source": [
    "class Translator:\n",
    "    def __init__(self, src_lookup, tgt_lookup, batch_size=32, **kwargs):\n",
    "        self.src_lookup = src_lookup\n",
    "        self.tgt_lookup = tgt_lookup\n",
    "        self.model = EncoderDecoder(src_lookup, tgt_lookup, **kwargs)\n",
    "        self.tgt_vocab = tgt_lookup.get_vocabulary()\n",
    "        self.eos_index = self.tgt_vocab.index(\"<eos>\")\n",
    "        self.batch_size = batch_size\n",
    "\n",
    "    def compile(self, *args, **kwargs):\n",
    "        return self.model.compile(*args, **kwargs)\n",
    "\n",
    "    def fit(self, *args, **kwargs):\n",
    "        return self.model.fit(*args, **kwargs)\n",
    "\n",
    "    def translate(self, sentences, return_alphas=False):\n",
    "        \"\"\"This function takes sentences and returns their translation as a string.\n",
    "\n",
    "        `sentences` can be either:\n",
    "          - A tf.data.Dataset object\n",
    "          - A list of strings\n",
    "        \"\"\"\n",
    "        if isinstance(sentences, tf.data.Dataset):\n",
    "            inputs = sentences\n",
    "        elif isinstance(sentences, (list, tuple)):\n",
    "            inputs = (\n",
    "                tf.data.Dataset.from_tensor_slices(\n",
    "                    tf.ragged.constant([x.split() for x in sentences])\n",
    "                )\n",
    "                .map(self.src_lookup)\n",
    "                .padded_batch(min(self.batch_size, len(sentences)))\n",
    "            )\n",
    "        else:\n",
    "            raise ValueError(f\"'sentences' should be either a tf.Dataset or a list of strings; got: {type(sentences)}\")\n",
    "\n",
    "        outputs, alphas = self.model.predict(inputs, verbose=0)\n",
    "        outputs = tf.math.argmax(outputs, axis=-1).numpy().tolist()\n",
    "        try:\n",
    "            alphas = alphas.numpy().tolist()\n",
    "        except AttributeError:\n",
    "            alphas = alphas.tolist()\n",
    "        generated = []\n",
    "\n",
    "        for y_pred, alpha in zip(outputs, alphas):\n",
    "            try:\n",
    "                eos_idx = y_pred.index(self.eos_index)\n",
    "                del y_pred[eos_idx:]\n",
    "                del alpha[eos_idx:]\n",
    "            except ValueError:\n",
    "                pass\n",
    "            tokens = [self.tgt_vocab[idx] for idx in y_pred if idx > 0]\n",
    "            tokens = \" \".join(tokens)\n",
    "            if return_alphas:\n",
    "                generated.append((tokens, alpha))\n",
    "            else:\n",
    "                generated.append(tokens)\n",
    "\n",
    "        return generated\n",
    "\n",
    "    def translate_with_attention(self, sentences):\n",
    "        return self.translate(sentences, return_alphas=True)"
   ]
  },
  {
   "cell_type": "markdown",
   "metadata": {
    "id": "2660iyt-CutN"
   },
   "source": [
    "The code below shows how this class is supposed to be used (its output will be nonsensical right now, of course, since the model hasn't been trained yet):"
   ]
  },
  {
   "cell_type": "code",
   "execution_count": 30,
   "metadata": {
    "colab": {
     "base_uri": "https://localhost:8080/"
    },
    "executionInfo": {
     "elapsed": 11888,
     "status": "ok",
     "timestamp": 1687783233569,
     "user": {
      "displayName": "hhh khjf",
      "userId": "15112222139699376117"
     },
     "user_tz": -120
    },
    "id": "NFiJLKRXCutN",
    "outputId": "0a2f9945-d07f-47c7-b95f-69f69073cc1b",
    "tags": [],
    "ExecuteTime": {
     "end_time": "2023-07-04T16:18:12.725894200Z",
     "start_time": "2023-07-04T16:18:02.552019800Z"
    }
   },
   "outputs": [
    {
     "data": {
      "text/plain": "['life border border healer trust healer trust healer trust healer trust healer trust healer trust healer',\n 'motel punished year river colors cute deliver hobbies policemen owe punished year river colors cute deliver']"
     },
     "execution_count": 30,
     "metadata": {},
     "output_type": "execute_result"
    }
   ],
   "source": [
    "translator = Translator(src_lookup, tgt_lookup)\n",
    "# Alternative \"mini\" version of the model for testing:\n",
    "#translator = Translator(src_lookup, tgt_lookup, embedding_dim=32, hidden_dim=64, batch_size=16, max_len=8)\n",
    "translator.translate(['stäng av vattnet .', 'jag älskar friterade bananer .'])"
   ]
  },
  {
   "cell_type": "markdown",
   "metadata": {
    "id": "2cFT9atlCutO"
   },
   "source": [
    "### Evaluation function\n",
    "\n",
    "As mentioned in the lecture, machine translation systems are typically evaluated using the **BLEU metric**. Here we use the implementation of this metric from the `sacrebleu` library."
   ]
  },
  {
   "cell_type": "code",
   "execution_count": 31,
   "metadata": {
    "executionInfo": {
     "elapsed": 47,
     "status": "ok",
     "timestamp": 1687783233571,
     "user": {
      "displayName": "hhh khjf",
      "userId": "15112222139699376117"
     },
     "user_tz": -120
    },
    "id": "F8J5y0qRsDFU",
    "tags": [],
    "ExecuteTime": {
     "end_time": "2023-07-04T16:18:13.144244300Z",
     "start_time": "2023-07-04T16:18:12.710271200Z"
    }
   },
   "outputs": [],
   "source": [
    "from sacrebleu.metrics import BLEU\n",
    "bleu_params = dict(effective_order=True, tokenize=\"none\", force=True, smooth_method=\"floor\", smooth_value=0.01)\n",
    "bleu = BLEU(**bleu_params)"
   ]
  },
  {
   "cell_type": "markdown",
   "metadata": {
    "id": "3nIgoqcJsDFU"
   },
   "source": [
    "If the test sentence is exactly identical to the reference sentence, the score will be 100 (plus/minus potential floating point rounding errors):"
   ]
  },
  {
   "cell_type": "code",
   "execution_count": 32,
   "metadata": {
    "colab": {
     "base_uri": "https://localhost:8080/"
    },
    "executionInfo": {
     "elapsed": 38,
     "status": "ok",
     "timestamp": 1687783233573,
     "user": {
      "displayName": "hhh khjf",
      "userId": "15112222139699376117"
     },
     "user_tz": -120
    },
    "id": "nDMJDUdUsDFV",
    "outputId": "afa43cc8-c67b-454a-f98b-8af0cf714346",
    "ExecuteTime": {
     "end_time": "2023-07-04T16:18:13.189002200Z",
     "start_time": "2023-07-04T16:18:13.128621500Z"
    }
   },
   "outputs": [
    {
     "data": {
      "text/plain": "100.00000000000004"
     },
     "execution_count": 32,
     "metadata": {},
     "output_type": "execute_result"
    }
   ],
   "source": [
    "bleu.sentence_score(\"the house is blue .\", [\"the house is blue .\"]).score"
   ]
  },
  {
   "cell_type": "markdown",
   "metadata": {
    "id": "d5T5ey9PsDFV"
   },
   "source": [
    "If we change some words, the score will go down, though never below zero:"
   ]
  },
  {
   "cell_type": "code",
   "execution_count": 33,
   "metadata": {
    "colab": {
     "base_uri": "https://localhost:8080/"
    },
    "executionInfo": {
     "elapsed": 21,
     "status": "ok",
     "timestamp": 1687783233574,
     "user": {
      "displayName": "hhh khjf",
      "userId": "15112222139699376117"
     },
     "user_tz": -120
    },
    "id": "ftC_hzQ-sDFX",
    "outputId": "67e663ed-c759-4bf0-e65f-74ec8a25ac4f",
    "tags": [],
    "ExecuteTime": {
     "end_time": "2023-07-04T16:18:13.304912400Z",
     "start_time": "2023-07-04T16:18:13.173462400Z"
    }
   },
   "outputs": [
    {
     "data": {
      "text/plain": "3.9763536438352522"
     },
     "execution_count": 33,
     "metadata": {},
     "output_type": "execute_result"
    }
   ],
   "source": [
    "bleu.sentence_score(\"the house was red .\", [\"the house is blue .\"]).score"
   ]
  },
  {
   "cell_type": "markdown",
   "metadata": {
    "id": "Rbos0zsVsDFX"
   },
   "source": [
    "Here is a helper function that takes a trained `Translator` model as well as a `Dataset`, runs all sentences through the translator, and computes the BLEU score for the entire dataset:"
   ]
  },
  {
   "cell_type": "code",
   "execution_count": 34,
   "metadata": {
    "executionInfo": {
     "elapsed": 13,
     "status": "ok",
     "timestamp": 1687783233575,
     "user": {
      "displayName": "hhh khjf",
      "userId": "15112222139699376117"
     },
     "user_tz": -120
    },
    "id": "r2svb2iesDFX",
    "tags": [],
    "ExecuteTime": {
     "end_time": "2023-07-04T16:18:13.304912400Z",
     "start_time": "2023-07-04T16:18:13.189002200Z"
    }
   },
   "outputs": [],
   "source": [
    "def compute_bleu(translator, dataset):\n",
    "    hyp = translator.translate(dataset)\n",
    "    ref = [\n",
    "        \" \".join(translator.tgt_vocab[idx] for idx in s if idx not in (0, translator.eos_index))\n",
    "        for s in dataset.unbatch().map(lambda _, x: x).as_numpy_iterator()\n",
    "    ]\n",
    "    return bleu.corpus_score(hyp, [ref]).score"
   ]
  },
  {
   "cell_type": "markdown",
   "metadata": {
    "id": "Ozk1hurqCutP"
   },
   "source": [
    "We want to report the BLEU score on the **validation data**, so let's load this as well:"
   ]
  },
  {
   "cell_type": "code",
   "execution_count": 35,
   "metadata": {
    "executionInfo": {
     "elapsed": 1420,
     "status": "ok",
     "timestamp": 1687783234983,
     "user": {
      "displayName": "hhh khjf",
      "userId": "15112222139699376117"
     },
     "user_tz": -120
    },
    "id": "HNtBMDVqCutP",
    "tags": [],
    "ExecuteTime": {
     "end_time": "2023-07-04T16:18:14.123375500Z",
     "start_time": "2023-07-04T16:18:13.204626100Z"
    }
   },
   "outputs": [],
   "source": [
    "valid_dataset = load_translation_dataset(src_lookup, tgt_lookup, \"en-sv-valid.txt\")"
   ]
  },
  {
   "cell_type": "markdown",
   "metadata": {
    "id": "xe2rPzwmCutQ"
   },
   "source": [
    "### Batching\n",
    "\n",
    "So far we only tested our code on \"batches\" with a single sentence. In order to use larger batches, we need to make sure that all of the sentences in a batch have the same length. We achieve this by _padding_ the shorter sentences to the length of the longest one. Luckily, the `tf.Dataset` class has a function [`padded_batch`](https://www.tensorflow.org/api_docs/python/tf/data/Dataset#padded_batch) that will do this for us. If we provide a `Dataset` for training, Keras won't shuffle the data automatically, so we also have to [`shuffle`](https://www.tensorflow.org/api_docs/python/tf/data/Dataset#shuffle) the dataset explicitly. (For validation, shuffling doesn't matter.)"
   ]
  },
  {
   "cell_type": "code",
   "execution_count": 36,
   "metadata": {
    "executionInfo": {
     "elapsed": 17,
     "status": "ok",
     "timestamp": 1687783234984,
     "user": {
      "displayName": "hhh khjf",
      "userId": "15112222139699376117"
     },
     "user_tz": -120
    },
    "id": "X-yfmnSzCutQ",
    "tags": [],
    "ExecuteTime": {
     "end_time": "2023-07-04T16:18:14.160295600Z",
     "start_time": "2023-07-04T16:18:14.123375500Z"
    }
   },
   "outputs": [],
   "source": [
    "train_batched = train_dataset.shuffle(512).padded_batch(64)\n",
    "valid_batched = valid_dataset.padded_batch(64)"
   ]
  },
  {
   "cell_type": "markdown",
   "metadata": {
    "id": "FfM1Ov-sCutQ"
   },
   "source": [
    "### Training\n",
    "\n",
    "Training works as for any other Keras model: we first need to `compile` the model with the optimizer, loss function, and validation metrics that we want to use."
   ]
  },
  {
   "cell_type": "code",
   "execution_count": 37,
   "metadata": {
    "executionInfo": {
     "elapsed": 16,
     "status": "ok",
     "timestamp": 1687783234986,
     "user": {
      "displayName": "hhh khjf",
      "userId": "15112222139699376117"
     },
     "user_tz": -120
    },
    "id": "yr4VP-SpCutQ",
    "tags": [],
    "ExecuteTime": {
     "end_time": "2023-07-04T16:18:14.248270200Z",
     "start_time": "2023-07-04T16:18:14.160295600Z"
    }
   },
   "outputs": [],
   "source": [
    "translator.compile(\n",
    "    optimizer=keras.optimizers.Adam(learning_rate=2e-3),\n",
    "    loss=keras.losses.SparseCategoricalCrossentropy(from_logits=True)\n",
    ")"
   ]
  },
  {
   "cell_type": "markdown",
   "metadata": {
    "id": "KgXElolrCutR"
   },
   "source": [
    "Now it is time to train the system. During training, these diagnostics will be updated periodically: the running average of the training loss; after a full epoch, the loss and the BLEU score on the validation data will be computed and printed.\n",
    "\n",
    "Let's also define a callback that additionally prints the translation of a sample sentence, *jag saknar min familj* (which should translate into *i miss my family*), every 50 batches:"
   ]
  },
  {
   "cell_type": "code",
   "execution_count": 38,
   "metadata": {
    "executionInfo": {
     "elapsed": 15,
     "status": "ok",
     "timestamp": 1687783234987,
     "user": {
      "displayName": "hhh khjf",
      "userId": "15112222139699376117"
     },
     "user_tz": -120
    },
    "id": "tA8XHquRsDFZ",
    "tags": [],
    "ExecuteTime": {
     "end_time": "2023-07-04T16:18:14.307145200Z",
     "start_time": "2023-07-04T16:18:14.222782400Z"
    }
   },
   "outputs": [],
   "source": [
    "my_callbacks = [\n",
    "    keras.callbacks.LambdaCallback(\n",
    "        on_train_batch_end=lambda b, _: tf.print(\" - jag saknar min familj . ->\", translator.translate(['jag saknar min familj .'])[0]) if b > 0 and b % 50 == 0 else None,\n",
    "        on_epoch_end=lambda _, l: l.__setitem__(\"val_bleu\", compute_bleu(translator, valid_batched))\n",
    "    )\n",
    "]"
   ]
  },
  {
   "cell_type": "markdown",
   "metadata": {
    "id": "gkgMPWTKsDFa"
   },
   "source": [
    "#### 🤔 Task 6: Run the model training\n",
    "\n",
    "Run the following code cells that train the model and evaluate it on the validation data.\n",
    "\n",
    "Training the translator takes quite a bit of compute power and time. The default number of epochs is 2; however, you may want to try training for longer, or interrupt the training prematurely and use a partially trained model in case you run out of time.\n",
    "\n",
    "**⚠️ Your submitted notebook must contain output demonstrating at least 20 BLEU points on the validation data.**"
   ]
  },
  {
   "cell_type": "code",
   "execution_count": 39,
   "metadata": {
    "colab": {
     "base_uri": "https://localhost:8080/"
    },
    "executionInfo": {
     "elapsed": 166633,
     "status": "ok",
     "timestamp": 1687783401607,
     "user": {
      "displayName": "hhh khjf",
      "userId": "15112222139699376117"
     },
     "user_tz": -120
    },
    "id": "VW8wF8oRCutR",
    "outputId": "2ef64bc2-33fc-4716-db73-a5cb6f5a7e4a",
    "tags": [],
    "ExecuteTime": {
     "end_time": "2023-07-04T16:24:36.002889700Z",
     "start_time": "2023-07-04T16:18:15.826985400Z"
    }
   },
   "outputs": [
    {
     "name": "stdout",
     "output_type": "stream",
     "text": [
      "Epoch 1/2\n",
      " 50/322 [===>..........................] - ETA: 2:17 - loss: 3.2128 - jag saknar min familj . -> i i ' ' .\r\n",
      "100/322 [========>.....................] - ETA: 1:58 - loss: 2.8609 - jag saknar min familj . -> i ' t ' t ' t ' t ' t ' t ' t '\r\n",
      "150/322 [============>.................] - ETA: 1:39 - loss: 2.6313 - jag saknar min familj . -> i ' t ' t go to the lot .\r\n",
      "200/322 [=================>............] - ETA: 1:08 - loss: 2.4658 - jag saknar min familj . -> i ' m not a lot .\r\n",
      "250/322 [======================>.......] - ETA: 40s - loss: 2.3321 - jag saknar min familj . -> i ' m not a <unk> .\r\n",
      "300/322 [==========================>...] - ETA: 12s - loss: 2.2118 - jag saknar min familj . -> i just just never got a horse .\r\n",
      "322/322 [==============================] - 211s 619ms/step - loss: 2.1630 - val_loss: 3.9627 - val_bleu: 8.7049\n",
      "Epoch 2/2\n",
      " 50/322 [===>..........................] - ETA: 2:01 - loss: 1.5008 - jag saknar min familj . -> i like my friend .\r\n",
      "100/322 [========>.....................] - ETA: 1:39 - loss: 1.4547 - jag saknar min familj . -> i ' m my friend .\r\n",
      "150/322 [============>.................] - ETA: 1:19 - loss: 1.3971 - jag saknar min familj . -> i like my new room .\r\n",
      "200/322 [=================>............] - ETA: 58s - loss: 1.3514 - jag saknar min familj . -> i ' m looking for my new room .\r\n",
      "250/322 [======================>.......] - ETA: 34s - loss: 1.2966 - jag saknar min familj . -> i miss my family .\r\n",
      "300/322 [==========================>...] - ETA: 10s - loss: 1.2456 - jag saknar min familj . -> i miss my family .\r\n",
      "322/322 [==============================] - 169s 526ms/step - loss: 1.2220 - val_loss: 3.9900 - val_bleu: 25.5292\n",
      "CPU times: total: 17min 35s\n",
      "Wall time: 6min 20s\n"
     ]
    }
   ],
   "source": [
    "%%time\n",
    "try:\n",
    "    translator.fit(train_batched, epochs=2, validation_data=valid_batched, callbacks=my_callbacks)\n",
    "except KeyboardInterrupt:\n",
    "    pass"
   ]
  },
  {
   "cell_type": "code",
   "execution_count": 40,
   "metadata": {
    "colab": {
     "base_uri": "https://localhost:8080/"
    },
    "executionInfo": {
     "elapsed": 5962,
     "status": "ok",
     "timestamp": 1687783407562,
     "user": {
      "displayName": "hhh khjf",
      "userId": "15112222139699376117"
     },
     "user_tz": -120
    },
    "id": "HBtxwn6ZsDFb",
    "outputId": "602250d5-cd0a-444d-9038-8ee9e843c080",
    "tags": [],
    "ExecuteTime": {
     "end_time": "2023-07-04T16:24:46.561673900Z",
     "start_time": "2023-07-04T16:24:36.025952300Z"
    }
   },
   "outputs": [
    {
     "data": {
      "text/plain": "25.529178516632182"
     },
     "execution_count": 40,
     "metadata": {},
     "output_type": "execute_result"
    }
   ],
   "source": [
    "compute_bleu(translator, valid_batched)"
   ]
  },
  {
   "cell_type": "markdown",
   "source": [
    "in order to improve Bleu score, we can try to increase the number of epochs, but it will take a lot of time, so we will not do it here. Additionally, we can try to increase the size of the vocabulary, but it will also take a lot of time, or"
   ],
   "metadata": {
    "collapsed": false
   }
  },
  {
   "cell_type": "markdown",
   "metadata": {
    "id": "5hH5LObFsDFc"
   },
   "source": [
    "#### ℹ️ Some notes on the translations\n",
    "\n",
    "If you try out sentences to see their translation (like in the code cell below), you might find some possibly surprising results, such as:\n",
    "\n",
    "- **Translations that are seemingly nonsensical or have nothing to do with the input.** This might be because the model is undertrained; you could try training for more epochs to see if the translations improve. It's also possible that you tried words or phrases that were just not well-represented in the training data.\n",
    "- **Translations that have a lot of `<unk>`s.** This might be due to the words just not being present in the model's vocabulary! Remember you can check this with the vocabularies you created, e.g. `\"friterade\" in src_vocab`. You could try increasing the vocabulary size and see if the results improve, but this will also increase training time.\n",
    "\n",
    "Finally, keep in mind that both the dataset and the model itself is quite tiny, as it's optimized for speed and demonstration purposes rather than efficiency!"
   ]
  },
  {
   "cell_type": "code",
   "execution_count": 41,
   "metadata": {
    "colab": {
     "base_uri": "https://localhost:8080/"
    },
    "executionInfo": {
     "elapsed": 23,
     "status": "ok",
     "timestamp": 1687783407563,
     "user": {
      "displayName": "hhh khjf",
      "userId": "15112222139699376117"
     },
     "user_tz": -120
    },
    "id": "ilOLEBaasDFd",
    "outputId": "13591d75-f366-4e6f-dc65-7ef1ae9b7426",
    "ExecuteTime": {
     "end_time": "2023-07-04T16:24:46.677285900Z",
     "start_time": "2023-07-04T16:24:46.567658Z"
    }
   },
   "outputs": [
    {
     "data": {
      "text/plain": "['i appreciate my family .',\n 'the <unk> was in the water .',\n 'i love chinese <unk> .']"
     },
     "execution_count": 41,
     "metadata": {},
     "output_type": "execute_result"
    }
   ],
   "source": [
    "translator.translate(['jag saknar min familj . ', 'stäng av vattnet .', 'jag älskar friterade bananer .'])"
   ]
  },
  {
   "cell_type": "markdown",
   "metadata": {
    "id": "7677Q0QLCutS"
   },
   "source": [
    "# Part 4: Visualising attention"
   ]
  },
  {
   "cell_type": "markdown",
   "metadata": {
    "id": "OCzHCB4XCutS"
   },
   "source": [
    "Figure&nbsp;3 in the paper by [Bahdanau et al. (2015)](https://arxiv.org/abs/1409.0473) shows some heatmaps of attention weights in selected sentences. In the last problem of this lab, we ask you to inspect attention weights for your trained translation system. We define a function `plot_attention` that visualises the attention weights. The *x*-axis corresponds to the words in the source sentence (Swedish) and the *y*-axis to the generated target sentence (English).\n",
    "\n",
    "The heatmap colours represent the **strengths of the attention weights**, with _lighter_ cells indicating a _higher_ attention value, just as in the Bahdanau et al. paper."
   ]
  },
  {
   "cell_type": "code",
   "execution_count": 42,
   "metadata": {
    "executionInfo": {
     "elapsed": 8,
     "status": "ok",
     "timestamp": 1687783407565,
     "user": {
      "displayName": "hhh khjf",
      "userId": "15112222139699376117"
     },
     "user_tz": -120
    },
    "id": "IXHPiuamCutS",
    "ExecuteTime": {
     "end_time": "2023-07-04T16:24:47.885536500Z",
     "start_time": "2023-07-04T16:24:46.681272700Z"
    }
   },
   "outputs": [],
   "source": [
    "import matplotlib.pyplot as plt\n",
    "import numpy as np\n",
    "\n",
    "%config InlineBackend.figure_format = 'svg'\n",
    "\n",
    "plt.style.use('seaborn-v0_8-whitegrid')\n",
    "\n",
    "def plot_attention(translator, sentence):\n",
    "    translation, weights = translator.translate_with_attention([sentence])[0]\n",
    "    weights = np.array(weights)\n",
    "\n",
    "    fig, ax = plt.subplots()\n",
    "    heatmap = ax.pcolor(weights, cmap='Blues_r', vmin=0., vmax=1.)\n",
    "\n",
    "    ax.xaxis.tick_top()\n",
    "    ax.set_xticks(np.arange(weights.shape[1]) + 0.5, minor=False)\n",
    "    ax.set_yticks(np.arange(weights.shape[0]) + 0.5, minor=False)\n",
    "    ax.set_xticklabels(sentence.split(), minor=False, rotation=40)\n",
    "    ax.set_yticklabels(translation.split(), minor=False)\n",
    "    ax.invert_yaxis()\n",
    "\n",
    "    plt.colorbar(heatmap)"
   ]
  },
  {
   "cell_type": "markdown",
   "metadata": {
    "id": "SGCwchIdCutS"
   },
   "source": [
    "Here is an example."
   ]
  },
  {
   "cell_type": "code",
   "execution_count": 43,
   "metadata": {
    "colab": {
     "base_uri": "https://localhost:8080/",
     "height": 442
    },
    "executionInfo": {
     "elapsed": 1024,
     "status": "ok",
     "timestamp": 1687783408581,
     "user": {
      "displayName": "hhh khjf",
      "userId": "15112222139699376117"
     },
     "user_tz": -120
    },
    "id": "Hj4teeITCutT",
    "outputId": "95a1701b-c90e-46c3-8d66-3d30e023d95d",
    "ExecuteTime": {
     "end_time": "2023-07-04T16:24:48.425011800Z",
     "start_time": "2023-07-04T16:24:47.888529200Z"
    }
   },
   "outputs": [
    {
     "data": {
      "text/plain": "<Figure size 640x480 with 2 Axes>",
      "image/svg+xml": "<?xml version=\"1.0\" encoding=\"utf-8\" standalone=\"no\"?>\n<!DOCTYPE svg PUBLIC \"-//W3C//DTD SVG 1.1//EN\"\n  \"http://www.w3.org/Graphics/SVG/1.1/DTD/svg11.dtd\">\n<svg xmlns:xlink=\"http://www.w3.org/1999/xlink\" width=\"398.852913pt\" height=\"315.875785pt\" viewBox=\"0 0 398.852913 315.875785\" xmlns=\"http://www.w3.org/2000/svg\" version=\"1.1\">\n <metadata>\n  <rdf:RDF xmlns:dc=\"http://purl.org/dc/elements/1.1/\" xmlns:cc=\"http://creativecommons.org/ns#\" xmlns:rdf=\"http://www.w3.org/1999/02/22-rdf-syntax-ns#\">\n   <cc:Work>\n    <dc:type rdf:resource=\"http://purl.org/dc/dcmitype/StillImage\"/>\n    <dc:date>2023-07-04T18:24:48.330200</dc:date>\n    <dc:format>image/svg+xml</dc:format>\n    <dc:creator>\n     <cc:Agent>\n      <dc:title>Matplotlib v3.7.1, https://matplotlib.org/</dc:title>\n     </cc:Agent>\n    </dc:creator>\n   </cc:Work>\n  </rdf:RDF>\n </metadata>\n <defs>\n  <style type=\"text/css\">*{stroke-linejoin: round; stroke-linecap: butt}</style>\n </defs>\n <g id=\"figure_1\">\n  <g id=\"patch_1\">\n   <path d=\"M 0 315.875785 \nL 398.852913 315.875785 \nL 398.852913 0 \nL 0 0 \nz\n\" style=\"fill: #ffffff\"/>\n  </g>\n  <g id=\"axes_1\">\n   <g id=\"patch_2\">\n    <path d=\"M 57.395313 303.109379 \nL 343.091313 303.109379 \nL 343.091313 36.997379 \nL 57.395313 36.997379 \nz\n\" style=\"fill: #ffffff\"/>\n   </g>\n   <g id=\"matplotlib.axis_1\">\n    <g id=\"xtick_1\">\n     <g id=\"line2d_1\">\n      <path d=\"M 85.964913 303.109379 \nL 85.964913 36.997379 \n\" clip-path=\"url(#p3549ad337a)\" style=\"fill: none; stroke: #cccccc; stroke-width: 0.8; stroke-linecap: round\"/>\n     </g>\n     <g id=\"line2d_2\"/>\n     <g id=\"text_1\">\n      <!-- jag -->\n      <g style=\"fill: #262626\" transform=\"translate(82.478003 31.885095) rotate(-40) scale(0.1 -0.1)\">\n       <defs>\n        <path id=\"ArialMT-6a\" d=\"M 419 3928 \nL 419 4581 \nL 981 4581 \nL 981 3928 \nL 419 3928 \nz\nM -294 -1288 \nL -188 -809 \nQ -19 -853 78 -853 \nQ 250 -853 334 -739 \nQ 419 -625 419 -169 \nL 419 3319 \nL 981 3319 \nL 981 -181 \nQ 981 -794 822 -1034 \nQ 619 -1347 147 -1347 \nQ -81 -1347 -294 -1288 \nz\n\" transform=\"scale(0.015625)\"/>\n        <path id=\"ArialMT-61\" d=\"M 2588 409 \nQ 2275 144 1986 34 \nQ 1697 -75 1366 -75 \nQ 819 -75 525 192 \nQ 231 459 231 875 \nQ 231 1119 342 1320 \nQ 453 1522 633 1644 \nQ 813 1766 1038 1828 \nQ 1203 1872 1538 1913 \nQ 2219 1994 2541 2106 \nQ 2544 2222 2544 2253 \nQ 2544 2597 2384 2738 \nQ 2169 2928 1744 2928 \nQ 1347 2928 1158 2789 \nQ 969 2650 878 2297 \nL 328 2372 \nQ 403 2725 575 2942 \nQ 747 3159 1072 3276 \nQ 1397 3394 1825 3394 \nQ 2250 3394 2515 3294 \nQ 2781 3194 2906 3042 \nQ 3031 2891 3081 2659 \nQ 3109 2516 3109 2141 \nL 3109 1391 \nQ 3109 606 3145 398 \nQ 3181 191 3288 0 \nL 2700 0 \nQ 2613 175 2588 409 \nz\nM 2541 1666 \nQ 2234 1541 1622 1453 \nQ 1275 1403 1131 1340 \nQ 988 1278 909 1158 \nQ 831 1038 831 891 \nQ 831 666 1001 516 \nQ 1172 366 1500 366 \nQ 1825 366 2078 508 \nQ 2331 650 2450 897 \nQ 2541 1088 2541 1459 \nL 2541 1666 \nz\n\" transform=\"scale(0.015625)\"/>\n        <path id=\"ArialMT-67\" d=\"M 319 -275 \nL 866 -356 \nQ 900 -609 1056 -725 \nQ 1266 -881 1628 -881 \nQ 2019 -881 2231 -725 \nQ 2444 -569 2519 -288 \nQ 2563 -116 2559 434 \nQ 2191 0 1641 0 \nQ 956 0 581 494 \nQ 206 988 206 1678 \nQ 206 2153 378 2554 \nQ 550 2956 876 3175 \nQ 1203 3394 1644 3394 \nQ 2231 3394 2613 2919 \nL 2613 3319 \nL 3131 3319 \nL 3131 450 \nQ 3131 -325 2973 -648 \nQ 2816 -972 2473 -1159 \nQ 2131 -1347 1631 -1347 \nQ 1038 -1347 672 -1080 \nQ 306 -813 319 -275 \nz\nM 784 1719 \nQ 784 1066 1043 766 \nQ 1303 466 1694 466 \nQ 2081 466 2343 764 \nQ 2606 1063 2606 1700 \nQ 2606 2309 2336 2618 \nQ 2066 2928 1684 2928 \nQ 1309 2928 1046 2623 \nQ 784 2319 784 1719 \nz\n\" transform=\"scale(0.015625)\"/>\n       </defs>\n       <use xlink:href=\"#ArialMT-6a\"/>\n       <use xlink:href=\"#ArialMT-61\" x=\"22.216797\"/>\n       <use xlink:href=\"#ArialMT-67\" x=\"77.832031\"/>\n      </g>\n     </g>\n    </g>\n    <g id=\"xtick_2\">\n     <g id=\"line2d_3\">\n      <path d=\"M 143.104113 303.109379 \nL 143.104113 36.997379 \n\" clip-path=\"url(#p3549ad337a)\" style=\"fill: none; stroke: #cccccc; stroke-width: 0.8; stroke-linecap: round\"/>\n     </g>\n     <g id=\"line2d_4\"/>\n     <g id=\"text_2\">\n      <!-- saknar -->\n      <g style=\"fill: #262626\" transform=\"translate(133.270364 31.974866) rotate(-40) scale(0.1 -0.1)\">\n       <defs>\n        <path id=\"ArialMT-73\" d=\"M 197 991 \nL 753 1078 \nQ 800 744 1014 566 \nQ 1228 388 1613 388 \nQ 2000 388 2187 545 \nQ 2375 703 2375 916 \nQ 2375 1106 2209 1216 \nQ 2094 1291 1634 1406 \nQ 1016 1563 777 1677 \nQ 538 1791 414 1992 \nQ 291 2194 291 2438 \nQ 291 2659 392 2848 \nQ 494 3038 669 3163 \nQ 800 3259 1026 3326 \nQ 1253 3394 1513 3394 \nQ 1903 3394 2198 3281 \nQ 2494 3169 2634 2976 \nQ 2775 2784 2828 2463 \nL 2278 2388 \nQ 2241 2644 2061 2787 \nQ 1881 2931 1553 2931 \nQ 1166 2931 1000 2803 \nQ 834 2675 834 2503 \nQ 834 2394 903 2306 \nQ 972 2216 1119 2156 \nQ 1203 2125 1616 2013 \nQ 2213 1853 2448 1751 \nQ 2684 1650 2818 1456 \nQ 2953 1263 2953 975 \nQ 2953 694 2789 445 \nQ 2625 197 2315 61 \nQ 2006 -75 1616 -75 \nQ 969 -75 630 194 \nQ 291 463 197 991 \nz\n\" transform=\"scale(0.015625)\"/>\n        <path id=\"ArialMT-6b\" d=\"M 425 0 \nL 425 4581 \nL 988 4581 \nL 988 1969 \nL 2319 3319 \nL 3047 3319 \nL 1778 2088 \nL 3175 0 \nL 2481 0 \nL 1384 1697 \nL 988 1316 \nL 988 0 \nL 425 0 \nz\n\" transform=\"scale(0.015625)\"/>\n        <path id=\"ArialMT-6e\" d=\"M 422 0 \nL 422 3319 \nL 928 3319 \nL 928 2847 \nQ 1294 3394 1984 3394 \nQ 2284 3394 2536 3286 \nQ 2788 3178 2913 3003 \nQ 3038 2828 3088 2588 \nQ 3119 2431 3119 2041 \nL 3119 0 \nL 2556 0 \nL 2556 2019 \nQ 2556 2363 2490 2533 \nQ 2425 2703 2258 2804 \nQ 2091 2906 1866 2906 \nQ 1506 2906 1245 2678 \nQ 984 2450 984 1813 \nL 984 0 \nL 422 0 \nz\n\" transform=\"scale(0.015625)\"/>\n        <path id=\"ArialMT-72\" d=\"M 416 0 \nL 416 3319 \nL 922 3319 \nL 922 2816 \nQ 1116 3169 1280 3281 \nQ 1444 3394 1641 3394 \nQ 1925 3394 2219 3213 \nL 2025 2691 \nQ 1819 2813 1613 2813 \nQ 1428 2813 1281 2702 \nQ 1134 2591 1072 2394 \nQ 978 2094 978 1738 \nL 978 0 \nL 416 0 \nz\n\" transform=\"scale(0.015625)\"/>\n       </defs>\n       <use xlink:href=\"#ArialMT-73\"/>\n       <use xlink:href=\"#ArialMT-61\" x=\"50\"/>\n       <use xlink:href=\"#ArialMT-6b\" x=\"105.615234\"/>\n       <use xlink:href=\"#ArialMT-6e\" x=\"155.615234\"/>\n       <use xlink:href=\"#ArialMT-61\" x=\"211.230469\"/>\n       <use xlink:href=\"#ArialMT-72\" x=\"266.845703\"/>\n      </g>\n     </g>\n    </g>\n    <g id=\"xtick_3\">\n     <g id=\"line2d_5\">\n      <path d=\"M 200.243313 303.109379 \nL 200.243313 36.997379 \n\" clip-path=\"url(#p3549ad337a)\" style=\"fill: none; stroke: #cccccc; stroke-width: 0.8; stroke-linecap: round\"/>\n     </g>\n     <g id=\"line2d_6\"/>\n     <g id=\"text_3\">\n      <!-- min -->\n      <g style=\"fill: #262626\" transform=\"translate(195.733573 31.974866) rotate(-40) scale(0.1 -0.1)\">\n       <defs>\n        <path id=\"ArialMT-6d\" d=\"M 422 0 \nL 422 3319 \nL 925 3319 \nL 925 2853 \nQ 1081 3097 1340 3245 \nQ 1600 3394 1931 3394 \nQ 2300 3394 2536 3241 \nQ 2772 3088 2869 2813 \nQ 3263 3394 3894 3394 \nQ 4388 3394 4653 3120 \nQ 4919 2847 4919 2278 \nL 4919 0 \nL 4359 0 \nL 4359 2091 \nQ 4359 2428 4304 2576 \nQ 4250 2725 4106 2815 \nQ 3963 2906 3769 2906 \nQ 3419 2906 3187 2673 \nQ 2956 2441 2956 1928 \nL 2956 0 \nL 2394 0 \nL 2394 2156 \nQ 2394 2531 2256 2718 \nQ 2119 2906 1806 2906 \nQ 1569 2906 1367 2781 \nQ 1166 2656 1075 2415 \nQ 984 2175 984 1722 \nL 984 0 \nL 422 0 \nz\n\" transform=\"scale(0.015625)\"/>\n        <path id=\"ArialMT-69\" d=\"M 425 3934 \nL 425 4581 \nL 988 4581 \nL 988 3934 \nL 425 3934 \nz\nM 425 0 \nL 425 3319 \nL 988 3319 \nL 988 0 \nL 425 0 \nz\n\" transform=\"scale(0.015625)\"/>\n       </defs>\n       <use xlink:href=\"#ArialMT-6d\"/>\n       <use xlink:href=\"#ArialMT-69\" x=\"83.300781\"/>\n       <use xlink:href=\"#ArialMT-6e\" x=\"105.517578\"/>\n      </g>\n     </g>\n    </g>\n    <g id=\"xtick_4\">\n     <g id=\"line2d_7\">\n      <path d=\"M 257.382513 303.109379 \nL 257.382513 36.997379 \n\" clip-path=\"url(#p3549ad337a)\" style=\"fill: none; stroke: #cccccc; stroke-width: 0.8; stroke-linecap: round\"/>\n     </g>\n     <g id=\"line2d_8\"/>\n     <g id=\"text_4\">\n      <!-- familj -->\n      <g style=\"fill: #262626\" transform=\"translate(250.108141 31.885095) rotate(-40) scale(0.1 -0.1)\">\n       <defs>\n        <path id=\"ArialMT-66\" d=\"M 556 0 \nL 556 2881 \nL 59 2881 \nL 59 3319 \nL 556 3319 \nL 556 3672 \nQ 556 4006 616 4169 \nQ 697 4388 901 4523 \nQ 1106 4659 1475 4659 \nQ 1713 4659 2000 4603 \nL 1916 4113 \nQ 1741 4144 1584 4144 \nQ 1328 4144 1222 4034 \nQ 1116 3925 1116 3625 \nL 1116 3319 \nL 1763 3319 \nL 1763 2881 \nL 1116 2881 \nL 1116 0 \nL 556 0 \nz\n\" transform=\"scale(0.015625)\"/>\n        <path id=\"ArialMT-6c\" d=\"M 409 0 \nL 409 4581 \nL 972 4581 \nL 972 0 \nL 409 0 \nz\n\" transform=\"scale(0.015625)\"/>\n       </defs>\n       <use xlink:href=\"#ArialMT-66\"/>\n       <use xlink:href=\"#ArialMT-61\" x=\"27.783203\"/>\n       <use xlink:href=\"#ArialMT-6d\" x=\"83.398438\"/>\n       <use xlink:href=\"#ArialMT-69\" x=\"166.699219\"/>\n       <use xlink:href=\"#ArialMT-6c\" x=\"188.916016\"/>\n       <use xlink:href=\"#ArialMT-6a\" x=\"211.132812\"/>\n      </g>\n     </g>\n    </g>\n    <g id=\"xtick_5\">\n     <g id=\"line2d_9\">\n      <path d=\"M 314.521713 303.109379 \nL 314.521713 36.997379 \n\" clip-path=\"url(#p3549ad337a)\" style=\"fill: none; stroke: #cccccc; stroke-width: 0.8; stroke-linecap: round\"/>\n     </g>\n     <g id=\"line2d_10\"/>\n     <g id=\"text_5\">\n      <!-- . -->\n      <g style=\"fill: #262626\" transform=\"translate(315.119335 31.974866) rotate(-40) scale(0.1 -0.1)\">\n       <defs>\n        <path id=\"ArialMT-2e\" d=\"M 581 0 \nL 581 641 \nL 1222 641 \nL 1222 0 \nL 581 0 \nz\n\" transform=\"scale(0.015625)\"/>\n       </defs>\n       <use xlink:href=\"#ArialMT-2e\"/>\n      </g>\n     </g>\n    </g>\n   </g>\n   <g id=\"matplotlib.axis_2\">\n    <g id=\"ytick_1\">\n     <g id=\"line2d_11\">\n      <path d=\"M 57.395313 63.608579 \nL 343.091313 63.608579 \n\" clip-path=\"url(#p3549ad337a)\" style=\"fill: none; stroke: #cccccc; stroke-width: 0.8; stroke-linecap: round\"/>\n     </g>\n     <g id=\"line2d_12\"/>\n     <g id=\"text_6\">\n      <!-- i -->\n      <g style=\"fill: #262626\" transform=\"translate(51.673438 67.187485) scale(0.1 -0.1)\">\n       <use xlink:href=\"#ArialMT-69\"/>\n      </g>\n     </g>\n    </g>\n    <g id=\"ytick_2\">\n     <g id=\"line2d_13\">\n      <path d=\"M 57.395313 116.830979 \nL 343.091313 116.830979 \n\" clip-path=\"url(#p3549ad337a)\" style=\"fill: none; stroke: #cccccc; stroke-width: 0.8; stroke-linecap: round\"/>\n     </g>\n     <g id=\"line2d_14\"/>\n     <g id=\"text_7\">\n      <!-- appreciate -->\n      <g style=\"fill: #262626\" transform=\"translate(7.2 120.409885) scale(0.1 -0.1)\">\n       <defs>\n        <path id=\"ArialMT-70\" d=\"M 422 -1272 \nL 422 3319 \nL 934 3319 \nL 934 2888 \nQ 1116 3141 1344 3267 \nQ 1572 3394 1897 3394 \nQ 2322 3394 2647 3175 \nQ 2972 2956 3137 2557 \nQ 3303 2159 3303 1684 \nQ 3303 1175 3120 767 \nQ 2938 359 2589 142 \nQ 2241 -75 1856 -75 \nQ 1575 -75 1351 44 \nQ 1128 163 984 344 \nL 984 -1272 \nL 422 -1272 \nz\nM 931 1641 \nQ 931 1000 1190 694 \nQ 1450 388 1819 388 \nQ 2194 388 2461 705 \nQ 2728 1022 2728 1688 \nQ 2728 2322 2467 2637 \nQ 2206 2953 1844 2953 \nQ 1484 2953 1207 2617 \nQ 931 2281 931 1641 \nz\n\" transform=\"scale(0.015625)\"/>\n        <path id=\"ArialMT-65\" d=\"M 2694 1069 \nL 3275 997 \nQ 3138 488 2766 206 \nQ 2394 -75 1816 -75 \nQ 1088 -75 661 373 \nQ 234 822 234 1631 \nQ 234 2469 665 2931 \nQ 1097 3394 1784 3394 \nQ 2450 3394 2872 2941 \nQ 3294 2488 3294 1666 \nQ 3294 1616 3291 1516 \nL 816 1516 \nQ 847 969 1125 678 \nQ 1403 388 1819 388 \nQ 2128 388 2347 550 \nQ 2566 713 2694 1069 \nz\nM 847 1978 \nL 2700 1978 \nQ 2663 2397 2488 2606 \nQ 2219 2931 1791 2931 \nQ 1403 2931 1139 2672 \nQ 875 2413 847 1978 \nz\n\" transform=\"scale(0.015625)\"/>\n        <path id=\"ArialMT-63\" d=\"M 2588 1216 \nL 3141 1144 \nQ 3050 572 2676 248 \nQ 2303 -75 1759 -75 \nQ 1078 -75 664 370 \nQ 250 816 250 1647 \nQ 250 2184 428 2587 \nQ 606 2991 970 3192 \nQ 1334 3394 1763 3394 \nQ 2303 3394 2647 3120 \nQ 2991 2847 3088 2344 \nL 2541 2259 \nQ 2463 2594 2264 2762 \nQ 2066 2931 1784 2931 \nQ 1359 2931 1093 2626 \nQ 828 2322 828 1663 \nQ 828 994 1084 691 \nQ 1341 388 1753 388 \nQ 2084 388 2306 591 \nQ 2528 794 2588 1216 \nz\n\" transform=\"scale(0.015625)\"/>\n        <path id=\"ArialMT-74\" d=\"M 1650 503 \nL 1731 6 \nQ 1494 -44 1306 -44 \nQ 1000 -44 831 53 \nQ 663 150 594 308 \nQ 525 466 525 972 \nL 525 2881 \nL 113 2881 \nL 113 3319 \nL 525 3319 \nL 525 4141 \nL 1084 4478 \nL 1084 3319 \nL 1650 3319 \nL 1650 2881 \nL 1084 2881 \nL 1084 941 \nQ 1084 700 1114 631 \nQ 1144 563 1211 522 \nQ 1278 481 1403 481 \nQ 1497 481 1650 503 \nz\n\" transform=\"scale(0.015625)\"/>\n       </defs>\n       <use xlink:href=\"#ArialMT-61\"/>\n       <use xlink:href=\"#ArialMT-70\" x=\"55.615234\"/>\n       <use xlink:href=\"#ArialMT-70\" x=\"111.230469\"/>\n       <use xlink:href=\"#ArialMT-72\" x=\"166.845703\"/>\n       <use xlink:href=\"#ArialMT-65\" x=\"200.146484\"/>\n       <use xlink:href=\"#ArialMT-63\" x=\"255.761719\"/>\n       <use xlink:href=\"#ArialMT-69\" x=\"305.761719\"/>\n       <use xlink:href=\"#ArialMT-61\" x=\"327.978516\"/>\n       <use xlink:href=\"#ArialMT-74\" x=\"383.59375\"/>\n       <use xlink:href=\"#ArialMT-65\" x=\"411.376953\"/>\n      </g>\n     </g>\n    </g>\n    <g id=\"ytick_3\">\n     <g id=\"line2d_15\">\n      <path d=\"M 57.395313 170.053379 \nL 343.091313 170.053379 \n\" clip-path=\"url(#p3549ad337a)\" style=\"fill: none; stroke: #cccccc; stroke-width: 0.8; stroke-linecap: round\"/>\n     </g>\n     <g id=\"line2d_16\"/>\n     <g id=\"text_8\">\n      <!-- my -->\n      <g style=\"fill: #262626\" transform=\"translate(40.565625 173.573691) scale(0.1 -0.1)\">\n       <defs>\n        <path id=\"ArialMT-79\" d=\"M 397 -1278 \nL 334 -750 \nQ 519 -800 656 -800 \nQ 844 -800 956 -737 \nQ 1069 -675 1141 -563 \nQ 1194 -478 1313 -144 \nQ 1328 -97 1363 -6 \nL 103 3319 \nL 709 3319 \nL 1400 1397 \nQ 1534 1031 1641 628 \nQ 1738 1016 1872 1384 \nL 2581 3319 \nL 3144 3319 \nL 1881 -56 \nQ 1678 -603 1566 -809 \nQ 1416 -1088 1222 -1217 \nQ 1028 -1347 759 -1347 \nQ 597 -1347 397 -1278 \nz\n\" transform=\"scale(0.015625)\"/>\n       </defs>\n       <use xlink:href=\"#ArialMT-6d\"/>\n       <use xlink:href=\"#ArialMT-79\" x=\"83.300781\"/>\n      </g>\n     </g>\n    </g>\n    <g id=\"ytick_4\">\n     <g id=\"line2d_17\">\n      <path d=\"M 57.395313 223.275779 \nL 343.091313 223.275779 \n\" clip-path=\"url(#p3549ad337a)\" style=\"fill: none; stroke: #cccccc; stroke-width: 0.8; stroke-linecap: round\"/>\n     </g>\n     <g id=\"line2d_18\"/>\n     <g id=\"text_9\">\n      <!-- family -->\n      <g style=\"fill: #262626\" transform=\"translate(27.782813 226.915623) scale(0.1 -0.1)\">\n       <use xlink:href=\"#ArialMT-66\"/>\n       <use xlink:href=\"#ArialMT-61\" x=\"27.783203\"/>\n       <use xlink:href=\"#ArialMT-6d\" x=\"83.398438\"/>\n       <use xlink:href=\"#ArialMT-69\" x=\"166.699219\"/>\n       <use xlink:href=\"#ArialMT-6c\" x=\"188.916016\"/>\n       <use xlink:href=\"#ArialMT-79\" x=\"211.132812\"/>\n      </g>\n     </g>\n    </g>\n    <g id=\"ytick_5\">\n     <g id=\"line2d_19\">\n      <path d=\"M 57.395313 276.498179 \nL 343.091313 276.498179 \n\" clip-path=\"url(#p3549ad337a)\" style=\"fill: none; stroke: #cccccc; stroke-width: 0.8; stroke-linecap: round\"/>\n     </g>\n     <g id=\"line2d_20\"/>\n     <g id=\"text_10\">\n      <!-- . -->\n      <g style=\"fill: #262626\" transform=\"translate(51.117188 280.077085) scale(0.1 -0.1)\">\n       <use xlink:href=\"#ArialMT-2e\"/>\n      </g>\n     </g>\n    </g>\n   </g>\n   <g id=\"PolyCollection_1\">\n    <path d=\"M 57.395313 36.997379 \nL 57.395313 90.219779 \nL 114.534513 90.219779 \nL 114.534513 36.997379 \nL 57.395313 36.997379 \nz\n\" clip-path=\"url(#p3549ad337a)\" style=\"fill: #f3f8fe\"/>\n    <path d=\"M 114.534513 36.997379 \nL 114.534513 90.219779 \nL 171.673713 90.219779 \nL 171.673713 36.997379 \nL 114.534513 36.997379 \nz\n\" clip-path=\"url(#p3549ad337a)\" style=\"fill: #08306b\"/>\n    <path d=\"M 171.673713 36.997379 \nL 171.673713 90.219779 \nL 228.812913 90.219779 \nL 228.812913 36.997379 \nL 171.673713 36.997379 \nz\n\" clip-path=\"url(#p3549ad337a)\" style=\"fill: #08316d\"/>\n    <path d=\"M 228.812913 36.997379 \nL 228.812913 90.219779 \nL 285.952113 90.219779 \nL 285.952113 36.997379 \nL 228.812913 36.997379 \nz\n\" clip-path=\"url(#p3549ad337a)\" style=\"fill: #08316d\"/>\n    <path d=\"M 285.952113 36.997379 \nL 285.952113 90.219779 \nL 343.091313 90.219779 \nL 343.091313 36.997379 \nL 285.952113 36.997379 \nz\n\" clip-path=\"url(#p3549ad337a)\" style=\"fill: #08316d\"/>\n    <path d=\"M 57.395313 90.219779 \nL 57.395313 143.442179 \nL 114.534513 143.442179 \nL 114.534513 90.219779 \nL 57.395313 90.219779 \nz\n\" clip-path=\"url(#p3549ad337a)\" style=\"fill: #083573\"/>\n    <path d=\"M 114.534513 90.219779 \nL 114.534513 143.442179 \nL 171.673713 143.442179 \nL 171.673713 90.219779 \nL 114.534513 90.219779 \nz\n\" clip-path=\"url(#p3549ad337a)\" style=\"fill: #e5eff9\"/>\n    <path d=\"M 171.673713 90.219779 \nL 171.673713 143.442179 \nL 228.812913 143.442179 \nL 228.812913 90.219779 \nL 171.673713 90.219779 \nz\n\" clip-path=\"url(#p3549ad337a)\" style=\"fill: #083e81\"/>\n    <path d=\"M 228.812913 90.219779 \nL 228.812913 143.442179 \nL 285.952113 143.442179 \nL 285.952113 90.219779 \nL 228.812913 90.219779 \nz\n\" clip-path=\"url(#p3549ad337a)\" style=\"fill: #08326e\"/>\n    <path d=\"M 285.952113 90.219779 \nL 285.952113 143.442179 \nL 343.091313 143.442179 \nL 343.091313 90.219779 \nL 285.952113 90.219779 \nz\n\" clip-path=\"url(#p3549ad337a)\" style=\"fill: #08306b\"/>\n    <path d=\"M 57.395313 143.442179 \nL 57.395313 196.664579 \nL 114.534513 196.664579 \nL 114.534513 143.442179 \nL 57.395313 143.442179 \nz\n\" clip-path=\"url(#p3549ad337a)\" style=\"fill: #08316d\"/>\n    <path d=\"M 114.534513 143.442179 \nL 114.534513 196.664579 \nL 171.673713 196.664579 \nL 171.673713 143.442179 \nL 114.534513 143.442179 \nz\n\" clip-path=\"url(#p3549ad337a)\" style=\"fill: #08478d\"/>\n    <path d=\"M 171.673713 143.442179 \nL 171.673713 196.664579 \nL 228.812913 196.664579 \nL 228.812913 143.442179 \nL 171.673713 143.442179 \nz\n\" clip-path=\"url(#p3549ad337a)\" style=\"fill: #9cc9e1\"/>\n    <path d=\"M 228.812913 143.442179 \nL 228.812913 196.664579 \nL 285.952113 196.664579 \nL 285.952113 143.442179 \nL 228.812913 143.442179 \nz\n\" clip-path=\"url(#p3549ad337a)\" style=\"fill: #2676b8\"/>\n    <path d=\"M 285.952113 143.442179 \nL 285.952113 196.664579 \nL 343.091313 196.664579 \nL 343.091313 143.442179 \nL 285.952113 143.442179 \nz\n\" clip-path=\"url(#p3549ad337a)\" style=\"fill: #083471\"/>\n    <path d=\"M 57.395313 196.664579 \nL 57.395313 249.886979 \nL 114.534513 249.886979 \nL 114.534513 196.664579 \nL 57.395313 196.664579 \nz\n\" clip-path=\"url(#p3549ad337a)\" style=\"fill: #08306b\"/>\n    <path d=\"M 114.534513 196.664579 \nL 114.534513 249.886979 \nL 171.673713 249.886979 \nL 171.673713 196.664579 \nL 114.534513 196.664579 \nz\n\" clip-path=\"url(#p3549ad337a)\" style=\"fill: #08326e\"/>\n    <path d=\"M 171.673713 196.664579 \nL 171.673713 249.886979 \nL 228.812913 249.886979 \nL 228.812913 196.664579 \nL 171.673713 196.664579 \nz\n\" clip-path=\"url(#p3549ad337a)\" style=\"fill: #083d7f\"/>\n    <path d=\"M 228.812913 196.664579 \nL 228.812913 249.886979 \nL 285.952113 249.886979 \nL 285.952113 196.664579 \nL 228.812913 196.664579 \nz\n\" clip-path=\"url(#p3549ad337a)\" style=\"fill: #e8f1fa\"/>\n    <path d=\"M 285.952113 196.664579 \nL 285.952113 249.886979 \nL 343.091313 249.886979 \nL 343.091313 196.664579 \nL 285.952113 196.664579 \nz\n\" clip-path=\"url(#p3549ad337a)\" style=\"fill: #08326e\"/>\n    <path d=\"M 57.395313 249.886979 \nL 57.395313 303.109379 \nL 114.534513 303.109379 \nL 114.534513 249.886979 \nL 57.395313 249.886979 \nz\n\" clip-path=\"url(#p3549ad337a)\" style=\"fill: #08316d\"/>\n    <path d=\"M 114.534513 249.886979 \nL 114.534513 303.109379 \nL 171.673713 303.109379 \nL 171.673713 249.886979 \nL 114.534513 249.886979 \nz\n\" clip-path=\"url(#p3549ad337a)\" style=\"fill: #083370\"/>\n    <path d=\"M 171.673713 249.886979 \nL 171.673713 303.109379 \nL 228.812913 303.109379 \nL 228.812913 249.886979 \nL 171.673713 249.886979 \nz\n\" clip-path=\"url(#p3549ad337a)\" style=\"fill: #084082\"/>\n    <path d=\"M 228.812913 249.886979 \nL 228.812913 303.109379 \nL 285.952113 303.109379 \nL 285.952113 249.886979 \nL 228.812913 249.886979 \nz\n\" clip-path=\"url(#p3549ad337a)\" style=\"fill: #0c56a0\"/>\n    <path d=\"M 285.952113 249.886979 \nL 285.952113 303.109379 \nL 343.091313 303.109379 \nL 343.091313 249.886979 \nL 285.952113 249.886979 \nz\n\" clip-path=\"url(#p3549ad337a)\" style=\"fill: #cbdef1\"/>\n   </g>\n   <g id=\"patch_3\">\n    <path d=\"M 57.395313 303.109379 \nL 57.395313 36.997379 \n\" style=\"fill: none; stroke: #cccccc; stroke-linejoin: miter; stroke-linecap: square\"/>\n   </g>\n   <g id=\"patch_4\">\n    <path d=\"M 343.091313 303.109379 \nL 343.091313 36.997379 \n\" style=\"fill: none; stroke: #cccccc; stroke-linejoin: miter; stroke-linecap: square\"/>\n   </g>\n   <g id=\"patch_5\">\n    <path d=\"M 57.395313 303.109379 \nL 343.091313 303.109379 \n\" style=\"fill: none; stroke: #cccccc; stroke-linejoin: miter; stroke-linecap: square\"/>\n   </g>\n   <g id=\"patch_6\">\n    <path d=\"M 57.395313 36.997379 \nL 343.091313 36.997379 \n\" style=\"fill: none; stroke: #cccccc; stroke-linejoin: miter; stroke-linecap: square\"/>\n   </g>\n  </g>\n  <g id=\"axes_2\">\n   <g id=\"patch_7\">\n    <path d=\"M 360.947313 303.109379 \nL 374.252913 303.109379 \nL 374.252913 36.997379 \nL 360.947313 36.997379 \nz\n\" style=\"fill: #ffffff\"/>\n   </g>\n   <g id=\"matplotlib.axis_3\"/>\n   <g id=\"matplotlib.axis_4\">\n    <g id=\"ytick_6\">\n     <g id=\"line2d_21\"/>\n     <g id=\"text_11\">\n      <!-- 0.0 -->\n      <g style=\"fill: #262626\" transform=\"translate(377.752913 306.688285) scale(0.1 -0.1)\">\n       <defs>\n        <path id=\"ArialMT-30\" d=\"M 266 2259 \nQ 266 3072 433 3567 \nQ 600 4063 929 4331 \nQ 1259 4600 1759 4600 \nQ 2128 4600 2406 4451 \nQ 2684 4303 2865 4023 \nQ 3047 3744 3150 3342 \nQ 3253 2941 3253 2259 \nQ 3253 1453 3087 958 \nQ 2922 463 2592 192 \nQ 2263 -78 1759 -78 \nQ 1097 -78 719 397 \nQ 266 969 266 2259 \nz\nM 844 2259 \nQ 844 1131 1108 757 \nQ 1372 384 1759 384 \nQ 2147 384 2411 759 \nQ 2675 1134 2675 2259 \nQ 2675 3391 2411 3762 \nQ 2147 4134 1753 4134 \nQ 1366 4134 1134 3806 \nQ 844 3388 844 2259 \nz\n\" transform=\"scale(0.015625)\"/>\n       </defs>\n       <use xlink:href=\"#ArialMT-30\"/>\n       <use xlink:href=\"#ArialMT-2e\" x=\"55.615234\"/>\n       <use xlink:href=\"#ArialMT-30\" x=\"83.398438\"/>\n      </g>\n     </g>\n    </g>\n    <g id=\"ytick_7\">\n     <g id=\"line2d_22\"/>\n     <g id=\"text_12\">\n      <!-- 0.2 -->\n      <g style=\"fill: #262626\" transform=\"translate(377.752913 253.465885) scale(0.1 -0.1)\">\n       <defs>\n        <path id=\"ArialMT-32\" d=\"M 3222 541 \nL 3222 0 \nL 194 0 \nQ 188 203 259 391 \nQ 375 700 629 1000 \nQ 884 1300 1366 1694 \nQ 2113 2306 2375 2664 \nQ 2638 3022 2638 3341 \nQ 2638 3675 2398 3904 \nQ 2159 4134 1775 4134 \nQ 1369 4134 1125 3890 \nQ 881 3647 878 3216 \nL 300 3275 \nQ 359 3922 746 4261 \nQ 1134 4600 1788 4600 \nQ 2447 4600 2831 4234 \nQ 3216 3869 3216 3328 \nQ 3216 3053 3103 2787 \nQ 2991 2522 2730 2228 \nQ 2469 1934 1863 1422 \nQ 1356 997 1212 845 \nQ 1069 694 975 541 \nL 3222 541 \nz\n\" transform=\"scale(0.015625)\"/>\n       </defs>\n       <use xlink:href=\"#ArialMT-30\"/>\n       <use xlink:href=\"#ArialMT-2e\" x=\"55.615234\"/>\n       <use xlink:href=\"#ArialMT-32\" x=\"83.398438\"/>\n      </g>\n     </g>\n    </g>\n    <g id=\"ytick_8\">\n     <g id=\"line2d_23\"/>\n     <g id=\"text_13\">\n      <!-- 0.4 -->\n      <g style=\"fill: #262626\" transform=\"translate(377.752913 200.243485) scale(0.1 -0.1)\">\n       <defs>\n        <path id=\"ArialMT-34\" d=\"M 2069 0 \nL 2069 1097 \nL 81 1097 \nL 81 1613 \nL 2172 4581 \nL 2631 4581 \nL 2631 1613 \nL 3250 1613 \nL 3250 1097 \nL 2631 1097 \nL 2631 0 \nL 2069 0 \nz\nM 2069 1613 \nL 2069 3678 \nL 634 1613 \nL 2069 1613 \nz\n\" transform=\"scale(0.015625)\"/>\n       </defs>\n       <use xlink:href=\"#ArialMT-30\"/>\n       <use xlink:href=\"#ArialMT-2e\" x=\"55.615234\"/>\n       <use xlink:href=\"#ArialMT-34\" x=\"83.398438\"/>\n      </g>\n     </g>\n    </g>\n    <g id=\"ytick_9\">\n     <g id=\"line2d_24\"/>\n     <g id=\"text_14\">\n      <!-- 0.6 -->\n      <g style=\"fill: #262626\" transform=\"translate(377.752913 147.021085) scale(0.1 -0.1)\">\n       <defs>\n        <path id=\"ArialMT-36\" d=\"M 3184 3459 \nL 2625 3416 \nQ 2550 3747 2413 3897 \nQ 2184 4138 1850 4138 \nQ 1581 4138 1378 3988 \nQ 1113 3794 959 3422 \nQ 806 3050 800 2363 \nQ 1003 2672 1297 2822 \nQ 1591 2972 1913 2972 \nQ 2475 2972 2870 2558 \nQ 3266 2144 3266 1488 \nQ 3266 1056 3080 686 \nQ 2894 316 2569 119 \nQ 2244 -78 1831 -78 \nQ 1128 -78 684 439 \nQ 241 956 241 2144 \nQ 241 3472 731 4075 \nQ 1159 4600 1884 4600 \nQ 2425 4600 2770 4297 \nQ 3116 3994 3184 3459 \nz\nM 888 1484 \nQ 888 1194 1011 928 \nQ 1134 663 1356 523 \nQ 1578 384 1822 384 \nQ 2178 384 2434 671 \nQ 2691 959 2691 1453 \nQ 2691 1928 2437 2201 \nQ 2184 2475 1800 2475 \nQ 1419 2475 1153 2201 \nQ 888 1928 888 1484 \nz\n\" transform=\"scale(0.015625)\"/>\n       </defs>\n       <use xlink:href=\"#ArialMT-30\"/>\n       <use xlink:href=\"#ArialMT-2e\" x=\"55.615234\"/>\n       <use xlink:href=\"#ArialMT-36\" x=\"83.398438\"/>\n      </g>\n     </g>\n    </g>\n    <g id=\"ytick_10\">\n     <g id=\"line2d_25\"/>\n     <g id=\"text_15\">\n      <!-- 0.8 -->\n      <g style=\"fill: #262626\" transform=\"translate(377.752913 93.798685) scale(0.1 -0.1)\">\n       <defs>\n        <path id=\"ArialMT-38\" d=\"M 1131 2484 \nQ 781 2613 612 2850 \nQ 444 3088 444 3419 \nQ 444 3919 803 4259 \nQ 1163 4600 1759 4600 \nQ 2359 4600 2725 4251 \nQ 3091 3903 3091 3403 \nQ 3091 3084 2923 2848 \nQ 2756 2613 2416 2484 \nQ 2838 2347 3058 2040 \nQ 3278 1734 3278 1309 \nQ 3278 722 2862 322 \nQ 2447 -78 1769 -78 \nQ 1091 -78 675 323 \nQ 259 725 259 1325 \nQ 259 1772 486 2073 \nQ 713 2375 1131 2484 \nz\nM 1019 3438 \nQ 1019 3113 1228 2906 \nQ 1438 2700 1772 2700 \nQ 2097 2700 2305 2904 \nQ 2513 3109 2513 3406 \nQ 2513 3716 2298 3927 \nQ 2084 4138 1766 4138 \nQ 1444 4138 1231 3931 \nQ 1019 3725 1019 3438 \nz\nM 838 1322 \nQ 838 1081 952 856 \nQ 1066 631 1291 507 \nQ 1516 384 1775 384 \nQ 2178 384 2440 643 \nQ 2703 903 2703 1303 \nQ 2703 1709 2433 1975 \nQ 2163 2241 1756 2241 \nQ 1359 2241 1098 1978 \nQ 838 1716 838 1322 \nz\n\" transform=\"scale(0.015625)\"/>\n       </defs>\n       <use xlink:href=\"#ArialMT-30\"/>\n       <use xlink:href=\"#ArialMT-2e\" x=\"55.615234\"/>\n       <use xlink:href=\"#ArialMT-38\" x=\"83.398438\"/>\n      </g>\n     </g>\n    </g>\n    <g id=\"ytick_11\">\n     <g id=\"line2d_26\"/>\n     <g id=\"text_16\">\n      <!-- 1.0 -->\n      <g style=\"fill: #262626\" transform=\"translate(377.752913 40.576285) scale(0.1 -0.1)\">\n       <defs>\n        <path id=\"ArialMT-31\" d=\"M 2384 0 \nL 1822 0 \nL 1822 3584 \nQ 1619 3391 1289 3197 \nQ 959 3003 697 2906 \nL 697 3450 \nQ 1169 3672 1522 3987 \nQ 1875 4303 2022 4600 \nL 2384 4600 \nL 2384 0 \nz\n\" transform=\"scale(0.015625)\"/>\n       </defs>\n       <use xlink:href=\"#ArialMT-31\"/>\n       <use xlink:href=\"#ArialMT-2e\" x=\"55.615234\"/>\n       <use xlink:href=\"#ArialMT-30\" x=\"83.398438\"/>\n      </g>\n     </g>\n    </g>\n   </g>\n   <image xlink:href=\"data:image/png;base64,\niVBORw0KGgoAAAANSUhEUgAAABMAAAFxCAYAAACRG5MpAAABwUlEQVR4nO2bwY3DMBADZcOPKyd9pf93rgYuBvAASxYwEEVpV1Li6+/z/R1Iz7luinU40jnnOddFwmozh3Ejo+esNnNYbeYwb9Ug5+zu0ghVm7m8NtUbvTZzmNemdAcssaleGqDNS7s0yJE9h2OZbS5Js0vjXVht5kLXmdimNs1u9Fy1masb/W1YN3qs2szVjT6CYSz3nKGwFTZv7Y8LTXMCW9EDtHNWm7lqcwSTHg+WnIJqM1e70wjWpZHDMBZs895hE00TvKCYbbJVA3wloXcACFvSA8iqIbbZNHMYODBzcWwPiCW2uSVNDNUeMJHYZtOMBR9DSdiS4rjk6A7b5GDipwhyaOJ6tuT5Bt0BS1qdt2yTb0Fim9ruJJ4zbXFULw0ORp9p251y2JI522GThHlvKFsellCY9XjQHZCLXhpWm9o01b87gTDySCW26f27QNN8G6adM/ZWp7XZNHOY1yacJghbcg8Qf6a64/mmaQ5g1qph/rS3PSBV08zlTbPFMVdbXa6mOYC1OA5gHKutbqCmOYC1OA5gWpunaeYwsU0wTbhqcFL3AGura5oDmDZNcQnyjqytLob1jh5rSZpLiuM/wSUIzm1AshEAAAAASUVORK5CYII=\" id=\"image51c21984e4\" transform=\"scale(1 -1) translate(0 -265.68)\" x=\"360.72\" y=\"-36.72\" width=\"13.68\" height=\"265.68\"/>\n   <g id=\"LineCollection_1\"/>\n   <g id=\"patch_8\">\n    <path d=\"M 360.947313 303.109379 \nL 367.600113 303.109379 \nL 374.252913 303.109379 \nL 374.252913 36.997379 \nL 367.600113 36.997379 \nL 360.947313 36.997379 \nL 360.947313 303.109379 \nz\n\" style=\"fill: none; stroke: #cccccc; stroke-linejoin: miter; stroke-linecap: square\"/>\n   </g>\n  </g>\n </g>\n <defs>\n  <clipPath id=\"p3549ad337a\">\n   <rect x=\"57.395313\" y=\"36.997379\" width=\"285.696\" height=\"266.112\"/>\n  </clipPath>\n </defs>\n</svg>\n"
     },
     "metadata": {},
     "output_type": "display_data"
    }
   ],
   "source": [
    "plot_attention(translator, 'jag saknar min familj . ')"
   ]
  },
  {
   "cell_type": "markdown",
   "metadata": {
    "id": "kVImwt3SsDFi"
   },
   "source": [
    "#### 🤔 Task 7: Use these heatmaps to inspect the attention patterns for selected Swedish sentences\n",
    "\n",
    "Try to find sentences for which the model produces reasonably good English translations. If you don't speak Swedish, use sentences from the validation data. It might be interesting to look at examples where the Swedish and the English word order differ substantially.\n",
    "\n",
    "Based on your exploration, **answer the following questions:**\n",
    "\n",
    "- What sentences did you try out? What patterns did you spot? Include example heatmaps in your notebook.\n",
    "- Based on what you know about attention, did you expect your results? Was there anything surprising in them?\n",
    "\n",
    "Answers:\n",
    "1- We tried the following random sentences:\n",
    "The first three are random sentences and the latter two are from the validation dataset, the sentence meaning is as follows:\n",
    "1-I love eating meatballs with lingonberry jam.\n",
    "2-Stockholm is the capital of Sweden.\n",
    "3-I rented a boat.\n",
    "4-I lived in this house as a child.\n",
    "5-hello, where are we?\n",
    "\n",
    "as it can be seen the model failed to predict the correct definition for the random sentences and the last sentence, but it was able to predict the correct definition for the sentence \"I lived in this house as a child.\" to some extent. The reason for this is that the model is undertrained and the vocabulary is small, so it is not able to predict the correct definition for the sentences and in fact the translation is not important, but the structure is and from what we saw the model was able to guess the approximate shape of the sentence, i.e. for 'Stockholm är Sveriges huvudstad' it was able to identify the verb and it's position which is surprising.\n",
    "\n",
    "2- Based on what we know about attention, we could only expect the model to translate the sentences more easily and correctly, but we still expected the failure due to the limited vocabulary and the small number of epochs. There are 5 surprising points in the results:\n",
    "\n",
    "- The model was able to identify the verb and its position in the sentence 'Stockholm är Sveriges huvudstad' which is surprising.\n",
    "\n",
    "- In Swedish, the equivalent of the English definite article “the” is expressed by adding a suffix to the end of the noun.(-en, -et, ...), as for \"this\" and \"that\" in English, the Swedish language has two words for \"this\" and \"that\" which are \"den här\" and \"den där\" respectively, because of the higher amount of these words in the datasets, we expected the model to be able to translate them correctly, but it failed. Perhaps another surprising point is that the model was able to identify that in process of English translation it should place the and this in a consecutive manner(the weight of choosing \"the\" was rather low as well.)\n",
    "\n",
    "-In sentence \"Jag hyrde en båt\" and the word \"båt\" which means boat, according to the heatmap, the model predicted it being an <unk> and at the same time not an unknown word, which is contradictory and confusing(model assigns two very different weights to the same word).\n"
   ]
  },
  {
   "cell_type": "code",
   "execution_count": 50,
   "outputs": [
    {
     "data": {
      "text/plain": "['<unk> <unk> <unk> to <unk> <unk> .',\n '<unk> is <unk> the phone is the <unk> .',\n '<unk> a <unk> <unk> .',\n 'i lived in the house of the child .',\n \"hey , where we ' re the problem ?\"]"
     },
     "execution_count": 50,
     "metadata": {},
     "output_type": "execute_result"
    }
   ],
   "source": [
    "translator.translate(['Jag älskar att äta köttbullar med lingonsylt.','Stockholm är Sveriges huvudstad','Jag hyrde en båt','jag bodde i det här huset som barn .','hallå , var är vi ?'])"
   ],
   "metadata": {
    "collapsed": false,
    "ExecuteTime": {
     "end_time": "2023-07-04T16:33:25.279745400Z",
     "start_time": "2023-07-04T16:33:25.126110100Z"
    }
   }
  },
  {
   "cell_type": "code",
   "execution_count": 51,
   "outputs": [
    {
     "data": {
      "text/plain": "<Figure size 640x480 with 2 Axes>",
      "image/svg+xml": "<?xml version=\"1.0\" encoding=\"utf-8\" standalone=\"no\"?>\n<!DOCTYPE svg PUBLIC \"-//W3C//DTD SVG 1.1//EN\"\n  \"http://www.w3.org/Graphics/SVG/1.1/DTD/svg11.dtd\">\n<svg xmlns:xlink=\"http://www.w3.org/1999/xlink\" width=\"379.960725pt\" height=\"325.255846pt\" viewBox=\"0 0 379.960725 325.255846\" xmlns=\"http://www.w3.org/2000/svg\" version=\"1.1\">\n <metadata>\n  <rdf:RDF xmlns:dc=\"http://purl.org/dc/elements/1.1/\" xmlns:cc=\"http://creativecommons.org/ns#\" xmlns:rdf=\"http://www.w3.org/1999/02/22-rdf-syntax-ns#\">\n   <cc:Work>\n    <dc:type rdf:resource=\"http://purl.org/dc/dcmitype/StillImage\"/>\n    <dc:date>2023-07-04T18:58:38.835112</dc:date>\n    <dc:format>image/svg+xml</dc:format>\n    <dc:creator>\n     <cc:Agent>\n      <dc:title>Matplotlib v3.7.1, https://matplotlib.org/</dc:title>\n     </cc:Agent>\n    </dc:creator>\n   </cc:Work>\n  </rdf:RDF>\n </metadata>\n <defs>\n  <style type=\"text/css\">*{stroke-linejoin: round; stroke-linecap: butt}</style>\n </defs>\n <g id=\"figure_1\">\n  <g id=\"patch_1\">\n   <path d=\"M 0 325.255846 \nL 379.960725 325.255846 \nL 379.960725 0 \nL 0 0 \nz\n\" style=\"fill: #ffffff\"/>\n  </g>\n  <g id=\"axes_1\">\n   <g id=\"patch_2\">\n    <path d=\"M 38.503125 312.489439 \nL 324.199125 312.489439 \nL 324.199125 46.377439 \nL 38.503125 46.377439 \nz\n\" style=\"fill: #ffffff\"/>\n   </g>\n   <g id=\"matplotlib.axis_1\">\n    <g id=\"xtick_1\">\n     <g id=\"line2d_1\">\n      <path d=\"M 58.909982 312.489439 \nL 58.909982 46.377439 \n\" clip-path=\"url(#p351c94ae04)\" style=\"fill: none; stroke: #cccccc; stroke-width: 0.8; stroke-linecap: round\"/>\n     </g>\n     <g id=\"line2d_2\"/>\n     <g id=\"text_1\">\n      <!-- Jag -->\n      <g style=\"fill: #262626\" transform=\"translate(54.358989 41.265155) rotate(-40) scale(0.1 -0.1)\">\n       <defs>\n        <path id=\"ArialMT-4a\" d=\"M 184 1300 \nL 731 1375 \nQ 753 850 928 656 \nQ 1103 463 1413 463 \nQ 1641 463 1806 567 \nQ 1972 672 2034 851 \nQ 2097 1031 2097 1425 \nL 2097 4581 \nL 2703 4581 \nL 2703 1459 \nQ 2703 884 2564 568 \nQ 2425 253 2123 87 \nQ 1822 -78 1416 -78 \nQ 813 -78 492 269 \nQ 172 616 184 1300 \nz\n\" transform=\"scale(0.015625)\"/>\n        <path id=\"ArialMT-61\" d=\"M 2588 409 \nQ 2275 144 1986 34 \nQ 1697 -75 1366 -75 \nQ 819 -75 525 192 \nQ 231 459 231 875 \nQ 231 1119 342 1320 \nQ 453 1522 633 1644 \nQ 813 1766 1038 1828 \nQ 1203 1872 1538 1913 \nQ 2219 1994 2541 2106 \nQ 2544 2222 2544 2253 \nQ 2544 2597 2384 2738 \nQ 2169 2928 1744 2928 \nQ 1347 2928 1158 2789 \nQ 969 2650 878 2297 \nL 328 2372 \nQ 403 2725 575 2942 \nQ 747 3159 1072 3276 \nQ 1397 3394 1825 3394 \nQ 2250 3394 2515 3294 \nQ 2781 3194 2906 3042 \nQ 3031 2891 3081 2659 \nQ 3109 2516 3109 2141 \nL 3109 1391 \nQ 3109 606 3145 398 \nQ 3181 191 3288 0 \nL 2700 0 \nQ 2613 175 2588 409 \nz\nM 2541 1666 \nQ 2234 1541 1622 1453 \nQ 1275 1403 1131 1340 \nQ 988 1278 909 1158 \nQ 831 1038 831 891 \nQ 831 666 1001 516 \nQ 1172 366 1500 366 \nQ 1825 366 2078 508 \nQ 2331 650 2450 897 \nQ 2541 1088 2541 1459 \nL 2541 1666 \nz\n\" transform=\"scale(0.015625)\"/>\n        <path id=\"ArialMT-67\" d=\"M 319 -275 \nL 866 -356 \nQ 900 -609 1056 -725 \nQ 1266 -881 1628 -881 \nQ 2019 -881 2231 -725 \nQ 2444 -569 2519 -288 \nQ 2563 -116 2559 434 \nQ 2191 0 1641 0 \nQ 956 0 581 494 \nQ 206 988 206 1678 \nQ 206 2153 378 2554 \nQ 550 2956 876 3175 \nQ 1203 3394 1644 3394 \nQ 2231 3394 2613 2919 \nL 2613 3319 \nL 3131 3319 \nL 3131 450 \nQ 3131 -325 2973 -648 \nQ 2816 -972 2473 -1159 \nQ 2131 -1347 1631 -1347 \nQ 1038 -1347 672 -1080 \nQ 306 -813 319 -275 \nz\nM 784 1719 \nQ 784 1066 1043 766 \nQ 1303 466 1694 466 \nQ 2081 466 2343 764 \nQ 2606 1063 2606 1700 \nQ 2606 2309 2336 2618 \nQ 2066 2928 1684 2928 \nQ 1309 2928 1046 2623 \nQ 784 2319 784 1719 \nz\n\" transform=\"scale(0.015625)\"/>\n       </defs>\n       <use xlink:href=\"#ArialMT-4a\"/>\n       <use xlink:href=\"#ArialMT-61\" x=\"50\"/>\n       <use xlink:href=\"#ArialMT-67\" x=\"105.615234\"/>\n      </g>\n     </g>\n    </g>\n    <g id=\"xtick_2\">\n     <g id=\"line2d_3\">\n      <path d=\"M 99.723696 312.489439 \nL 99.723696 46.377439 \n\" clip-path=\"url(#p351c94ae04)\" style=\"fill: none; stroke: #cccccc; stroke-width: 0.8; stroke-linecap: round\"/>\n     </g>\n     <g id=\"line2d_4\"/>\n     <g id=\"text_2\">\n      <!-- älskar -->\n      <g style=\"fill: #262626\" transform=\"translate(91.168884 41.354926) rotate(-40) scale(0.1 -0.1)\">\n       <defs>\n        <path id=\"ArialMT-e4\" d=\"M 2588 409 \nQ 2275 144 1986 34 \nQ 1697 -75 1366 -75 \nQ 819 -75 525 192 \nQ 231 459 231 875 \nQ 231 1119 342 1320 \nQ 453 1522 633 1644 \nQ 813 1766 1038 1828 \nQ 1203 1872 1538 1913 \nQ 2219 1994 2541 2106 \nQ 2544 2222 2544 2253 \nQ 2544 2597 2384 2738 \nQ 2169 2928 1744 2928 \nQ 1347 2928 1158 2789 \nQ 969 2650 878 2297 \nL 328 2372 \nQ 403 2725 575 2942 \nQ 747 3159 1072 3276 \nQ 1397 3394 1825 3394 \nQ 2250 3394 2515 3294 \nQ 2781 3194 2906 3042 \nQ 3031 2891 3081 2659 \nQ 3109 2516 3109 2141 \nL 3109 1391 \nQ 3109 606 3145 398 \nQ 3181 191 3288 0 \nL 2700 0 \nQ 2613 175 2588 409 \nz\nM 2541 1666 \nQ 2234 1541 1622 1453 \nQ 1275 1403 1131 1340 \nQ 988 1278 909 1158 \nQ 831 1038 831 891 \nQ 831 666 1001 516 \nQ 1172 366 1500 366 \nQ 1825 366 2078 508 \nQ 2331 650 2450 897 \nQ 2541 1088 2541 1459 \nL 2541 1666 \nz\nM 887 3969 \nL 887 4609 \nL 1474 4609 \nL 1474 3969 \nL 887 3969 \nz\nM 2052 3969 \nL 2052 4609 \nL 2640 4609 \nL 2640 3969 \nL 2052 3969 \nz\n\" transform=\"scale(0.015625)\"/>\n        <path id=\"ArialMT-6c\" d=\"M 409 0 \nL 409 4581 \nL 972 4581 \nL 972 0 \nL 409 0 \nz\n\" transform=\"scale(0.015625)\"/>\n        <path id=\"ArialMT-73\" d=\"M 197 991 \nL 753 1078 \nQ 800 744 1014 566 \nQ 1228 388 1613 388 \nQ 2000 388 2187 545 \nQ 2375 703 2375 916 \nQ 2375 1106 2209 1216 \nQ 2094 1291 1634 1406 \nQ 1016 1563 777 1677 \nQ 538 1791 414 1992 \nQ 291 2194 291 2438 \nQ 291 2659 392 2848 \nQ 494 3038 669 3163 \nQ 800 3259 1026 3326 \nQ 1253 3394 1513 3394 \nQ 1903 3394 2198 3281 \nQ 2494 3169 2634 2976 \nQ 2775 2784 2828 2463 \nL 2278 2388 \nQ 2241 2644 2061 2787 \nQ 1881 2931 1553 2931 \nQ 1166 2931 1000 2803 \nQ 834 2675 834 2503 \nQ 834 2394 903 2306 \nQ 972 2216 1119 2156 \nQ 1203 2125 1616 2013 \nQ 2213 1853 2448 1751 \nQ 2684 1650 2818 1456 \nQ 2953 1263 2953 975 \nQ 2953 694 2789 445 \nQ 2625 197 2315 61 \nQ 2006 -75 1616 -75 \nQ 969 -75 630 194 \nQ 291 463 197 991 \nz\n\" transform=\"scale(0.015625)\"/>\n        <path id=\"ArialMT-6b\" d=\"M 425 0 \nL 425 4581 \nL 988 4581 \nL 988 1969 \nL 2319 3319 \nL 3047 3319 \nL 1778 2088 \nL 3175 0 \nL 2481 0 \nL 1384 1697 \nL 988 1316 \nL 988 0 \nL 425 0 \nz\n\" transform=\"scale(0.015625)\"/>\n        <path id=\"ArialMT-72\" d=\"M 416 0 \nL 416 3319 \nL 922 3319 \nL 922 2816 \nQ 1116 3169 1280 3281 \nQ 1444 3394 1641 3394 \nQ 1925 3394 2219 3213 \nL 2025 2691 \nQ 1819 2813 1613 2813 \nQ 1428 2813 1281 2702 \nQ 1134 2591 1072 2394 \nQ 978 2094 978 1738 \nL 978 0 \nL 416 0 \nz\n\" transform=\"scale(0.015625)\"/>\n       </defs>\n       <use xlink:href=\"#ArialMT-e4\"/>\n       <use xlink:href=\"#ArialMT-6c\" x=\"55.615234\"/>\n       <use xlink:href=\"#ArialMT-73\" x=\"77.832031\"/>\n       <use xlink:href=\"#ArialMT-6b\" x=\"127.832031\"/>\n       <use xlink:href=\"#ArialMT-61\" x=\"177.832031\"/>\n       <use xlink:href=\"#ArialMT-72\" x=\"233.447266\"/>\n      </g>\n     </g>\n    </g>\n    <g id=\"xtick_3\">\n     <g id=\"line2d_5\">\n      <path d=\"M 140.537411 312.489439 \nL 140.537411 46.377439 \n\" clip-path=\"url(#p351c94ae04)\" style=\"fill: none; stroke: #cccccc; stroke-width: 0.8; stroke-linecap: round\"/>\n     </g>\n     <g id=\"line2d_6\"/>\n     <g id=\"text_3\">\n      <!-- att -->\n      <g style=\"fill: #262626\" transform=\"translate(137.940987 41.354926) rotate(-40) scale(0.1 -0.1)\">\n       <defs>\n        <path id=\"ArialMT-74\" d=\"M 1650 503 \nL 1731 6 \nQ 1494 -44 1306 -44 \nQ 1000 -44 831 53 \nQ 663 150 594 308 \nQ 525 466 525 972 \nL 525 2881 \nL 113 2881 \nL 113 3319 \nL 525 3319 \nL 525 4141 \nL 1084 4478 \nL 1084 3319 \nL 1650 3319 \nL 1650 2881 \nL 1084 2881 \nL 1084 941 \nQ 1084 700 1114 631 \nQ 1144 563 1211 522 \nQ 1278 481 1403 481 \nQ 1497 481 1650 503 \nz\n\" transform=\"scale(0.015625)\"/>\n       </defs>\n       <use xlink:href=\"#ArialMT-61\"/>\n       <use xlink:href=\"#ArialMT-74\" x=\"55.615234\"/>\n       <use xlink:href=\"#ArialMT-74\" x=\"83.398438\"/>\n      </g>\n     </g>\n    </g>\n    <g id=\"xtick_4\">\n     <g id=\"line2d_7\">\n      <path d=\"M 181.351125 312.489439 \nL 181.351125 46.377439 \n\" clip-path=\"url(#p351c94ae04)\" style=\"fill: none; stroke: #cccccc; stroke-width: 0.8; stroke-linecap: round\"/>\n     </g>\n     <g id=\"line2d_8\"/>\n     <g id=\"text_4\">\n      <!-- äta -->\n      <g style=\"fill: #262626\" transform=\"translate(177.688823 41.354926) rotate(-40) scale(0.1 -0.1)\">\n       <use xlink:href=\"#ArialMT-e4\"/>\n       <use xlink:href=\"#ArialMT-74\" x=\"55.615234\"/>\n       <use xlink:href=\"#ArialMT-61\" x=\"83.398438\"/>\n      </g>\n     </g>\n    </g>\n    <g id=\"xtick_5\">\n     <g id=\"line2d_9\">\n      <path d=\"M 222.164839 312.489439 \nL 222.164839 46.377439 \n\" clip-path=\"url(#p351c94ae04)\" style=\"fill: none; stroke: #cccccc; stroke-width: 0.8; stroke-linecap: round\"/>\n     </g>\n     <g id=\"line2d_10\"/>\n     <g id=\"text_5\">\n      <!-- köttbullar -->\n      <g style=\"fill: #262626\" transform=\"translate(208.286018 41.354926) rotate(-40) scale(0.1 -0.1)\">\n       <defs>\n        <path id=\"ArialMT-f6\" d=\"M 213 1659 \nQ 213 2581 725 3025 \nQ 1153 3394 1769 3394 \nQ 2453 3394 2887 2945 \nQ 3322 2497 3322 1706 \nQ 3322 1066 3130 698 \nQ 2938 331 2570 128 \nQ 2203 -75 1769 -75 \nQ 1072 -75 642 372 \nQ 213 819 213 1659 \nz\nM 791 1659 \nQ 791 1022 1069 705 \nQ 1347 388 1769 388 \nQ 2188 388 2466 706 \nQ 2744 1025 2744 1678 \nQ 2744 2294 2464 2611 \nQ 2184 2928 1769 2928 \nQ 1347 2928 1069 2612 \nQ 791 2297 791 1659 \nz\nM 895 3969 \nL 895 4609 \nL 1482 4609 \nL 1482 3969 \nL 895 3969 \nz\nM 2060 3969 \nL 2060 4609 \nL 2648 4609 \nL 2648 3969 \nL 2060 3969 \nz\n\" transform=\"scale(0.015625)\"/>\n        <path id=\"ArialMT-62\" d=\"M 941 0 \nL 419 0 \nL 419 4581 \nL 981 4581 \nL 981 2947 \nQ 1338 3394 1891 3394 \nQ 2197 3394 2470 3270 \nQ 2744 3147 2920 2923 \nQ 3097 2700 3197 2384 \nQ 3297 2069 3297 1709 \nQ 3297 856 2875 390 \nQ 2453 -75 1863 -75 \nQ 1275 -75 941 416 \nL 941 0 \nz\nM 934 1684 \nQ 934 1088 1097 822 \nQ 1363 388 1816 388 \nQ 2184 388 2453 708 \nQ 2722 1028 2722 1663 \nQ 2722 2313 2464 2622 \nQ 2206 2931 1841 2931 \nQ 1472 2931 1203 2611 \nQ 934 2291 934 1684 \nz\n\" transform=\"scale(0.015625)\"/>\n        <path id=\"ArialMT-75\" d=\"M 2597 0 \nL 2597 488 \nQ 2209 -75 1544 -75 \nQ 1250 -75 995 37 \nQ 741 150 617 320 \nQ 494 491 444 738 \nQ 409 903 409 1263 \nL 409 3319 \nL 972 3319 \nL 972 1478 \nQ 972 1038 1006 884 \nQ 1059 663 1231 536 \nQ 1403 409 1656 409 \nQ 1909 409 2131 539 \nQ 2353 669 2445 892 \nQ 2538 1116 2538 1541 \nL 2538 3319 \nL 3100 3319 \nL 3100 0 \nL 2597 0 \nz\n\" transform=\"scale(0.015625)\"/>\n       </defs>\n       <use xlink:href=\"#ArialMT-6b\"/>\n       <use xlink:href=\"#ArialMT-f6\" x=\"50\"/>\n       <use xlink:href=\"#ArialMT-74\" x=\"105.615234\"/>\n       <use xlink:href=\"#ArialMT-74\" x=\"133.398438\"/>\n       <use xlink:href=\"#ArialMT-62\" x=\"161.181641\"/>\n       <use xlink:href=\"#ArialMT-75\" x=\"216.796875\"/>\n       <use xlink:href=\"#ArialMT-6c\" x=\"272.412109\"/>\n       <use xlink:href=\"#ArialMT-6c\" x=\"294.628906\"/>\n       <use xlink:href=\"#ArialMT-61\" x=\"316.845703\"/>\n       <use xlink:href=\"#ArialMT-72\" x=\"372.460938\"/>\n      </g>\n     </g>\n    </g>\n    <g id=\"xtick_6\">\n     <g id=\"line2d_11\">\n      <path d=\"M 262.978554 312.489439 \nL 262.978554 46.377439 \n\" clip-path=\"url(#p351c94ae04)\" style=\"fill: none; stroke: #cccccc; stroke-width: 0.8; stroke-linecap: round\"/>\n     </g>\n     <g id=\"line2d_12\"/>\n     <g id=\"text_6\">\n      <!-- med -->\n      <g style=\"fill: #262626\" transform=\"translate(257.189879 41.354926) rotate(-40) scale(0.1 -0.1)\">\n       <defs>\n        <path id=\"ArialMT-6d\" d=\"M 422 0 \nL 422 3319 \nL 925 3319 \nL 925 2853 \nQ 1081 3097 1340 3245 \nQ 1600 3394 1931 3394 \nQ 2300 3394 2536 3241 \nQ 2772 3088 2869 2813 \nQ 3263 3394 3894 3394 \nQ 4388 3394 4653 3120 \nQ 4919 2847 4919 2278 \nL 4919 0 \nL 4359 0 \nL 4359 2091 \nQ 4359 2428 4304 2576 \nQ 4250 2725 4106 2815 \nQ 3963 2906 3769 2906 \nQ 3419 2906 3187 2673 \nQ 2956 2441 2956 1928 \nL 2956 0 \nL 2394 0 \nL 2394 2156 \nQ 2394 2531 2256 2718 \nQ 2119 2906 1806 2906 \nQ 1569 2906 1367 2781 \nQ 1166 2656 1075 2415 \nQ 984 2175 984 1722 \nL 984 0 \nL 422 0 \nz\n\" transform=\"scale(0.015625)\"/>\n        <path id=\"ArialMT-65\" d=\"M 2694 1069 \nL 3275 997 \nQ 3138 488 2766 206 \nQ 2394 -75 1816 -75 \nQ 1088 -75 661 373 \nQ 234 822 234 1631 \nQ 234 2469 665 2931 \nQ 1097 3394 1784 3394 \nQ 2450 3394 2872 2941 \nQ 3294 2488 3294 1666 \nQ 3294 1616 3291 1516 \nL 816 1516 \nQ 847 969 1125 678 \nQ 1403 388 1819 388 \nQ 2128 388 2347 550 \nQ 2566 713 2694 1069 \nz\nM 847 1978 \nL 2700 1978 \nQ 2663 2397 2488 2606 \nQ 2219 2931 1791 2931 \nQ 1403 2931 1139 2672 \nQ 875 2413 847 1978 \nz\n\" transform=\"scale(0.015625)\"/>\n        <path id=\"ArialMT-64\" d=\"M 2575 0 \nL 2575 419 \nQ 2259 -75 1647 -75 \nQ 1250 -75 917 144 \nQ 584 363 401 755 \nQ 219 1147 219 1656 \nQ 219 2153 384 2558 \nQ 550 2963 881 3178 \nQ 1213 3394 1622 3394 \nQ 1922 3394 2156 3267 \nQ 2391 3141 2538 2938 \nL 2538 4581 \nL 3097 4581 \nL 3097 0 \nL 2575 0 \nz\nM 797 1656 \nQ 797 1019 1065 703 \nQ 1334 388 1700 388 \nQ 2069 388 2326 689 \nQ 2584 991 2584 1609 \nQ 2584 2291 2321 2609 \nQ 2059 2928 1675 2928 \nQ 1300 2928 1048 2622 \nQ 797 2316 797 1656 \nz\n\" transform=\"scale(0.015625)\"/>\n       </defs>\n       <use xlink:href=\"#ArialMT-6d\"/>\n       <use xlink:href=\"#ArialMT-65\" x=\"83.300781\"/>\n       <use xlink:href=\"#ArialMT-64\" x=\"138.916016\"/>\n      </g>\n     </g>\n    </g>\n    <g id=\"xtick_7\">\n     <g id=\"line2d_13\">\n      <path d=\"M 303.792268 312.489439 \nL 303.792268 46.377439 \n\" clip-path=\"url(#p351c94ae04)\" style=\"fill: none; stroke: #cccccc; stroke-width: 0.8; stroke-linecap: round\"/>\n     </g>\n     <g id=\"line2d_14\"/>\n     <g id=\"text_7\">\n      <!-- lingonsylt. -->\n      <g style=\"fill: #262626\" transform=\"translate(288.384988 41.265155) rotate(-40) scale(0.1 -0.1)\">\n       <defs>\n        <path id=\"ArialMT-69\" d=\"M 425 3934 \nL 425 4581 \nL 988 4581 \nL 988 3934 \nL 425 3934 \nz\nM 425 0 \nL 425 3319 \nL 988 3319 \nL 988 0 \nL 425 0 \nz\n\" transform=\"scale(0.015625)\"/>\n        <path id=\"ArialMT-6e\" d=\"M 422 0 \nL 422 3319 \nL 928 3319 \nL 928 2847 \nQ 1294 3394 1984 3394 \nQ 2284 3394 2536 3286 \nQ 2788 3178 2913 3003 \nQ 3038 2828 3088 2588 \nQ 3119 2431 3119 2041 \nL 3119 0 \nL 2556 0 \nL 2556 2019 \nQ 2556 2363 2490 2533 \nQ 2425 2703 2258 2804 \nQ 2091 2906 1866 2906 \nQ 1506 2906 1245 2678 \nQ 984 2450 984 1813 \nL 984 0 \nL 422 0 \nz\n\" transform=\"scale(0.015625)\"/>\n        <path id=\"ArialMT-6f\" d=\"M 213 1659 \nQ 213 2581 725 3025 \nQ 1153 3394 1769 3394 \nQ 2453 3394 2887 2945 \nQ 3322 2497 3322 1706 \nQ 3322 1066 3130 698 \nQ 2938 331 2570 128 \nQ 2203 -75 1769 -75 \nQ 1072 -75 642 372 \nQ 213 819 213 1659 \nz\nM 791 1659 \nQ 791 1022 1069 705 \nQ 1347 388 1769 388 \nQ 2188 388 2466 706 \nQ 2744 1025 2744 1678 \nQ 2744 2294 2464 2611 \nQ 2184 2928 1769 2928 \nQ 1347 2928 1069 2612 \nQ 791 2297 791 1659 \nz\n\" transform=\"scale(0.015625)\"/>\n        <path id=\"ArialMT-79\" d=\"M 397 -1278 \nL 334 -750 \nQ 519 -800 656 -800 \nQ 844 -800 956 -737 \nQ 1069 -675 1141 -563 \nQ 1194 -478 1313 -144 \nQ 1328 -97 1363 -6 \nL 103 3319 \nL 709 3319 \nL 1400 1397 \nQ 1534 1031 1641 628 \nQ 1738 1016 1872 1384 \nL 2581 3319 \nL 3144 3319 \nL 1881 -56 \nQ 1678 -603 1566 -809 \nQ 1416 -1088 1222 -1217 \nQ 1028 -1347 759 -1347 \nQ 597 -1347 397 -1278 \nz\n\" transform=\"scale(0.015625)\"/>\n        <path id=\"ArialMT-2e\" d=\"M 581 0 \nL 581 641 \nL 1222 641 \nL 1222 0 \nL 581 0 \nz\n\" transform=\"scale(0.015625)\"/>\n       </defs>\n       <use xlink:href=\"#ArialMT-6c\"/>\n       <use xlink:href=\"#ArialMT-69\" x=\"22.216797\"/>\n       <use xlink:href=\"#ArialMT-6e\" x=\"44.433594\"/>\n       <use xlink:href=\"#ArialMT-67\" x=\"100.048828\"/>\n       <use xlink:href=\"#ArialMT-6f\" x=\"155.664062\"/>\n       <use xlink:href=\"#ArialMT-6e\" x=\"211.279297\"/>\n       <use xlink:href=\"#ArialMT-73\" x=\"266.894531\"/>\n       <use xlink:href=\"#ArialMT-79\" x=\"316.894531\"/>\n       <use xlink:href=\"#ArialMT-6c\" x=\"366.894531\"/>\n       <use xlink:href=\"#ArialMT-74\" x=\"389.111328\"/>\n       <use xlink:href=\"#ArialMT-2e\" x=\"416.894531\"/>\n      </g>\n     </g>\n    </g>\n   </g>\n   <g id=\"matplotlib.axis_2\">\n    <g id=\"ytick_1\">\n     <g id=\"line2d_15\">\n      <path d=\"M 38.503125 59.683039 \nL 324.199125 59.683039 \n\" clip-path=\"url(#p351c94ae04)\" style=\"fill: none; stroke: #cccccc; stroke-width: 0.8; stroke-linecap: round\"/>\n     </g>\n     <g id=\"line2d_16\"/>\n     <g id=\"text_8\">\n      <!-- &lt;unk&gt; -->\n      <g style=\"fill: #262626\" transform=\"translate(7.2 63.261946) scale(0.1 -0.1)\">\n       <defs>\n        <path id=\"ArialMT-3c\" d=\"M 350 2003 \nL 350 2528 \nL 3384 3809 \nL 3384 3250 \nL 978 2263 \nL 3384 1266 \nL 3384 706 \nL 350 2003 \nz\n\" transform=\"scale(0.015625)\"/>\n        <path id=\"ArialMT-3e\" d=\"M 3384 2003 \nL 350 706 \nL 350 1266 \nL 2753 2263 \nL 350 3250 \nL 350 3809 \nL 3384 2528 \nL 3384 2003 \nz\n\" transform=\"scale(0.015625)\"/>\n       </defs>\n       <use xlink:href=\"#ArialMT-3c\"/>\n       <use xlink:href=\"#ArialMT-75\" x=\"58.398438\"/>\n       <use xlink:href=\"#ArialMT-6e\" x=\"114.013672\"/>\n       <use xlink:href=\"#ArialMT-6b\" x=\"169.628906\"/>\n       <use xlink:href=\"#ArialMT-3e\" x=\"219.628906\"/>\n      </g>\n     </g>\n    </g>\n    <g id=\"ytick_2\">\n     <g id=\"line2d_17\">\n      <path d=\"M 38.503125 86.294239 \nL 324.199125 86.294239 \n\" clip-path=\"url(#p351c94ae04)\" style=\"fill: none; stroke: #cccccc; stroke-width: 0.8; stroke-linecap: round\"/>\n     </g>\n     <g id=\"line2d_18\"/>\n     <g id=\"text_9\">\n      <!-- &lt;unk&gt; -->\n      <g style=\"fill: #262626\" transform=\"translate(7.2 89.873146) scale(0.1 -0.1)\">\n       <use xlink:href=\"#ArialMT-3c\"/>\n       <use xlink:href=\"#ArialMT-75\" x=\"58.398438\"/>\n       <use xlink:href=\"#ArialMT-6e\" x=\"114.013672\"/>\n       <use xlink:href=\"#ArialMT-6b\" x=\"169.628906\"/>\n       <use xlink:href=\"#ArialMT-3e\" x=\"219.628906\"/>\n      </g>\n     </g>\n    </g>\n    <g id=\"ytick_3\">\n     <g id=\"line2d_19\">\n      <path d=\"M 38.503125 112.905439 \nL 324.199125 112.905439 \n\" clip-path=\"url(#p351c94ae04)\" style=\"fill: none; stroke: #cccccc; stroke-width: 0.8; stroke-linecap: round\"/>\n     </g>\n     <g id=\"line2d_20\"/>\n     <g id=\"text_10\">\n      <!-- &lt;unk&gt; -->\n      <g style=\"fill: #262626\" transform=\"translate(7.2 116.484346) scale(0.1 -0.1)\">\n       <use xlink:href=\"#ArialMT-3c\"/>\n       <use xlink:href=\"#ArialMT-75\" x=\"58.398438\"/>\n       <use xlink:href=\"#ArialMT-6e\" x=\"114.013672\"/>\n       <use xlink:href=\"#ArialMT-6b\" x=\"169.628906\"/>\n       <use xlink:href=\"#ArialMT-3e\" x=\"219.628906\"/>\n      </g>\n     </g>\n    </g>\n    <g id=\"ytick_4\">\n     <g id=\"line2d_21\">\n      <path d=\"M 38.503125 139.516639 \nL 324.199125 139.516639 \n\" clip-path=\"url(#p351c94ae04)\" style=\"fill: none; stroke: #cccccc; stroke-width: 0.8; stroke-linecap: round\"/>\n     </g>\n     <g id=\"line2d_22\"/>\n     <g id=\"text_11\">\n      <!-- to -->\n      <g style=\"fill: #262626\" transform=\"translate(26.664062 143.095546) scale(0.1 -0.1)\">\n       <use xlink:href=\"#ArialMT-74\"/>\n       <use xlink:href=\"#ArialMT-6f\" x=\"27.783203\"/>\n      </g>\n     </g>\n    </g>\n    <g id=\"ytick_5\">\n     <g id=\"line2d_23\">\n      <path d=\"M 38.503125 166.127839 \nL 324.199125 166.127839 \n\" clip-path=\"url(#p351c94ae04)\" style=\"fill: none; stroke: #cccccc; stroke-width: 0.8; stroke-linecap: round\"/>\n     </g>\n     <g id=\"line2d_24\"/>\n     <g id=\"text_12\">\n      <!-- &lt;unk&gt; -->\n      <g style=\"fill: #262626\" transform=\"translate(7.2 169.706746) scale(0.1 -0.1)\">\n       <use xlink:href=\"#ArialMT-3c\"/>\n       <use xlink:href=\"#ArialMT-75\" x=\"58.398438\"/>\n       <use xlink:href=\"#ArialMT-6e\" x=\"114.013672\"/>\n       <use xlink:href=\"#ArialMT-6b\" x=\"169.628906\"/>\n       <use xlink:href=\"#ArialMT-3e\" x=\"219.628906\"/>\n      </g>\n     </g>\n    </g>\n    <g id=\"ytick_6\">\n     <g id=\"line2d_25\">\n      <path d=\"M 38.503125 192.739039 \nL 324.199125 192.739039 \n\" clip-path=\"url(#p351c94ae04)\" style=\"fill: none; stroke: #cccccc; stroke-width: 0.8; stroke-linecap: round\"/>\n     </g>\n     <g id=\"line2d_26\"/>\n     <g id=\"text_13\">\n      <!-- &lt;unk&gt; -->\n      <g style=\"fill: #262626\" transform=\"translate(7.2 196.317946) scale(0.1 -0.1)\">\n       <use xlink:href=\"#ArialMT-3c\"/>\n       <use xlink:href=\"#ArialMT-75\" x=\"58.398438\"/>\n       <use xlink:href=\"#ArialMT-6e\" x=\"114.013672\"/>\n       <use xlink:href=\"#ArialMT-6b\" x=\"169.628906\"/>\n       <use xlink:href=\"#ArialMT-3e\" x=\"219.628906\"/>\n      </g>\n     </g>\n    </g>\n    <g id=\"ytick_7\">\n     <g id=\"line2d_27\">\n      <path d=\"M 38.503125 219.350239 \nL 324.199125 219.350239 \n\" clip-path=\"url(#p351c94ae04)\" style=\"fill: none; stroke: #cccccc; stroke-width: 0.8; stroke-linecap: round\"/>\n     </g>\n     <g id=\"line2d_28\"/>\n     <g id=\"text_14\">\n      <!-- &lt;unk&gt; -->\n      <g style=\"fill: #262626\" transform=\"translate(7.2 222.929146) scale(0.1 -0.1)\">\n       <use xlink:href=\"#ArialMT-3c\"/>\n       <use xlink:href=\"#ArialMT-75\" x=\"58.398438\"/>\n       <use xlink:href=\"#ArialMT-6e\" x=\"114.013672\"/>\n       <use xlink:href=\"#ArialMT-6b\" x=\"169.628906\"/>\n       <use xlink:href=\"#ArialMT-3e\" x=\"219.628906\"/>\n      </g>\n     </g>\n    </g>\n    <g id=\"ytick_8\">\n     <g id=\"line2d_29\">\n      <path d=\"M 38.503125 245.961439 \nL 324.199125 245.961439 \n\" clip-path=\"url(#p351c94ae04)\" style=\"fill: none; stroke: #cccccc; stroke-width: 0.8; stroke-linecap: round\"/>\n     </g>\n     <g id=\"line2d_30\"/>\n     <g id=\"text_15\">\n      <!-- &lt;unk&gt; -->\n      <g style=\"fill: #262626\" transform=\"translate(7.2 249.540346) scale(0.1 -0.1)\">\n       <use xlink:href=\"#ArialMT-3c\"/>\n       <use xlink:href=\"#ArialMT-75\" x=\"58.398438\"/>\n       <use xlink:href=\"#ArialMT-6e\" x=\"114.013672\"/>\n       <use xlink:href=\"#ArialMT-6b\" x=\"169.628906\"/>\n       <use xlink:href=\"#ArialMT-3e\" x=\"219.628906\"/>\n      </g>\n     </g>\n    </g>\n    <g id=\"ytick_9\">\n     <g id=\"line2d_31\">\n      <path d=\"M 38.503125 272.572639 \nL 324.199125 272.572639 \n\" clip-path=\"url(#p351c94ae04)\" style=\"fill: none; stroke: #cccccc; stroke-width: 0.8; stroke-linecap: round\"/>\n     </g>\n     <g id=\"line2d_32\"/>\n     <g id=\"text_16\">\n      <!-- &lt;unk&gt; -->\n      <g style=\"fill: #262626\" transform=\"translate(7.2 276.151546) scale(0.1 -0.1)\">\n       <use xlink:href=\"#ArialMT-3c\"/>\n       <use xlink:href=\"#ArialMT-75\" x=\"58.398438\"/>\n       <use xlink:href=\"#ArialMT-6e\" x=\"114.013672\"/>\n       <use xlink:href=\"#ArialMT-6b\" x=\"169.628906\"/>\n       <use xlink:href=\"#ArialMT-3e\" x=\"219.628906\"/>\n      </g>\n     </g>\n    </g>\n    <g id=\"ytick_10\">\n     <g id=\"line2d_33\">\n      <path d=\"M 38.503125 299.183839 \nL 324.199125 299.183839 \n\" clip-path=\"url(#p351c94ae04)\" style=\"fill: none; stroke: #cccccc; stroke-width: 0.8; stroke-linecap: round\"/>\n     </g>\n     <g id=\"line2d_34\"/>\n     <g id=\"text_17\">\n      <!-- . -->\n      <g style=\"fill: #262626\" transform=\"translate(32.225 302.762746) scale(0.1 -0.1)\">\n       <use xlink:href=\"#ArialMT-2e\"/>\n      </g>\n     </g>\n    </g>\n   </g>\n   <g id=\"PolyCollection_1\">\n    <path d=\"M 38.503125 46.377439 \nL 38.503125 72.988639 \nL 79.316839 72.988639 \nL 79.316839 46.377439 \nL 38.503125 46.377439 \nz\n\" clip-path=\"url(#p351c94ae04)\" style=\"fill: #65aad4\"/>\n    <path d=\"M 79.316839 46.377439 \nL 79.316839 72.988639 \nL 120.130554 72.988639 \nL 120.130554 46.377439 \nL 79.316839 46.377439 \nz\n\" clip-path=\"url(#p351c94ae04)\" style=\"fill: #4d99ca\"/>\n    <path d=\"M 120.130554 46.377439 \nL 120.130554 72.988639 \nL 160.944268 72.988639 \nL 160.944268 46.377439 \nL 120.130554 46.377439 \nz\n\" clip-path=\"url(#p351c94ae04)\" style=\"fill: #083370\"/>\n    <path d=\"M 160.944268 46.377439 \nL 160.944268 72.988639 \nL 201.757982 72.988639 \nL 201.757982 46.377439 \nL 160.944268 46.377439 \nz\n\" clip-path=\"url(#p351c94ae04)\" style=\"fill: #083370\"/>\n    <path d=\"M 201.757982 46.377439 \nL 201.757982 72.988639 \nL 242.571696 72.988639 \nL 242.571696 46.377439 \nL 201.757982 46.377439 \nz\n\" clip-path=\"url(#p351c94ae04)\" style=\"fill: #083370\"/>\n    <path d=\"M 242.571696 46.377439 \nL 242.571696 72.988639 \nL 283.385411 72.988639 \nL 283.385411 46.377439 \nL 242.571696 46.377439 \nz\n\" clip-path=\"url(#p351c94ae04)\" style=\"fill: #083a7a\"/>\n    <path d=\"M 283.385411 46.377439 \nL 283.385411 72.988639 \nL 324.199125 72.988639 \nL 324.199125 46.377439 \nL 283.385411 46.377439 \nz\n\" clip-path=\"url(#p351c94ae04)\" style=\"fill: #083776\"/>\n    <path d=\"M 38.503125 72.988639 \nL 38.503125 99.599839 \nL 79.316839 99.599839 \nL 79.316839 72.988639 \nL 38.503125 72.988639 \nz\n\" clip-path=\"url(#p351c94ae04)\" style=\"fill: #c7dcef\"/>\n    <path d=\"M 79.316839 72.988639 \nL 79.316839 99.599839 \nL 120.130554 99.599839 \nL 120.130554 72.988639 \nL 79.316839 72.988639 \nz\n\" clip-path=\"url(#p351c94ae04)\" style=\"fill: #0b559f\"/>\n    <path d=\"M 120.130554 72.988639 \nL 120.130554 99.599839 \nL 160.944268 99.599839 \nL 160.944268 72.988639 \nL 120.130554 72.988639 \nz\n\" clip-path=\"url(#p351c94ae04)\" style=\"fill: #083b7c\"/>\n    <path d=\"M 160.944268 72.988639 \nL 160.944268 99.599839 \nL 201.757982 99.599839 \nL 201.757982 72.988639 \nL 160.944268 72.988639 \nz\n\" clip-path=\"url(#p351c94ae04)\" style=\"fill: #083776\"/>\n    <path d=\"M 201.757982 72.988639 \nL 201.757982 99.599839 \nL 242.571696 99.599839 \nL 242.571696 72.988639 \nL 201.757982 72.988639 \nz\n\" clip-path=\"url(#p351c94ae04)\" style=\"fill: #08326e\"/>\n    <path d=\"M 242.571696 72.988639 \nL 242.571696 99.599839 \nL 283.385411 99.599839 \nL 283.385411 72.988639 \nL 242.571696 72.988639 \nz\n\" clip-path=\"url(#p351c94ae04)\" style=\"fill: #08326e\"/>\n    <path d=\"M 283.385411 72.988639 \nL 283.385411 99.599839 \nL 324.199125 99.599839 \nL 324.199125 72.988639 \nL 283.385411 72.988639 \nz\n\" clip-path=\"url(#p351c94ae04)\" style=\"fill: #08316d\"/>\n    <path d=\"M 38.503125 99.599839 \nL 38.503125 126.211039 \nL 79.316839 126.211039 \nL 79.316839 99.599839 \nL 38.503125 99.599839 \nz\n\" clip-path=\"url(#p351c94ae04)\" style=\"fill: #58a1cf\"/>\n    <path d=\"M 79.316839 99.599839 \nL 79.316839 126.211039 \nL 120.130554 126.211039 \nL 120.130554 99.599839 \nL 79.316839 99.599839 \nz\n\" clip-path=\"url(#p351c94ae04)\" style=\"fill: #0e58a2\"/>\n    <path d=\"M 120.130554 99.599839 \nL 120.130554 126.211039 \nL 160.944268 126.211039 \nL 160.944268 99.599839 \nL 120.130554 99.599839 \nz\n\" clip-path=\"url(#p351c94ae04)\" style=\"fill: #0a549e\"/>\n    <path d=\"M 160.944268 99.599839 \nL 160.944268 126.211039 \nL 201.757982 126.211039 \nL 201.757982 99.599839 \nL 160.944268 99.599839 \nz\n\" clip-path=\"url(#p351c94ae04)\" style=\"fill: #084a91\"/>\n    <path d=\"M 201.757982 99.599839 \nL 201.757982 126.211039 \nL 242.571696 126.211039 \nL 242.571696 99.599839 \nL 201.757982 99.599839 \nz\n\" clip-path=\"url(#p351c94ae04)\" style=\"fill: #084488\"/>\n    <path d=\"M 242.571696 99.599839 \nL 242.571696 126.211039 \nL 283.385411 126.211039 \nL 283.385411 99.599839 \nL 242.571696 99.599839 \nz\n\" clip-path=\"url(#p351c94ae04)\" style=\"fill: #083674\"/>\n    <path d=\"M 283.385411 99.599839 \nL 283.385411 126.211039 \nL 324.199125 126.211039 \nL 324.199125 99.599839 \nL 283.385411 99.599839 \nz\n\" clip-path=\"url(#p351c94ae04)\" style=\"fill: #084082\"/>\n    <path d=\"M 38.503125 126.211039 \nL 38.503125 152.822239 \nL 79.316839 152.822239 \nL 79.316839 126.211039 \nL 38.503125 126.211039 \nz\n\" clip-path=\"url(#p351c94ae04)\" style=\"fill: #1663aa\"/>\n    <path d=\"M 79.316839 126.211039 \nL 79.316839 152.822239 \nL 120.130554 152.822239 \nL 120.130554 126.211039 \nL 79.316839 126.211039 \nz\n\" clip-path=\"url(#p351c94ae04)\" style=\"fill: #084e98\"/>\n    <path d=\"M 120.130554 126.211039 \nL 120.130554 152.822239 \nL 160.944268 152.822239 \nL 160.944268 126.211039 \nL 120.130554 126.211039 \nz\n\" clip-path=\"url(#p351c94ae04)\" style=\"fill: #0e59a2\"/>\n    <path d=\"M 160.944268 126.211039 \nL 160.944268 152.822239 \nL 201.757982 152.822239 \nL 201.757982 126.211039 \nL 160.944268 126.211039 \nz\n\" clip-path=\"url(#p351c94ae04)\" style=\"fill: #0e59a2\"/>\n    <path d=\"M 201.757982 126.211039 \nL 201.757982 152.822239 \nL 242.571696 152.822239 \nL 242.571696 126.211039 \nL 201.757982 126.211039 \nz\n\" clip-path=\"url(#p351c94ae04)\" style=\"fill: #1562a9\"/>\n    <path d=\"M 242.571696 126.211039 \nL 242.571696 152.822239 \nL 283.385411 152.822239 \nL 283.385411 126.211039 \nL 242.571696 126.211039 \nz\n\" clip-path=\"url(#p351c94ae04)\" style=\"fill: #084285\"/>\n    <path d=\"M 283.385411 126.211039 \nL 283.385411 152.822239 \nL 324.199125 152.822239 \nL 324.199125 126.211039 \nL 283.385411 126.211039 \nz\n\" clip-path=\"url(#p351c94ae04)\" style=\"fill: #084d96\"/>\n    <path d=\"M 38.503125 152.822239 \nL 38.503125 179.433439 \nL 79.316839 179.433439 \nL 79.316839 152.822239 \nL 38.503125 152.822239 \nz\n\" clip-path=\"url(#p351c94ae04)\" style=\"fill: #08468b\"/>\n    <path d=\"M 79.316839 152.822239 \nL 79.316839 179.433439 \nL 120.130554 179.433439 \nL 120.130554 152.822239 \nL 79.316839 152.822239 \nz\n\" clip-path=\"url(#p351c94ae04)\" style=\"fill: #084488\"/>\n    <path d=\"M 120.130554 152.822239 \nL 120.130554 179.433439 \nL 160.944268 179.433439 \nL 160.944268 152.822239 \nL 120.130554 152.822239 \nz\n\" clip-path=\"url(#p351c94ae04)\" style=\"fill: #084e98\"/>\n    <path d=\"M 160.944268 152.822239 \nL 160.944268 179.433439 \nL 201.757982 179.433439 \nL 201.757982 152.822239 \nL 160.944268 152.822239 \nz\n\" clip-path=\"url(#p351c94ae04)\" style=\"fill: #2272b6\"/>\n    <path d=\"M 201.757982 152.822239 \nL 201.757982 179.433439 \nL 242.571696 179.433439 \nL 242.571696 152.822239 \nL 201.757982 152.822239 \nz\n\" clip-path=\"url(#p351c94ae04)\" style=\"fill: #2070b4\"/>\n    <path d=\"M 242.571696 152.822239 \nL 242.571696 179.433439 \nL 283.385411 179.433439 \nL 283.385411 152.822239 \nL 242.571696 152.822239 \nz\n\" clip-path=\"url(#p351c94ae04)\" style=\"fill: #08458a\"/>\n    <path d=\"M 283.385411 152.822239 \nL 283.385411 179.433439 \nL 324.199125 179.433439 \nL 324.199125 152.822239 \nL 283.385411 152.822239 \nz\n\" clip-path=\"url(#p351c94ae04)\" style=\"fill: #0b559f\"/>\n    <path d=\"M 38.503125 179.433439 \nL 38.503125 206.044639 \nL 79.316839 206.044639 \nL 79.316839 179.433439 \nL 38.503125 179.433439 \nz\n\" clip-path=\"url(#p351c94ae04)\" style=\"fill: #083877\"/>\n    <path d=\"M 79.316839 179.433439 \nL 79.316839 206.044639 \nL 120.130554 206.044639 \nL 120.130554 179.433439 \nL 79.316839 179.433439 \nz\n\" clip-path=\"url(#p351c94ae04)\" style=\"fill: #083370\"/>\n    <path d=\"M 120.130554 179.433439 \nL 120.130554 206.044639 \nL 160.944268 206.044639 \nL 160.944268 179.433439 \nL 120.130554 179.433439 \nz\n\" clip-path=\"url(#p351c94ae04)\" style=\"fill: #083e81\"/>\n    <path d=\"M 160.944268 179.433439 \nL 160.944268 206.044639 \nL 201.757982 206.044639 \nL 201.757982 179.433439 \nL 160.944268 179.433439 \nz\n\" clip-path=\"url(#p351c94ae04)\" style=\"fill: #0a539e\"/>\n    <path d=\"M 201.757982 179.433439 \nL 201.757982 206.044639 \nL 242.571696 206.044639 \nL 242.571696 179.433439 \nL 201.757982 179.433439 \nz\n\" clip-path=\"url(#p351c94ae04)\" style=\"fill: #2a7ab9\"/>\n    <path d=\"M 242.571696 179.433439 \nL 242.571696 206.044639 \nL 283.385411 206.044639 \nL 283.385411 179.433439 \nL 242.571696 179.433439 \nz\n\" clip-path=\"url(#p351c94ae04)\" style=\"fill: #1b69af\"/>\n    <path d=\"M 283.385411 179.433439 \nL 283.385411 206.044639 \nL 324.199125 206.044639 \nL 324.199125 179.433439 \nL 283.385411 179.433439 \nz\n\" clip-path=\"url(#p351c94ae04)\" style=\"fill: #2272b6\"/>\n    <path d=\"M 38.503125 206.044639 \nL 38.503125 232.655839 \nL 79.316839 232.655839 \nL 79.316839 206.044639 \nL 38.503125 206.044639 \nz\n\" clip-path=\"url(#p351c94ae04)\" style=\"fill: #083370\"/>\n    <path d=\"M 79.316839 206.044639 \nL 79.316839 232.655839 \nL 120.130554 232.655839 \nL 120.130554 206.044639 \nL 79.316839 206.044639 \nz\n\" clip-path=\"url(#p351c94ae04)\" style=\"fill: #083674\"/>\n    <path d=\"M 120.130554 206.044639 \nL 120.130554 232.655839 \nL 160.944268 232.655839 \nL 160.944268 206.044639 \nL 120.130554 206.044639 \nz\n\" clip-path=\"url(#p351c94ae04)\" style=\"fill: #083a7a\"/>\n    <path d=\"M 160.944268 206.044639 \nL 160.944268 232.655839 \nL 201.757982 232.655839 \nL 201.757982 206.044639 \nL 160.944268 206.044639 \nz\n\" clip-path=\"url(#p351c94ae04)\" style=\"fill: #0c56a0\"/>\n    <path d=\"M 201.757982 206.044639 \nL 201.757982 232.655839 \nL 242.571696 232.655839 \nL 242.571696 206.044639 \nL 201.757982 206.044639 \nz\n\" clip-path=\"url(#p351c94ae04)\" style=\"fill: #2474b7\"/>\n    <path d=\"M 242.571696 206.044639 \nL 242.571696 232.655839 \nL 283.385411 232.655839 \nL 283.385411 206.044639 \nL 242.571696 206.044639 \nz\n\" clip-path=\"url(#p351c94ae04)\" style=\"fill: #0e59a2\"/>\n    <path d=\"M 283.385411 206.044639 \nL 283.385411 232.655839 \nL 324.199125 232.655839 \nL 324.199125 206.044639 \nL 283.385411 206.044639 \nz\n\" clip-path=\"url(#p351c94ae04)\" style=\"fill: #3c8cc3\"/>\n    <path d=\"M 38.503125 232.655839 \nL 38.503125 259.267039 \nL 79.316839 259.267039 \nL 79.316839 232.655839 \nL 38.503125 232.655839 \nz\n\" clip-path=\"url(#p351c94ae04)\" style=\"fill: #083471\"/>\n    <path d=\"M 79.316839 232.655839 \nL 79.316839 259.267039 \nL 120.130554 259.267039 \nL 120.130554 232.655839 \nL 79.316839 232.655839 \nz\n\" clip-path=\"url(#p351c94ae04)\" style=\"fill: #083776\"/>\n    <path d=\"M 120.130554 232.655839 \nL 120.130554 259.267039 \nL 160.944268 259.267039 \nL 160.944268 232.655839 \nL 120.130554 232.655839 \nz\n\" clip-path=\"url(#p351c94ae04)\" style=\"fill: #083979\"/>\n    <path d=\"M 160.944268 232.655839 \nL 160.944268 259.267039 \nL 201.757982 259.267039 \nL 201.757982 232.655839 \nL 160.944268 232.655839 \nz\n\" clip-path=\"url(#p351c94ae04)\" style=\"fill: #084e98\"/>\n    <path d=\"M 201.757982 232.655839 \nL 201.757982 259.267039 \nL 242.571696 259.267039 \nL 242.571696 232.655839 \nL 201.757982 232.655839 \nz\n\" clip-path=\"url(#p351c94ae04)\" style=\"fill: #1764ab\"/>\n    <path d=\"M 242.571696 232.655839 \nL 242.571696 259.267039 \nL 283.385411 259.267039 \nL 283.385411 232.655839 \nL 242.571696 232.655839 \nz\n\" clip-path=\"url(#p351c94ae04)\" style=\"fill: #0f5aa3\"/>\n    <path d=\"M 283.385411 232.655839 \nL 283.385411 259.267039 \nL 324.199125 259.267039 \nL 324.199125 232.655839 \nL 283.385411 232.655839 \nz\n\" clip-path=\"url(#p351c94ae04)\" style=\"fill: #57a0ce\"/>\n    <path d=\"M 38.503125 259.267039 \nL 38.503125 285.878239 \nL 79.316839 285.878239 \nL 79.316839 259.267039 \nL 38.503125 259.267039 \nz\n\" clip-path=\"url(#p351c94ae04)\" style=\"fill: #083573\"/>\n    <path d=\"M 79.316839 259.267039 \nL 79.316839 285.878239 \nL 120.130554 285.878239 \nL 120.130554 259.267039 \nL 79.316839 259.267039 \nz\n\" clip-path=\"url(#p351c94ae04)\" style=\"fill: #083776\"/>\n    <path d=\"M 120.130554 259.267039 \nL 120.130554 285.878239 \nL 160.944268 285.878239 \nL 160.944268 259.267039 \nL 120.130554 259.267039 \nz\n\" clip-path=\"url(#p351c94ae04)\" style=\"fill: #083979\"/>\n    <path d=\"M 160.944268 259.267039 \nL 160.944268 285.878239 \nL 201.757982 285.878239 \nL 201.757982 259.267039 \nL 160.944268 259.267039 \nz\n\" clip-path=\"url(#p351c94ae04)\" style=\"fill: #084a91\"/>\n    <path d=\"M 201.757982 259.267039 \nL 201.757982 285.878239 \nL 242.571696 285.878239 \nL 242.571696 259.267039 \nL 201.757982 259.267039 \nz\n\" clip-path=\"url(#p351c94ae04)\" style=\"fill: #115ca5\"/>\n    <path d=\"M 242.571696 259.267039 \nL 242.571696 285.878239 \nL 283.385411 285.878239 \nL 283.385411 259.267039 \nL 242.571696 259.267039 \nz\n\" clip-path=\"url(#p351c94ae04)\" style=\"fill: #135fa7\"/>\n    <path d=\"M 283.385411 259.267039 \nL 283.385411 285.878239 \nL 324.199125 285.878239 \nL 324.199125 259.267039 \nL 283.385411 259.267039 \nz\n\" clip-path=\"url(#p351c94ae04)\" style=\"fill: #5fa6d1\"/>\n    <path d=\"M 38.503125 285.878239 \nL 38.503125 312.489439 \nL 79.316839 312.489439 \nL 79.316839 285.878239 \nL 38.503125 285.878239 \nz\n\" clip-path=\"url(#p351c94ae04)\" style=\"fill: #083674\"/>\n    <path d=\"M 79.316839 285.878239 \nL 79.316839 312.489439 \nL 120.130554 312.489439 \nL 120.130554 285.878239 \nL 79.316839 285.878239 \nz\n\" clip-path=\"url(#p351c94ae04)\" style=\"fill: #083877\"/>\n    <path d=\"M 120.130554 285.878239 \nL 120.130554 312.489439 \nL 160.944268 312.489439 \nL 160.944268 285.878239 \nL 120.130554 285.878239 \nz\n\" clip-path=\"url(#p351c94ae04)\" style=\"fill: #083979\"/>\n    <path d=\"M 160.944268 285.878239 \nL 160.944268 312.489439 \nL 201.757982 312.489439 \nL 201.757982 285.878239 \nL 160.944268 285.878239 \nz\n\" clip-path=\"url(#p351c94ae04)\" style=\"fill: #084990\"/>\n    <path d=\"M 201.757982 285.878239 \nL 201.757982 312.489439 \nL 242.571696 312.489439 \nL 242.571696 285.878239 \nL 201.757982 285.878239 \nz\n\" clip-path=\"url(#p351c94ae04)\" style=\"fill: #0e59a2\"/>\n    <path d=\"M 242.571696 285.878239 \nL 242.571696 312.489439 \nL 283.385411 312.489439 \nL 283.385411 285.878239 \nL 242.571696 285.878239 \nz\n\" clip-path=\"url(#p351c94ae04)\" style=\"fill: #1865ac\"/>\n    <path d=\"M 283.385411 285.878239 \nL 283.385411 312.489439 \nL 324.199125 312.489439 \nL 324.199125 285.878239 \nL 283.385411 285.878239 \nz\n\" clip-path=\"url(#p351c94ae04)\" style=\"fill: #5aa2cf\"/>\n   </g>\n   <g id=\"patch_3\">\n    <path d=\"M 38.503125 312.489439 \nL 38.503125 46.377439 \n\" style=\"fill: none; stroke: #cccccc; stroke-linejoin: miter; stroke-linecap: square\"/>\n   </g>\n   <g id=\"patch_4\">\n    <path d=\"M 324.199125 312.489439 \nL 324.199125 46.377439 \n\" style=\"fill: none; stroke: #cccccc; stroke-linejoin: miter; stroke-linecap: square\"/>\n   </g>\n   <g id=\"patch_5\">\n    <path d=\"M 38.503125 312.489439 \nL 324.199125 312.489439 \n\" style=\"fill: none; stroke: #cccccc; stroke-linejoin: miter; stroke-linecap: square\"/>\n   </g>\n   <g id=\"patch_6\">\n    <path d=\"M 38.503125 46.377439 \nL 324.199125 46.377439 \n\" style=\"fill: none; stroke: #cccccc; stroke-linejoin: miter; stroke-linecap: square\"/>\n   </g>\n  </g>\n  <g id=\"axes_2\">\n   <g id=\"patch_7\">\n    <path d=\"M 342.055125 312.489439 \nL 355.360725 312.489439 \nL 355.360725 46.377439 \nL 342.055125 46.377439 \nz\n\" style=\"fill: #ffffff\"/>\n   </g>\n   <g id=\"matplotlib.axis_3\"/>\n   <g id=\"matplotlib.axis_4\">\n    <g id=\"ytick_11\">\n     <g id=\"line2d_35\"/>\n     <g id=\"text_18\">\n      <!-- 0.0 -->\n      <g style=\"fill: #262626\" transform=\"translate(358.860725 316.068346) scale(0.1 -0.1)\">\n       <defs>\n        <path id=\"ArialMT-30\" d=\"M 266 2259 \nQ 266 3072 433 3567 \nQ 600 4063 929 4331 \nQ 1259 4600 1759 4600 \nQ 2128 4600 2406 4451 \nQ 2684 4303 2865 4023 \nQ 3047 3744 3150 3342 \nQ 3253 2941 3253 2259 \nQ 3253 1453 3087 958 \nQ 2922 463 2592 192 \nQ 2263 -78 1759 -78 \nQ 1097 -78 719 397 \nQ 266 969 266 2259 \nz\nM 844 2259 \nQ 844 1131 1108 757 \nQ 1372 384 1759 384 \nQ 2147 384 2411 759 \nQ 2675 1134 2675 2259 \nQ 2675 3391 2411 3762 \nQ 2147 4134 1753 4134 \nQ 1366 4134 1134 3806 \nQ 844 3388 844 2259 \nz\n\" transform=\"scale(0.015625)\"/>\n       </defs>\n       <use xlink:href=\"#ArialMT-30\"/>\n       <use xlink:href=\"#ArialMT-2e\" x=\"55.615234\"/>\n       <use xlink:href=\"#ArialMT-30\" x=\"83.398438\"/>\n      </g>\n     </g>\n    </g>\n    <g id=\"ytick_12\">\n     <g id=\"line2d_36\"/>\n     <g id=\"text_19\">\n      <!-- 0.2 -->\n      <g style=\"fill: #262626\" transform=\"translate(358.860725 262.845946) scale(0.1 -0.1)\">\n       <defs>\n        <path id=\"ArialMT-32\" d=\"M 3222 541 \nL 3222 0 \nL 194 0 \nQ 188 203 259 391 \nQ 375 700 629 1000 \nQ 884 1300 1366 1694 \nQ 2113 2306 2375 2664 \nQ 2638 3022 2638 3341 \nQ 2638 3675 2398 3904 \nQ 2159 4134 1775 4134 \nQ 1369 4134 1125 3890 \nQ 881 3647 878 3216 \nL 300 3275 \nQ 359 3922 746 4261 \nQ 1134 4600 1788 4600 \nQ 2447 4600 2831 4234 \nQ 3216 3869 3216 3328 \nQ 3216 3053 3103 2787 \nQ 2991 2522 2730 2228 \nQ 2469 1934 1863 1422 \nQ 1356 997 1212 845 \nQ 1069 694 975 541 \nL 3222 541 \nz\n\" transform=\"scale(0.015625)\"/>\n       </defs>\n       <use xlink:href=\"#ArialMT-30\"/>\n       <use xlink:href=\"#ArialMT-2e\" x=\"55.615234\"/>\n       <use xlink:href=\"#ArialMT-32\" x=\"83.398438\"/>\n      </g>\n     </g>\n    </g>\n    <g id=\"ytick_13\">\n     <g id=\"line2d_37\"/>\n     <g id=\"text_20\">\n      <!-- 0.4 -->\n      <g style=\"fill: #262626\" transform=\"translate(358.860725 209.623546) scale(0.1 -0.1)\">\n       <defs>\n        <path id=\"ArialMT-34\" d=\"M 2069 0 \nL 2069 1097 \nL 81 1097 \nL 81 1613 \nL 2172 4581 \nL 2631 4581 \nL 2631 1613 \nL 3250 1613 \nL 3250 1097 \nL 2631 1097 \nL 2631 0 \nL 2069 0 \nz\nM 2069 1613 \nL 2069 3678 \nL 634 1613 \nL 2069 1613 \nz\n\" transform=\"scale(0.015625)\"/>\n       </defs>\n       <use xlink:href=\"#ArialMT-30\"/>\n       <use xlink:href=\"#ArialMT-2e\" x=\"55.615234\"/>\n       <use xlink:href=\"#ArialMT-34\" x=\"83.398438\"/>\n      </g>\n     </g>\n    </g>\n    <g id=\"ytick_14\">\n     <g id=\"line2d_38\"/>\n     <g id=\"text_21\">\n      <!-- 0.6 -->\n      <g style=\"fill: #262626\" transform=\"translate(358.860725 156.401146) scale(0.1 -0.1)\">\n       <defs>\n        <path id=\"ArialMT-36\" d=\"M 3184 3459 \nL 2625 3416 \nQ 2550 3747 2413 3897 \nQ 2184 4138 1850 4138 \nQ 1581 4138 1378 3988 \nQ 1113 3794 959 3422 \nQ 806 3050 800 2363 \nQ 1003 2672 1297 2822 \nQ 1591 2972 1913 2972 \nQ 2475 2972 2870 2558 \nQ 3266 2144 3266 1488 \nQ 3266 1056 3080 686 \nQ 2894 316 2569 119 \nQ 2244 -78 1831 -78 \nQ 1128 -78 684 439 \nQ 241 956 241 2144 \nQ 241 3472 731 4075 \nQ 1159 4600 1884 4600 \nQ 2425 4600 2770 4297 \nQ 3116 3994 3184 3459 \nz\nM 888 1484 \nQ 888 1194 1011 928 \nQ 1134 663 1356 523 \nQ 1578 384 1822 384 \nQ 2178 384 2434 671 \nQ 2691 959 2691 1453 \nQ 2691 1928 2437 2201 \nQ 2184 2475 1800 2475 \nQ 1419 2475 1153 2201 \nQ 888 1928 888 1484 \nz\n\" transform=\"scale(0.015625)\"/>\n       </defs>\n       <use xlink:href=\"#ArialMT-30\"/>\n       <use xlink:href=\"#ArialMT-2e\" x=\"55.615234\"/>\n       <use xlink:href=\"#ArialMT-36\" x=\"83.398438\"/>\n      </g>\n     </g>\n    </g>\n    <g id=\"ytick_15\">\n     <g id=\"line2d_39\"/>\n     <g id=\"text_22\">\n      <!-- 0.8 -->\n      <g style=\"fill: #262626\" transform=\"translate(358.860725 103.178746) scale(0.1 -0.1)\">\n       <defs>\n        <path id=\"ArialMT-38\" d=\"M 1131 2484 \nQ 781 2613 612 2850 \nQ 444 3088 444 3419 \nQ 444 3919 803 4259 \nQ 1163 4600 1759 4600 \nQ 2359 4600 2725 4251 \nQ 3091 3903 3091 3403 \nQ 3091 3084 2923 2848 \nQ 2756 2613 2416 2484 \nQ 2838 2347 3058 2040 \nQ 3278 1734 3278 1309 \nQ 3278 722 2862 322 \nQ 2447 -78 1769 -78 \nQ 1091 -78 675 323 \nQ 259 725 259 1325 \nQ 259 1772 486 2073 \nQ 713 2375 1131 2484 \nz\nM 1019 3438 \nQ 1019 3113 1228 2906 \nQ 1438 2700 1772 2700 \nQ 2097 2700 2305 2904 \nQ 2513 3109 2513 3406 \nQ 2513 3716 2298 3927 \nQ 2084 4138 1766 4138 \nQ 1444 4138 1231 3931 \nQ 1019 3725 1019 3438 \nz\nM 838 1322 \nQ 838 1081 952 856 \nQ 1066 631 1291 507 \nQ 1516 384 1775 384 \nQ 2178 384 2440 643 \nQ 2703 903 2703 1303 \nQ 2703 1709 2433 1975 \nQ 2163 2241 1756 2241 \nQ 1359 2241 1098 1978 \nQ 838 1716 838 1322 \nz\n\" transform=\"scale(0.015625)\"/>\n       </defs>\n       <use xlink:href=\"#ArialMT-30\"/>\n       <use xlink:href=\"#ArialMT-2e\" x=\"55.615234\"/>\n       <use xlink:href=\"#ArialMT-38\" x=\"83.398438\"/>\n      </g>\n     </g>\n    </g>\n    <g id=\"ytick_16\">\n     <g id=\"line2d_40\"/>\n     <g id=\"text_23\">\n      <!-- 1.0 -->\n      <g style=\"fill: #262626\" transform=\"translate(358.860725 49.956346) scale(0.1 -0.1)\">\n       <defs>\n        <path id=\"ArialMT-31\" d=\"M 2384 0 \nL 1822 0 \nL 1822 3584 \nQ 1619 3391 1289 3197 \nQ 959 3003 697 2906 \nL 697 3450 \nQ 1169 3672 1522 3987 \nQ 1875 4303 2022 4600 \nL 2384 4600 \nL 2384 0 \nz\n\" transform=\"scale(0.015625)\"/>\n       </defs>\n       <use xlink:href=\"#ArialMT-31\"/>\n       <use xlink:href=\"#ArialMT-2e\" x=\"55.615234\"/>\n       <use xlink:href=\"#ArialMT-30\" x=\"83.398438\"/>\n      </g>\n     </g>\n    </g>\n   </g>\n   <image xlink:href=\"data:image/png;base64,\niVBORw0KGgoAAAANSUhEUgAAABMAAAFxCAYAAACRG5MpAAABwUlEQVR4nO2bwY3DMBADZcOPKyd9pf93rgYuBvAASxYwEEVpV1Li6+/z/R1Iz7luinU40jnnOddFwmozh3Ejo+esNnNYbeYwb9Ug5+zu0ghVm7m8NtUbvTZzmNemdAcssaleGqDNS7s0yJE9h2OZbS5Js0vjXVht5kLXmdimNs1u9Fy1masb/W1YN3qs2szVjT6CYSz3nKGwFTZv7Y8LTXMCW9EDtHNWm7lqcwSTHg+WnIJqM1e70wjWpZHDMBZs895hE00TvKCYbbJVA3wloXcACFvSA8iqIbbZNHMYODBzcWwPiCW2uSVNDNUeMJHYZtOMBR9DSdiS4rjk6A7b5GDipwhyaOJ6tuT5Bt0BS1qdt2yTb0Fim9ruJJ4zbXFULw0ORp9p251y2JI522GThHlvKFsellCY9XjQHZCLXhpWm9o01b87gTDySCW26f27QNN8G6adM/ZWp7XZNHOY1yacJghbcg8Qf6a64/mmaQ5g1qph/rS3PSBV08zlTbPFMVdbXa6mOYC1OA5gHKutbqCmOYC1OA5gWpunaeYwsU0wTbhqcFL3AGura5oDmDZNcQnyjqytLob1jh5rSZpLiuM/wSUIzm1AshEAAAAASUVORK5CYII=\" id=\"image6d6dfa3c5c\" transform=\"scale(1 -1) translate(0 -265.68)\" x=\"342\" y=\"-46.08\" width=\"13.68\" height=\"265.68\"/>\n   <g id=\"LineCollection_1\"/>\n   <g id=\"patch_8\">\n    <path d=\"M 342.055125 312.489439 \nL 348.707925 312.489439 \nL 355.360725 312.489439 \nL 355.360725 46.377439 \nL 348.707925 46.377439 \nL 342.055125 46.377439 \nL 342.055125 312.489439 \nz\n\" style=\"fill: none; stroke: #cccccc; stroke-linejoin: miter; stroke-linecap: square\"/>\n   </g>\n  </g>\n </g>\n <defs>\n  <clipPath id=\"p351c94ae04\">\n   <rect x=\"38.503125\" y=\"46.377439\" width=\"285.696\" height=\"266.112\"/>\n  </clipPath>\n </defs>\n</svg>\n"
     },
     "metadata": {},
     "output_type": "display_data"
    }
   ],
   "source": [
    "plot_attention(translator, 'Jag älskar att äta köttbullar med lingonsylt.')"
   ],
   "metadata": {
    "collapsed": false,
    "ExecuteTime": {
     "end_time": "2023-07-04T16:58:39.072216900Z",
     "start_time": "2023-07-04T16:58:38.518865800Z"
    }
   }
  },
  {
   "cell_type": "code",
   "execution_count": 52,
   "outputs": [
    {
     "data": {
      "text/plain": "<Figure size 640x480 with 2 Axes>",
      "image/svg+xml": "<?xml version=\"1.0\" encoding=\"utf-8\" standalone=\"no\"?>\n<!DOCTYPE svg PUBLIC \"-//W3C//DTD SVG 1.1//EN\"\n  \"http://www.w3.org/Graphics/SVG/1.1/DTD/svg11.dtd\">\n<svg xmlns:xlink=\"http://www.w3.org/1999/xlink\" width=\"379.960725pt\" height=\"326.591256pt\" viewBox=\"0 0 379.960725 326.591256\" xmlns=\"http://www.w3.org/2000/svg\" version=\"1.1\">\n <metadata>\n  <rdf:RDF xmlns:dc=\"http://purl.org/dc/elements/1.1/\" xmlns:cc=\"http://creativecommons.org/ns#\" xmlns:rdf=\"http://www.w3.org/1999/02/22-rdf-syntax-ns#\">\n   <cc:Work>\n    <dc:type rdf:resource=\"http://purl.org/dc/dcmitype/StillImage\"/>\n    <dc:date>2023-07-04T18:59:13.354329</dc:date>\n    <dc:format>image/svg+xml</dc:format>\n    <dc:creator>\n     <cc:Agent>\n      <dc:title>Matplotlib v3.7.1, https://matplotlib.org/</dc:title>\n     </cc:Agent>\n    </dc:creator>\n   </cc:Work>\n  </rdf:RDF>\n </metadata>\n <defs>\n  <style type=\"text/css\">*{stroke-linejoin: round; stroke-linecap: butt}</style>\n </defs>\n <g id=\"figure_1\">\n  <g id=\"patch_1\">\n   <path d=\"M 0 326.591256 \nL 379.960725 326.591256 \nL 379.960725 0 \nL 0 0 \nz\n\" style=\"fill: #ffffff\"/>\n  </g>\n  <g id=\"axes_1\">\n   <g id=\"patch_2\">\n    <path d=\"M 38.503125 313.824849 \nL 324.199125 313.824849 \nL 324.199125 47.712849 \nL 38.503125 47.712849 \nz\n\" style=\"fill: #ffffff\"/>\n   </g>\n   <g id=\"matplotlib.axis_1\">\n    <g id=\"xtick_1\">\n     <g id=\"line2d_1\">\n      <path d=\"M 74.215125 313.824849 \nL 74.215125 47.712849 \n\" clip-path=\"url(#pca85fd0bed)\" style=\"fill: none; stroke: #cccccc; stroke-width: 0.8; stroke-linecap: round\"/>\n     </g>\n     <g id=\"line2d_2\"/>\n     <g id=\"text_1\">\n      <!-- Stockholm -->\n      <g style=\"fill: #262626\" transform=\"translate(57.996277 42.690336) rotate(-40) scale(0.1 -0.1)\">\n       <defs>\n        <path id=\"ArialMT-53\" d=\"M 288 1472 \nL 859 1522 \nQ 900 1178 1048 958 \nQ 1197 738 1509 602 \nQ 1822 466 2213 466 \nQ 2559 466 2825 569 \nQ 3091 672 3220 851 \nQ 3350 1031 3350 1244 \nQ 3350 1459 3225 1620 \nQ 3100 1781 2813 1891 \nQ 2628 1963 1997 2114 \nQ 1366 2266 1113 2400 \nQ 784 2572 623 2826 \nQ 463 3081 463 3397 \nQ 463 3744 659 4045 \nQ 856 4347 1234 4503 \nQ 1613 4659 2075 4659 \nQ 2584 4659 2973 4495 \nQ 3363 4331 3572 4012 \nQ 3781 3694 3797 3291 \nL 3216 3247 \nQ 3169 3681 2898 3903 \nQ 2628 4125 2100 4125 \nQ 1550 4125 1298 3923 \nQ 1047 3722 1047 3438 \nQ 1047 3191 1225 3031 \nQ 1400 2872 2139 2705 \nQ 2878 2538 3153 2413 \nQ 3553 2228 3743 1945 \nQ 3934 1663 3934 1294 \nQ 3934 928 3725 604 \nQ 3516 281 3123 101 \nQ 2731 -78 2241 -78 \nQ 1619 -78 1198 103 \nQ 778 284 539 648 \nQ 300 1013 288 1472 \nz\n\" transform=\"scale(0.015625)\"/>\n        <path id=\"ArialMT-74\" d=\"M 1650 503 \nL 1731 6 \nQ 1494 -44 1306 -44 \nQ 1000 -44 831 53 \nQ 663 150 594 308 \nQ 525 466 525 972 \nL 525 2881 \nL 113 2881 \nL 113 3319 \nL 525 3319 \nL 525 4141 \nL 1084 4478 \nL 1084 3319 \nL 1650 3319 \nL 1650 2881 \nL 1084 2881 \nL 1084 941 \nQ 1084 700 1114 631 \nQ 1144 563 1211 522 \nQ 1278 481 1403 481 \nQ 1497 481 1650 503 \nz\n\" transform=\"scale(0.015625)\"/>\n        <path id=\"ArialMT-6f\" d=\"M 213 1659 \nQ 213 2581 725 3025 \nQ 1153 3394 1769 3394 \nQ 2453 3394 2887 2945 \nQ 3322 2497 3322 1706 \nQ 3322 1066 3130 698 \nQ 2938 331 2570 128 \nQ 2203 -75 1769 -75 \nQ 1072 -75 642 372 \nQ 213 819 213 1659 \nz\nM 791 1659 \nQ 791 1022 1069 705 \nQ 1347 388 1769 388 \nQ 2188 388 2466 706 \nQ 2744 1025 2744 1678 \nQ 2744 2294 2464 2611 \nQ 2184 2928 1769 2928 \nQ 1347 2928 1069 2612 \nQ 791 2297 791 1659 \nz\n\" transform=\"scale(0.015625)\"/>\n        <path id=\"ArialMT-63\" d=\"M 2588 1216 \nL 3141 1144 \nQ 3050 572 2676 248 \nQ 2303 -75 1759 -75 \nQ 1078 -75 664 370 \nQ 250 816 250 1647 \nQ 250 2184 428 2587 \nQ 606 2991 970 3192 \nQ 1334 3394 1763 3394 \nQ 2303 3394 2647 3120 \nQ 2991 2847 3088 2344 \nL 2541 2259 \nQ 2463 2594 2264 2762 \nQ 2066 2931 1784 2931 \nQ 1359 2931 1093 2626 \nQ 828 2322 828 1663 \nQ 828 994 1084 691 \nQ 1341 388 1753 388 \nQ 2084 388 2306 591 \nQ 2528 794 2588 1216 \nz\n\" transform=\"scale(0.015625)\"/>\n        <path id=\"ArialMT-6b\" d=\"M 425 0 \nL 425 4581 \nL 988 4581 \nL 988 1969 \nL 2319 3319 \nL 3047 3319 \nL 1778 2088 \nL 3175 0 \nL 2481 0 \nL 1384 1697 \nL 988 1316 \nL 988 0 \nL 425 0 \nz\n\" transform=\"scale(0.015625)\"/>\n        <path id=\"ArialMT-68\" d=\"M 422 0 \nL 422 4581 \nL 984 4581 \nL 984 2938 \nQ 1378 3394 1978 3394 \nQ 2347 3394 2619 3248 \nQ 2891 3103 3008 2847 \nQ 3125 2591 3125 2103 \nL 3125 0 \nL 2563 0 \nL 2563 2103 \nQ 2563 2525 2380 2717 \nQ 2197 2909 1863 2909 \nQ 1613 2909 1392 2779 \nQ 1172 2650 1078 2428 \nQ 984 2206 984 1816 \nL 984 0 \nL 422 0 \nz\n\" transform=\"scale(0.015625)\"/>\n        <path id=\"ArialMT-6c\" d=\"M 409 0 \nL 409 4581 \nL 972 4581 \nL 972 0 \nL 409 0 \nz\n\" transform=\"scale(0.015625)\"/>\n        <path id=\"ArialMT-6d\" d=\"M 422 0 \nL 422 3319 \nL 925 3319 \nL 925 2853 \nQ 1081 3097 1340 3245 \nQ 1600 3394 1931 3394 \nQ 2300 3394 2536 3241 \nQ 2772 3088 2869 2813 \nQ 3263 3394 3894 3394 \nQ 4388 3394 4653 3120 \nQ 4919 2847 4919 2278 \nL 4919 0 \nL 4359 0 \nL 4359 2091 \nQ 4359 2428 4304 2576 \nQ 4250 2725 4106 2815 \nQ 3963 2906 3769 2906 \nQ 3419 2906 3187 2673 \nQ 2956 2441 2956 1928 \nL 2956 0 \nL 2394 0 \nL 2394 2156 \nQ 2394 2531 2256 2718 \nQ 2119 2906 1806 2906 \nQ 1569 2906 1367 2781 \nQ 1166 2656 1075 2415 \nQ 984 2175 984 1722 \nL 984 0 \nL 422 0 \nz\n\" transform=\"scale(0.015625)\"/>\n       </defs>\n       <use xlink:href=\"#ArialMT-53\"/>\n       <use xlink:href=\"#ArialMT-74\" x=\"66.699219\"/>\n       <use xlink:href=\"#ArialMT-6f\" x=\"94.482422\"/>\n       <use xlink:href=\"#ArialMT-63\" x=\"150.097656\"/>\n       <use xlink:href=\"#ArialMT-6b\" x=\"200.097656\"/>\n       <use xlink:href=\"#ArialMT-68\" x=\"250.097656\"/>\n       <use xlink:href=\"#ArialMT-6f\" x=\"305.712891\"/>\n       <use xlink:href=\"#ArialMT-6c\" x=\"361.328125\"/>\n       <use xlink:href=\"#ArialMT-6d\" x=\"383.544922\"/>\n      </g>\n     </g>\n    </g>\n    <g id=\"xtick_2\">\n     <g id=\"line2d_3\">\n      <path d=\"M 145.639125 313.824849 \nL 145.639125 47.712849 \n\" clip-path=\"url(#pca85fd0bed)\" style=\"fill: none; stroke: #cccccc; stroke-width: 0.8; stroke-linecap: round\"/>\n     </g>\n     <g id=\"line2d_4\"/>\n     <g id=\"text_2\">\n      <!-- är -->\n      <g style=\"fill: #262626\" transform=\"translate(143.895524 42.690336) rotate(-40) scale(0.1 -0.1)\">\n       <defs>\n        <path id=\"ArialMT-e4\" d=\"M 2588 409 \nQ 2275 144 1986 34 \nQ 1697 -75 1366 -75 \nQ 819 -75 525 192 \nQ 231 459 231 875 \nQ 231 1119 342 1320 \nQ 453 1522 633 1644 \nQ 813 1766 1038 1828 \nQ 1203 1872 1538 1913 \nQ 2219 1994 2541 2106 \nQ 2544 2222 2544 2253 \nQ 2544 2597 2384 2738 \nQ 2169 2928 1744 2928 \nQ 1347 2928 1158 2789 \nQ 969 2650 878 2297 \nL 328 2372 \nQ 403 2725 575 2942 \nQ 747 3159 1072 3276 \nQ 1397 3394 1825 3394 \nQ 2250 3394 2515 3294 \nQ 2781 3194 2906 3042 \nQ 3031 2891 3081 2659 \nQ 3109 2516 3109 2141 \nL 3109 1391 \nQ 3109 606 3145 398 \nQ 3181 191 3288 0 \nL 2700 0 \nQ 2613 175 2588 409 \nz\nM 2541 1666 \nQ 2234 1541 1622 1453 \nQ 1275 1403 1131 1340 \nQ 988 1278 909 1158 \nQ 831 1038 831 891 \nQ 831 666 1001 516 \nQ 1172 366 1500 366 \nQ 1825 366 2078 508 \nQ 2331 650 2450 897 \nQ 2541 1088 2541 1459 \nL 2541 1666 \nz\nM 887 3969 \nL 887 4609 \nL 1474 4609 \nL 1474 3969 \nL 887 3969 \nz\nM 2052 3969 \nL 2052 4609 \nL 2640 4609 \nL 2640 3969 \nL 2052 3969 \nz\n\" transform=\"scale(0.015625)\"/>\n        <path id=\"ArialMT-72\" d=\"M 416 0 \nL 416 3319 \nL 922 3319 \nL 922 2816 \nQ 1116 3169 1280 3281 \nQ 1444 3394 1641 3394 \nQ 1925 3394 2219 3213 \nL 2025 2691 \nQ 1819 2813 1613 2813 \nQ 1428 2813 1281 2702 \nQ 1134 2591 1072 2394 \nQ 978 2094 978 1738 \nL 978 0 \nL 416 0 \nz\n\" transform=\"scale(0.015625)\"/>\n       </defs>\n       <use xlink:href=\"#ArialMT-e4\"/>\n       <use xlink:href=\"#ArialMT-72\" x=\"55.615234\"/>\n      </g>\n     </g>\n    </g>\n    <g id=\"xtick_3\">\n     <g id=\"line2d_5\">\n      <path d=\"M 217.063125 313.824849 \nL 217.063125 47.712849 \n\" clip-path=\"url(#pca85fd0bed)\" style=\"fill: none; stroke: #cccccc; stroke-width: 0.8; stroke-linecap: round\"/>\n     </g>\n     <g id=\"line2d_6\"/>\n     <g id=\"text_3\">\n      <!-- Sveriges -->\n      <g style=\"fill: #262626\" transform=\"translate(203.824978 42.600565) rotate(-40) scale(0.1 -0.1)\">\n       <defs>\n        <path id=\"ArialMT-76\" d=\"M 1344 0 \nL 81 3319 \nL 675 3319 \nL 1388 1331 \nQ 1503 1009 1600 663 \nQ 1675 925 1809 1294 \nL 2547 3319 \nL 3125 3319 \nL 1869 0 \nL 1344 0 \nz\n\" transform=\"scale(0.015625)\"/>\n        <path id=\"ArialMT-65\" d=\"M 2694 1069 \nL 3275 997 \nQ 3138 488 2766 206 \nQ 2394 -75 1816 -75 \nQ 1088 -75 661 373 \nQ 234 822 234 1631 \nQ 234 2469 665 2931 \nQ 1097 3394 1784 3394 \nQ 2450 3394 2872 2941 \nQ 3294 2488 3294 1666 \nQ 3294 1616 3291 1516 \nL 816 1516 \nQ 847 969 1125 678 \nQ 1403 388 1819 388 \nQ 2128 388 2347 550 \nQ 2566 713 2694 1069 \nz\nM 847 1978 \nL 2700 1978 \nQ 2663 2397 2488 2606 \nQ 2219 2931 1791 2931 \nQ 1403 2931 1139 2672 \nQ 875 2413 847 1978 \nz\n\" transform=\"scale(0.015625)\"/>\n        <path id=\"ArialMT-69\" d=\"M 425 3934 \nL 425 4581 \nL 988 4581 \nL 988 3934 \nL 425 3934 \nz\nM 425 0 \nL 425 3319 \nL 988 3319 \nL 988 0 \nL 425 0 \nz\n\" transform=\"scale(0.015625)\"/>\n        <path id=\"ArialMT-67\" d=\"M 319 -275 \nL 866 -356 \nQ 900 -609 1056 -725 \nQ 1266 -881 1628 -881 \nQ 2019 -881 2231 -725 \nQ 2444 -569 2519 -288 \nQ 2563 -116 2559 434 \nQ 2191 0 1641 0 \nQ 956 0 581 494 \nQ 206 988 206 1678 \nQ 206 2153 378 2554 \nQ 550 2956 876 3175 \nQ 1203 3394 1644 3394 \nQ 2231 3394 2613 2919 \nL 2613 3319 \nL 3131 3319 \nL 3131 450 \nQ 3131 -325 2973 -648 \nQ 2816 -972 2473 -1159 \nQ 2131 -1347 1631 -1347 \nQ 1038 -1347 672 -1080 \nQ 306 -813 319 -275 \nz\nM 784 1719 \nQ 784 1066 1043 766 \nQ 1303 466 1694 466 \nQ 2081 466 2343 764 \nQ 2606 1063 2606 1700 \nQ 2606 2309 2336 2618 \nQ 2066 2928 1684 2928 \nQ 1309 2928 1046 2623 \nQ 784 2319 784 1719 \nz\n\" transform=\"scale(0.015625)\"/>\n        <path id=\"ArialMT-73\" d=\"M 197 991 \nL 753 1078 \nQ 800 744 1014 566 \nQ 1228 388 1613 388 \nQ 2000 388 2187 545 \nQ 2375 703 2375 916 \nQ 2375 1106 2209 1216 \nQ 2094 1291 1634 1406 \nQ 1016 1563 777 1677 \nQ 538 1791 414 1992 \nQ 291 2194 291 2438 \nQ 291 2659 392 2848 \nQ 494 3038 669 3163 \nQ 800 3259 1026 3326 \nQ 1253 3394 1513 3394 \nQ 1903 3394 2198 3281 \nQ 2494 3169 2634 2976 \nQ 2775 2784 2828 2463 \nL 2278 2388 \nQ 2241 2644 2061 2787 \nQ 1881 2931 1553 2931 \nQ 1166 2931 1000 2803 \nQ 834 2675 834 2503 \nQ 834 2394 903 2306 \nQ 972 2216 1119 2156 \nQ 1203 2125 1616 2013 \nQ 2213 1853 2448 1751 \nQ 2684 1650 2818 1456 \nQ 2953 1263 2953 975 \nQ 2953 694 2789 445 \nQ 2625 197 2315 61 \nQ 2006 -75 1616 -75 \nQ 969 -75 630 194 \nQ 291 463 197 991 \nz\n\" transform=\"scale(0.015625)\"/>\n       </defs>\n       <use xlink:href=\"#ArialMT-53\"/>\n       <use xlink:href=\"#ArialMT-76\" x=\"66.699219\"/>\n       <use xlink:href=\"#ArialMT-65\" x=\"116.699219\"/>\n       <use xlink:href=\"#ArialMT-72\" x=\"172.314453\"/>\n       <use xlink:href=\"#ArialMT-69\" x=\"205.615234\"/>\n       <use xlink:href=\"#ArialMT-67\" x=\"227.832031\"/>\n       <use xlink:href=\"#ArialMT-65\" x=\"283.447266\"/>\n       <use xlink:href=\"#ArialMT-73\" x=\"339.0625\"/>\n      </g>\n     </g>\n    </g>\n    <g id=\"xtick_4\">\n     <g id=\"line2d_7\">\n      <path d=\"M 288.487125 313.824849 \nL 288.487125 47.712849 \n\" clip-path=\"url(#pca85fd0bed)\" style=\"fill: none; stroke: #cccccc; stroke-width: 0.8; stroke-linecap: round\"/>\n     </g>\n     <g id=\"line2d_8\"/>\n     <g id=\"text_4\">\n      <!-- huvudstad -->\n      <g style=\"fill: #262626\" transform=\"translate(272.47475 42.690336) rotate(-40) scale(0.1 -0.1)\">\n       <defs>\n        <path id=\"ArialMT-75\" d=\"M 2597 0 \nL 2597 488 \nQ 2209 -75 1544 -75 \nQ 1250 -75 995 37 \nQ 741 150 617 320 \nQ 494 491 444 738 \nQ 409 903 409 1263 \nL 409 3319 \nL 972 3319 \nL 972 1478 \nQ 972 1038 1006 884 \nQ 1059 663 1231 536 \nQ 1403 409 1656 409 \nQ 1909 409 2131 539 \nQ 2353 669 2445 892 \nQ 2538 1116 2538 1541 \nL 2538 3319 \nL 3100 3319 \nL 3100 0 \nL 2597 0 \nz\n\" transform=\"scale(0.015625)\"/>\n        <path id=\"ArialMT-64\" d=\"M 2575 0 \nL 2575 419 \nQ 2259 -75 1647 -75 \nQ 1250 -75 917 144 \nQ 584 363 401 755 \nQ 219 1147 219 1656 \nQ 219 2153 384 2558 \nQ 550 2963 881 3178 \nQ 1213 3394 1622 3394 \nQ 1922 3394 2156 3267 \nQ 2391 3141 2538 2938 \nL 2538 4581 \nL 3097 4581 \nL 3097 0 \nL 2575 0 \nz\nM 797 1656 \nQ 797 1019 1065 703 \nQ 1334 388 1700 388 \nQ 2069 388 2326 689 \nQ 2584 991 2584 1609 \nQ 2584 2291 2321 2609 \nQ 2059 2928 1675 2928 \nQ 1300 2928 1048 2622 \nQ 797 2316 797 1656 \nz\n\" transform=\"scale(0.015625)\"/>\n        <path id=\"ArialMT-61\" d=\"M 2588 409 \nQ 2275 144 1986 34 \nQ 1697 -75 1366 -75 \nQ 819 -75 525 192 \nQ 231 459 231 875 \nQ 231 1119 342 1320 \nQ 453 1522 633 1644 \nQ 813 1766 1038 1828 \nQ 1203 1872 1538 1913 \nQ 2219 1994 2541 2106 \nQ 2544 2222 2544 2253 \nQ 2544 2597 2384 2738 \nQ 2169 2928 1744 2928 \nQ 1347 2928 1158 2789 \nQ 969 2650 878 2297 \nL 328 2372 \nQ 403 2725 575 2942 \nQ 747 3159 1072 3276 \nQ 1397 3394 1825 3394 \nQ 2250 3394 2515 3294 \nQ 2781 3194 2906 3042 \nQ 3031 2891 3081 2659 \nQ 3109 2516 3109 2141 \nL 3109 1391 \nQ 3109 606 3145 398 \nQ 3181 191 3288 0 \nL 2700 0 \nQ 2613 175 2588 409 \nz\nM 2541 1666 \nQ 2234 1541 1622 1453 \nQ 1275 1403 1131 1340 \nQ 988 1278 909 1158 \nQ 831 1038 831 891 \nQ 831 666 1001 516 \nQ 1172 366 1500 366 \nQ 1825 366 2078 508 \nQ 2331 650 2450 897 \nQ 2541 1088 2541 1459 \nL 2541 1666 \nz\n\" transform=\"scale(0.015625)\"/>\n       </defs>\n       <use xlink:href=\"#ArialMT-68\"/>\n       <use xlink:href=\"#ArialMT-75\" x=\"55.615234\"/>\n       <use xlink:href=\"#ArialMT-76\" x=\"111.230469\"/>\n       <use xlink:href=\"#ArialMT-75\" x=\"161.230469\"/>\n       <use xlink:href=\"#ArialMT-64\" x=\"216.845703\"/>\n       <use xlink:href=\"#ArialMT-73\" x=\"272.460938\"/>\n       <use xlink:href=\"#ArialMT-74\" x=\"322.460938\"/>\n       <use xlink:href=\"#ArialMT-61\" x=\"350.244141\"/>\n       <use xlink:href=\"#ArialMT-64\" x=\"405.859375\"/>\n      </g>\n     </g>\n    </g>\n   </g>\n   <g id=\"matplotlib.axis_2\">\n    <g id=\"ytick_1\">\n     <g id=\"line2d_9\">\n      <path d=\"M 38.503125 56.028849 \nL 324.199125 56.028849 \n\" clip-path=\"url(#pca85fd0bed)\" style=\"fill: none; stroke: #cccccc; stroke-width: 0.8; stroke-linecap: round\"/>\n     </g>\n     <g id=\"line2d_10\"/>\n     <g id=\"text_5\">\n      <!-- the -->\n      <g style=\"fill: #262626\" transform=\"translate(21.103125 59.607756) scale(0.1 -0.1)\">\n       <use xlink:href=\"#ArialMT-74\"/>\n       <use xlink:href=\"#ArialMT-68\" x=\"27.783203\"/>\n       <use xlink:href=\"#ArialMT-65\" x=\"83.398438\"/>\n      </g>\n     </g>\n    </g>\n    <g id=\"ytick_2\">\n     <g id=\"line2d_11\">\n      <path d=\"M 38.503125 72.660849 \nL 324.199125 72.660849 \n\" clip-path=\"url(#pca85fd0bed)\" style=\"fill: none; stroke: #cccccc; stroke-width: 0.8; stroke-linecap: round\"/>\n     </g>\n     <g id=\"line2d_12\"/>\n     <g id=\"text_6\">\n      <!-- &lt;unk&gt; -->\n      <g style=\"fill: #262626\" transform=\"translate(7.2 76.239756) scale(0.1 -0.1)\">\n       <defs>\n        <path id=\"ArialMT-3c\" d=\"M 350 2003 \nL 350 2528 \nL 3384 3809 \nL 3384 3250 \nL 978 2263 \nL 3384 1266 \nL 3384 706 \nL 350 2003 \nz\n\" transform=\"scale(0.015625)\"/>\n        <path id=\"ArialMT-6e\" d=\"M 422 0 \nL 422 3319 \nL 928 3319 \nL 928 2847 \nQ 1294 3394 1984 3394 \nQ 2284 3394 2536 3286 \nQ 2788 3178 2913 3003 \nQ 3038 2828 3088 2588 \nQ 3119 2431 3119 2041 \nL 3119 0 \nL 2556 0 \nL 2556 2019 \nQ 2556 2363 2490 2533 \nQ 2425 2703 2258 2804 \nQ 2091 2906 1866 2906 \nQ 1506 2906 1245 2678 \nQ 984 2450 984 1813 \nL 984 0 \nL 422 0 \nz\n\" transform=\"scale(0.015625)\"/>\n        <path id=\"ArialMT-3e\" d=\"M 3384 2003 \nL 350 706 \nL 350 1266 \nL 2753 2263 \nL 350 3250 \nL 350 3809 \nL 3384 2528 \nL 3384 2003 \nz\n\" transform=\"scale(0.015625)\"/>\n       </defs>\n       <use xlink:href=\"#ArialMT-3c\"/>\n       <use xlink:href=\"#ArialMT-75\" x=\"58.398438\"/>\n       <use xlink:href=\"#ArialMT-6e\" x=\"114.013672\"/>\n       <use xlink:href=\"#ArialMT-6b\" x=\"169.628906\"/>\n       <use xlink:href=\"#ArialMT-3e\" x=\"219.628906\"/>\n      </g>\n     </g>\n    </g>\n    <g id=\"ytick_3\">\n     <g id=\"line2d_13\">\n      <path d=\"M 38.503125 89.292849 \nL 324.199125 89.292849 \n\" clip-path=\"url(#pca85fd0bed)\" style=\"fill: none; stroke: #cccccc; stroke-width: 0.8; stroke-linecap: round\"/>\n     </g>\n     <g id=\"line2d_14\"/>\n     <g id=\"text_7\">\n      <!-- is -->\n      <g style=\"fill: #262626\" transform=\"translate(27.78125 92.871756) scale(0.1 -0.1)\">\n       <use xlink:href=\"#ArialMT-69\"/>\n       <use xlink:href=\"#ArialMT-73\" x=\"22.216797\"/>\n      </g>\n     </g>\n    </g>\n    <g id=\"ytick_4\">\n     <g id=\"line2d_15\">\n      <path d=\"M 38.503125 105.924849 \nL 324.199125 105.924849 \n\" clip-path=\"url(#pca85fd0bed)\" style=\"fill: none; stroke: #cccccc; stroke-width: 0.8; stroke-linecap: round\"/>\n     </g>\n     <g id=\"line2d_16\"/>\n     <g id=\"text_8\">\n      <!-- &lt;unk&gt; -->\n      <g style=\"fill: #262626\" transform=\"translate(7.2 109.503756) scale(0.1 -0.1)\">\n       <use xlink:href=\"#ArialMT-3c\"/>\n       <use xlink:href=\"#ArialMT-75\" x=\"58.398438\"/>\n       <use xlink:href=\"#ArialMT-6e\" x=\"114.013672\"/>\n       <use xlink:href=\"#ArialMT-6b\" x=\"169.628906\"/>\n       <use xlink:href=\"#ArialMT-3e\" x=\"219.628906\"/>\n      </g>\n     </g>\n    </g>\n    <g id=\"ytick_5\">\n     <g id=\"line2d_17\">\n      <path d=\"M 38.503125 122.556849 \nL 324.199125 122.556849 \n\" clip-path=\"url(#pca85fd0bed)\" style=\"fill: none; stroke: #cccccc; stroke-width: 0.8; stroke-linecap: round\"/>\n     </g>\n     <g id=\"line2d_18\"/>\n     <g id=\"text_9\">\n      <!-- from -->\n      <g style=\"fill: #262626\" transform=\"translate(15.004687 126.135756) scale(0.1 -0.1)\">\n       <defs>\n        <path id=\"ArialMT-66\" d=\"M 556 0 \nL 556 2881 \nL 59 2881 \nL 59 3319 \nL 556 3319 \nL 556 3672 \nQ 556 4006 616 4169 \nQ 697 4388 901 4523 \nQ 1106 4659 1475 4659 \nQ 1713 4659 2000 4603 \nL 1916 4113 \nQ 1741 4144 1584 4144 \nQ 1328 4144 1222 4034 \nQ 1116 3925 1116 3625 \nL 1116 3319 \nL 1763 3319 \nL 1763 2881 \nL 1116 2881 \nL 1116 0 \nL 556 0 \nz\n\" transform=\"scale(0.015625)\"/>\n       </defs>\n       <use xlink:href=\"#ArialMT-66\"/>\n       <use xlink:href=\"#ArialMT-72\" x=\"27.783203\"/>\n       <use xlink:href=\"#ArialMT-6f\" x=\"61.083984\"/>\n       <use xlink:href=\"#ArialMT-6d\" x=\"116.699219\"/>\n      </g>\n     </g>\n    </g>\n    <g id=\"ytick_6\">\n     <g id=\"line2d_19\">\n      <path d=\"M 38.503125 139.188849 \nL 324.199125 139.188849 \n\" clip-path=\"url(#pca85fd0bed)\" style=\"fill: none; stroke: #cccccc; stroke-width: 0.8; stroke-linecap: round\"/>\n     </g>\n     <g id=\"line2d_20\"/>\n     <g id=\"text_10\">\n      <!-- the -->\n      <g style=\"fill: #262626\" transform=\"translate(21.103125 142.767756) scale(0.1 -0.1)\">\n       <use xlink:href=\"#ArialMT-74\"/>\n       <use xlink:href=\"#ArialMT-68\" x=\"27.783203\"/>\n       <use xlink:href=\"#ArialMT-65\" x=\"83.398438\"/>\n      </g>\n     </g>\n    </g>\n    <g id=\"ytick_7\">\n     <g id=\"line2d_21\">\n      <path d=\"M 38.503125 155.820849 \nL 324.199125 155.820849 \n\" clip-path=\"url(#pca85fd0bed)\" style=\"fill: none; stroke: #cccccc; stroke-width: 0.8; stroke-linecap: round\"/>\n     </g>\n     <g id=\"line2d_22\"/>\n     <g id=\"text_11\">\n      <!-- island -->\n      <g style=\"fill: #262626\" transform=\"translate(8.876562 159.399756) scale(0.1 -0.1)\">\n       <use xlink:href=\"#ArialMT-69\"/>\n       <use xlink:href=\"#ArialMT-73\" x=\"22.216797\"/>\n       <use xlink:href=\"#ArialMT-6c\" x=\"72.216797\"/>\n       <use xlink:href=\"#ArialMT-61\" x=\"94.433594\"/>\n       <use xlink:href=\"#ArialMT-6e\" x=\"150.048828\"/>\n       <use xlink:href=\"#ArialMT-64\" x=\"205.664062\"/>\n      </g>\n     </g>\n    </g>\n    <g id=\"ytick_8\">\n     <g id=\"line2d_23\">\n      <path d=\"M 38.503125 172.452849 \nL 324.199125 172.452849 \n\" clip-path=\"url(#pca85fd0bed)\" style=\"fill: none; stroke: #cccccc; stroke-width: 0.8; stroke-linecap: round\"/>\n     </g>\n     <g id=\"line2d_24\"/>\n     <g id=\"text_12\">\n      <!-- of -->\n      <g style=\"fill: #262626\" transform=\"translate(26.664062 176.031756) scale(0.1 -0.1)\">\n       <use xlink:href=\"#ArialMT-6f\"/>\n       <use xlink:href=\"#ArialMT-66\" x=\"55.615234\"/>\n      </g>\n     </g>\n    </g>\n    <g id=\"ytick_9\">\n     <g id=\"line2d_25\">\n      <path d=\"M 38.503125 189.084849 \nL 324.199125 189.084849 \n\" clip-path=\"url(#pca85fd0bed)\" style=\"fill: none; stroke: #cccccc; stroke-width: 0.8; stroke-linecap: round\"/>\n     </g>\n     <g id=\"line2d_26\"/>\n     <g id=\"text_13\">\n      <!-- the -->\n      <g style=\"fill: #262626\" transform=\"translate(21.103125 192.663756) scale(0.1 -0.1)\">\n       <use xlink:href=\"#ArialMT-74\"/>\n       <use xlink:href=\"#ArialMT-68\" x=\"27.783203\"/>\n       <use xlink:href=\"#ArialMT-65\" x=\"83.398438\"/>\n      </g>\n     </g>\n    </g>\n    <g id=\"ytick_10\">\n     <g id=\"line2d_27\">\n      <path d=\"M 38.503125 205.716849 \nL 324.199125 205.716849 \n\" clip-path=\"url(#pca85fd0bed)\" style=\"fill: none; stroke: #cccccc; stroke-width: 0.8; stroke-linecap: round\"/>\n     </g>\n     <g id=\"line2d_28\"/>\n     <g id=\"text_14\">\n      <!-- island -->\n      <g style=\"fill: #262626\" transform=\"translate(8.876562 209.295756) scale(0.1 -0.1)\">\n       <use xlink:href=\"#ArialMT-69\"/>\n       <use xlink:href=\"#ArialMT-73\" x=\"22.216797\"/>\n       <use xlink:href=\"#ArialMT-6c\" x=\"72.216797\"/>\n       <use xlink:href=\"#ArialMT-61\" x=\"94.433594\"/>\n       <use xlink:href=\"#ArialMT-6e\" x=\"150.048828\"/>\n       <use xlink:href=\"#ArialMT-64\" x=\"205.664062\"/>\n      </g>\n     </g>\n    </g>\n    <g id=\"ytick_11\">\n     <g id=\"line2d_29\">\n      <path d=\"M 38.503125 222.348849 \nL 324.199125 222.348849 \n\" clip-path=\"url(#pca85fd0bed)\" style=\"fill: none; stroke: #cccccc; stroke-width: 0.8; stroke-linecap: round\"/>\n     </g>\n     <g id=\"line2d_30\"/>\n     <g id=\"text_15\">\n      <!-- is -->\n      <g style=\"fill: #262626\" transform=\"translate(27.78125 225.927756) scale(0.1 -0.1)\">\n       <use xlink:href=\"#ArialMT-69\"/>\n       <use xlink:href=\"#ArialMT-73\" x=\"22.216797\"/>\n      </g>\n     </g>\n    </g>\n    <g id=\"ytick_12\">\n     <g id=\"line2d_31\">\n      <path d=\"M 38.503125 238.980849 \nL 324.199125 238.980849 \n\" clip-path=\"url(#pca85fd0bed)\" style=\"fill: none; stroke: #cccccc; stroke-width: 0.8; stroke-linecap: round\"/>\n     </g>\n     <g id=\"line2d_32\"/>\n     <g id=\"text_16\">\n      <!-- &lt;unk&gt; -->\n      <g style=\"fill: #262626\" transform=\"translate(7.2 242.559756) scale(0.1 -0.1)\">\n       <use xlink:href=\"#ArialMT-3c\"/>\n       <use xlink:href=\"#ArialMT-75\" x=\"58.398438\"/>\n       <use xlink:href=\"#ArialMT-6e\" x=\"114.013672\"/>\n       <use xlink:href=\"#ArialMT-6b\" x=\"169.628906\"/>\n       <use xlink:href=\"#ArialMT-3e\" x=\"219.628906\"/>\n      </g>\n     </g>\n    </g>\n    <g id=\"ytick_13\">\n     <g id=\"line2d_33\">\n      <path d=\"M 38.503125 255.612849 \nL 324.199125 255.612849 \n\" clip-path=\"url(#pca85fd0bed)\" style=\"fill: none; stroke: #cccccc; stroke-width: 0.8; stroke-linecap: round\"/>\n     </g>\n     <g id=\"line2d_34\"/>\n     <g id=\"text_17\">\n      <!-- from -->\n      <g style=\"fill: #262626\" transform=\"translate(15.004687 259.191756) scale(0.1 -0.1)\">\n       <use xlink:href=\"#ArialMT-66\"/>\n       <use xlink:href=\"#ArialMT-72\" x=\"27.783203\"/>\n       <use xlink:href=\"#ArialMT-6f\" x=\"61.083984\"/>\n       <use xlink:href=\"#ArialMT-6d\" x=\"116.699219\"/>\n      </g>\n     </g>\n    </g>\n    <g id=\"ytick_14\">\n     <g id=\"line2d_35\">\n      <path d=\"M 38.503125 272.244849 \nL 324.199125 272.244849 \n\" clip-path=\"url(#pca85fd0bed)\" style=\"fill: none; stroke: #cccccc; stroke-width: 0.8; stroke-linecap: round\"/>\n     </g>\n     <g id=\"line2d_36\"/>\n     <g id=\"text_18\">\n      <!-- the -->\n      <g style=\"fill: #262626\" transform=\"translate(21.103125 275.823756) scale(0.1 -0.1)\">\n       <use xlink:href=\"#ArialMT-74\"/>\n       <use xlink:href=\"#ArialMT-68\" x=\"27.783203\"/>\n       <use xlink:href=\"#ArialMT-65\" x=\"83.398438\"/>\n      </g>\n     </g>\n    </g>\n    <g id=\"ytick_15\">\n     <g id=\"line2d_37\">\n      <path d=\"M 38.503125 288.876849 \nL 324.199125 288.876849 \n\" clip-path=\"url(#pca85fd0bed)\" style=\"fill: none; stroke: #cccccc; stroke-width: 0.8; stroke-linecap: round\"/>\n     </g>\n     <g id=\"line2d_38\"/>\n     <g id=\"text_19\">\n      <!-- island -->\n      <g style=\"fill: #262626\" transform=\"translate(8.876562 292.455756) scale(0.1 -0.1)\">\n       <use xlink:href=\"#ArialMT-69\"/>\n       <use xlink:href=\"#ArialMT-73\" x=\"22.216797\"/>\n       <use xlink:href=\"#ArialMT-6c\" x=\"72.216797\"/>\n       <use xlink:href=\"#ArialMT-61\" x=\"94.433594\"/>\n       <use xlink:href=\"#ArialMT-6e\" x=\"150.048828\"/>\n       <use xlink:href=\"#ArialMT-64\" x=\"205.664062\"/>\n      </g>\n     </g>\n    </g>\n    <g id=\"ytick_16\">\n     <g id=\"line2d_39\">\n      <path d=\"M 38.503125 305.508849 \nL 324.199125 305.508849 \n\" clip-path=\"url(#pca85fd0bed)\" style=\"fill: none; stroke: #cccccc; stroke-width: 0.8; stroke-linecap: round\"/>\n     </g>\n     <g id=\"line2d_40\"/>\n     <g id=\"text_20\">\n      <!-- is -->\n      <g style=\"fill: #262626\" transform=\"translate(27.78125 309.087756) scale(0.1 -0.1)\">\n       <use xlink:href=\"#ArialMT-69\"/>\n       <use xlink:href=\"#ArialMT-73\" x=\"22.216797\"/>\n      </g>\n     </g>\n    </g>\n   </g>\n   <g id=\"PolyCollection_1\">\n    <path d=\"M 38.503125 47.712849 \nL 38.503125 64.344849 \nL 109.927125 64.344849 \nL 109.927125 47.712849 \nL 38.503125 47.712849 \nz\n\" clip-path=\"url(#pca85fd0bed)\" style=\"fill: #1460a8\"/>\n    <path d=\"M 109.927125 47.712849 \nL 109.927125 64.344849 \nL 181.351125 64.344849 \nL 181.351125 47.712849 \nL 109.927125 47.712849 \nz\n\" clip-path=\"url(#pca85fd0bed)\" style=\"fill: #105ba4\"/>\n    <path d=\"M 181.351125 47.712849 \nL 181.351125 64.344849 \nL 252.775125 64.344849 \nL 252.775125 47.712849 \nL 181.351125 47.712849 \nz\n\" clip-path=\"url(#pca85fd0bed)\" style=\"fill: #084e98\"/>\n    <path d=\"M 252.775125 47.712849 \nL 252.775125 64.344849 \nL 324.199125 64.344849 \nL 324.199125 47.712849 \nL 252.775125 47.712849 \nz\n\" clip-path=\"url(#pca85fd0bed)\" style=\"fill: #79b5d9\"/>\n    <path d=\"M 38.503125 64.344849 \nL 38.503125 80.976849 \nL 109.927125 80.976849 \nL 109.927125 64.344849 \nL 38.503125 64.344849 \nz\n\" clip-path=\"url(#pca85fd0bed)\" style=\"fill: #69add5\"/>\n    <path d=\"M 109.927125 64.344849 \nL 109.927125 80.976849 \nL 181.351125 80.976849 \nL 181.351125 64.344849 \nL 109.927125 64.344849 \nz\n\" clip-path=\"url(#pca85fd0bed)\" style=\"fill: #0e58a2\"/>\n    <path d=\"M 181.351125 64.344849 \nL 181.351125 80.976849 \nL 252.775125 80.976849 \nL 252.775125 64.344849 \nL 181.351125 64.344849 \nz\n\" clip-path=\"url(#pca85fd0bed)\" style=\"fill: #206fb4\"/>\n    <path d=\"M 252.775125 64.344849 \nL 252.775125 80.976849 \nL 324.199125 80.976849 \nL 324.199125 64.344849 \nL 252.775125 64.344849 \nz\n\" clip-path=\"url(#pca85fd0bed)\" style=\"fill: #084b93\"/>\n    <path d=\"M 38.503125 80.976849 \nL 38.503125 97.608849 \nL 109.927125 97.608849 \nL 109.927125 80.976849 \nL 38.503125 80.976849 \nz\n\" clip-path=\"url(#pca85fd0bed)\" style=\"fill: #4594c7\"/>\n    <path d=\"M 109.927125 80.976849 \nL 109.927125 97.608849 \nL 181.351125 97.608849 \nL 181.351125 80.976849 \nL 109.927125 80.976849 \nz\n\" clip-path=\"url(#pca85fd0bed)\" style=\"fill: #1663aa\"/>\n    <path d=\"M 181.351125 80.976849 \nL 181.351125 97.608849 \nL 252.775125 97.608849 \nL 252.775125 80.976849 \nL 181.351125 80.976849 \nz\n\" clip-path=\"url(#pca85fd0bed)\" style=\"fill: #2777b8\"/>\n    <path d=\"M 252.775125 80.976849 \nL 252.775125 97.608849 \nL 324.199125 97.608849 \nL 324.199125 80.976849 \nL 252.775125 80.976849 \nz\n\" clip-path=\"url(#pca85fd0bed)\" style=\"fill: #0b559f\"/>\n    <path d=\"M 38.503125 97.608849 \nL 38.503125 114.240849 \nL 109.927125 114.240849 \nL 109.927125 97.608849 \nL 38.503125 97.608849 \nz\n\" clip-path=\"url(#pca85fd0bed)\" style=\"fill: #084b93\"/>\n    <path d=\"M 109.927125 97.608849 \nL 109.927125 114.240849 \nL 181.351125 114.240849 \nL 181.351125 97.608849 \nL 109.927125 97.608849 \nz\n\" clip-path=\"url(#pca85fd0bed)\" style=\"fill: #0e58a2\"/>\n    <path d=\"M 181.351125 97.608849 \nL 181.351125 114.240849 \nL 252.775125 114.240849 \nL 252.775125 97.608849 \nL 181.351125 97.608849 \nz\n\" clip-path=\"url(#pca85fd0bed)\" style=\"fill: #58a1cf\"/>\n    <path d=\"M 252.775125 97.608849 \nL 252.775125 114.240849 \nL 324.199125 114.240849 \nL 324.199125 97.608849 \nL 252.775125 97.608849 \nz\n\" clip-path=\"url(#pca85fd0bed)\" style=\"fill: #2e7ebc\"/>\n    <path d=\"M 38.503125 114.240849 \nL 38.503125 130.872849 \nL 109.927125 130.872849 \nL 109.927125 114.240849 \nL 38.503125 114.240849 \nz\n\" clip-path=\"url(#pca85fd0bed)\" style=\"fill: #083776\"/>\n    <path d=\"M 109.927125 114.240849 \nL 109.927125 130.872849 \nL 181.351125 130.872849 \nL 181.351125 114.240849 \nL 109.927125 114.240849 \nz\n\" clip-path=\"url(#pca85fd0bed)\" style=\"fill: #083573\"/>\n    <path d=\"M 181.351125 114.240849 \nL 181.351125 130.872849 \nL 252.775125 130.872849 \nL 252.775125 114.240849 \nL 181.351125 114.240849 \nz\n\" clip-path=\"url(#pca85fd0bed)\" style=\"fill: #3484bf\"/>\n    <path d=\"M 252.775125 114.240849 \nL 252.775125 130.872849 \nL 324.199125 130.872849 \nL 324.199125 114.240849 \nL 252.775125 114.240849 \nz\n\" clip-path=\"url(#pca85fd0bed)\" style=\"fill: #9fcae1\"/>\n    <path d=\"M 38.503125 130.872849 \nL 38.503125 147.504849 \nL 109.927125 147.504849 \nL 109.927125 130.872849 \nL 38.503125 130.872849 \nz\n\" clip-path=\"url(#pca85fd0bed)\" style=\"fill: #083c7d\"/>\n    <path d=\"M 109.927125 130.872849 \nL 109.927125 147.504849 \nL 181.351125 147.504849 \nL 181.351125 130.872849 \nL 109.927125 130.872849 \nz\n\" clip-path=\"url(#pca85fd0bed)\" style=\"fill: #083b7c\"/>\n    <path d=\"M 181.351125 130.872849 \nL 181.351125 147.504849 \nL 252.775125 147.504849 \nL 252.775125 130.872849 \nL 181.351125 130.872849 \nz\n\" clip-path=\"url(#pca85fd0bed)\" style=\"fill: #1663aa\"/>\n    <path d=\"M 252.775125 130.872849 \nL 252.775125 147.504849 \nL 324.199125 147.504849 \nL 324.199125 130.872849 \nL 252.775125 130.872849 \nz\n\" clip-path=\"url(#pca85fd0bed)\" style=\"fill: #b9d6ea\"/>\n    <path d=\"M 38.503125 147.504849 \nL 38.503125 164.136849 \nL 109.927125 164.136849 \nL 109.927125 147.504849 \nL 38.503125 147.504849 \nz\n\" clip-path=\"url(#pca85fd0bed)\" style=\"fill: #083979\"/>\n    <path d=\"M 109.927125 147.504849 \nL 109.927125 164.136849 \nL 181.351125 164.136849 \nL 181.351125 147.504849 \nL 109.927125 147.504849 \nz\n\" clip-path=\"url(#pca85fd0bed)\" style=\"fill: #083674\"/>\n    <path d=\"M 181.351125 147.504849 \nL 181.351125 164.136849 \nL 252.775125 164.136849 \nL 252.775125 147.504849 \nL 181.351125 147.504849 \nz\n\" clip-path=\"url(#pca85fd0bed)\" style=\"fill: #125da6\"/>\n    <path d=\"M 252.775125 147.504849 \nL 252.775125 164.136849 \nL 324.199125 164.136849 \nL 324.199125 147.504849 \nL 252.775125 147.504849 \nz\n\" clip-path=\"url(#pca85fd0bed)\" style=\"fill: #c9ddf0\"/>\n    <path d=\"M 38.503125 164.136849 \nL 38.503125 180.768849 \nL 109.927125 180.768849 \nL 109.927125 164.136849 \nL 38.503125 164.136849 \nz\n\" clip-path=\"url(#pca85fd0bed)\" style=\"fill: #083c7d\"/>\n    <path d=\"M 109.927125 164.136849 \nL 109.927125 180.768849 \nL 181.351125 180.768849 \nL 181.351125 164.136849 \nL 109.927125 164.136849 \nz\n\" clip-path=\"url(#pca85fd0bed)\" style=\"fill: #084082\"/>\n    <path d=\"M 181.351125 164.136849 \nL 181.351125 180.768849 \nL 252.775125 180.768849 \nL 252.775125 164.136849 \nL 181.351125 164.136849 \nz\n\" clip-path=\"url(#pca85fd0bed)\" style=\"fill: #2e7ebc\"/>\n    <path d=\"M 252.775125 164.136849 \nL 252.775125 180.768849 \nL 324.199125 180.768849 \nL 324.199125 164.136849 \nL 252.775125 164.136849 \nz\n\" clip-path=\"url(#pca85fd0bed)\" style=\"fill: #91c3de\"/>\n    <path d=\"M 38.503125 180.768849 \nL 38.503125 197.400849 \nL 109.927125 197.400849 \nL 109.927125 180.768849 \nL 38.503125 180.768849 \nz\n\" clip-path=\"url(#pca85fd0bed)\" style=\"fill: #084082\"/>\n    <path d=\"M 109.927125 180.768849 \nL 109.927125 197.400849 \nL 181.351125 197.400849 \nL 181.351125 180.768849 \nL 109.927125 180.768849 \nz\n\" clip-path=\"url(#pca85fd0bed)\" style=\"fill: #084b93\"/>\n    <path d=\"M 181.351125 180.768849 \nL 181.351125 197.400849 \nL 252.775125 197.400849 \nL 252.775125 180.768849 \nL 181.351125 180.768849 \nz\n\" clip-path=\"url(#pca85fd0bed)\" style=\"fill: #0e59a2\"/>\n    <path d=\"M 252.775125 180.768849 \nL 252.775125 197.400849 \nL 324.199125 197.400849 \nL 324.199125 180.768849 \nL 252.775125 180.768849 \nz\n\" clip-path=\"url(#pca85fd0bed)\" style=\"fill: #afd1e7\"/>\n    <path d=\"M 38.503125 197.400849 \nL 38.503125 214.032849 \nL 109.927125 214.032849 \nL 109.927125 197.400849 \nL 38.503125 197.400849 \nz\n\" clip-path=\"url(#pca85fd0bed)\" style=\"fill: #083a7a\"/>\n    <path d=\"M 109.927125 197.400849 \nL 109.927125 214.032849 \nL 181.351125 214.032849 \nL 181.351125 197.400849 \nL 109.927125 197.400849 \nz\n\" clip-path=\"url(#pca85fd0bed)\" style=\"fill: #083a7a\"/>\n    <path d=\"M 181.351125 197.400849 \nL 181.351125 214.032849 \nL 252.775125 214.032849 \nL 252.775125 197.400849 \nL 181.351125 197.400849 \nz\n\" clip-path=\"url(#pca85fd0bed)\" style=\"fill: #1460a8\"/>\n    <path d=\"M 252.775125 197.400849 \nL 252.775125 214.032849 \nL 324.199125 214.032849 \nL 324.199125 197.400849 \nL 252.775125 197.400849 \nz\n\" clip-path=\"url(#pca85fd0bed)\" style=\"fill: #c1d9ed\"/>\n    <path d=\"M 38.503125 214.032849 \nL 38.503125 230.664849 \nL 109.927125 230.664849 \nL 109.927125 214.032849 \nL 38.503125 214.032849 \nz\n\" clip-path=\"url(#pca85fd0bed)\" style=\"fill: #083a7a\"/>\n    <path d=\"M 109.927125 214.032849 \nL 109.927125 230.664849 \nL 181.351125 230.664849 \nL 181.351125 214.032849 \nL 109.927125 214.032849 \nz\n\" clip-path=\"url(#pca85fd0bed)\" style=\"fill: #083c7d\"/>\n    <path d=\"M 181.351125 214.032849 \nL 181.351125 230.664849 \nL 252.775125 230.664849 \nL 252.775125 214.032849 \nL 181.351125 214.032849 \nz\n\" clip-path=\"url(#pca85fd0bed)\" style=\"fill: #2070b4\"/>\n    <path d=\"M 252.775125 214.032849 \nL 252.775125 230.664849 \nL 324.199125 230.664849 \nL 324.199125 214.032849 \nL 252.775125 214.032849 \nz\n\" clip-path=\"url(#pca85fd0bed)\" style=\"fill: #aacfe5\"/>\n    <path d=\"M 38.503125 230.664849 \nL 38.503125 247.296849 \nL 109.927125 247.296849 \nL 109.927125 230.664849 \nL 38.503125 230.664849 \nz\n\" clip-path=\"url(#pca85fd0bed)\" style=\"fill: #084387\"/>\n    <path d=\"M 109.927125 230.664849 \nL 109.927125 247.296849 \nL 181.351125 247.296849 \nL 181.351125 230.664849 \nL 109.927125 230.664849 \nz\n\" clip-path=\"url(#pca85fd0bed)\" style=\"fill: #084e98\"/>\n    <path d=\"M 181.351125 230.664849 \nL 181.351125 247.296849 \nL 252.775125 247.296849 \nL 252.775125 230.664849 \nL 181.351125 230.664849 \nz\n\" clip-path=\"url(#pca85fd0bed)\" style=\"fill: #125da6\"/>\n    <path d=\"M 252.775125 230.664849 \nL 252.775125 247.296849 \nL 324.199125 247.296849 \nL 324.199125 230.664849 \nL 252.775125 230.664849 \nz\n\" clip-path=\"url(#pca85fd0bed)\" style=\"fill: #a3cce3\"/>\n    <path d=\"M 38.503125 247.296849 \nL 38.503125 263.928849 \nL 109.927125 263.928849 \nL 109.927125 247.296849 \nL 38.503125 247.296849 \nz\n\" clip-path=\"url(#pca85fd0bed)\" style=\"fill: #083b7c\"/>\n    <path d=\"M 109.927125 247.296849 \nL 109.927125 263.928849 \nL 181.351125 263.928849 \nL 181.351125 247.296849 \nL 109.927125 247.296849 \nz\n\" clip-path=\"url(#pca85fd0bed)\" style=\"fill: #083573\"/>\n    <path d=\"M 181.351125 247.296849 \nL 181.351125 263.928849 \nL 252.775125 263.928849 \nL 252.775125 247.296849 \nL 181.351125 247.296849 \nz\n\" clip-path=\"url(#pca85fd0bed)\" style=\"fill: #1c6ab0\"/>\n    <path d=\"M 252.775125 247.296849 \nL 252.775125 263.928849 \nL 324.199125 263.928849 \nL 324.199125 247.296849 \nL 252.775125 247.296849 \nz\n\" clip-path=\"url(#pca85fd0bed)\" style=\"fill: #b8d5ea\"/>\n    <path d=\"M 38.503125 263.928849 \nL 38.503125 280.560849 \nL 109.927125 280.560849 \nL 109.927125 263.928849 \nL 38.503125 263.928849 \nz\n\" clip-path=\"url(#pca85fd0bed)\" style=\"fill: #084990\"/>\n    <path d=\"M 109.927125 263.928849 \nL 109.927125 280.560849 \nL 181.351125 280.560849 \nL 181.351125 263.928849 \nL 109.927125 263.928849 \nz\n\" clip-path=\"url(#pca85fd0bed)\" style=\"fill: #084d96\"/>\n    <path d=\"M 181.351125 263.928849 \nL 181.351125 280.560849 \nL 252.775125 280.560849 \nL 252.775125 263.928849 \nL 181.351125 263.928849 \nz\n\" clip-path=\"url(#pca85fd0bed)\" style=\"fill: #2979b9\"/>\n    <path d=\"M 252.775125 263.928849 \nL 252.775125 280.560849 \nL 324.199125 280.560849 \nL 324.199125 263.928849 \nL 252.775125 263.928849 \nz\n\" clip-path=\"url(#pca85fd0bed)\" style=\"fill: #71b1d7\"/>\n    <path d=\"M 38.503125 280.560849 \nL 38.503125 297.192849 \nL 109.927125 297.192849 \nL 109.927125 280.560849 \nL 38.503125 280.560849 \nz\n\" clip-path=\"url(#pca85fd0bed)\" style=\"fill: #084184\"/>\n    <path d=\"M 109.927125 280.560849 \nL 109.927125 297.192849 \nL 181.351125 297.192849 \nL 181.351125 280.560849 \nL 109.927125 280.560849 \nz\n\" clip-path=\"url(#pca85fd0bed)\" style=\"fill: #083d7f\"/>\n    <path d=\"M 181.351125 280.560849 \nL 181.351125 297.192849 \nL 252.775125 297.192849 \nL 252.775125 280.560849 \nL 181.351125 280.560849 \nz\n\" clip-path=\"url(#pca85fd0bed)\" style=\"fill: #1663aa\"/>\n    <path d=\"M 252.775125 280.560849 \nL 252.775125 297.192849 \nL 324.199125 297.192849 \nL 324.199125 280.560849 \nL 252.775125 280.560849 \nz\n\" clip-path=\"url(#pca85fd0bed)\" style=\"fill: #b2d2e8\"/>\n    <path d=\"M 38.503125 297.192849 \nL 38.503125 313.824849 \nL 109.927125 313.824849 \nL 109.927125 297.192849 \nL 38.503125 297.192849 \nz\n\" clip-path=\"url(#pca85fd0bed)\" style=\"fill: #084184\"/>\n    <path d=\"M 109.927125 297.192849 \nL 109.927125 313.824849 \nL 181.351125 313.824849 \nL 181.351125 297.192849 \nL 109.927125 297.192849 \nz\n\" clip-path=\"url(#pca85fd0bed)\" style=\"fill: #08468b\"/>\n    <path d=\"M 181.351125 297.192849 \nL 181.351125 313.824849 \nL 252.775125 313.824849 \nL 252.775125 297.192849 \nL 181.351125 297.192849 \nz\n\" clip-path=\"url(#pca85fd0bed)\" style=\"fill: #2b7bba\"/>\n    <path d=\"M 252.775125 297.192849 \nL 252.775125 313.824849 \nL 324.199125 313.824849 \nL 324.199125 297.192849 \nL 252.775125 297.192849 \nz\n\" clip-path=\"url(#pca85fd0bed)\" style=\"fill: #85bcdc\"/>\n   </g>\n   <g id=\"patch_3\">\n    <path d=\"M 38.503125 313.824849 \nL 38.503125 47.712849 \n\" style=\"fill: none; stroke: #cccccc; stroke-linejoin: miter; stroke-linecap: square\"/>\n   </g>\n   <g id=\"patch_4\">\n    <path d=\"M 324.199125 313.824849 \nL 324.199125 47.712849 \n\" style=\"fill: none; stroke: #cccccc; stroke-linejoin: miter; stroke-linecap: square\"/>\n   </g>\n   <g id=\"patch_5\">\n    <path d=\"M 38.503125 313.824849 \nL 324.199125 313.824849 \n\" style=\"fill: none; stroke: #cccccc; stroke-linejoin: miter; stroke-linecap: square\"/>\n   </g>\n   <g id=\"patch_6\">\n    <path d=\"M 38.503125 47.712849 \nL 324.199125 47.712849 \n\" style=\"fill: none; stroke: #cccccc; stroke-linejoin: miter; stroke-linecap: square\"/>\n   </g>\n  </g>\n  <g id=\"axes_2\">\n   <g id=\"patch_7\">\n    <path d=\"M 342.055125 313.824849 \nL 355.360725 313.824849 \nL 355.360725 47.712849 \nL 342.055125 47.712849 \nz\n\" style=\"fill: #ffffff\"/>\n   </g>\n   <g id=\"matplotlib.axis_3\"/>\n   <g id=\"matplotlib.axis_4\">\n    <g id=\"ytick_17\">\n     <g id=\"line2d_41\"/>\n     <g id=\"text_21\">\n      <!-- 0.0 -->\n      <g style=\"fill: #262626\" transform=\"translate(358.860725 317.403756) scale(0.1 -0.1)\">\n       <defs>\n        <path id=\"ArialMT-30\" d=\"M 266 2259 \nQ 266 3072 433 3567 \nQ 600 4063 929 4331 \nQ 1259 4600 1759 4600 \nQ 2128 4600 2406 4451 \nQ 2684 4303 2865 4023 \nQ 3047 3744 3150 3342 \nQ 3253 2941 3253 2259 \nQ 3253 1453 3087 958 \nQ 2922 463 2592 192 \nQ 2263 -78 1759 -78 \nQ 1097 -78 719 397 \nQ 266 969 266 2259 \nz\nM 844 2259 \nQ 844 1131 1108 757 \nQ 1372 384 1759 384 \nQ 2147 384 2411 759 \nQ 2675 1134 2675 2259 \nQ 2675 3391 2411 3762 \nQ 2147 4134 1753 4134 \nQ 1366 4134 1134 3806 \nQ 844 3388 844 2259 \nz\n\" transform=\"scale(0.015625)\"/>\n        <path id=\"ArialMT-2e\" d=\"M 581 0 \nL 581 641 \nL 1222 641 \nL 1222 0 \nL 581 0 \nz\n\" transform=\"scale(0.015625)\"/>\n       </defs>\n       <use xlink:href=\"#ArialMT-30\"/>\n       <use xlink:href=\"#ArialMT-2e\" x=\"55.615234\"/>\n       <use xlink:href=\"#ArialMT-30\" x=\"83.398438\"/>\n      </g>\n     </g>\n    </g>\n    <g id=\"ytick_18\">\n     <g id=\"line2d_42\"/>\n     <g id=\"text_22\">\n      <!-- 0.2 -->\n      <g style=\"fill: #262626\" transform=\"translate(358.860725 264.181356) scale(0.1 -0.1)\">\n       <defs>\n        <path id=\"ArialMT-32\" d=\"M 3222 541 \nL 3222 0 \nL 194 0 \nQ 188 203 259 391 \nQ 375 700 629 1000 \nQ 884 1300 1366 1694 \nQ 2113 2306 2375 2664 \nQ 2638 3022 2638 3341 \nQ 2638 3675 2398 3904 \nQ 2159 4134 1775 4134 \nQ 1369 4134 1125 3890 \nQ 881 3647 878 3216 \nL 300 3275 \nQ 359 3922 746 4261 \nQ 1134 4600 1788 4600 \nQ 2447 4600 2831 4234 \nQ 3216 3869 3216 3328 \nQ 3216 3053 3103 2787 \nQ 2991 2522 2730 2228 \nQ 2469 1934 1863 1422 \nQ 1356 997 1212 845 \nQ 1069 694 975 541 \nL 3222 541 \nz\n\" transform=\"scale(0.015625)\"/>\n       </defs>\n       <use xlink:href=\"#ArialMT-30\"/>\n       <use xlink:href=\"#ArialMT-2e\" x=\"55.615234\"/>\n       <use xlink:href=\"#ArialMT-32\" x=\"83.398438\"/>\n      </g>\n     </g>\n    </g>\n    <g id=\"ytick_19\">\n     <g id=\"line2d_43\"/>\n     <g id=\"text_23\">\n      <!-- 0.4 -->\n      <g style=\"fill: #262626\" transform=\"translate(358.860725 210.958956) scale(0.1 -0.1)\">\n       <defs>\n        <path id=\"ArialMT-34\" d=\"M 2069 0 \nL 2069 1097 \nL 81 1097 \nL 81 1613 \nL 2172 4581 \nL 2631 4581 \nL 2631 1613 \nL 3250 1613 \nL 3250 1097 \nL 2631 1097 \nL 2631 0 \nL 2069 0 \nz\nM 2069 1613 \nL 2069 3678 \nL 634 1613 \nL 2069 1613 \nz\n\" transform=\"scale(0.015625)\"/>\n       </defs>\n       <use xlink:href=\"#ArialMT-30\"/>\n       <use xlink:href=\"#ArialMT-2e\" x=\"55.615234\"/>\n       <use xlink:href=\"#ArialMT-34\" x=\"83.398438\"/>\n      </g>\n     </g>\n    </g>\n    <g id=\"ytick_20\">\n     <g id=\"line2d_44\"/>\n     <g id=\"text_24\">\n      <!-- 0.6 -->\n      <g style=\"fill: #262626\" transform=\"translate(358.860725 157.736556) scale(0.1 -0.1)\">\n       <defs>\n        <path id=\"ArialMT-36\" d=\"M 3184 3459 \nL 2625 3416 \nQ 2550 3747 2413 3897 \nQ 2184 4138 1850 4138 \nQ 1581 4138 1378 3988 \nQ 1113 3794 959 3422 \nQ 806 3050 800 2363 \nQ 1003 2672 1297 2822 \nQ 1591 2972 1913 2972 \nQ 2475 2972 2870 2558 \nQ 3266 2144 3266 1488 \nQ 3266 1056 3080 686 \nQ 2894 316 2569 119 \nQ 2244 -78 1831 -78 \nQ 1128 -78 684 439 \nQ 241 956 241 2144 \nQ 241 3472 731 4075 \nQ 1159 4600 1884 4600 \nQ 2425 4600 2770 4297 \nQ 3116 3994 3184 3459 \nz\nM 888 1484 \nQ 888 1194 1011 928 \nQ 1134 663 1356 523 \nQ 1578 384 1822 384 \nQ 2178 384 2434 671 \nQ 2691 959 2691 1453 \nQ 2691 1928 2437 2201 \nQ 2184 2475 1800 2475 \nQ 1419 2475 1153 2201 \nQ 888 1928 888 1484 \nz\n\" transform=\"scale(0.015625)\"/>\n       </defs>\n       <use xlink:href=\"#ArialMT-30\"/>\n       <use xlink:href=\"#ArialMT-2e\" x=\"55.615234\"/>\n       <use xlink:href=\"#ArialMT-36\" x=\"83.398438\"/>\n      </g>\n     </g>\n    </g>\n    <g id=\"ytick_21\">\n     <g id=\"line2d_45\"/>\n     <g id=\"text_25\">\n      <!-- 0.8 -->\n      <g style=\"fill: #262626\" transform=\"translate(358.860725 104.514156) scale(0.1 -0.1)\">\n       <defs>\n        <path id=\"ArialMT-38\" d=\"M 1131 2484 \nQ 781 2613 612 2850 \nQ 444 3088 444 3419 \nQ 444 3919 803 4259 \nQ 1163 4600 1759 4600 \nQ 2359 4600 2725 4251 \nQ 3091 3903 3091 3403 \nQ 3091 3084 2923 2848 \nQ 2756 2613 2416 2484 \nQ 2838 2347 3058 2040 \nQ 3278 1734 3278 1309 \nQ 3278 722 2862 322 \nQ 2447 -78 1769 -78 \nQ 1091 -78 675 323 \nQ 259 725 259 1325 \nQ 259 1772 486 2073 \nQ 713 2375 1131 2484 \nz\nM 1019 3438 \nQ 1019 3113 1228 2906 \nQ 1438 2700 1772 2700 \nQ 2097 2700 2305 2904 \nQ 2513 3109 2513 3406 \nQ 2513 3716 2298 3927 \nQ 2084 4138 1766 4138 \nQ 1444 4138 1231 3931 \nQ 1019 3725 1019 3438 \nz\nM 838 1322 \nQ 838 1081 952 856 \nQ 1066 631 1291 507 \nQ 1516 384 1775 384 \nQ 2178 384 2440 643 \nQ 2703 903 2703 1303 \nQ 2703 1709 2433 1975 \nQ 2163 2241 1756 2241 \nQ 1359 2241 1098 1978 \nQ 838 1716 838 1322 \nz\n\" transform=\"scale(0.015625)\"/>\n       </defs>\n       <use xlink:href=\"#ArialMT-30\"/>\n       <use xlink:href=\"#ArialMT-2e\" x=\"55.615234\"/>\n       <use xlink:href=\"#ArialMT-38\" x=\"83.398438\"/>\n      </g>\n     </g>\n    </g>\n    <g id=\"ytick_22\">\n     <g id=\"line2d_46\"/>\n     <g id=\"text_26\">\n      <!-- 1.0 -->\n      <g style=\"fill: #262626\" transform=\"translate(358.860725 51.291756) scale(0.1 -0.1)\">\n       <defs>\n        <path id=\"ArialMT-31\" d=\"M 2384 0 \nL 1822 0 \nL 1822 3584 \nQ 1619 3391 1289 3197 \nQ 959 3003 697 2906 \nL 697 3450 \nQ 1169 3672 1522 3987 \nQ 1875 4303 2022 4600 \nL 2384 4600 \nL 2384 0 \nz\n\" transform=\"scale(0.015625)\"/>\n       </defs>\n       <use xlink:href=\"#ArialMT-31\"/>\n       <use xlink:href=\"#ArialMT-2e\" x=\"55.615234\"/>\n       <use xlink:href=\"#ArialMT-30\" x=\"83.398438\"/>\n      </g>\n     </g>\n    </g>\n   </g>\n   <image xlink:href=\"data:image/png;base64,\niVBORw0KGgoAAAANSUhEUgAAABMAAAFxCAYAAACRG5MpAAABwUlEQVR4nO2bwY3DMBADZcOPKyd9pf93rgYuBvAASxYwEEVpV1Li6+/z/R1Iz7luinU40jnnOddFwmozh3Ejo+esNnNYbeYwb9Ug5+zu0ghVm7m8NtUbvTZzmNemdAcssaleGqDNS7s0yJE9h2OZbS5Js0vjXVht5kLXmdimNs1u9Fy1masb/W1YN3qs2szVjT6CYSz3nKGwFTZv7Y8LTXMCW9EDtHNWm7lqcwSTHg+WnIJqM1e70wjWpZHDMBZs895hE00TvKCYbbJVA3wloXcACFvSA8iqIbbZNHMYODBzcWwPiCW2uSVNDNUeMJHYZtOMBR9DSdiS4rjk6A7b5GDipwhyaOJ6tuT5Bt0BS1qdt2yTb0Fim9ruJJ4zbXFULw0ORp9p251y2JI522GThHlvKFsellCY9XjQHZCLXhpWm9o01b87gTDySCW26f27QNN8G6adM/ZWp7XZNHOY1yacJghbcg8Qf6a64/mmaQ5g1qph/rS3PSBV08zlTbPFMVdbXa6mOYC1OA5gHKutbqCmOYC1OA5gWpunaeYwsU0wTbhqcFL3AGura5oDmDZNcQnyjqytLob1jh5rSZpLiuM/wSUIzm1AshEAAAAASUVORK5CYII=\" id=\"imagef862087203\" transform=\"scale(1 -1) translate(0 -265.68)\" x=\"342\" y=\"-47.52\" width=\"13.68\" height=\"265.68\"/>\n   <g id=\"LineCollection_1\"/>\n   <g id=\"patch_8\">\n    <path d=\"M 342.055125 313.824849 \nL 348.707925 313.824849 \nL 355.360725 313.824849 \nL 355.360725 47.712849 \nL 348.707925 47.712849 \nL 342.055125 47.712849 \nL 342.055125 313.824849 \nz\n\" style=\"fill: none; stroke: #cccccc; stroke-linejoin: miter; stroke-linecap: square\"/>\n   </g>\n  </g>\n </g>\n <defs>\n  <clipPath id=\"pca85fd0bed\">\n   <rect x=\"38.503125\" y=\"47.712849\" width=\"285.696\" height=\"266.112\"/>\n  </clipPath>\n </defs>\n</svg>\n"
     },
     "metadata": {},
     "output_type": "display_data"
    }
   ],
   "source": [
    "plot_attention(translator, 'Stockholm är Sveriges huvudstad')"
   ],
   "metadata": {
    "collapsed": false,
    "ExecuteTime": {
     "end_time": "2023-07-04T16:59:13.623516Z",
     "start_time": "2023-07-04T16:59:12.852840600Z"
    }
   }
  },
  {
   "cell_type": "code",
   "execution_count": 53,
   "outputs": [
    {
     "data": {
      "text/plain": "<Figure size 640x480 with 2 Axes>",
      "image/svg+xml": "<?xml version=\"1.0\" encoding=\"utf-8\" standalone=\"no\"?>\n<!DOCTYPE svg PUBLIC \"-//W3C//DTD SVG 1.1//EN\"\n  \"http://www.w3.org/Graphics/SVG/1.1/DTD/svg11.dtd\">\n<svg xmlns:xlink=\"http://www.w3.org/1999/xlink\" width=\"379.960725pt\" height=\"312.751618pt\" viewBox=\"0 0 379.960725 312.751618\" xmlns=\"http://www.w3.org/2000/svg\" version=\"1.1\">\n <metadata>\n  <rdf:RDF xmlns:dc=\"http://purl.org/dc/elements/1.1/\" xmlns:cc=\"http://creativecommons.org/ns#\" xmlns:rdf=\"http://www.w3.org/1999/02/22-rdf-syntax-ns#\">\n   <cc:Work>\n    <dc:type rdf:resource=\"http://purl.org/dc/dcmitype/StillImage\"/>\n    <dc:date>2023-07-04T18:59:24.211836</dc:date>\n    <dc:format>image/svg+xml</dc:format>\n    <dc:creator>\n     <cc:Agent>\n      <dc:title>Matplotlib v3.7.1, https://matplotlib.org/</dc:title>\n     </cc:Agent>\n    </dc:creator>\n   </cc:Work>\n  </rdf:RDF>\n </metadata>\n <defs>\n  <style type=\"text/css\">*{stroke-linejoin: round; stroke-linecap: butt}</style>\n </defs>\n <g id=\"figure_1\">\n  <g id=\"patch_1\">\n   <path d=\"M 0 312.751618 \nL 379.960725 312.751618 \nL 379.960725 0 \nL 0 0 \nz\n\" style=\"fill: #ffffff\"/>\n  </g>\n  <g id=\"axes_1\">\n   <g id=\"patch_2\">\n    <path d=\"M 38.503125 299.985212 \nL 324.199125 299.985212 \nL 324.199125 33.873212 \nL 38.503125 33.873212 \nz\n\" style=\"fill: #ffffff\"/>\n   </g>\n   <g id=\"matplotlib.axis_1\">\n    <g id=\"xtick_1\">\n     <g id=\"line2d_1\">\n      <path d=\"M 74.215125 299.985212 \nL 74.215125 33.873212 \n\" clip-path=\"url(#p2cbb7cffdc)\" style=\"fill: none; stroke: #cccccc; stroke-width: 0.8; stroke-linecap: round\"/>\n     </g>\n     <g id=\"line2d_2\"/>\n     <g id=\"text_1\">\n      <!-- Jag -->\n      <g style=\"fill: #262626\" transform=\"translate(69.664132 28.760928) rotate(-40) scale(0.1 -0.1)\">\n       <defs>\n        <path id=\"ArialMT-4a\" d=\"M 184 1300 \nL 731 1375 \nQ 753 850 928 656 \nQ 1103 463 1413 463 \nQ 1641 463 1806 567 \nQ 1972 672 2034 851 \nQ 2097 1031 2097 1425 \nL 2097 4581 \nL 2703 4581 \nL 2703 1459 \nQ 2703 884 2564 568 \nQ 2425 253 2123 87 \nQ 1822 -78 1416 -78 \nQ 813 -78 492 269 \nQ 172 616 184 1300 \nz\n\" transform=\"scale(0.015625)\"/>\n        <path id=\"ArialMT-61\" d=\"M 2588 409 \nQ 2275 144 1986 34 \nQ 1697 -75 1366 -75 \nQ 819 -75 525 192 \nQ 231 459 231 875 \nQ 231 1119 342 1320 \nQ 453 1522 633 1644 \nQ 813 1766 1038 1828 \nQ 1203 1872 1538 1913 \nQ 2219 1994 2541 2106 \nQ 2544 2222 2544 2253 \nQ 2544 2597 2384 2738 \nQ 2169 2928 1744 2928 \nQ 1347 2928 1158 2789 \nQ 969 2650 878 2297 \nL 328 2372 \nQ 403 2725 575 2942 \nQ 747 3159 1072 3276 \nQ 1397 3394 1825 3394 \nQ 2250 3394 2515 3294 \nQ 2781 3194 2906 3042 \nQ 3031 2891 3081 2659 \nQ 3109 2516 3109 2141 \nL 3109 1391 \nQ 3109 606 3145 398 \nQ 3181 191 3288 0 \nL 2700 0 \nQ 2613 175 2588 409 \nz\nM 2541 1666 \nQ 2234 1541 1622 1453 \nQ 1275 1403 1131 1340 \nQ 988 1278 909 1158 \nQ 831 1038 831 891 \nQ 831 666 1001 516 \nQ 1172 366 1500 366 \nQ 1825 366 2078 508 \nQ 2331 650 2450 897 \nQ 2541 1088 2541 1459 \nL 2541 1666 \nz\n\" transform=\"scale(0.015625)\"/>\n        <path id=\"ArialMT-67\" d=\"M 319 -275 \nL 866 -356 \nQ 900 -609 1056 -725 \nQ 1266 -881 1628 -881 \nQ 2019 -881 2231 -725 \nQ 2444 -569 2519 -288 \nQ 2563 -116 2559 434 \nQ 2191 0 1641 0 \nQ 956 0 581 494 \nQ 206 988 206 1678 \nQ 206 2153 378 2554 \nQ 550 2956 876 3175 \nQ 1203 3394 1644 3394 \nQ 2231 3394 2613 2919 \nL 2613 3319 \nL 3131 3319 \nL 3131 450 \nQ 3131 -325 2973 -648 \nQ 2816 -972 2473 -1159 \nQ 2131 -1347 1631 -1347 \nQ 1038 -1347 672 -1080 \nQ 306 -813 319 -275 \nz\nM 784 1719 \nQ 784 1066 1043 766 \nQ 1303 466 1694 466 \nQ 2081 466 2343 764 \nQ 2606 1063 2606 1700 \nQ 2606 2309 2336 2618 \nQ 2066 2928 1684 2928 \nQ 1309 2928 1046 2623 \nQ 784 2319 784 1719 \nz\n\" transform=\"scale(0.015625)\"/>\n       </defs>\n       <use xlink:href=\"#ArialMT-4a\"/>\n       <use xlink:href=\"#ArialMT-61\" x=\"50\"/>\n       <use xlink:href=\"#ArialMT-67\" x=\"105.615234\"/>\n      </g>\n     </g>\n    </g>\n    <g id=\"xtick_2\">\n     <g id=\"line2d_3\">\n      <path d=\"M 145.639125 299.985212 \nL 145.639125 33.873212 \n\" clip-path=\"url(#p2cbb7cffdc)\" style=\"fill: none; stroke: #cccccc; stroke-width: 0.8; stroke-linecap: round\"/>\n     </g>\n     <g id=\"line2d_4\"/>\n     <g id=\"text_2\">\n      <!-- hyrde -->\n      <g style=\"fill: #262626\" transform=\"translate(137.682825 28.760928) rotate(-40) scale(0.1 -0.1)\">\n       <defs>\n        <path id=\"ArialMT-68\" d=\"M 422 0 \nL 422 4581 \nL 984 4581 \nL 984 2938 \nQ 1378 3394 1978 3394 \nQ 2347 3394 2619 3248 \nQ 2891 3103 3008 2847 \nQ 3125 2591 3125 2103 \nL 3125 0 \nL 2563 0 \nL 2563 2103 \nQ 2563 2525 2380 2717 \nQ 2197 2909 1863 2909 \nQ 1613 2909 1392 2779 \nQ 1172 2650 1078 2428 \nQ 984 2206 984 1816 \nL 984 0 \nL 422 0 \nz\n\" transform=\"scale(0.015625)\"/>\n        <path id=\"ArialMT-79\" d=\"M 397 -1278 \nL 334 -750 \nQ 519 -800 656 -800 \nQ 844 -800 956 -737 \nQ 1069 -675 1141 -563 \nQ 1194 -478 1313 -144 \nQ 1328 -97 1363 -6 \nL 103 3319 \nL 709 3319 \nL 1400 1397 \nQ 1534 1031 1641 628 \nQ 1738 1016 1872 1384 \nL 2581 3319 \nL 3144 3319 \nL 1881 -56 \nQ 1678 -603 1566 -809 \nQ 1416 -1088 1222 -1217 \nQ 1028 -1347 759 -1347 \nQ 597 -1347 397 -1278 \nz\n\" transform=\"scale(0.015625)\"/>\n        <path id=\"ArialMT-72\" d=\"M 416 0 \nL 416 3319 \nL 922 3319 \nL 922 2816 \nQ 1116 3169 1280 3281 \nQ 1444 3394 1641 3394 \nQ 1925 3394 2219 3213 \nL 2025 2691 \nQ 1819 2813 1613 2813 \nQ 1428 2813 1281 2702 \nQ 1134 2591 1072 2394 \nQ 978 2094 978 1738 \nL 978 0 \nL 416 0 \nz\n\" transform=\"scale(0.015625)\"/>\n        <path id=\"ArialMT-64\" d=\"M 2575 0 \nL 2575 419 \nQ 2259 -75 1647 -75 \nQ 1250 -75 917 144 \nQ 584 363 401 755 \nQ 219 1147 219 1656 \nQ 219 2153 384 2558 \nQ 550 2963 881 3178 \nQ 1213 3394 1622 3394 \nQ 1922 3394 2156 3267 \nQ 2391 3141 2538 2938 \nL 2538 4581 \nL 3097 4581 \nL 3097 0 \nL 2575 0 \nz\nM 797 1656 \nQ 797 1019 1065 703 \nQ 1334 388 1700 388 \nQ 2069 388 2326 689 \nQ 2584 991 2584 1609 \nQ 2584 2291 2321 2609 \nQ 2059 2928 1675 2928 \nQ 1300 2928 1048 2622 \nQ 797 2316 797 1656 \nz\n\" transform=\"scale(0.015625)\"/>\n        <path id=\"ArialMT-65\" d=\"M 2694 1069 \nL 3275 997 \nQ 3138 488 2766 206 \nQ 2394 -75 1816 -75 \nQ 1088 -75 661 373 \nQ 234 822 234 1631 \nQ 234 2469 665 2931 \nQ 1097 3394 1784 3394 \nQ 2450 3394 2872 2941 \nQ 3294 2488 3294 1666 \nQ 3294 1616 3291 1516 \nL 816 1516 \nQ 847 969 1125 678 \nQ 1403 388 1819 388 \nQ 2128 388 2347 550 \nQ 2566 713 2694 1069 \nz\nM 847 1978 \nL 2700 1978 \nQ 2663 2397 2488 2606 \nQ 2219 2931 1791 2931 \nQ 1403 2931 1139 2672 \nQ 875 2413 847 1978 \nz\n\" transform=\"scale(0.015625)\"/>\n       </defs>\n       <use xlink:href=\"#ArialMT-68\"/>\n       <use xlink:href=\"#ArialMT-79\" x=\"55.615234\"/>\n       <use xlink:href=\"#ArialMT-72\" x=\"105.615234\"/>\n       <use xlink:href=\"#ArialMT-64\" x=\"138.916016\"/>\n       <use xlink:href=\"#ArialMT-65\" x=\"194.53125\"/>\n      </g>\n     </g>\n    </g>\n    <g id=\"xtick_3\">\n     <g id=\"line2d_5\">\n      <path d=\"M 217.063125 299.985212 \nL 217.063125 33.873212 \n\" clip-path=\"url(#p2cbb7cffdc)\" style=\"fill: none; stroke: #cccccc; stroke-width: 0.8; stroke-linecap: round\"/>\n     </g>\n     <g id=\"line2d_6\"/>\n     <g id=\"text_3\">\n      <!-- en -->\n      <g style=\"fill: #262626\" transform=\"translate(214.464906 28.850698) rotate(-40) scale(0.1 -0.1)\">\n       <defs>\n        <path id=\"ArialMT-6e\" d=\"M 422 0 \nL 422 3319 \nL 928 3319 \nL 928 2847 \nQ 1294 3394 1984 3394 \nQ 2284 3394 2536 3286 \nQ 2788 3178 2913 3003 \nQ 3038 2828 3088 2588 \nQ 3119 2431 3119 2041 \nL 3119 0 \nL 2556 0 \nL 2556 2019 \nQ 2556 2363 2490 2533 \nQ 2425 2703 2258 2804 \nQ 2091 2906 1866 2906 \nQ 1506 2906 1245 2678 \nQ 984 2450 984 1813 \nL 984 0 \nL 422 0 \nz\n\" transform=\"scale(0.015625)\"/>\n       </defs>\n       <use xlink:href=\"#ArialMT-65\"/>\n       <use xlink:href=\"#ArialMT-6e\" x=\"55.615234\"/>\n      </g>\n     </g>\n    </g>\n    <g id=\"xtick_4\">\n     <g id=\"line2d_7\">\n      <path d=\"M 288.487125 299.985212 \nL 288.487125 33.873212 \n\" clip-path=\"url(#p2cbb7cffdc)\" style=\"fill: none; stroke: #cccccc; stroke-width: 0.8; stroke-linecap: round\"/>\n     </g>\n     <g id=\"line2d_8\"/>\n     <g id=\"text_4\">\n      <!-- båt -->\n      <g style=\"fill: #262626\" transform=\"translate(284.824823 28.850698) rotate(-40) scale(0.1 -0.1)\">\n       <defs>\n        <path id=\"ArialMT-62\" d=\"M 941 0 \nL 419 0 \nL 419 4581 \nL 981 4581 \nL 981 2947 \nQ 1338 3394 1891 3394 \nQ 2197 3394 2470 3270 \nQ 2744 3147 2920 2923 \nQ 3097 2700 3197 2384 \nQ 3297 2069 3297 1709 \nQ 3297 856 2875 390 \nQ 2453 -75 1863 -75 \nQ 1275 -75 941 416 \nL 941 0 \nz\nM 934 1684 \nQ 934 1088 1097 822 \nQ 1363 388 1816 388 \nQ 2184 388 2453 708 \nQ 2722 1028 2722 1663 \nQ 2722 2313 2464 2622 \nQ 2206 2931 1841 2931 \nQ 1472 2931 1203 2611 \nQ 934 2291 934 1684 \nz\n\" transform=\"scale(0.015625)\"/>\n        <path id=\"ArialMT-e5\" d=\"M 2588 409 \nQ 2275 144 1986 34 \nQ 1697 -75 1366 -75 \nQ 819 -75 525 192 \nQ 231 459 231 875 \nQ 231 1119 342 1320 \nQ 453 1522 633 1644 \nQ 813 1766 1038 1828 \nQ 1203 1872 1538 1913 \nQ 2219 1994 2541 2106 \nQ 2544 2222 2544 2253 \nQ 2544 2597 2384 2738 \nQ 2169 2928 1744 2928 \nQ 1347 2928 1158 2789 \nQ 969 2650 878 2297 \nL 328 2372 \nQ 403 2725 575 2942 \nQ 747 3159 1072 3276 \nQ 1397 3394 1825 3394 \nQ 2250 3394 2515 3294 \nQ 2781 3194 2906 3042 \nQ 3031 2891 3081 2659 \nQ 3109 2516 3109 2141 \nL 3109 1391 \nQ 3109 606 3145 398 \nQ 3181 191 3288 0 \nL 2700 0 \nQ 2613 175 2588 409 \nz\nM 2541 1666 \nQ 2234 1541 1622 1453 \nQ 1275 1403 1131 1340 \nQ 988 1278 909 1158 \nQ 831 1038 831 891 \nQ 831 666 1001 516 \nQ 1172 366 1500 366 \nQ 1825 366 2078 508 \nQ 2331 650 2450 897 \nQ 2541 1088 2541 1459 \nL 2541 1666 \nz\nM 1194 4181 \nQ 1194 4409 1361 4575 \nQ 1529 4741 1757 4741 \nQ 1988 4741 2153 4573 \nQ 2319 4406 2319 4169 \nQ 2319 3928 2153 3762 \nQ 1988 3597 1760 3597 \nQ 1526 3597 1360 3764 \nQ 1194 3931 1194 4181 \nz\nM 1432 4178 \nQ 1432 4031 1530 3931 \nQ 1629 3831 1763 3831 \nQ 1897 3831 1995 3931 \nQ 2094 4031 2094 4172 \nQ 2094 4313 1997 4413 \nQ 1901 4513 1763 4513 \nQ 1629 4513 1530 4414 \nQ 1432 4316 1432 4178 \nz\n\" transform=\"scale(0.015625)\"/>\n        <path id=\"ArialMT-74\" d=\"M 1650 503 \nL 1731 6 \nQ 1494 -44 1306 -44 \nQ 1000 -44 831 53 \nQ 663 150 594 308 \nQ 525 466 525 972 \nL 525 2881 \nL 113 2881 \nL 113 3319 \nL 525 3319 \nL 525 4141 \nL 1084 4478 \nL 1084 3319 \nL 1650 3319 \nL 1650 2881 \nL 1084 2881 \nL 1084 941 \nQ 1084 700 1114 631 \nQ 1144 563 1211 522 \nQ 1278 481 1403 481 \nQ 1497 481 1650 503 \nz\n\" transform=\"scale(0.015625)\"/>\n       </defs>\n       <use xlink:href=\"#ArialMT-62\"/>\n       <use xlink:href=\"#ArialMT-e5\" x=\"55.615234\"/>\n       <use xlink:href=\"#ArialMT-74\" x=\"111.230469\"/>\n      </g>\n     </g>\n    </g>\n   </g>\n   <g id=\"matplotlib.axis_2\">\n    <g id=\"ytick_1\">\n     <g id=\"line2d_9\">\n      <path d=\"M 38.503125 47.178812 \nL 324.199125 47.178812 \n\" clip-path=\"url(#p2cbb7cffdc)\" style=\"fill: none; stroke: #cccccc; stroke-width: 0.8; stroke-linecap: round\"/>\n     </g>\n     <g id=\"line2d_10\"/>\n     <g id=\"text_5\">\n      <!-- &lt;unk&gt; -->\n      <g style=\"fill: #262626\" transform=\"translate(7.2 50.757718) scale(0.1 -0.1)\">\n       <defs>\n        <path id=\"ArialMT-3c\" d=\"M 350 2003 \nL 350 2528 \nL 3384 3809 \nL 3384 3250 \nL 978 2263 \nL 3384 1266 \nL 3384 706 \nL 350 2003 \nz\n\" transform=\"scale(0.015625)\"/>\n        <path id=\"ArialMT-75\" d=\"M 2597 0 \nL 2597 488 \nQ 2209 -75 1544 -75 \nQ 1250 -75 995 37 \nQ 741 150 617 320 \nQ 494 491 444 738 \nQ 409 903 409 1263 \nL 409 3319 \nL 972 3319 \nL 972 1478 \nQ 972 1038 1006 884 \nQ 1059 663 1231 536 \nQ 1403 409 1656 409 \nQ 1909 409 2131 539 \nQ 2353 669 2445 892 \nQ 2538 1116 2538 1541 \nL 2538 3319 \nL 3100 3319 \nL 3100 0 \nL 2597 0 \nz\n\" transform=\"scale(0.015625)\"/>\n        <path id=\"ArialMT-6b\" d=\"M 425 0 \nL 425 4581 \nL 988 4581 \nL 988 1969 \nL 2319 3319 \nL 3047 3319 \nL 1778 2088 \nL 3175 0 \nL 2481 0 \nL 1384 1697 \nL 988 1316 \nL 988 0 \nL 425 0 \nz\n\" transform=\"scale(0.015625)\"/>\n        <path id=\"ArialMT-3e\" d=\"M 3384 2003 \nL 350 706 \nL 350 1266 \nL 2753 2263 \nL 350 3250 \nL 350 3809 \nL 3384 2528 \nL 3384 2003 \nz\n\" transform=\"scale(0.015625)\"/>\n       </defs>\n       <use xlink:href=\"#ArialMT-3c\"/>\n       <use xlink:href=\"#ArialMT-75\" x=\"58.398438\"/>\n       <use xlink:href=\"#ArialMT-6e\" x=\"114.013672\"/>\n       <use xlink:href=\"#ArialMT-6b\" x=\"169.628906\"/>\n       <use xlink:href=\"#ArialMT-3e\" x=\"219.628906\"/>\n      </g>\n     </g>\n    </g>\n    <g id=\"ytick_2\">\n     <g id=\"line2d_11\">\n      <path d=\"M 38.503125 73.790012 \nL 324.199125 73.790012 \n\" clip-path=\"url(#p2cbb7cffdc)\" style=\"fill: none; stroke: #cccccc; stroke-width: 0.8; stroke-linecap: round\"/>\n     </g>\n     <g id=\"line2d_12\"/>\n     <g id=\"text_6\">\n      <!-- a -->\n      <g style=\"fill: #262626\" transform=\"translate(29.442187 77.368918) scale(0.1 -0.1)\">\n       <use xlink:href=\"#ArialMT-61\"/>\n      </g>\n     </g>\n    </g>\n    <g id=\"ytick_3\">\n     <g id=\"line2d_13\">\n      <path d=\"M 38.503125 100.401212 \nL 324.199125 100.401212 \n\" clip-path=\"url(#p2cbb7cffdc)\" style=\"fill: none; stroke: #cccccc; stroke-width: 0.8; stroke-linecap: round\"/>\n     </g>\n     <g id=\"line2d_14\"/>\n     <g id=\"text_7\">\n      <!-- &lt;unk&gt; -->\n      <g style=\"fill: #262626\" transform=\"translate(7.2 103.980118) scale(0.1 -0.1)\">\n       <use xlink:href=\"#ArialMT-3c\"/>\n       <use xlink:href=\"#ArialMT-75\" x=\"58.398438\"/>\n       <use xlink:href=\"#ArialMT-6e\" x=\"114.013672\"/>\n       <use xlink:href=\"#ArialMT-6b\" x=\"169.628906\"/>\n       <use xlink:href=\"#ArialMT-3e\" x=\"219.628906\"/>\n      </g>\n     </g>\n    </g>\n    <g id=\"ytick_4\">\n     <g id=\"line2d_15\">\n      <path d=\"M 38.503125 127.012412 \nL 324.199125 127.012412 \n\" clip-path=\"url(#p2cbb7cffdc)\" style=\"fill: none; stroke: #cccccc; stroke-width: 0.8; stroke-linecap: round\"/>\n     </g>\n     <g id=\"line2d_16\"/>\n     <g id=\"text_8\">\n      <!-- &lt;unk&gt; -->\n      <g style=\"fill: #262626\" transform=\"translate(7.2 130.591318) scale(0.1 -0.1)\">\n       <use xlink:href=\"#ArialMT-3c\"/>\n       <use xlink:href=\"#ArialMT-75\" x=\"58.398438\"/>\n       <use xlink:href=\"#ArialMT-6e\" x=\"114.013672\"/>\n       <use xlink:href=\"#ArialMT-6b\" x=\"169.628906\"/>\n       <use xlink:href=\"#ArialMT-3e\" x=\"219.628906\"/>\n      </g>\n     </g>\n    </g>\n    <g id=\"ytick_5\">\n     <g id=\"line2d_17\">\n      <path d=\"M 38.503125 153.623612 \nL 324.199125 153.623612 \n\" clip-path=\"url(#p2cbb7cffdc)\" style=\"fill: none; stroke: #cccccc; stroke-width: 0.8; stroke-linecap: round\"/>\n     </g>\n     <g id=\"line2d_18\"/>\n     <g id=\"text_9\">\n      <!-- a -->\n      <g style=\"fill: #262626\" transform=\"translate(29.442187 157.202518) scale(0.1 -0.1)\">\n       <use xlink:href=\"#ArialMT-61\"/>\n      </g>\n     </g>\n    </g>\n    <g id=\"ytick_6\">\n     <g id=\"line2d_19\">\n      <path d=\"M 38.503125 180.234812 \nL 324.199125 180.234812 \n\" clip-path=\"url(#p2cbb7cffdc)\" style=\"fill: none; stroke: #cccccc; stroke-width: 0.8; stroke-linecap: round\"/>\n     </g>\n     <g id=\"line2d_20\"/>\n     <g id=\"text_10\">\n      <!-- &lt;unk&gt; -->\n      <g style=\"fill: #262626\" transform=\"translate(7.2 183.813718) scale(0.1 -0.1)\">\n       <use xlink:href=\"#ArialMT-3c\"/>\n       <use xlink:href=\"#ArialMT-75\" x=\"58.398438\"/>\n       <use xlink:href=\"#ArialMT-6e\" x=\"114.013672\"/>\n       <use xlink:href=\"#ArialMT-6b\" x=\"169.628906\"/>\n       <use xlink:href=\"#ArialMT-3e\" x=\"219.628906\"/>\n      </g>\n     </g>\n    </g>\n    <g id=\"ytick_7\">\n     <g id=\"line2d_21\">\n      <path d=\"M 38.503125 206.846012 \nL 324.199125 206.846012 \n\" clip-path=\"url(#p2cbb7cffdc)\" style=\"fill: none; stroke: #cccccc; stroke-width: 0.8; stroke-linecap: round\"/>\n     </g>\n     <g id=\"line2d_22\"/>\n     <g id=\"text_11\">\n      <!-- of -->\n      <g style=\"fill: #262626\" transform=\"translate(26.664062 210.424918) scale(0.1 -0.1)\">\n       <defs>\n        <path id=\"ArialMT-6f\" d=\"M 213 1659 \nQ 213 2581 725 3025 \nQ 1153 3394 1769 3394 \nQ 2453 3394 2887 2945 \nQ 3322 2497 3322 1706 \nQ 3322 1066 3130 698 \nQ 2938 331 2570 128 \nQ 2203 -75 1769 -75 \nQ 1072 -75 642 372 \nQ 213 819 213 1659 \nz\nM 791 1659 \nQ 791 1022 1069 705 \nQ 1347 388 1769 388 \nQ 2188 388 2466 706 \nQ 2744 1025 2744 1678 \nQ 2744 2294 2464 2611 \nQ 2184 2928 1769 2928 \nQ 1347 2928 1069 2612 \nQ 791 2297 791 1659 \nz\n\" transform=\"scale(0.015625)\"/>\n        <path id=\"ArialMT-66\" d=\"M 556 0 \nL 556 2881 \nL 59 2881 \nL 59 3319 \nL 556 3319 \nL 556 3672 \nQ 556 4006 616 4169 \nQ 697 4388 901 4523 \nQ 1106 4659 1475 4659 \nQ 1713 4659 2000 4603 \nL 1916 4113 \nQ 1741 4144 1584 4144 \nQ 1328 4144 1222 4034 \nQ 1116 3925 1116 3625 \nL 1116 3319 \nL 1763 3319 \nL 1763 2881 \nL 1116 2881 \nL 1116 0 \nL 556 0 \nz\n\" transform=\"scale(0.015625)\"/>\n       </defs>\n       <use xlink:href=\"#ArialMT-6f\"/>\n       <use xlink:href=\"#ArialMT-66\" x=\"55.615234\"/>\n      </g>\n     </g>\n    </g>\n    <g id=\"ytick_8\">\n     <g id=\"line2d_23\">\n      <path d=\"M 38.503125 233.457212 \nL 324.199125 233.457212 \n\" clip-path=\"url(#p2cbb7cffdc)\" style=\"fill: none; stroke: #cccccc; stroke-width: 0.8; stroke-linecap: round\"/>\n     </g>\n     <g id=\"line2d_24\"/>\n     <g id=\"text_12\">\n      <!-- a -->\n      <g style=\"fill: #262626\" transform=\"translate(29.442187 237.036118) scale(0.1 -0.1)\">\n       <use xlink:href=\"#ArialMT-61\"/>\n      </g>\n     </g>\n    </g>\n    <g id=\"ytick_9\">\n     <g id=\"line2d_25\">\n      <path d=\"M 38.503125 260.068412 \nL 324.199125 260.068412 \n\" clip-path=\"url(#p2cbb7cffdc)\" style=\"fill: none; stroke: #cccccc; stroke-width: 0.8; stroke-linecap: round\"/>\n     </g>\n     <g id=\"line2d_26\"/>\n     <g id=\"text_13\">\n      <!-- &lt;unk&gt; -->\n      <g style=\"fill: #262626\" transform=\"translate(7.2 263.647318) scale(0.1 -0.1)\">\n       <use xlink:href=\"#ArialMT-3c\"/>\n       <use xlink:href=\"#ArialMT-75\" x=\"58.398438\"/>\n       <use xlink:href=\"#ArialMT-6e\" x=\"114.013672\"/>\n       <use xlink:href=\"#ArialMT-6b\" x=\"169.628906\"/>\n       <use xlink:href=\"#ArialMT-3e\" x=\"219.628906\"/>\n      </g>\n     </g>\n    </g>\n    <g id=\"ytick_10\">\n     <g id=\"line2d_27\">\n      <path d=\"M 38.503125 286.679612 \nL 324.199125 286.679612 \n\" clip-path=\"url(#p2cbb7cffdc)\" style=\"fill: none; stroke: #cccccc; stroke-width: 0.8; stroke-linecap: round\"/>\n     </g>\n     <g id=\"line2d_28\"/>\n     <g id=\"text_14\">\n      <!-- . -->\n      <g style=\"fill: #262626\" transform=\"translate(32.225 290.258518) scale(0.1 -0.1)\">\n       <defs>\n        <path id=\"ArialMT-2e\" d=\"M 581 0 \nL 581 641 \nL 1222 641 \nL 1222 0 \nL 581 0 \nz\n\" transform=\"scale(0.015625)\"/>\n       </defs>\n       <use xlink:href=\"#ArialMT-2e\"/>\n      </g>\n     </g>\n    </g>\n   </g>\n   <g id=\"PolyCollection_1\">\n    <path d=\"M 38.503125 33.873212 \nL 38.503125 60.484412 \nL 109.927125 60.484412 \nL 109.927125 33.873212 \nL 38.503125 33.873212 \nz\n\" clip-path=\"url(#p2cbb7cffdc)\" style=\"fill: #3d8dc4\"/>\n    <path d=\"M 109.927125 33.873212 \nL 109.927125 60.484412 \nL 181.351125 60.484412 \nL 181.351125 33.873212 \nL 109.927125 33.873212 \nz\n\" clip-path=\"url(#p2cbb7cffdc)\" style=\"fill: #4d99ca\"/>\n    <path d=\"M 181.351125 33.873212 \nL 181.351125 60.484412 \nL 252.775125 60.484412 \nL 252.775125 33.873212 \nL 181.351125 33.873212 \nz\n\" clip-path=\"url(#p2cbb7cffdc)\" style=\"fill: #135fa7\"/>\n    <path d=\"M 252.775125 33.873212 \nL 252.775125 60.484412 \nL 324.199125 60.484412 \nL 324.199125 33.873212 \nL 252.775125 33.873212 \nz\n\" clip-path=\"url(#p2cbb7cffdc)\" style=\"fill: #083d7f\"/>\n    <path d=\"M 38.503125 60.484412 \nL 38.503125 87.095612 \nL 109.927125 87.095612 \nL 109.927125 60.484412 \nL 38.503125 60.484412 \nz\n\" clip-path=\"url(#p2cbb7cffdc)\" style=\"fill: #2272b6\"/>\n    <path d=\"M 109.927125 60.484412 \nL 109.927125 87.095612 \nL 181.351125 87.095612 \nL 181.351125 60.484412 \nL 109.927125 60.484412 \nz\n\" clip-path=\"url(#p2cbb7cffdc)\" style=\"fill: #5ca4d0\"/>\n    <path d=\"M 181.351125 60.484412 \nL 181.351125 87.095612 \nL 252.775125 87.095612 \nL 252.775125 60.484412 \nL 181.351125 60.484412 \nz\n\" clip-path=\"url(#p2cbb7cffdc)\" style=\"fill: #0b559f\"/>\n    <path d=\"M 252.775125 60.484412 \nL 252.775125 87.095612 \nL 324.199125 87.095612 \nL 324.199125 60.484412 \nL 252.775125 60.484412 \nz\n\" clip-path=\"url(#p2cbb7cffdc)\" style=\"fill: #0d57a1\"/>\n    <path d=\"M 38.503125 87.095612 \nL 38.503125 113.706812 \nL 109.927125 113.706812 \nL 109.927125 87.095612 \nL 38.503125 87.095612 \nz\n\" clip-path=\"url(#p2cbb7cffdc)\" style=\"fill: #0e59a2\"/>\n    <path d=\"M 109.927125 87.095612 \nL 109.927125 113.706812 \nL 181.351125 113.706812 \nL 181.351125 87.095612 \nL 109.927125 87.095612 \nz\n\" clip-path=\"url(#p2cbb7cffdc)\" style=\"fill: #2c7cba\"/>\n    <path d=\"M 181.351125 87.095612 \nL 181.351125 113.706812 \nL 252.775125 113.706812 \nL 252.775125 87.095612 \nL 181.351125 87.095612 \nz\n\" clip-path=\"url(#p2cbb7cffdc)\" style=\"fill: #1967ad\"/>\n    <path d=\"M 252.775125 87.095612 \nL 252.775125 113.706812 \nL 324.199125 113.706812 \nL 324.199125 87.095612 \nL 252.775125 87.095612 \nz\n\" clip-path=\"url(#p2cbb7cffdc)\" style=\"fill: #3787c0\"/>\n    <path d=\"M 38.503125 113.706812 \nL 38.503125 140.318012 \nL 109.927125 140.318012 \nL 109.927125 113.706812 \nL 38.503125 113.706812 \nz\n\" clip-path=\"url(#p2cbb7cffdc)\" style=\"fill: #08509b\"/>\n    <path d=\"M 109.927125 113.706812 \nL 109.927125 140.318012 \nL 181.351125 140.318012 \nL 181.351125 113.706812 \nL 109.927125 113.706812 \nz\n\" clip-path=\"url(#p2cbb7cffdc)\" style=\"fill: #2373b6\"/>\n    <path d=\"M 181.351125 113.706812 \nL 181.351125 140.318012 \nL 252.775125 140.318012 \nL 252.775125 113.706812 \nL 181.351125 113.706812 \nz\n\" clip-path=\"url(#p2cbb7cffdc)\" style=\"fill: #1b69af\"/>\n    <path d=\"M 252.775125 113.706812 \nL 252.775125 140.318012 \nL 324.199125 140.318012 \nL 324.199125 113.706812 \nL 252.775125 113.706812 \nz\n\" clip-path=\"url(#p2cbb7cffdc)\" style=\"fill: #4997c9\"/>\n    <path d=\"M 38.503125 140.318012 \nL 38.503125 166.929212 \nL 109.927125 166.929212 \nL 109.927125 140.318012 \nL 38.503125 140.318012 \nz\n\" clip-path=\"url(#p2cbb7cffdc)\" style=\"fill: #084285\"/>\n    <path d=\"M 109.927125 140.318012 \nL 109.927125 166.929212 \nL 181.351125 166.929212 \nL 181.351125 140.318012 \nL 109.927125 140.318012 \nz\n\" clip-path=\"url(#p2cbb7cffdc)\" style=\"fill: #0c56a0\"/>\n    <path d=\"M 181.351125 140.318012 \nL 181.351125 166.929212 \nL 252.775125 166.929212 \nL 252.775125 140.318012 \nL 181.351125 140.318012 \nz\n\" clip-path=\"url(#p2cbb7cffdc)\" style=\"fill: #1b69af\"/>\n    <path d=\"M 252.775125 140.318012 \nL 252.775125 166.929212 \nL 324.199125 166.929212 \nL 324.199125 140.318012 \nL 252.775125 140.318012 \nz\n\" clip-path=\"url(#p2cbb7cffdc)\" style=\"fill: #85bcdc\"/>\n    <path d=\"M 38.503125 166.929212 \nL 38.503125 193.540412 \nL 109.927125 193.540412 \nL 109.927125 166.929212 \nL 38.503125 166.929212 \nz\n\" clip-path=\"url(#p2cbb7cffdc)\" style=\"fill: #083e81\"/>\n    <path d=\"M 109.927125 166.929212 \nL 109.927125 193.540412 \nL 181.351125 193.540412 \nL 181.351125 166.929212 \nL 109.927125 166.929212 \nz\n\" clip-path=\"url(#p2cbb7cffdc)\" style=\"fill: #084e98\"/>\n    <path d=\"M 181.351125 166.929212 \nL 181.351125 193.540412 \nL 252.775125 193.540412 \nL 252.775125 166.929212 \nL 181.351125 166.929212 \nz\n\" clip-path=\"url(#p2cbb7cffdc)\" style=\"fill: #2979b9\"/>\n    <path d=\"M 252.775125 166.929212 \nL 252.775125 193.540412 \nL 324.199125 193.540412 \nL 324.199125 166.929212 \nL 252.775125 166.929212 \nz\n\" clip-path=\"url(#p2cbb7cffdc)\" style=\"fill: #7fb9da\"/>\n    <path d=\"M 38.503125 193.540412 \nL 38.503125 220.151612 \nL 109.927125 220.151612 \nL 109.927125 193.540412 \nL 38.503125 193.540412 \nz\n\" clip-path=\"url(#p2cbb7cffdc)\" style=\"fill: #08488e\"/>\n    <path d=\"M 109.927125 193.540412 \nL 109.927125 220.151612 \nL 181.351125 220.151612 \nL 181.351125 193.540412 \nL 109.927125 193.540412 \nz\n\" clip-path=\"url(#p2cbb7cffdc)\" style=\"fill: #1562a9\"/>\n    <path d=\"M 181.351125 193.540412 \nL 181.351125 220.151612 \nL 252.775125 220.151612 \nL 252.775125 193.540412 \nL 181.351125 193.540412 \nz\n\" clip-path=\"url(#p2cbb7cffdc)\" style=\"fill: #2373b6\"/>\n    <path d=\"M 252.775125 193.540412 \nL 252.775125 220.151612 \nL 324.199125 220.151612 \nL 324.199125 193.540412 \nL 252.775125 193.540412 \nz\n\" clip-path=\"url(#p2cbb7cffdc)\" style=\"fill: #5ba3d0\"/>\n    <path d=\"M 38.503125 220.151612 \nL 38.503125 246.762812 \nL 109.927125 246.762812 \nL 109.927125 220.151612 \nL 38.503125 220.151612 \nz\n\" clip-path=\"url(#p2cbb7cffdc)\" style=\"fill: #084387\"/>\n    <path d=\"M 109.927125 220.151612 \nL 109.927125 246.762812 \nL 181.351125 246.762812 \nL 181.351125 220.151612 \nL 109.927125 220.151612 \nz\n\" clip-path=\"url(#p2cbb7cffdc)\" style=\"fill: #0a549e\"/>\n    <path d=\"M 181.351125 220.151612 \nL 181.351125 246.762812 \nL 252.775125 246.762812 \nL 252.775125 220.151612 \nL 181.351125 220.151612 \nz\n\" clip-path=\"url(#p2cbb7cffdc)\" style=\"fill: #1b69af\"/>\n    <path d=\"M 252.775125 220.151612 \nL 252.775125 246.762812 \nL 324.199125 246.762812 \nL 324.199125 220.151612 \nL 252.775125 220.151612 \nz\n\" clip-path=\"url(#p2cbb7cffdc)\" style=\"fill: #87bddc\"/>\n    <path d=\"M 38.503125 246.762812 \nL 38.503125 273.374012 \nL 109.927125 273.374012 \nL 109.927125 246.762812 \nL 38.503125 246.762812 \nz\n\" clip-path=\"url(#p2cbb7cffdc)\" style=\"fill: #084285\"/>\n    <path d=\"M 109.927125 246.762812 \nL 109.927125 273.374012 \nL 181.351125 273.374012 \nL 181.351125 246.762812 \nL 109.927125 246.762812 \nz\n\" clip-path=\"url(#p2cbb7cffdc)\" style=\"fill: #08519c\"/>\n    <path d=\"M 181.351125 246.762812 \nL 181.351125 273.374012 \nL 252.775125 273.374012 \nL 252.775125 246.762812 \nL 181.351125 246.762812 \nz\n\" clip-path=\"url(#p2cbb7cffdc)\" style=\"fill: #1967ad\"/>\n    <path d=\"M 252.775125 246.762812 \nL 252.775125 273.374012 \nL 324.199125 273.374012 \nL 324.199125 246.762812 \nL 252.775125 246.762812 \nz\n\" clip-path=\"url(#p2cbb7cffdc)\" style=\"fill: #91c3de\"/>\n    <path d=\"M 38.503125 273.374012 \nL 38.503125 299.985212 \nL 109.927125 299.985212 \nL 109.927125 273.374012 \nL 38.503125 273.374012 \nz\n\" clip-path=\"url(#p2cbb7cffdc)\" style=\"fill: #08468b\"/>\n    <path d=\"M 109.927125 273.374012 \nL 109.927125 299.985212 \nL 181.351125 299.985212 \nL 181.351125 273.374012 \nL 109.927125 273.374012 \nz\n\" clip-path=\"url(#p2cbb7cffdc)\" style=\"fill: #1562a9\"/>\n    <path d=\"M 181.351125 273.374012 \nL 181.351125 299.985212 \nL 252.775125 299.985212 \nL 252.775125 273.374012 \nL 181.351125 273.374012 \nz\n\" clip-path=\"url(#p2cbb7cffdc)\" style=\"fill: #125ea6\"/>\n    <path d=\"M 252.775125 273.374012 \nL 252.775125 299.985212 \nL 324.199125 299.985212 \nL 324.199125 273.374012 \nL 252.775125 273.374012 \nz\n\" clip-path=\"url(#p2cbb7cffdc)\" style=\"fill: #7db8da\"/>\n   </g>\n   <g id=\"patch_3\">\n    <path d=\"M 38.503125 299.985212 \nL 38.503125 33.873212 \n\" style=\"fill: none; stroke: #cccccc; stroke-linejoin: miter; stroke-linecap: square\"/>\n   </g>\n   <g id=\"patch_4\">\n    <path d=\"M 324.199125 299.985212 \nL 324.199125 33.873212 \n\" style=\"fill: none; stroke: #cccccc; stroke-linejoin: miter; stroke-linecap: square\"/>\n   </g>\n   <g id=\"patch_5\">\n    <path d=\"M 38.503125 299.985212 \nL 324.199125 299.985212 \n\" style=\"fill: none; stroke: #cccccc; stroke-linejoin: miter; stroke-linecap: square\"/>\n   </g>\n   <g id=\"patch_6\">\n    <path d=\"M 38.503125 33.873212 \nL 324.199125 33.873212 \n\" style=\"fill: none; stroke: #cccccc; stroke-linejoin: miter; stroke-linecap: square\"/>\n   </g>\n  </g>\n  <g id=\"axes_2\">\n   <g id=\"patch_7\">\n    <path d=\"M 342.055125 299.985212 \nL 355.360725 299.985212 \nL 355.360725 33.873212 \nL 342.055125 33.873212 \nz\n\" style=\"fill: #ffffff\"/>\n   </g>\n   <g id=\"matplotlib.axis_3\"/>\n   <g id=\"matplotlib.axis_4\">\n    <g id=\"ytick_11\">\n     <g id=\"line2d_29\"/>\n     <g id=\"text_15\">\n      <!-- 0.0 -->\n      <g style=\"fill: #262626\" transform=\"translate(358.860725 303.564118) scale(0.1 -0.1)\">\n       <defs>\n        <path id=\"ArialMT-30\" d=\"M 266 2259 \nQ 266 3072 433 3567 \nQ 600 4063 929 4331 \nQ 1259 4600 1759 4600 \nQ 2128 4600 2406 4451 \nQ 2684 4303 2865 4023 \nQ 3047 3744 3150 3342 \nQ 3253 2941 3253 2259 \nQ 3253 1453 3087 958 \nQ 2922 463 2592 192 \nQ 2263 -78 1759 -78 \nQ 1097 -78 719 397 \nQ 266 969 266 2259 \nz\nM 844 2259 \nQ 844 1131 1108 757 \nQ 1372 384 1759 384 \nQ 2147 384 2411 759 \nQ 2675 1134 2675 2259 \nQ 2675 3391 2411 3762 \nQ 2147 4134 1753 4134 \nQ 1366 4134 1134 3806 \nQ 844 3388 844 2259 \nz\n\" transform=\"scale(0.015625)\"/>\n       </defs>\n       <use xlink:href=\"#ArialMT-30\"/>\n       <use xlink:href=\"#ArialMT-2e\" x=\"55.615234\"/>\n       <use xlink:href=\"#ArialMT-30\" x=\"83.398438\"/>\n      </g>\n     </g>\n    </g>\n    <g id=\"ytick_12\">\n     <g id=\"line2d_30\"/>\n     <g id=\"text_16\">\n      <!-- 0.2 -->\n      <g style=\"fill: #262626\" transform=\"translate(358.860725 250.341718) scale(0.1 -0.1)\">\n       <defs>\n        <path id=\"ArialMT-32\" d=\"M 3222 541 \nL 3222 0 \nL 194 0 \nQ 188 203 259 391 \nQ 375 700 629 1000 \nQ 884 1300 1366 1694 \nQ 2113 2306 2375 2664 \nQ 2638 3022 2638 3341 \nQ 2638 3675 2398 3904 \nQ 2159 4134 1775 4134 \nQ 1369 4134 1125 3890 \nQ 881 3647 878 3216 \nL 300 3275 \nQ 359 3922 746 4261 \nQ 1134 4600 1788 4600 \nQ 2447 4600 2831 4234 \nQ 3216 3869 3216 3328 \nQ 3216 3053 3103 2787 \nQ 2991 2522 2730 2228 \nQ 2469 1934 1863 1422 \nQ 1356 997 1212 845 \nQ 1069 694 975 541 \nL 3222 541 \nz\n\" transform=\"scale(0.015625)\"/>\n       </defs>\n       <use xlink:href=\"#ArialMT-30\"/>\n       <use xlink:href=\"#ArialMT-2e\" x=\"55.615234\"/>\n       <use xlink:href=\"#ArialMT-32\" x=\"83.398438\"/>\n      </g>\n     </g>\n    </g>\n    <g id=\"ytick_13\">\n     <g id=\"line2d_31\"/>\n     <g id=\"text_17\">\n      <!-- 0.4 -->\n      <g style=\"fill: #262626\" transform=\"translate(358.860725 197.119318) scale(0.1 -0.1)\">\n       <defs>\n        <path id=\"ArialMT-34\" d=\"M 2069 0 \nL 2069 1097 \nL 81 1097 \nL 81 1613 \nL 2172 4581 \nL 2631 4581 \nL 2631 1613 \nL 3250 1613 \nL 3250 1097 \nL 2631 1097 \nL 2631 0 \nL 2069 0 \nz\nM 2069 1613 \nL 2069 3678 \nL 634 1613 \nL 2069 1613 \nz\n\" transform=\"scale(0.015625)\"/>\n       </defs>\n       <use xlink:href=\"#ArialMT-30\"/>\n       <use xlink:href=\"#ArialMT-2e\" x=\"55.615234\"/>\n       <use xlink:href=\"#ArialMT-34\" x=\"83.398438\"/>\n      </g>\n     </g>\n    </g>\n    <g id=\"ytick_14\">\n     <g id=\"line2d_32\"/>\n     <g id=\"text_18\">\n      <!-- 0.6 -->\n      <g style=\"fill: #262626\" transform=\"translate(358.860725 143.896918) scale(0.1 -0.1)\">\n       <defs>\n        <path id=\"ArialMT-36\" d=\"M 3184 3459 \nL 2625 3416 \nQ 2550 3747 2413 3897 \nQ 2184 4138 1850 4138 \nQ 1581 4138 1378 3988 \nQ 1113 3794 959 3422 \nQ 806 3050 800 2363 \nQ 1003 2672 1297 2822 \nQ 1591 2972 1913 2972 \nQ 2475 2972 2870 2558 \nQ 3266 2144 3266 1488 \nQ 3266 1056 3080 686 \nQ 2894 316 2569 119 \nQ 2244 -78 1831 -78 \nQ 1128 -78 684 439 \nQ 241 956 241 2144 \nQ 241 3472 731 4075 \nQ 1159 4600 1884 4600 \nQ 2425 4600 2770 4297 \nQ 3116 3994 3184 3459 \nz\nM 888 1484 \nQ 888 1194 1011 928 \nQ 1134 663 1356 523 \nQ 1578 384 1822 384 \nQ 2178 384 2434 671 \nQ 2691 959 2691 1453 \nQ 2691 1928 2437 2201 \nQ 2184 2475 1800 2475 \nQ 1419 2475 1153 2201 \nQ 888 1928 888 1484 \nz\n\" transform=\"scale(0.015625)\"/>\n       </defs>\n       <use xlink:href=\"#ArialMT-30\"/>\n       <use xlink:href=\"#ArialMT-2e\" x=\"55.615234\"/>\n       <use xlink:href=\"#ArialMT-36\" x=\"83.398438\"/>\n      </g>\n     </g>\n    </g>\n    <g id=\"ytick_15\">\n     <g id=\"line2d_33\"/>\n     <g id=\"text_19\">\n      <!-- 0.8 -->\n      <g style=\"fill: #262626\" transform=\"translate(358.860725 90.674518) scale(0.1 -0.1)\">\n       <defs>\n        <path id=\"ArialMT-38\" d=\"M 1131 2484 \nQ 781 2613 612 2850 \nQ 444 3088 444 3419 \nQ 444 3919 803 4259 \nQ 1163 4600 1759 4600 \nQ 2359 4600 2725 4251 \nQ 3091 3903 3091 3403 \nQ 3091 3084 2923 2848 \nQ 2756 2613 2416 2484 \nQ 2838 2347 3058 2040 \nQ 3278 1734 3278 1309 \nQ 3278 722 2862 322 \nQ 2447 -78 1769 -78 \nQ 1091 -78 675 323 \nQ 259 725 259 1325 \nQ 259 1772 486 2073 \nQ 713 2375 1131 2484 \nz\nM 1019 3438 \nQ 1019 3113 1228 2906 \nQ 1438 2700 1772 2700 \nQ 2097 2700 2305 2904 \nQ 2513 3109 2513 3406 \nQ 2513 3716 2298 3927 \nQ 2084 4138 1766 4138 \nQ 1444 4138 1231 3931 \nQ 1019 3725 1019 3438 \nz\nM 838 1322 \nQ 838 1081 952 856 \nQ 1066 631 1291 507 \nQ 1516 384 1775 384 \nQ 2178 384 2440 643 \nQ 2703 903 2703 1303 \nQ 2703 1709 2433 1975 \nQ 2163 2241 1756 2241 \nQ 1359 2241 1098 1978 \nQ 838 1716 838 1322 \nz\n\" transform=\"scale(0.015625)\"/>\n       </defs>\n       <use xlink:href=\"#ArialMT-30\"/>\n       <use xlink:href=\"#ArialMT-2e\" x=\"55.615234\"/>\n       <use xlink:href=\"#ArialMT-38\" x=\"83.398438\"/>\n      </g>\n     </g>\n    </g>\n    <g id=\"ytick_16\">\n     <g id=\"line2d_34\"/>\n     <g id=\"text_20\">\n      <!-- 1.0 -->\n      <g style=\"fill: #262626\" transform=\"translate(358.860725 37.452118) scale(0.1 -0.1)\">\n       <defs>\n        <path id=\"ArialMT-31\" d=\"M 2384 0 \nL 1822 0 \nL 1822 3584 \nQ 1619 3391 1289 3197 \nQ 959 3003 697 2906 \nL 697 3450 \nQ 1169 3672 1522 3987 \nQ 1875 4303 2022 4600 \nL 2384 4600 \nL 2384 0 \nz\n\" transform=\"scale(0.015625)\"/>\n       </defs>\n       <use xlink:href=\"#ArialMT-31\"/>\n       <use xlink:href=\"#ArialMT-2e\" x=\"55.615234\"/>\n       <use xlink:href=\"#ArialMT-30\" x=\"83.398438\"/>\n      </g>\n     </g>\n    </g>\n   </g>\n   <image xlink:href=\"data:image/png;base64,\niVBORw0KGgoAAAANSUhEUgAAABMAAAFxCAYAAACRG5MpAAABwUlEQVR4nO2bwY3DMBADZcOPKyd9pf93rgYuBvAASxYwEEVpV1Li6+/z/R1Iz7luinU40jnnOddFwmozh3Ejo+esNnNYbeYwb9Ug5+zu0ghVm7m8NtUbvTZzmNemdAcssaleGqDNS7s0yJE9h2OZbS5Js0vjXVht5kLXmdimNs1u9Fy1masb/W1YN3qs2szVjT6CYSz3nKGwFTZv7Y8LTXMCW9EDtHNWm7lqcwSTHg+WnIJqM1e70wjWpZHDMBZs895hE00TvKCYbbJVA3wloXcACFvSA8iqIbbZNHMYODBzcWwPiCW2uSVNDNUeMJHYZtOMBR9DSdiS4rjk6A7b5GDipwhyaOJ6tuT5Bt0BS1qdt2yTb0Fim9ruJJ4zbXFULw0ORp9p251y2JI522GThHlvKFsellCY9XjQHZCLXhpWm9o01b87gTDySCW26f27QNN8G6adM/ZWp7XZNHOY1yacJghbcg8Qf6a64/mmaQ5g1qph/rS3PSBV08zlTbPFMVdbXa6mOYC1OA5gHKutbqCmOYC1OA5gWpunaeYwsU0wTbhqcFL3AGura5oDmDZNcQnyjqytLob1jh5rSZpLiuM/wSUIzm1AshEAAAAASUVORK5CYII=\" id=\"imaged0b1b48451\" transform=\"scale(1 -1) translate(0 -265.68)\" x=\"342\" y=\"-33.84\" width=\"13.68\" height=\"265.68\"/>\n   <g id=\"LineCollection_1\"/>\n   <g id=\"patch_8\">\n    <path d=\"M 342.055125 299.985212 \nL 348.707925 299.985212 \nL 355.360725 299.985212 \nL 355.360725 33.873212 \nL 348.707925 33.873212 \nL 342.055125 33.873212 \nL 342.055125 299.985212 \nz\n\" style=\"fill: none; stroke: #cccccc; stroke-linejoin: miter; stroke-linecap: square\"/>\n   </g>\n  </g>\n </g>\n <defs>\n  <clipPath id=\"p2cbb7cffdc\">\n   <rect x=\"38.503125\" y=\"33.873212\" width=\"285.696\" height=\"266.112\"/>\n  </clipPath>\n </defs>\n</svg>\n"
     },
     "metadata": {},
     "output_type": "display_data"
    }
   ],
   "source": [
    "plot_attention(translator, 'Jag hyrde en båt')"
   ],
   "metadata": {
    "collapsed": false,
    "ExecuteTime": {
     "end_time": "2023-07-04T16:59:24.573277Z",
     "start_time": "2023-07-04T16:59:23.911251900Z"
    }
   }
  },
  {
   "cell_type": "code",
   "execution_count": 54,
   "outputs": [
    {
     "data": {
      "text/plain": "<Figure size 640x480 with 2 Axes>",
      "image/svg+xml": "<?xml version=\"1.0\" encoding=\"utf-8\" standalone=\"no\"?>\n<!DOCTYPE svg PUBLIC \"-//W3C//DTD SVG 1.1//EN\"\n  \"http://www.w3.org/Graphics/SVG/1.1/DTD/svg11.dtd\">\n<svg xmlns:xlink=\"http://www.w3.org/1999/xlink\" width=\"379.40135pt\" height=\"314.456631pt\" viewBox=\"0 0 379.40135 314.456631\" xmlns=\"http://www.w3.org/2000/svg\" version=\"1.1\">\n <metadata>\n  <rdf:RDF xmlns:dc=\"http://purl.org/dc/elements/1.1/\" xmlns:cc=\"http://creativecommons.org/ns#\" xmlns:rdf=\"http://www.w3.org/1999/02/22-rdf-syntax-ns#\">\n   <cc:Work>\n    <dc:type rdf:resource=\"http://purl.org/dc/dcmitype/StillImage\"/>\n    <dc:date>2023-07-04T18:59:34.209884</dc:date>\n    <dc:format>image/svg+xml</dc:format>\n    <dc:creator>\n     <cc:Agent>\n      <dc:title>Matplotlib v3.7.1, https://matplotlib.org/</dc:title>\n     </cc:Agent>\n    </dc:creator>\n   </cc:Work>\n  </rdf:RDF>\n </metadata>\n <defs>\n  <style type=\"text/css\">*{stroke-linejoin: round; stroke-linecap: butt}</style>\n </defs>\n <g id=\"figure_1\">\n  <g id=\"patch_1\">\n   <path d=\"M 0 314.456631 \nL 379.40135 314.456631 \nL 379.40135 0 \nL 0 0 \nz\n\" style=\"fill: #ffffff\"/>\n  </g>\n  <g id=\"axes_1\">\n   <g id=\"patch_2\">\n    <path d=\"M 37.94375 301.690224 \nL 323.63975 301.690224 \nL 323.63975 35.578224 \nL 37.94375 35.578224 \nz\n\" style=\"fill: #ffffff\"/>\n   </g>\n   <g id=\"matplotlib.axis_1\">\n    <g id=\"xtick_1\">\n     <g id=\"line2d_1\">\n      <path d=\"M 53.81575 301.690224 \nL 53.81575 35.578224 \n\" clip-path=\"url(#p55870b243e)\" style=\"fill: none; stroke: #cccccc; stroke-width: 0.8; stroke-linecap: round\"/>\n     </g>\n     <g id=\"line2d_2\"/>\n     <g id=\"text_1\">\n      <!-- jag -->\n      <g style=\"fill: #262626\" transform=\"translate(50.32884 30.46594) rotate(-40) scale(0.1 -0.1)\">\n       <defs>\n        <path id=\"ArialMT-6a\" d=\"M 419 3928 \nL 419 4581 \nL 981 4581 \nL 981 3928 \nL 419 3928 \nz\nM -294 -1288 \nL -188 -809 \nQ -19 -853 78 -853 \nQ 250 -853 334 -739 \nQ 419 -625 419 -169 \nL 419 3319 \nL 981 3319 \nL 981 -181 \nQ 981 -794 822 -1034 \nQ 619 -1347 147 -1347 \nQ -81 -1347 -294 -1288 \nz\n\" transform=\"scale(0.015625)\"/>\n        <path id=\"ArialMT-61\" d=\"M 2588 409 \nQ 2275 144 1986 34 \nQ 1697 -75 1366 -75 \nQ 819 -75 525 192 \nQ 231 459 231 875 \nQ 231 1119 342 1320 \nQ 453 1522 633 1644 \nQ 813 1766 1038 1828 \nQ 1203 1872 1538 1913 \nQ 2219 1994 2541 2106 \nQ 2544 2222 2544 2253 \nQ 2544 2597 2384 2738 \nQ 2169 2928 1744 2928 \nQ 1347 2928 1158 2789 \nQ 969 2650 878 2297 \nL 328 2372 \nQ 403 2725 575 2942 \nQ 747 3159 1072 3276 \nQ 1397 3394 1825 3394 \nQ 2250 3394 2515 3294 \nQ 2781 3194 2906 3042 \nQ 3031 2891 3081 2659 \nQ 3109 2516 3109 2141 \nL 3109 1391 \nQ 3109 606 3145 398 \nQ 3181 191 3288 0 \nL 2700 0 \nQ 2613 175 2588 409 \nz\nM 2541 1666 \nQ 2234 1541 1622 1453 \nQ 1275 1403 1131 1340 \nQ 988 1278 909 1158 \nQ 831 1038 831 891 \nQ 831 666 1001 516 \nQ 1172 366 1500 366 \nQ 1825 366 2078 508 \nQ 2331 650 2450 897 \nQ 2541 1088 2541 1459 \nL 2541 1666 \nz\n\" transform=\"scale(0.015625)\"/>\n        <path id=\"ArialMT-67\" d=\"M 319 -275 \nL 866 -356 \nQ 900 -609 1056 -725 \nQ 1266 -881 1628 -881 \nQ 2019 -881 2231 -725 \nQ 2444 -569 2519 -288 \nQ 2563 -116 2559 434 \nQ 2191 0 1641 0 \nQ 956 0 581 494 \nQ 206 988 206 1678 \nQ 206 2153 378 2554 \nQ 550 2956 876 3175 \nQ 1203 3394 1644 3394 \nQ 2231 3394 2613 2919 \nL 2613 3319 \nL 3131 3319 \nL 3131 450 \nQ 3131 -325 2973 -648 \nQ 2816 -972 2473 -1159 \nQ 2131 -1347 1631 -1347 \nQ 1038 -1347 672 -1080 \nQ 306 -813 319 -275 \nz\nM 784 1719 \nQ 784 1066 1043 766 \nQ 1303 466 1694 466 \nQ 2081 466 2343 764 \nQ 2606 1063 2606 1700 \nQ 2606 2309 2336 2618 \nQ 2066 2928 1684 2928 \nQ 1309 2928 1046 2623 \nQ 784 2319 784 1719 \nz\n\" transform=\"scale(0.015625)\"/>\n       </defs>\n       <use xlink:href=\"#ArialMT-6a\"/>\n       <use xlink:href=\"#ArialMT-61\" x=\"22.216797\"/>\n       <use xlink:href=\"#ArialMT-67\" x=\"77.832031\"/>\n      </g>\n     </g>\n    </g>\n    <g id=\"xtick_2\">\n     <g id=\"line2d_3\">\n      <path d=\"M 85.55975 301.690224 \nL 85.55975 35.578224 \n\" clip-path=\"url(#p55870b243e)\" style=\"fill: none; stroke: #cccccc; stroke-width: 0.8; stroke-linecap: round\"/>\n     </g>\n     <g id=\"line2d_4\"/>\n     <g id=\"text_2\">\n      <!-- bodde -->\n      <g style=\"fill: #262626\" transform=\"translate(76.571643 30.555711) rotate(-40) scale(0.1 -0.1)\">\n       <defs>\n        <path id=\"ArialMT-62\" d=\"M 941 0 \nL 419 0 \nL 419 4581 \nL 981 4581 \nL 981 2947 \nQ 1338 3394 1891 3394 \nQ 2197 3394 2470 3270 \nQ 2744 3147 2920 2923 \nQ 3097 2700 3197 2384 \nQ 3297 2069 3297 1709 \nQ 3297 856 2875 390 \nQ 2453 -75 1863 -75 \nQ 1275 -75 941 416 \nL 941 0 \nz\nM 934 1684 \nQ 934 1088 1097 822 \nQ 1363 388 1816 388 \nQ 2184 388 2453 708 \nQ 2722 1028 2722 1663 \nQ 2722 2313 2464 2622 \nQ 2206 2931 1841 2931 \nQ 1472 2931 1203 2611 \nQ 934 2291 934 1684 \nz\n\" transform=\"scale(0.015625)\"/>\n        <path id=\"ArialMT-6f\" d=\"M 213 1659 \nQ 213 2581 725 3025 \nQ 1153 3394 1769 3394 \nQ 2453 3394 2887 2945 \nQ 3322 2497 3322 1706 \nQ 3322 1066 3130 698 \nQ 2938 331 2570 128 \nQ 2203 -75 1769 -75 \nQ 1072 -75 642 372 \nQ 213 819 213 1659 \nz\nM 791 1659 \nQ 791 1022 1069 705 \nQ 1347 388 1769 388 \nQ 2188 388 2466 706 \nQ 2744 1025 2744 1678 \nQ 2744 2294 2464 2611 \nQ 2184 2928 1769 2928 \nQ 1347 2928 1069 2612 \nQ 791 2297 791 1659 \nz\n\" transform=\"scale(0.015625)\"/>\n        <path id=\"ArialMT-64\" d=\"M 2575 0 \nL 2575 419 \nQ 2259 -75 1647 -75 \nQ 1250 -75 917 144 \nQ 584 363 401 755 \nQ 219 1147 219 1656 \nQ 219 2153 384 2558 \nQ 550 2963 881 3178 \nQ 1213 3394 1622 3394 \nQ 1922 3394 2156 3267 \nQ 2391 3141 2538 2938 \nL 2538 4581 \nL 3097 4581 \nL 3097 0 \nL 2575 0 \nz\nM 797 1656 \nQ 797 1019 1065 703 \nQ 1334 388 1700 388 \nQ 2069 388 2326 689 \nQ 2584 991 2584 1609 \nQ 2584 2291 2321 2609 \nQ 2059 2928 1675 2928 \nQ 1300 2928 1048 2622 \nQ 797 2316 797 1656 \nz\n\" transform=\"scale(0.015625)\"/>\n        <path id=\"ArialMT-65\" d=\"M 2694 1069 \nL 3275 997 \nQ 3138 488 2766 206 \nQ 2394 -75 1816 -75 \nQ 1088 -75 661 373 \nQ 234 822 234 1631 \nQ 234 2469 665 2931 \nQ 1097 3394 1784 3394 \nQ 2450 3394 2872 2941 \nQ 3294 2488 3294 1666 \nQ 3294 1616 3291 1516 \nL 816 1516 \nQ 847 969 1125 678 \nQ 1403 388 1819 388 \nQ 2128 388 2347 550 \nQ 2566 713 2694 1069 \nz\nM 847 1978 \nL 2700 1978 \nQ 2663 2397 2488 2606 \nQ 2219 2931 1791 2931 \nQ 1403 2931 1139 2672 \nQ 875 2413 847 1978 \nz\n\" transform=\"scale(0.015625)\"/>\n       </defs>\n       <use xlink:href=\"#ArialMT-62\"/>\n       <use xlink:href=\"#ArialMT-6f\" x=\"55.615234\"/>\n       <use xlink:href=\"#ArialMT-64\" x=\"111.230469\"/>\n       <use xlink:href=\"#ArialMT-64\" x=\"166.845703\"/>\n       <use xlink:href=\"#ArialMT-65\" x=\"222.460938\"/>\n      </g>\n     </g>\n    </g>\n    <g id=\"xtick_3\">\n     <g id=\"line2d_5\">\n      <path d=\"M 117.30375 301.690224 \nL 117.30375 35.578224 \n\" clip-path=\"url(#p55870b243e)\" style=\"fill: none; stroke: #cccccc; stroke-width: 0.8; stroke-linecap: round\"/>\n     </g>\n     <g id=\"line2d_6\"/>\n     <g id=\"text_3\">\n      <!-- i -->\n      <g style=\"fill: #262626\" transform=\"translate(118.114429 30.555711) rotate(-40) scale(0.1 -0.1)\">\n       <defs>\n        <path id=\"ArialMT-69\" d=\"M 425 3934 \nL 425 4581 \nL 988 4581 \nL 988 3934 \nL 425 3934 \nz\nM 425 0 \nL 425 3319 \nL 988 3319 \nL 988 0 \nL 425 0 \nz\n\" transform=\"scale(0.015625)\"/>\n       </defs>\n       <use xlink:href=\"#ArialMT-69\"/>\n      </g>\n     </g>\n    </g>\n    <g id=\"xtick_4\">\n     <g id=\"line2d_7\">\n      <path d=\"M 149.04775 301.690224 \nL 149.04775 35.578224 \n\" clip-path=\"url(#p55870b243e)\" style=\"fill: none; stroke: #cccccc; stroke-width: 0.8; stroke-linecap: round\"/>\n     </g>\n     <g id=\"line2d_8\"/>\n     <g id=\"text_4\">\n      <!-- det -->\n      <g style=\"fill: #262626\" transform=\"translate(145.385448 30.555711) rotate(-40) scale(0.1 -0.1)\">\n       <defs>\n        <path id=\"ArialMT-74\" d=\"M 1650 503 \nL 1731 6 \nQ 1494 -44 1306 -44 \nQ 1000 -44 831 53 \nQ 663 150 594 308 \nQ 525 466 525 972 \nL 525 2881 \nL 113 2881 \nL 113 3319 \nL 525 3319 \nL 525 4141 \nL 1084 4478 \nL 1084 3319 \nL 1650 3319 \nL 1650 2881 \nL 1084 2881 \nL 1084 941 \nQ 1084 700 1114 631 \nQ 1144 563 1211 522 \nQ 1278 481 1403 481 \nQ 1497 481 1650 503 \nz\n\" transform=\"scale(0.015625)\"/>\n       </defs>\n       <use xlink:href=\"#ArialMT-64\"/>\n       <use xlink:href=\"#ArialMT-65\" x=\"55.615234\"/>\n       <use xlink:href=\"#ArialMT-74\" x=\"111.230469\"/>\n      </g>\n     </g>\n    </g>\n    <g id=\"xtick_5\">\n     <g id=\"line2d_9\">\n      <path d=\"M 180.79175 301.690224 \nL 180.79175 35.578224 \n\" clip-path=\"url(#p55870b243e)\" style=\"fill: none; stroke: #cccccc; stroke-width: 0.8; stroke-linecap: round\"/>\n     </g>\n     <g id=\"line2d_10\"/>\n     <g id=\"text_5\">\n      <!-- här -->\n      <g style=\"fill: #262626\" transform=\"translate(176.918187 30.555711) rotate(-40) scale(0.1 -0.1)\">\n       <defs>\n        <path id=\"ArialMT-68\" d=\"M 422 0 \nL 422 4581 \nL 984 4581 \nL 984 2938 \nQ 1378 3394 1978 3394 \nQ 2347 3394 2619 3248 \nQ 2891 3103 3008 2847 \nQ 3125 2591 3125 2103 \nL 3125 0 \nL 2563 0 \nL 2563 2103 \nQ 2563 2525 2380 2717 \nQ 2197 2909 1863 2909 \nQ 1613 2909 1392 2779 \nQ 1172 2650 1078 2428 \nQ 984 2206 984 1816 \nL 984 0 \nL 422 0 \nz\n\" transform=\"scale(0.015625)\"/>\n        <path id=\"ArialMT-e4\" d=\"M 2588 409 \nQ 2275 144 1986 34 \nQ 1697 -75 1366 -75 \nQ 819 -75 525 192 \nQ 231 459 231 875 \nQ 231 1119 342 1320 \nQ 453 1522 633 1644 \nQ 813 1766 1038 1828 \nQ 1203 1872 1538 1913 \nQ 2219 1994 2541 2106 \nQ 2544 2222 2544 2253 \nQ 2544 2597 2384 2738 \nQ 2169 2928 1744 2928 \nQ 1347 2928 1158 2789 \nQ 969 2650 878 2297 \nL 328 2372 \nQ 403 2725 575 2942 \nQ 747 3159 1072 3276 \nQ 1397 3394 1825 3394 \nQ 2250 3394 2515 3294 \nQ 2781 3194 2906 3042 \nQ 3031 2891 3081 2659 \nQ 3109 2516 3109 2141 \nL 3109 1391 \nQ 3109 606 3145 398 \nQ 3181 191 3288 0 \nL 2700 0 \nQ 2613 175 2588 409 \nz\nM 2541 1666 \nQ 2234 1541 1622 1453 \nQ 1275 1403 1131 1340 \nQ 988 1278 909 1158 \nQ 831 1038 831 891 \nQ 831 666 1001 516 \nQ 1172 366 1500 366 \nQ 1825 366 2078 508 \nQ 2331 650 2450 897 \nQ 2541 1088 2541 1459 \nL 2541 1666 \nz\nM 887 3969 \nL 887 4609 \nL 1474 4609 \nL 1474 3969 \nL 887 3969 \nz\nM 2052 3969 \nL 2052 4609 \nL 2640 4609 \nL 2640 3969 \nL 2052 3969 \nz\n\" transform=\"scale(0.015625)\"/>\n        <path id=\"ArialMT-72\" d=\"M 416 0 \nL 416 3319 \nL 922 3319 \nL 922 2816 \nQ 1116 3169 1280 3281 \nQ 1444 3394 1641 3394 \nQ 1925 3394 2219 3213 \nL 2025 2691 \nQ 1819 2813 1613 2813 \nQ 1428 2813 1281 2702 \nQ 1134 2591 1072 2394 \nQ 978 2094 978 1738 \nL 978 0 \nL 416 0 \nz\n\" transform=\"scale(0.015625)\"/>\n       </defs>\n       <use xlink:href=\"#ArialMT-68\"/>\n       <use xlink:href=\"#ArialMT-e4\" x=\"55.615234\"/>\n       <use xlink:href=\"#ArialMT-72\" x=\"111.230469\"/>\n      </g>\n     </g>\n    </g>\n    <g id=\"xtick_6\">\n     <g id=\"line2d_11\">\n      <path d=\"M 212.53575 301.690224 \nL 212.53575 35.578224 \n\" clip-path=\"url(#p55870b243e)\" style=\"fill: none; stroke: #cccccc; stroke-width: 0.8; stroke-linecap: round\"/>\n     </g>\n     <g id=\"line2d_12\"/>\n     <g id=\"text_6\">\n      <!-- huset -->\n      <g style=\"fill: #262626\" transform=\"translate(204.828374 30.555711) rotate(-40) scale(0.1 -0.1)\">\n       <defs>\n        <path id=\"ArialMT-75\" d=\"M 2597 0 \nL 2597 488 \nQ 2209 -75 1544 -75 \nQ 1250 -75 995 37 \nQ 741 150 617 320 \nQ 494 491 444 738 \nQ 409 903 409 1263 \nL 409 3319 \nL 972 3319 \nL 972 1478 \nQ 972 1038 1006 884 \nQ 1059 663 1231 536 \nQ 1403 409 1656 409 \nQ 1909 409 2131 539 \nQ 2353 669 2445 892 \nQ 2538 1116 2538 1541 \nL 2538 3319 \nL 3100 3319 \nL 3100 0 \nL 2597 0 \nz\n\" transform=\"scale(0.015625)\"/>\n        <path id=\"ArialMT-73\" d=\"M 197 991 \nL 753 1078 \nQ 800 744 1014 566 \nQ 1228 388 1613 388 \nQ 2000 388 2187 545 \nQ 2375 703 2375 916 \nQ 2375 1106 2209 1216 \nQ 2094 1291 1634 1406 \nQ 1016 1563 777 1677 \nQ 538 1791 414 1992 \nQ 291 2194 291 2438 \nQ 291 2659 392 2848 \nQ 494 3038 669 3163 \nQ 800 3259 1026 3326 \nQ 1253 3394 1513 3394 \nQ 1903 3394 2198 3281 \nQ 2494 3169 2634 2976 \nQ 2775 2784 2828 2463 \nL 2278 2388 \nQ 2241 2644 2061 2787 \nQ 1881 2931 1553 2931 \nQ 1166 2931 1000 2803 \nQ 834 2675 834 2503 \nQ 834 2394 903 2306 \nQ 972 2216 1119 2156 \nQ 1203 2125 1616 2013 \nQ 2213 1853 2448 1751 \nQ 2684 1650 2818 1456 \nQ 2953 1263 2953 975 \nQ 2953 694 2789 445 \nQ 2625 197 2315 61 \nQ 2006 -75 1616 -75 \nQ 969 -75 630 194 \nQ 291 463 197 991 \nz\n\" transform=\"scale(0.015625)\"/>\n       </defs>\n       <use xlink:href=\"#ArialMT-68\"/>\n       <use xlink:href=\"#ArialMT-75\" x=\"55.615234\"/>\n       <use xlink:href=\"#ArialMT-73\" x=\"111.230469\"/>\n       <use xlink:href=\"#ArialMT-65\" x=\"161.230469\"/>\n       <use xlink:href=\"#ArialMT-74\" x=\"216.845703\"/>\n      </g>\n     </g>\n    </g>\n    <g id=\"xtick_7\">\n     <g id=\"line2d_13\">\n      <path d=\"M 244.27975 301.690224 \nL 244.27975 35.578224 \n\" clip-path=\"url(#p55870b243e)\" style=\"fill: none; stroke: #cccccc; stroke-width: 0.8; stroke-linecap: round\"/>\n     </g>\n     <g id=\"line2d_14\"/>\n     <g id=\"text_7\">\n      <!-- som -->\n      <g style=\"fill: #262626\" transform=\"translate(238.705927 30.555711) rotate(-40) scale(0.1 -0.1)\">\n       <defs>\n        <path id=\"ArialMT-6d\" d=\"M 422 0 \nL 422 3319 \nL 925 3319 \nL 925 2853 \nQ 1081 3097 1340 3245 \nQ 1600 3394 1931 3394 \nQ 2300 3394 2536 3241 \nQ 2772 3088 2869 2813 \nQ 3263 3394 3894 3394 \nQ 4388 3394 4653 3120 \nQ 4919 2847 4919 2278 \nL 4919 0 \nL 4359 0 \nL 4359 2091 \nQ 4359 2428 4304 2576 \nQ 4250 2725 4106 2815 \nQ 3963 2906 3769 2906 \nQ 3419 2906 3187 2673 \nQ 2956 2441 2956 1928 \nL 2956 0 \nL 2394 0 \nL 2394 2156 \nQ 2394 2531 2256 2718 \nQ 2119 2906 1806 2906 \nQ 1569 2906 1367 2781 \nQ 1166 2656 1075 2415 \nQ 984 2175 984 1722 \nL 984 0 \nL 422 0 \nz\n\" transform=\"scale(0.015625)\"/>\n       </defs>\n       <use xlink:href=\"#ArialMT-73\"/>\n       <use xlink:href=\"#ArialMT-6f\" x=\"50\"/>\n       <use xlink:href=\"#ArialMT-6d\" x=\"105.615234\"/>\n      </g>\n     </g>\n    </g>\n    <g id=\"xtick_8\">\n     <g id=\"line2d_15\">\n      <path d=\"M 276.02375 301.690224 \nL 276.02375 35.578224 \n\" clip-path=\"url(#p55870b243e)\" style=\"fill: none; stroke: #cccccc; stroke-width: 0.8; stroke-linecap: round\"/>\n     </g>\n     <g id=\"line2d_16\"/>\n     <g id=\"text_8\">\n      <!-- barn -->\n      <g style=\"fill: #262626\" transform=\"translate(270.020224 30.555711) rotate(-40) scale(0.1 -0.1)\">\n       <defs>\n        <path id=\"ArialMT-6e\" d=\"M 422 0 \nL 422 3319 \nL 928 3319 \nL 928 2847 \nQ 1294 3394 1984 3394 \nQ 2284 3394 2536 3286 \nQ 2788 3178 2913 3003 \nQ 3038 2828 3088 2588 \nQ 3119 2431 3119 2041 \nL 3119 0 \nL 2556 0 \nL 2556 2019 \nQ 2556 2363 2490 2533 \nQ 2425 2703 2258 2804 \nQ 2091 2906 1866 2906 \nQ 1506 2906 1245 2678 \nQ 984 2450 984 1813 \nL 984 0 \nL 422 0 \nz\n\" transform=\"scale(0.015625)\"/>\n       </defs>\n       <use xlink:href=\"#ArialMT-62\"/>\n       <use xlink:href=\"#ArialMT-61\" x=\"55.615234\"/>\n       <use xlink:href=\"#ArialMT-72\" x=\"111.230469\"/>\n       <use xlink:href=\"#ArialMT-6e\" x=\"144.53125\"/>\n      </g>\n     </g>\n    </g>\n    <g id=\"xtick_9\">\n     <g id=\"line2d_17\">\n      <path d=\"M 307.76775 301.690224 \nL 307.76775 35.578224 \n\" clip-path=\"url(#p55870b243e)\" style=\"fill: none; stroke: #cccccc; stroke-width: 0.8; stroke-linecap: round\"/>\n     </g>\n     <g id=\"line2d_18\"/>\n     <g id=\"text_9\">\n      <!-- . -->\n      <g style=\"fill: #262626\" transform=\"translate(308.365373 30.555711) rotate(-40) scale(0.1 -0.1)\">\n       <defs>\n        <path id=\"ArialMT-2e\" d=\"M 581 0 \nL 581 641 \nL 1222 641 \nL 1222 0 \nL 581 0 \nz\n\" transform=\"scale(0.015625)\"/>\n       </defs>\n       <use xlink:href=\"#ArialMT-2e\"/>\n      </g>\n     </g>\n    </g>\n   </g>\n   <g id=\"matplotlib.axis_2\">\n    <g id=\"ytick_1\">\n     <g id=\"line2d_19\">\n      <path d=\"M 37.94375 50.362224 \nL 323.63975 50.362224 \n\" clip-path=\"url(#p55870b243e)\" style=\"fill: none; stroke: #cccccc; stroke-width: 0.8; stroke-linecap: round\"/>\n     </g>\n     <g id=\"line2d_20\"/>\n     <g id=\"text_10\">\n      <!-- i -->\n      <g style=\"fill: #262626\" transform=\"translate(32.221875 53.941131) scale(0.1 -0.1)\">\n       <use xlink:href=\"#ArialMT-69\"/>\n      </g>\n     </g>\n    </g>\n    <g id=\"ytick_2\">\n     <g id=\"line2d_21\">\n      <path d=\"M 37.94375 79.930224 \nL 323.63975 79.930224 \n\" clip-path=\"url(#p55870b243e)\" style=\"fill: none; stroke: #cccccc; stroke-width: 0.8; stroke-linecap: round\"/>\n     </g>\n     <g id=\"line2d_22\"/>\n     <g id=\"text_11\">\n      <!-- lived -->\n      <g style=\"fill: #262626\" transform=\"translate(13.878125 83.509131) scale(0.1 -0.1)\">\n       <defs>\n        <path id=\"ArialMT-6c\" d=\"M 409 0 \nL 409 4581 \nL 972 4581 \nL 972 0 \nL 409 0 \nz\n\" transform=\"scale(0.015625)\"/>\n        <path id=\"ArialMT-76\" d=\"M 1344 0 \nL 81 3319 \nL 675 3319 \nL 1388 1331 \nQ 1503 1009 1600 663 \nQ 1675 925 1809 1294 \nL 2547 3319 \nL 3125 3319 \nL 1869 0 \nL 1344 0 \nz\n\" transform=\"scale(0.015625)\"/>\n       </defs>\n       <use xlink:href=\"#ArialMT-6c\"/>\n       <use xlink:href=\"#ArialMT-69\" x=\"22.216797\"/>\n       <use xlink:href=\"#ArialMT-76\" x=\"44.433594\"/>\n       <use xlink:href=\"#ArialMT-65\" x=\"94.433594\"/>\n       <use xlink:href=\"#ArialMT-64\" x=\"150.048828\"/>\n      </g>\n     </g>\n    </g>\n    <g id=\"ytick_3\">\n     <g id=\"line2d_23\">\n      <path d=\"M 37.94375 109.498224 \nL 323.63975 109.498224 \n\" clip-path=\"url(#p55870b243e)\" style=\"fill: none; stroke: #cccccc; stroke-width: 0.8; stroke-linecap: round\"/>\n     </g>\n     <g id=\"line2d_24\"/>\n     <g id=\"text_12\">\n      <!-- in -->\n      <g style=\"fill: #262626\" transform=\"translate(26.660938 113.077131) scale(0.1 -0.1)\">\n       <use xlink:href=\"#ArialMT-69\"/>\n       <use xlink:href=\"#ArialMT-6e\" x=\"22.216797\"/>\n      </g>\n     </g>\n    </g>\n    <g id=\"ytick_4\">\n     <g id=\"line2d_25\">\n      <path d=\"M 37.94375 139.066224 \nL 323.63975 139.066224 \n\" clip-path=\"url(#p55870b243e)\" style=\"fill: none; stroke: #cccccc; stroke-width: 0.8; stroke-linecap: round\"/>\n     </g>\n     <g id=\"line2d_26\"/>\n     <g id=\"text_13\">\n      <!-- the -->\n      <g style=\"fill: #262626\" transform=\"translate(20.54375 142.645131) scale(0.1 -0.1)\">\n       <use xlink:href=\"#ArialMT-74\"/>\n       <use xlink:href=\"#ArialMT-68\" x=\"27.783203\"/>\n       <use xlink:href=\"#ArialMT-65\" x=\"83.398438\"/>\n      </g>\n     </g>\n    </g>\n    <g id=\"ytick_5\">\n     <g id=\"line2d_27\">\n      <path d=\"M 37.94375 168.634224 \nL 323.63975 168.634224 \n\" clip-path=\"url(#p55870b243e)\" style=\"fill: none; stroke: #cccccc; stroke-width: 0.8; stroke-linecap: round\"/>\n     </g>\n     <g id=\"line2d_28\"/>\n     <g id=\"text_14\">\n      <!-- house -->\n      <g style=\"fill: #262626\" transform=\"translate(7.2 172.213131) scale(0.1 -0.1)\">\n       <use xlink:href=\"#ArialMT-68\"/>\n       <use xlink:href=\"#ArialMT-6f\" x=\"55.615234\"/>\n       <use xlink:href=\"#ArialMT-75\" x=\"111.230469\"/>\n       <use xlink:href=\"#ArialMT-73\" x=\"166.845703\"/>\n       <use xlink:href=\"#ArialMT-65\" x=\"216.845703\"/>\n      </g>\n     </g>\n    </g>\n    <g id=\"ytick_6\">\n     <g id=\"line2d_29\">\n      <path d=\"M 37.94375 198.202224 \nL 323.63975 198.202224 \n\" clip-path=\"url(#p55870b243e)\" style=\"fill: none; stroke: #cccccc; stroke-width: 0.8; stroke-linecap: round\"/>\n     </g>\n     <g id=\"line2d_30\"/>\n     <g id=\"text_15\">\n      <!-- of -->\n      <g style=\"fill: #262626\" transform=\"translate(26.104688 201.781131) scale(0.1 -0.1)\">\n       <defs>\n        <path id=\"ArialMT-66\" d=\"M 556 0 \nL 556 2881 \nL 59 2881 \nL 59 3319 \nL 556 3319 \nL 556 3672 \nQ 556 4006 616 4169 \nQ 697 4388 901 4523 \nQ 1106 4659 1475 4659 \nQ 1713 4659 2000 4603 \nL 1916 4113 \nQ 1741 4144 1584 4144 \nQ 1328 4144 1222 4034 \nQ 1116 3925 1116 3625 \nL 1116 3319 \nL 1763 3319 \nL 1763 2881 \nL 1116 2881 \nL 1116 0 \nL 556 0 \nz\n\" transform=\"scale(0.015625)\"/>\n       </defs>\n       <use xlink:href=\"#ArialMT-6f\"/>\n       <use xlink:href=\"#ArialMT-66\" x=\"55.615234\"/>\n      </g>\n     </g>\n    </g>\n    <g id=\"ytick_7\">\n     <g id=\"line2d_31\">\n      <path d=\"M 37.94375 227.770224 \nL 323.63975 227.770224 \n\" clip-path=\"url(#p55870b243e)\" style=\"fill: none; stroke: #cccccc; stroke-width: 0.8; stroke-linecap: round\"/>\n     </g>\n     <g id=\"line2d_32\"/>\n     <g id=\"text_16\">\n      <!-- the -->\n      <g style=\"fill: #262626\" transform=\"translate(20.54375 231.349131) scale(0.1 -0.1)\">\n       <use xlink:href=\"#ArialMT-74\"/>\n       <use xlink:href=\"#ArialMT-68\" x=\"27.783203\"/>\n       <use xlink:href=\"#ArialMT-65\" x=\"83.398438\"/>\n      </g>\n     </g>\n    </g>\n    <g id=\"ytick_8\">\n     <g id=\"line2d_33\">\n      <path d=\"M 37.94375 257.338224 \nL 323.63975 257.338224 \n\" clip-path=\"url(#p55870b243e)\" style=\"fill: none; stroke: #cccccc; stroke-width: 0.8; stroke-linecap: round\"/>\n     </g>\n     <g id=\"line2d_34\"/>\n     <g id=\"text_17\">\n      <!-- child -->\n      <g style=\"fill: #262626\" transform=\"translate(13.878125 260.917131) scale(0.1 -0.1)\">\n       <defs>\n        <path id=\"ArialMT-63\" d=\"M 2588 1216 \nL 3141 1144 \nQ 3050 572 2676 248 \nQ 2303 -75 1759 -75 \nQ 1078 -75 664 370 \nQ 250 816 250 1647 \nQ 250 2184 428 2587 \nQ 606 2991 970 3192 \nQ 1334 3394 1763 3394 \nQ 2303 3394 2647 3120 \nQ 2991 2847 3088 2344 \nL 2541 2259 \nQ 2463 2594 2264 2762 \nQ 2066 2931 1784 2931 \nQ 1359 2931 1093 2626 \nQ 828 2322 828 1663 \nQ 828 994 1084 691 \nQ 1341 388 1753 388 \nQ 2084 388 2306 591 \nQ 2528 794 2588 1216 \nz\n\" transform=\"scale(0.015625)\"/>\n       </defs>\n       <use xlink:href=\"#ArialMT-63\"/>\n       <use xlink:href=\"#ArialMT-68\" x=\"50\"/>\n       <use xlink:href=\"#ArialMT-69\" x=\"105.615234\"/>\n       <use xlink:href=\"#ArialMT-6c\" x=\"127.832031\"/>\n       <use xlink:href=\"#ArialMT-64\" x=\"150.048828\"/>\n      </g>\n     </g>\n    </g>\n    <g id=\"ytick_9\">\n     <g id=\"line2d_35\">\n      <path d=\"M 37.94375 286.906224 \nL 323.63975 286.906224 \n\" clip-path=\"url(#p55870b243e)\" style=\"fill: none; stroke: #cccccc; stroke-width: 0.8; stroke-linecap: round\"/>\n     </g>\n     <g id=\"line2d_36\"/>\n     <g id=\"text_18\">\n      <!-- . -->\n      <g style=\"fill: #262626\" transform=\"translate(31.665625 290.485131) scale(0.1 -0.1)\">\n       <use xlink:href=\"#ArialMT-2e\"/>\n      </g>\n     </g>\n    </g>\n   </g>\n   <g id=\"PolyCollection_1\">\n    <path d=\"M 37.94375 35.578224 \nL 37.94375 65.146224 \nL 69.68775 65.146224 \nL 69.68775 35.578224 \nL 37.94375 35.578224 \nz\n\" clip-path=\"url(#p55870b243e)\" style=\"fill: #e0ecf8\"/>\n    <path d=\"M 69.68775 35.578224 \nL 69.68775 65.146224 \nL 101.43175 65.146224 \nL 101.43175 35.578224 \nL 69.68775 35.578224 \nz\n\" clip-path=\"url(#p55870b243e)\" style=\"fill: #08316d\"/>\n    <path d=\"M 101.43175 35.578224 \nL 101.43175 65.146224 \nL 133.17575 65.146224 \nL 133.17575 35.578224 \nL 101.43175 35.578224 \nz\n\" clip-path=\"url(#p55870b243e)\" style=\"fill: #083471\"/>\n    <path d=\"M 133.17575 35.578224 \nL 133.17575 65.146224 \nL 164.91975 65.146224 \nL 164.91975 35.578224 \nL 133.17575 35.578224 \nz\n\" clip-path=\"url(#p55870b243e)\" style=\"fill: #083573\"/>\n    <path d=\"M 164.91975 35.578224 \nL 164.91975 65.146224 \nL 196.66375 65.146224 \nL 196.66375 35.578224 \nL 164.91975 35.578224 \nz\n\" clip-path=\"url(#p55870b243e)\" style=\"fill: #083776\"/>\n    <path d=\"M 196.66375 35.578224 \nL 196.66375 65.146224 \nL 228.40775 65.146224 \nL 228.40775 35.578224 \nL 196.66375 35.578224 \nz\n\" clip-path=\"url(#p55870b243e)\" style=\"fill: #083573\"/>\n    <path d=\"M 228.40775 35.578224 \nL 228.40775 65.146224 \nL 260.15175 65.146224 \nL 260.15175 35.578224 \nL 228.40775 35.578224 \nz\n\" clip-path=\"url(#p55870b243e)\" style=\"fill: #08316d\"/>\n    <path d=\"M 260.15175 35.578224 \nL 260.15175 65.146224 \nL 291.89575 65.146224 \nL 291.89575 35.578224 \nL 260.15175 35.578224 \nz\n\" clip-path=\"url(#p55870b243e)\" style=\"fill: #08326e\"/>\n    <path d=\"M 291.89575 35.578224 \nL 291.89575 65.146224 \nL 323.63975 65.146224 \nL 323.63975 35.578224 \nL 291.89575 35.578224 \nz\n\" clip-path=\"url(#p55870b243e)\" style=\"fill: #08316d\"/>\n    <path d=\"M 37.94375 65.146224 \nL 37.94375 94.714224 \nL 69.68775 94.714224 \nL 69.68775 65.146224 \nL 37.94375 65.146224 \nz\n\" clip-path=\"url(#p55870b243e)\" style=\"fill: #08316d\"/>\n    <path d=\"M 69.68775 65.146224 \nL 69.68775 94.714224 \nL 101.43175 94.714224 \nL 101.43175 65.146224 \nL 69.68775 65.146224 \nz\n\" clip-path=\"url(#p55870b243e)\" style=\"fill: #dce9f6\"/>\n    <path d=\"M 101.43175 65.146224 \nL 101.43175 94.714224 \nL 133.17575 94.714224 \nL 133.17575 65.146224 \nL 101.43175 65.146224 \nz\n\" clip-path=\"url(#p55870b243e)\" style=\"fill: #083776\"/>\n    <path d=\"M 133.17575 65.146224 \nL 133.17575 94.714224 \nL 164.91975 94.714224 \nL 164.91975 65.146224 \nL 133.17575 65.146224 \nz\n\" clip-path=\"url(#p55870b243e)\" style=\"fill: #083471\"/>\n    <path d=\"M 164.91975 65.146224 \nL 164.91975 94.714224 \nL 196.66375 94.714224 \nL 196.66375 65.146224 \nL 164.91975 65.146224 \nz\n\" clip-path=\"url(#p55870b243e)\" style=\"fill: #08326e\"/>\n    <path d=\"M 196.66375 65.146224 \nL 196.66375 94.714224 \nL 228.40775 94.714224 \nL 228.40775 65.146224 \nL 196.66375 65.146224 \nz\n\" clip-path=\"url(#p55870b243e)\" style=\"fill: #083979\"/>\n    <path d=\"M 228.40775 65.146224 \nL 228.40775 94.714224 \nL 260.15175 94.714224 \nL 260.15175 65.146224 \nL 228.40775 65.146224 \nz\n\" clip-path=\"url(#p55870b243e)\" style=\"fill: #083370\"/>\n    <path d=\"M 260.15175 65.146224 \nL 260.15175 94.714224 \nL 291.89575 94.714224 \nL 291.89575 65.146224 \nL 260.15175 65.146224 \nz\n\" clip-path=\"url(#p55870b243e)\" style=\"fill: #083674\"/>\n    <path d=\"M 291.89575 65.146224 \nL 291.89575 94.714224 \nL 323.63975 94.714224 \nL 323.63975 65.146224 \nL 291.89575 65.146224 \nz\n\" clip-path=\"url(#p55870b243e)\" style=\"fill: #08306b\"/>\n    <path d=\"M 37.94375 94.714224 \nL 37.94375 124.282224 \nL 69.68775 124.282224 \nL 69.68775 94.714224 \nL 37.94375 94.714224 \nz\n\" clip-path=\"url(#p55870b243e)\" style=\"fill: #08306b\"/>\n    <path d=\"M 69.68775 94.714224 \nL 69.68775 124.282224 \nL 101.43175 124.282224 \nL 101.43175 94.714224 \nL 69.68775 94.714224 \nz\n\" clip-path=\"url(#p55870b243e)\" style=\"fill: #083776\"/>\n    <path d=\"M 101.43175 94.714224 \nL 101.43175 124.282224 \nL 133.17575 124.282224 \nL 133.17575 94.714224 \nL 101.43175 94.714224 \nz\n\" clip-path=\"url(#p55870b243e)\" style=\"fill: #3585bf\"/>\n    <path d=\"M 133.17575 94.714224 \nL 133.17575 124.282224 \nL 164.91975 124.282224 \nL 164.91975 94.714224 \nL 133.17575 94.714224 \nz\n\" clip-path=\"url(#p55870b243e)\" style=\"fill: #1764ab\"/>\n    <path d=\"M 164.91975 94.714224 \nL 164.91975 124.282224 \nL 196.66375 124.282224 \nL 196.66375 94.714224 \nL 164.91975 94.714224 \nz\n\" clip-path=\"url(#p55870b243e)\" style=\"fill: #0d57a1\"/>\n    <path d=\"M 196.66375 94.714224 \nL 196.66375 124.282224 \nL 228.40775 124.282224 \nL 228.40775 94.714224 \nL 196.66375 94.714224 \nz\n\" clip-path=\"url(#p55870b243e)\" style=\"fill: #0e58a2\"/>\n    <path d=\"M 228.40775 94.714224 \nL 228.40775 124.282224 \nL 260.15175 124.282224 \nL 260.15175 94.714224 \nL 228.40775 94.714224 \nz\n\" clip-path=\"url(#p55870b243e)\" style=\"fill: #08488e\"/>\n    <path d=\"M 260.15175 94.714224 \nL 260.15175 124.282224 \nL 291.89575 124.282224 \nL 291.89575 94.714224 \nL 260.15175 94.714224 \nz\n\" clip-path=\"url(#p55870b243e)\" style=\"fill: #083877\"/>\n    <path d=\"M 291.89575 94.714224 \nL 291.89575 124.282224 \nL 323.63975 124.282224 \nL 323.63975 94.714224 \nL 291.89575 94.714224 \nz\n\" clip-path=\"url(#p55870b243e)\" style=\"fill: #083370\"/>\n    <path d=\"M 37.94375 124.282224 \nL 37.94375 153.850224 \nL 69.68775 153.850224 \nL 69.68775 124.282224 \nL 37.94375 124.282224 \nz\n\" clip-path=\"url(#p55870b243e)\" style=\"fill: #08306b\"/>\n    <path d=\"M 69.68775 124.282224 \nL 69.68775 153.850224 \nL 101.43175 153.850224 \nL 101.43175 124.282224 \nL 69.68775 124.282224 \nz\n\" clip-path=\"url(#p55870b243e)\" style=\"fill: #083471\"/>\n    <path d=\"M 101.43175 124.282224 \nL 101.43175 153.850224 \nL 133.17575 153.850224 \nL 133.17575 124.282224 \nL 101.43175 124.282224 \nz\n\" clip-path=\"url(#p55870b243e)\" style=\"fill: #0a549e\"/>\n    <path d=\"M 133.17575 124.282224 \nL 133.17575 153.850224 \nL 164.91975 153.850224 \nL 164.91975 124.282224 \nL 133.17575 124.282224 \nz\n\" clip-path=\"url(#p55870b243e)\" style=\"fill: #083a7a\"/>\n    <path d=\"M 164.91975 124.282224 \nL 164.91975 153.850224 \nL 196.66375 153.850224 \nL 196.66375 124.282224 \nL 164.91975 124.282224 \nz\n\" clip-path=\"url(#p55870b243e)\" style=\"fill: #084285\"/>\n    <path d=\"M 196.66375 124.282224 \nL 196.66375 153.850224 \nL 228.40775 153.850224 \nL 228.40775 124.282224 \nL 196.66375 124.282224 \nz\n\" clip-path=\"url(#p55870b243e)\" style=\"fill: #a3cce3\"/>\n    <path d=\"M 228.40775 124.282224 \nL 228.40775 153.850224 \nL 260.15175 153.850224 \nL 260.15175 124.282224 \nL 228.40775 124.282224 \nz\n\" clip-path=\"url(#p55870b243e)\" style=\"fill: #083b7c\"/>\n    <path d=\"M 260.15175 124.282224 \nL 260.15175 153.850224 \nL 291.89575 153.850224 \nL 291.89575 124.282224 \nL 260.15175 124.282224 \nz\n\" clip-path=\"url(#p55870b243e)\" style=\"fill: #083a7a\"/>\n    <path d=\"M 291.89575 124.282224 \nL 291.89575 153.850224 \nL 323.63975 153.850224 \nL 323.63975 124.282224 \nL 291.89575 124.282224 \nz\n\" clip-path=\"url(#p55870b243e)\" style=\"fill: #08316d\"/>\n    <path d=\"M 37.94375 153.850224 \nL 37.94375 183.418224 \nL 69.68775 183.418224 \nL 69.68775 153.850224 \nL 37.94375 153.850224 \nz\n\" clip-path=\"url(#p55870b243e)\" style=\"fill: #08306b\"/>\n    <path d=\"M 69.68775 153.850224 \nL 69.68775 183.418224 \nL 101.43175 183.418224 \nL 101.43175 153.850224 \nL 69.68775 153.850224 \nz\n\" clip-path=\"url(#p55870b243e)\" style=\"fill: #08316d\"/>\n    <path d=\"M 101.43175 153.850224 \nL 101.43175 183.418224 \nL 133.17575 183.418224 \nL 133.17575 153.850224 \nL 101.43175 153.850224 \nz\n\" clip-path=\"url(#p55870b243e)\" style=\"fill: #083e81\"/>\n    <path d=\"M 133.17575 153.850224 \nL 133.17575 183.418224 \nL 164.91975 183.418224 \nL 164.91975 153.850224 \nL 133.17575 153.850224 \nz\n\" clip-path=\"url(#p55870b243e)\" style=\"fill: #083573\"/>\n    <path d=\"M 164.91975 153.850224 \nL 164.91975 183.418224 \nL 196.66375 183.418224 \nL 196.66375 153.850224 \nL 164.91975 153.850224 \nz\n\" clip-path=\"url(#p55870b243e)\" style=\"fill: #083674\"/>\n    <path d=\"M 196.66375 153.850224 \nL 196.66375 183.418224 \nL 228.40775 183.418224 \nL 228.40775 153.850224 \nL 196.66375 153.850224 \nz\n\" clip-path=\"url(#p55870b243e)\" style=\"fill: #cddff1\"/>\n    <path d=\"M 228.40775 153.850224 \nL 228.40775 183.418224 \nL 260.15175 183.418224 \nL 260.15175 153.850224 \nL 228.40775 153.850224 \nz\n\" clip-path=\"url(#p55870b243e)\" style=\"fill: #083979\"/>\n    <path d=\"M 260.15175 153.850224 \nL 260.15175 183.418224 \nL 291.89575 183.418224 \nL 291.89575 153.850224 \nL 260.15175 153.850224 \nz\n\" clip-path=\"url(#p55870b243e)\" style=\"fill: #084184\"/>\n    <path d=\"M 291.89575 153.850224 \nL 291.89575 183.418224 \nL 323.63975 183.418224 \nL 323.63975 153.850224 \nL 291.89575 153.850224 \nz\n\" clip-path=\"url(#p55870b243e)\" style=\"fill: #08316d\"/>\n    <path d=\"M 37.94375 183.418224 \nL 37.94375 212.986224 \nL 69.68775 212.986224 \nL 69.68775 183.418224 \nL 37.94375 183.418224 \nz\n\" clip-path=\"url(#p55870b243e)\" style=\"fill: #08306b\"/>\n    <path d=\"M 69.68775 183.418224 \nL 69.68775 212.986224 \nL 101.43175 212.986224 \nL 101.43175 183.418224 \nL 69.68775 183.418224 \nz\n\" clip-path=\"url(#p55870b243e)\" style=\"fill: #08316d\"/>\n    <path d=\"M 101.43175 183.418224 \nL 101.43175 212.986224 \nL 133.17575 212.986224 \nL 133.17575 183.418224 \nL 101.43175 183.418224 \nz\n\" clip-path=\"url(#p55870b243e)\" style=\"fill: #084990\"/>\n    <path d=\"M 133.17575 183.418224 \nL 133.17575 212.986224 \nL 164.91975 212.986224 \nL 164.91975 183.418224 \nL 133.17575 183.418224 \nz\n\" clip-path=\"url(#p55870b243e)\" style=\"fill: #083d7f\"/>\n    <path d=\"M 164.91975 183.418224 \nL 164.91975 212.986224 \nL 196.66375 212.986224 \nL 196.66375 183.418224 \nL 164.91975 183.418224 \nz\n\" clip-path=\"url(#p55870b243e)\" style=\"fill: #083877\"/>\n    <path d=\"M 196.66375 183.418224 \nL 196.66375 212.986224 \nL 228.40775 212.986224 \nL 228.40775 183.418224 \nL 196.66375 183.418224 \nz\n\" clip-path=\"url(#p55870b243e)\" style=\"fill: #083d7f\"/>\n    <path d=\"M 228.40775 183.418224 \nL 228.40775 212.986224 \nL 260.15175 212.986224 \nL 260.15175 183.418224 \nL 228.40775 183.418224 \nz\n\" clip-path=\"url(#p55870b243e)\" style=\"fill: #7db8da\"/>\n    <path d=\"M 260.15175 183.418224 \nL 260.15175 212.986224 \nL 291.89575 212.986224 \nL 291.89575 183.418224 \nL 260.15175 183.418224 \nz\n\" clip-path=\"url(#p55870b243e)\" style=\"fill: #08519c\"/>\n    <path d=\"M 291.89575 183.418224 \nL 291.89575 212.986224 \nL 323.63975 212.986224 \nL 323.63975 183.418224 \nL 291.89575 183.418224 \nz\n\" clip-path=\"url(#p55870b243e)\" style=\"fill: #08468b\"/>\n    <path d=\"M 37.94375 212.986224 \nL 37.94375 242.554224 \nL 69.68775 242.554224 \nL 69.68775 212.986224 \nL 37.94375 212.986224 \nz\n\" clip-path=\"url(#p55870b243e)\" style=\"fill: #08306b\"/>\n    <path d=\"M 69.68775 212.986224 \nL 69.68775 242.554224 \nL 101.43175 242.554224 \nL 101.43175 212.986224 \nL 69.68775 212.986224 \nz\n\" clip-path=\"url(#p55870b243e)\" style=\"fill: #083370\"/>\n    <path d=\"M 101.43175 212.986224 \nL 101.43175 242.554224 \nL 133.17575 242.554224 \nL 133.17575 212.986224 \nL 101.43175 212.986224 \nz\n\" clip-path=\"url(#p55870b243e)\" style=\"fill: #083b7c\"/>\n    <path d=\"M 133.17575 212.986224 \nL 133.17575 242.554224 \nL 164.91975 242.554224 \nL 164.91975 212.986224 \nL 133.17575 212.986224 \nz\n\" clip-path=\"url(#p55870b243e)\" style=\"fill: #083979\"/>\n    <path d=\"M 164.91975 212.986224 \nL 164.91975 242.554224 \nL 196.66375 242.554224 \nL 196.66375 212.986224 \nL 164.91975 212.986224 \nz\n\" clip-path=\"url(#p55870b243e)\" style=\"fill: #084184\"/>\n    <path d=\"M 196.66375 212.986224 \nL 196.66375 242.554224 \nL 228.40775 242.554224 \nL 228.40775 212.986224 \nL 196.66375 212.986224 \nz\n\" clip-path=\"url(#p55870b243e)\" style=\"fill: #3585bf\"/>\n    <path d=\"M 228.40775 212.986224 \nL 228.40775 242.554224 \nL 260.15175 242.554224 \nL 260.15175 212.986224 \nL 228.40775 212.986224 \nz\n\" clip-path=\"url(#p55870b243e)\" style=\"fill: #1663aa\"/>\n    <path d=\"M 260.15175 212.986224 \nL 260.15175 242.554224 \nL 291.89575 242.554224 \nL 291.89575 212.986224 \nL 260.15175 212.986224 \nz\n\" clip-path=\"url(#p55870b243e)\" style=\"fill: #2575b7\"/>\n    <path d=\"M 291.89575 212.986224 \nL 291.89575 242.554224 \nL 323.63975 242.554224 \nL 323.63975 212.986224 \nL 291.89575 212.986224 \nz\n\" clip-path=\"url(#p55870b243e)\" style=\"fill: #083b7c\"/>\n    <path d=\"M 37.94375 242.554224 \nL 37.94375 272.122224 \nL 69.68775 272.122224 \nL 69.68775 242.554224 \nL 37.94375 242.554224 \nz\n\" clip-path=\"url(#p55870b243e)\" style=\"fill: #08306b\"/>\n    <path d=\"M 69.68775 242.554224 \nL 69.68775 272.122224 \nL 101.43175 272.122224 \nL 101.43175 242.554224 \nL 69.68775 242.554224 \nz\n\" clip-path=\"url(#p55870b243e)\" style=\"fill: #08316d\"/>\n    <path d=\"M 101.43175 242.554224 \nL 101.43175 272.122224 \nL 133.17575 272.122224 \nL 133.17575 242.554224 \nL 101.43175 242.554224 \nz\n\" clip-path=\"url(#p55870b243e)\" style=\"fill: #083471\"/>\n    <path d=\"M 133.17575 242.554224 \nL 133.17575 272.122224 \nL 164.91975 272.122224 \nL 164.91975 242.554224 \nL 133.17575 242.554224 \nz\n\" clip-path=\"url(#p55870b243e)\" style=\"fill: #083370\"/>\n    <path d=\"M 164.91975 242.554224 \nL 164.91975 272.122224 \nL 196.66375 272.122224 \nL 196.66375 242.554224 \nL 164.91975 242.554224 \nz\n\" clip-path=\"url(#p55870b243e)\" style=\"fill: #083471\"/>\n    <path d=\"M 196.66375 242.554224 \nL 196.66375 272.122224 \nL 228.40775 272.122224 \nL 228.40775 242.554224 \nL 196.66375 242.554224 \nz\n\" clip-path=\"url(#p55870b243e)\" style=\"fill: #2a7ab9\"/>\n    <path d=\"M 228.40775 242.554224 \nL 228.40775 272.122224 \nL 260.15175 272.122224 \nL 260.15175 242.554224 \nL 228.40775 242.554224 \nz\n\" clip-path=\"url(#p55870b243e)\" style=\"fill: #1764ab\"/>\n    <path d=\"M 260.15175 242.554224 \nL 260.15175 272.122224 \nL 291.89575 272.122224 \nL 291.89575 242.554224 \nL 260.15175 242.554224 \nz\n\" clip-path=\"url(#p55870b243e)\" style=\"fill: #4d99ca\"/>\n    <path d=\"M 291.89575 242.554224 \nL 291.89575 272.122224 \nL 323.63975 272.122224 \nL 323.63975 242.554224 \nL 291.89575 242.554224 \nz\n\" clip-path=\"url(#p55870b243e)\" style=\"fill: #083d7f\"/>\n    <path d=\"M 37.94375 272.122224 \nL 37.94375 301.690224 \nL 69.68775 301.690224 \nL 69.68775 272.122224 \nL 37.94375 272.122224 \nz\n\" clip-path=\"url(#p55870b243e)\" style=\"fill: #08306b\"/>\n    <path d=\"M 69.68775 272.122224 \nL 69.68775 301.690224 \nL 101.43175 301.690224 \nL 101.43175 272.122224 \nL 69.68775 272.122224 \nz\n\" clip-path=\"url(#p55870b243e)\" style=\"fill: #08316d\"/>\n    <path d=\"M 101.43175 272.122224 \nL 101.43175 301.690224 \nL 133.17575 301.690224 \nL 133.17575 272.122224 \nL 101.43175 272.122224 \nz\n\" clip-path=\"url(#p55870b243e)\" style=\"fill: #083776\"/>\n    <path d=\"M 133.17575 272.122224 \nL 133.17575 301.690224 \nL 164.91975 301.690224 \nL 164.91975 272.122224 \nL 133.17575 272.122224 \nz\n\" clip-path=\"url(#p55870b243e)\" style=\"fill: #083471\"/>\n    <path d=\"M 164.91975 272.122224 \nL 164.91975 301.690224 \nL 196.66375 301.690224 \nL 196.66375 272.122224 \nL 164.91975 272.122224 \nz\n\" clip-path=\"url(#p55870b243e)\" style=\"fill: #083471\"/>\n    <path d=\"M 196.66375 272.122224 \nL 196.66375 301.690224 \nL 228.40775 301.690224 \nL 228.40775 272.122224 \nL 196.66375 272.122224 \nz\n\" clip-path=\"url(#p55870b243e)\" style=\"fill: #083776\"/>\n    <path d=\"M 228.40775 272.122224 \nL 228.40775 301.690224 \nL 260.15175 301.690224 \nL 260.15175 272.122224 \nL 228.40775 272.122224 \nz\n\" clip-path=\"url(#p55870b243e)\" style=\"fill: #4594c7\"/>\n    <path d=\"M 260.15175 272.122224 \nL 260.15175 301.690224 \nL 291.89575 301.690224 \nL 291.89575 272.122224 \nL 260.15175 272.122224 \nz\n\" clip-path=\"url(#p55870b243e)\" style=\"fill: #2b7bba\"/>\n    <path d=\"M 291.89575 272.122224 \nL 291.89575 301.690224 \nL 323.63975 301.690224 \nL 323.63975 272.122224 \nL 291.89575 272.122224 \nz\n\" clip-path=\"url(#p55870b243e)\" style=\"fill: #1d6cb1\"/>\n   </g>\n   <g id=\"patch_3\">\n    <path d=\"M 37.94375 301.690224 \nL 37.94375 35.578224 \n\" style=\"fill: none; stroke: #cccccc; stroke-linejoin: miter; stroke-linecap: square\"/>\n   </g>\n   <g id=\"patch_4\">\n    <path d=\"M 323.63975 301.690224 \nL 323.63975 35.578224 \n\" style=\"fill: none; stroke: #cccccc; stroke-linejoin: miter; stroke-linecap: square\"/>\n   </g>\n   <g id=\"patch_5\">\n    <path d=\"M 37.94375 301.690224 \nL 323.63975 301.690224 \n\" style=\"fill: none; stroke: #cccccc; stroke-linejoin: miter; stroke-linecap: square\"/>\n   </g>\n   <g id=\"patch_6\">\n    <path d=\"M 37.94375 35.578224 \nL 323.63975 35.578224 \n\" style=\"fill: none; stroke: #cccccc; stroke-linejoin: miter; stroke-linecap: square\"/>\n   </g>\n  </g>\n  <g id=\"axes_2\">\n   <g id=\"patch_7\">\n    <path d=\"M 341.49575 301.690224 \nL 354.80135 301.690224 \nL 354.80135 35.578224 \nL 341.49575 35.578224 \nz\n\" style=\"fill: #ffffff\"/>\n   </g>\n   <g id=\"matplotlib.axis_3\"/>\n   <g id=\"matplotlib.axis_4\">\n    <g id=\"ytick_10\">\n     <g id=\"line2d_37\"/>\n     <g id=\"text_19\">\n      <!-- 0.0 -->\n      <g style=\"fill: #262626\" transform=\"translate(358.30135 305.269131) scale(0.1 -0.1)\">\n       <defs>\n        <path id=\"ArialMT-30\" d=\"M 266 2259 \nQ 266 3072 433 3567 \nQ 600 4063 929 4331 \nQ 1259 4600 1759 4600 \nQ 2128 4600 2406 4451 \nQ 2684 4303 2865 4023 \nQ 3047 3744 3150 3342 \nQ 3253 2941 3253 2259 \nQ 3253 1453 3087 958 \nQ 2922 463 2592 192 \nQ 2263 -78 1759 -78 \nQ 1097 -78 719 397 \nQ 266 969 266 2259 \nz\nM 844 2259 \nQ 844 1131 1108 757 \nQ 1372 384 1759 384 \nQ 2147 384 2411 759 \nQ 2675 1134 2675 2259 \nQ 2675 3391 2411 3762 \nQ 2147 4134 1753 4134 \nQ 1366 4134 1134 3806 \nQ 844 3388 844 2259 \nz\n\" transform=\"scale(0.015625)\"/>\n       </defs>\n       <use xlink:href=\"#ArialMT-30\"/>\n       <use xlink:href=\"#ArialMT-2e\" x=\"55.615234\"/>\n       <use xlink:href=\"#ArialMT-30\" x=\"83.398438\"/>\n      </g>\n     </g>\n    </g>\n    <g id=\"ytick_11\">\n     <g id=\"line2d_38\"/>\n     <g id=\"text_20\">\n      <!-- 0.2 -->\n      <g style=\"fill: #262626\" transform=\"translate(358.30135 252.046731) scale(0.1 -0.1)\">\n       <defs>\n        <path id=\"ArialMT-32\" d=\"M 3222 541 \nL 3222 0 \nL 194 0 \nQ 188 203 259 391 \nQ 375 700 629 1000 \nQ 884 1300 1366 1694 \nQ 2113 2306 2375 2664 \nQ 2638 3022 2638 3341 \nQ 2638 3675 2398 3904 \nQ 2159 4134 1775 4134 \nQ 1369 4134 1125 3890 \nQ 881 3647 878 3216 \nL 300 3275 \nQ 359 3922 746 4261 \nQ 1134 4600 1788 4600 \nQ 2447 4600 2831 4234 \nQ 3216 3869 3216 3328 \nQ 3216 3053 3103 2787 \nQ 2991 2522 2730 2228 \nQ 2469 1934 1863 1422 \nQ 1356 997 1212 845 \nQ 1069 694 975 541 \nL 3222 541 \nz\n\" transform=\"scale(0.015625)\"/>\n       </defs>\n       <use xlink:href=\"#ArialMT-30\"/>\n       <use xlink:href=\"#ArialMT-2e\" x=\"55.615234\"/>\n       <use xlink:href=\"#ArialMT-32\" x=\"83.398438\"/>\n      </g>\n     </g>\n    </g>\n    <g id=\"ytick_12\">\n     <g id=\"line2d_39\"/>\n     <g id=\"text_21\">\n      <!-- 0.4 -->\n      <g style=\"fill: #262626\" transform=\"translate(358.30135 198.824331) scale(0.1 -0.1)\">\n       <defs>\n        <path id=\"ArialMT-34\" d=\"M 2069 0 \nL 2069 1097 \nL 81 1097 \nL 81 1613 \nL 2172 4581 \nL 2631 4581 \nL 2631 1613 \nL 3250 1613 \nL 3250 1097 \nL 2631 1097 \nL 2631 0 \nL 2069 0 \nz\nM 2069 1613 \nL 2069 3678 \nL 634 1613 \nL 2069 1613 \nz\n\" transform=\"scale(0.015625)\"/>\n       </defs>\n       <use xlink:href=\"#ArialMT-30\"/>\n       <use xlink:href=\"#ArialMT-2e\" x=\"55.615234\"/>\n       <use xlink:href=\"#ArialMT-34\" x=\"83.398438\"/>\n      </g>\n     </g>\n    </g>\n    <g id=\"ytick_13\">\n     <g id=\"line2d_40\"/>\n     <g id=\"text_22\">\n      <!-- 0.6 -->\n      <g style=\"fill: #262626\" transform=\"translate(358.30135 145.601931) scale(0.1 -0.1)\">\n       <defs>\n        <path id=\"ArialMT-36\" d=\"M 3184 3459 \nL 2625 3416 \nQ 2550 3747 2413 3897 \nQ 2184 4138 1850 4138 \nQ 1581 4138 1378 3988 \nQ 1113 3794 959 3422 \nQ 806 3050 800 2363 \nQ 1003 2672 1297 2822 \nQ 1591 2972 1913 2972 \nQ 2475 2972 2870 2558 \nQ 3266 2144 3266 1488 \nQ 3266 1056 3080 686 \nQ 2894 316 2569 119 \nQ 2244 -78 1831 -78 \nQ 1128 -78 684 439 \nQ 241 956 241 2144 \nQ 241 3472 731 4075 \nQ 1159 4600 1884 4600 \nQ 2425 4600 2770 4297 \nQ 3116 3994 3184 3459 \nz\nM 888 1484 \nQ 888 1194 1011 928 \nQ 1134 663 1356 523 \nQ 1578 384 1822 384 \nQ 2178 384 2434 671 \nQ 2691 959 2691 1453 \nQ 2691 1928 2437 2201 \nQ 2184 2475 1800 2475 \nQ 1419 2475 1153 2201 \nQ 888 1928 888 1484 \nz\n\" transform=\"scale(0.015625)\"/>\n       </defs>\n       <use xlink:href=\"#ArialMT-30\"/>\n       <use xlink:href=\"#ArialMT-2e\" x=\"55.615234\"/>\n       <use xlink:href=\"#ArialMT-36\" x=\"83.398438\"/>\n      </g>\n     </g>\n    </g>\n    <g id=\"ytick_14\">\n     <g id=\"line2d_41\"/>\n     <g id=\"text_23\">\n      <!-- 0.8 -->\n      <g style=\"fill: #262626\" transform=\"translate(358.30135 92.379531) scale(0.1 -0.1)\">\n       <defs>\n        <path id=\"ArialMT-38\" d=\"M 1131 2484 \nQ 781 2613 612 2850 \nQ 444 3088 444 3419 \nQ 444 3919 803 4259 \nQ 1163 4600 1759 4600 \nQ 2359 4600 2725 4251 \nQ 3091 3903 3091 3403 \nQ 3091 3084 2923 2848 \nQ 2756 2613 2416 2484 \nQ 2838 2347 3058 2040 \nQ 3278 1734 3278 1309 \nQ 3278 722 2862 322 \nQ 2447 -78 1769 -78 \nQ 1091 -78 675 323 \nQ 259 725 259 1325 \nQ 259 1772 486 2073 \nQ 713 2375 1131 2484 \nz\nM 1019 3438 \nQ 1019 3113 1228 2906 \nQ 1438 2700 1772 2700 \nQ 2097 2700 2305 2904 \nQ 2513 3109 2513 3406 \nQ 2513 3716 2298 3927 \nQ 2084 4138 1766 4138 \nQ 1444 4138 1231 3931 \nQ 1019 3725 1019 3438 \nz\nM 838 1322 \nQ 838 1081 952 856 \nQ 1066 631 1291 507 \nQ 1516 384 1775 384 \nQ 2178 384 2440 643 \nQ 2703 903 2703 1303 \nQ 2703 1709 2433 1975 \nQ 2163 2241 1756 2241 \nQ 1359 2241 1098 1978 \nQ 838 1716 838 1322 \nz\n\" transform=\"scale(0.015625)\"/>\n       </defs>\n       <use xlink:href=\"#ArialMT-30\"/>\n       <use xlink:href=\"#ArialMT-2e\" x=\"55.615234\"/>\n       <use xlink:href=\"#ArialMT-38\" x=\"83.398438\"/>\n      </g>\n     </g>\n    </g>\n    <g id=\"ytick_15\">\n     <g id=\"line2d_42\"/>\n     <g id=\"text_24\">\n      <!-- 1.0 -->\n      <g style=\"fill: #262626\" transform=\"translate(358.30135 39.157131) scale(0.1 -0.1)\">\n       <defs>\n        <path id=\"ArialMT-31\" d=\"M 2384 0 \nL 1822 0 \nL 1822 3584 \nQ 1619 3391 1289 3197 \nQ 959 3003 697 2906 \nL 697 3450 \nQ 1169 3672 1522 3987 \nQ 1875 4303 2022 4600 \nL 2384 4600 \nL 2384 0 \nz\n\" transform=\"scale(0.015625)\"/>\n       </defs>\n       <use xlink:href=\"#ArialMT-31\"/>\n       <use xlink:href=\"#ArialMT-2e\" x=\"55.615234\"/>\n       <use xlink:href=\"#ArialMT-30\" x=\"83.398438\"/>\n      </g>\n     </g>\n    </g>\n   </g>\n   <image xlink:href=\"data:image/png;base64,\niVBORw0KGgoAAAANSUhEUgAAABMAAAFxCAYAAACRG5MpAAABwUlEQVR4nO2bwY3DMBADZcOPKyd9pf93rgYuBvAASxYwEEVpV1Li6+/z/R1Iz7luinU40jnnOddFwmozh3Ejo+esNnNYbeYwb9Ug5+zu0ghVm7m8NtUbvTZzmNemdAcssaleGqDNS7s0yJE9h2OZbS5Js0vjXVht5kLXmdimNs1u9Fy1masb/W1YN3qs2szVjT6CYSz3nKGwFTZv7Y8LTXMCW9EDtHNWm7lqcwSTHg+WnIJqM1e70wjWpZHDMBZs895hE00TvKCYbbJVA3wloXcACFvSA8iqIbbZNHMYODBzcWwPiCW2uSVNDNUeMJHYZtOMBR9DSdiS4rjk6A7b5GDipwhyaOJ6tuT5Bt0BS1qdt2yTb0Fim9ruJJ4zbXFULw0ORp9p251y2JI522GThHlvKFsellCY9XjQHZCLXhpWm9o01b87gTDySCW26f27QNN8G6adM/ZWp7XZNHOY1yacJghbcg8Qf6a64/mmaQ5g1qph/rS3PSBV08zlTbPFMVdbXa6mOYC1OA5gHKutbqCmOYC1OA5gWpunaeYwsU0wTbhqcFL3AGura5oDmDZNcQnyjqytLob1jh5rSZpLiuM/wSUIzm1AshEAAAAASUVORK5CYII=\" id=\"image2f516f0744\" transform=\"scale(1 -1) translate(0 -265.68)\" x=\"341.28\" y=\"-35.28\" width=\"13.68\" height=\"265.68\"/>\n   <g id=\"LineCollection_1\"/>\n   <g id=\"patch_8\">\n    <path d=\"M 341.49575 301.690224 \nL 348.14855 301.690224 \nL 354.80135 301.690224 \nL 354.80135 35.578224 \nL 348.14855 35.578224 \nL 341.49575 35.578224 \nL 341.49575 301.690224 \nz\n\" style=\"fill: none; stroke: #cccccc; stroke-linejoin: miter; stroke-linecap: square\"/>\n   </g>\n  </g>\n </g>\n <defs>\n  <clipPath id=\"p55870b243e\">\n   <rect x=\"37.94375\" y=\"35.578224\" width=\"285.696\" height=\"266.112\"/>\n  </clipPath>\n </defs>\n</svg>\n"
     },
     "metadata": {},
     "output_type": "display_data"
    }
   ],
   "source": [
    "plot_attention(translator, 'jag bodde i det här huset som barn .')"
   ],
   "metadata": {
    "collapsed": false,
    "ExecuteTime": {
     "end_time": "2023-07-04T16:59:34.375660900Z",
     "start_time": "2023-07-04T16:59:33.880065800Z"
    }
   }
  },
  {
   "cell_type": "code",
   "execution_count": 55,
   "outputs": [
    {
     "data": {
      "text/plain": "<Figure size 640x480 with 2 Axes>",
      "image/svg+xml": "<?xml version=\"1.0\" encoding=\"utf-8\" standalone=\"no\"?>\n<!DOCTYPE svg PUBLIC \"-//W3C//DTD SVG 1.1//EN\"\n  \"http://www.w3.org/Graphics/SVG/1.1/DTD/svg11.dtd\">\n<svg xmlns:xlink=\"http://www.w3.org/1999/xlink\" width=\"379.391975pt\" height=\"310.164015pt\" viewBox=\"0 0 379.391975 310.164015\" xmlns=\"http://www.w3.org/2000/svg\" version=\"1.1\">\n <metadata>\n  <rdf:RDF xmlns:dc=\"http://purl.org/dc/elements/1.1/\" xmlns:cc=\"http://creativecommons.org/ns#\" xmlns:rdf=\"http://www.w3.org/1999/02/22-rdf-syntax-ns#\">\n   <cc:Work>\n    <dc:type rdf:resource=\"http://purl.org/dc/dcmitype/StillImage\"/>\n    <dc:date>2023-07-04T18:59:46.920071</dc:date>\n    <dc:format>image/svg+xml</dc:format>\n    <dc:creator>\n     <cc:Agent>\n      <dc:title>Matplotlib v3.7.1, https://matplotlib.org/</dc:title>\n     </cc:Agent>\n    </dc:creator>\n   </cc:Work>\n  </rdf:RDF>\n </metadata>\n <defs>\n  <style type=\"text/css\">*{stroke-linejoin: round; stroke-linecap: butt}</style>\n </defs>\n <g id=\"figure_1\">\n  <g id=\"patch_1\">\n   <path d=\"M 0 310.164015 \nL 379.391975 310.164015 \nL 379.391975 0 \nL 0 0 \nz\n\" style=\"fill: #ffffff\"/>\n  </g>\n  <g id=\"axes_1\">\n   <g id=\"patch_2\">\n    <path d=\"M 37.934375 297.397608 \nL 323.630375 297.397608 \nL 323.630375 31.285608 \nL 37.934375 31.285608 \nz\n\" style=\"fill: #ffffff\"/>\n   </g>\n   <g id=\"matplotlib.axis_1\">\n    <g id=\"xtick_1\">\n     <g id=\"line2d_1\">\n      <path d=\"M 61.742375 297.397608 \nL 61.742375 31.285608 \n\" clip-path=\"url(#pd6183882cf)\" style=\"fill: none; stroke: #cccccc; stroke-width: 0.8; stroke-linecap: round\"/>\n     </g>\n     <g id=\"line2d_2\"/>\n     <g id=\"text_1\">\n      <!-- hallå -->\n      <g style=\"fill: #262626\" transform=\"translate(55.312139 26.263095) rotate(-40) scale(0.1 -0.1)\">\n       <defs>\n        <path id=\"ArialMT-68\" d=\"M 422 0 \nL 422 4581 \nL 984 4581 \nL 984 2938 \nQ 1378 3394 1978 3394 \nQ 2347 3394 2619 3248 \nQ 2891 3103 3008 2847 \nQ 3125 2591 3125 2103 \nL 3125 0 \nL 2563 0 \nL 2563 2103 \nQ 2563 2525 2380 2717 \nQ 2197 2909 1863 2909 \nQ 1613 2909 1392 2779 \nQ 1172 2650 1078 2428 \nQ 984 2206 984 1816 \nL 984 0 \nL 422 0 \nz\n\" transform=\"scale(0.015625)\"/>\n        <path id=\"ArialMT-61\" d=\"M 2588 409 \nQ 2275 144 1986 34 \nQ 1697 -75 1366 -75 \nQ 819 -75 525 192 \nQ 231 459 231 875 \nQ 231 1119 342 1320 \nQ 453 1522 633 1644 \nQ 813 1766 1038 1828 \nQ 1203 1872 1538 1913 \nQ 2219 1994 2541 2106 \nQ 2544 2222 2544 2253 \nQ 2544 2597 2384 2738 \nQ 2169 2928 1744 2928 \nQ 1347 2928 1158 2789 \nQ 969 2650 878 2297 \nL 328 2372 \nQ 403 2725 575 2942 \nQ 747 3159 1072 3276 \nQ 1397 3394 1825 3394 \nQ 2250 3394 2515 3294 \nQ 2781 3194 2906 3042 \nQ 3031 2891 3081 2659 \nQ 3109 2516 3109 2141 \nL 3109 1391 \nQ 3109 606 3145 398 \nQ 3181 191 3288 0 \nL 2700 0 \nQ 2613 175 2588 409 \nz\nM 2541 1666 \nQ 2234 1541 1622 1453 \nQ 1275 1403 1131 1340 \nQ 988 1278 909 1158 \nQ 831 1038 831 891 \nQ 831 666 1001 516 \nQ 1172 366 1500 366 \nQ 1825 366 2078 508 \nQ 2331 650 2450 897 \nQ 2541 1088 2541 1459 \nL 2541 1666 \nz\n\" transform=\"scale(0.015625)\"/>\n        <path id=\"ArialMT-6c\" d=\"M 409 0 \nL 409 4581 \nL 972 4581 \nL 972 0 \nL 409 0 \nz\n\" transform=\"scale(0.015625)\"/>\n        <path id=\"ArialMT-e5\" d=\"M 2588 409 \nQ 2275 144 1986 34 \nQ 1697 -75 1366 -75 \nQ 819 -75 525 192 \nQ 231 459 231 875 \nQ 231 1119 342 1320 \nQ 453 1522 633 1644 \nQ 813 1766 1038 1828 \nQ 1203 1872 1538 1913 \nQ 2219 1994 2541 2106 \nQ 2544 2222 2544 2253 \nQ 2544 2597 2384 2738 \nQ 2169 2928 1744 2928 \nQ 1347 2928 1158 2789 \nQ 969 2650 878 2297 \nL 328 2372 \nQ 403 2725 575 2942 \nQ 747 3159 1072 3276 \nQ 1397 3394 1825 3394 \nQ 2250 3394 2515 3294 \nQ 2781 3194 2906 3042 \nQ 3031 2891 3081 2659 \nQ 3109 2516 3109 2141 \nL 3109 1391 \nQ 3109 606 3145 398 \nQ 3181 191 3288 0 \nL 2700 0 \nQ 2613 175 2588 409 \nz\nM 2541 1666 \nQ 2234 1541 1622 1453 \nQ 1275 1403 1131 1340 \nQ 988 1278 909 1158 \nQ 831 1038 831 891 \nQ 831 666 1001 516 \nQ 1172 366 1500 366 \nQ 1825 366 2078 508 \nQ 2331 650 2450 897 \nQ 2541 1088 2541 1459 \nL 2541 1666 \nz\nM 1194 4181 \nQ 1194 4409 1361 4575 \nQ 1529 4741 1757 4741 \nQ 1988 4741 2153 4573 \nQ 2319 4406 2319 4169 \nQ 2319 3928 2153 3762 \nQ 1988 3597 1760 3597 \nQ 1526 3597 1360 3764 \nQ 1194 3931 1194 4181 \nz\nM 1432 4178 \nQ 1432 4031 1530 3931 \nQ 1629 3831 1763 3831 \nQ 1897 3831 1995 3931 \nQ 2094 4031 2094 4172 \nQ 2094 4313 1997 4413 \nQ 1901 4513 1763 4513 \nQ 1629 4513 1530 4414 \nQ 1432 4316 1432 4178 \nz\n\" transform=\"scale(0.015625)\"/>\n       </defs>\n       <use xlink:href=\"#ArialMT-68\"/>\n       <use xlink:href=\"#ArialMT-61\" x=\"55.615234\"/>\n       <use xlink:href=\"#ArialMT-6c\" x=\"111.230469\"/>\n       <use xlink:href=\"#ArialMT-6c\" x=\"133.447266\"/>\n       <use xlink:href=\"#ArialMT-e5\" x=\"155.664062\"/>\n      </g>\n     </g>\n    </g>\n    <g id=\"xtick_2\">\n     <g id=\"line2d_3\">\n      <path d=\"M 109.358375 297.397608 \nL 109.358375 31.285608 \n\" clip-path=\"url(#pd6183882cf)\" style=\"fill: none; stroke: #cccccc; stroke-width: 0.8; stroke-linecap: round\"/>\n     </g>\n     <g id=\"line2d_4\"/>\n     <g id=\"text_2\">\n      <!-- , -->\n      <g style=\"fill: #262626\" transform=\"translate(109.955998 26.263095) rotate(-40) scale(0.1 -0.1)\">\n       <defs>\n        <path id=\"ArialMT-2c\" d=\"M 569 0 \nL 569 641 \nL 1209 641 \nL 1209 0 \nQ 1209 -353 1084 -570 \nQ 959 -788 688 -906 \nL 531 -666 \nQ 709 -588 793 -436 \nQ 878 -284 888 0 \nL 569 0 \nz\n\" transform=\"scale(0.015625)\"/>\n       </defs>\n       <use xlink:href=\"#ArialMT-2c\"/>\n      </g>\n     </g>\n    </g>\n    <g id=\"xtick_3\">\n     <g id=\"line2d_5\">\n      <path d=\"M 156.974375 297.397608 \nL 156.974375 31.285608 \n\" clip-path=\"url(#pd6183882cf)\" style=\"fill: none; stroke: #cccccc; stroke-width: 0.8; stroke-linecap: round\"/>\n     </g>\n     <g id=\"line2d_6\"/>\n     <g id=\"text_3\">\n      <!-- var -->\n      <g style=\"fill: #262626\" transform=\"translate(153.315663 26.263095) rotate(-40) scale(0.1 -0.1)\">\n       <defs>\n        <path id=\"ArialMT-76\" d=\"M 1344 0 \nL 81 3319 \nL 675 3319 \nL 1388 1331 \nQ 1503 1009 1600 663 \nQ 1675 925 1809 1294 \nL 2547 3319 \nL 3125 3319 \nL 1869 0 \nL 1344 0 \nz\n\" transform=\"scale(0.015625)\"/>\n        <path id=\"ArialMT-72\" d=\"M 416 0 \nL 416 3319 \nL 922 3319 \nL 922 2816 \nQ 1116 3169 1280 3281 \nQ 1444 3394 1641 3394 \nQ 1925 3394 2219 3213 \nL 2025 2691 \nQ 1819 2813 1613 2813 \nQ 1428 2813 1281 2702 \nQ 1134 2591 1072 2394 \nQ 978 2094 978 1738 \nL 978 0 \nL 416 0 \nz\n\" transform=\"scale(0.015625)\"/>\n       </defs>\n       <use xlink:href=\"#ArialMT-76\"/>\n       <use xlink:href=\"#ArialMT-61\" x=\"50\"/>\n       <use xlink:href=\"#ArialMT-72\" x=\"105.615234\"/>\n      </g>\n     </g>\n    </g>\n    <g id=\"xtick_4\">\n     <g id=\"line2d_7\">\n      <path d=\"M 204.590375 297.397608 \nL 204.590375 31.285608 \n\" clip-path=\"url(#pd6183882cf)\" style=\"fill: none; stroke: #cccccc; stroke-width: 0.8; stroke-linecap: round\"/>\n     </g>\n     <g id=\"line2d_8\"/>\n     <g id=\"text_4\">\n      <!-- är -->\n      <g style=\"fill: #262626\" transform=\"translate(202.846774 26.263095) rotate(-40) scale(0.1 -0.1)\">\n       <defs>\n        <path id=\"ArialMT-e4\" d=\"M 2588 409 \nQ 2275 144 1986 34 \nQ 1697 -75 1366 -75 \nQ 819 -75 525 192 \nQ 231 459 231 875 \nQ 231 1119 342 1320 \nQ 453 1522 633 1644 \nQ 813 1766 1038 1828 \nQ 1203 1872 1538 1913 \nQ 2219 1994 2541 2106 \nQ 2544 2222 2544 2253 \nQ 2544 2597 2384 2738 \nQ 2169 2928 1744 2928 \nQ 1347 2928 1158 2789 \nQ 969 2650 878 2297 \nL 328 2372 \nQ 403 2725 575 2942 \nQ 747 3159 1072 3276 \nQ 1397 3394 1825 3394 \nQ 2250 3394 2515 3294 \nQ 2781 3194 2906 3042 \nQ 3031 2891 3081 2659 \nQ 3109 2516 3109 2141 \nL 3109 1391 \nQ 3109 606 3145 398 \nQ 3181 191 3288 0 \nL 2700 0 \nQ 2613 175 2588 409 \nz\nM 2541 1666 \nQ 2234 1541 1622 1453 \nQ 1275 1403 1131 1340 \nQ 988 1278 909 1158 \nQ 831 1038 831 891 \nQ 831 666 1001 516 \nQ 1172 366 1500 366 \nQ 1825 366 2078 508 \nQ 2331 650 2450 897 \nQ 2541 1088 2541 1459 \nL 2541 1666 \nz\nM 887 3969 \nL 887 4609 \nL 1474 4609 \nL 1474 3969 \nL 887 3969 \nz\nM 2052 3969 \nL 2052 4609 \nL 2640 4609 \nL 2640 3969 \nL 2052 3969 \nz\n\" transform=\"scale(0.015625)\"/>\n       </defs>\n       <use xlink:href=\"#ArialMT-e4\"/>\n       <use xlink:href=\"#ArialMT-72\" x=\"55.615234\"/>\n      </g>\n     </g>\n    </g>\n    <g id=\"xtick_5\">\n     <g id=\"line2d_9\">\n      <path d=\"M 252.206375 297.397608 \nL 252.206375 31.285608 \n\" clip-path=\"url(#pd6183882cf)\" style=\"fill: none; stroke: #cccccc; stroke-width: 0.8; stroke-linecap: round\"/>\n     </g>\n     <g id=\"line2d_10\"/>\n     <g id=\"text_5\">\n      <!-- vi -->\n      <g style=\"fill: #262626\" transform=\"translate(251.101943 26.263095) rotate(-40) scale(0.1 -0.1)\">\n       <defs>\n        <path id=\"ArialMT-69\" d=\"M 425 3934 \nL 425 4581 \nL 988 4581 \nL 988 3934 \nL 425 3934 \nz\nM 425 0 \nL 425 3319 \nL 988 3319 \nL 988 0 \nL 425 0 \nz\n\" transform=\"scale(0.015625)\"/>\n       </defs>\n       <use xlink:href=\"#ArialMT-76\"/>\n       <use xlink:href=\"#ArialMT-69\" x=\"50\"/>\n      </g>\n     </g>\n    </g>\n    <g id=\"xtick_6\">\n     <g id=\"line2d_11\">\n      <path d=\"M 299.822375 297.397608 \nL 299.822375 31.285608 \n\" clip-path=\"url(#pd6183882cf)\" style=\"fill: none; stroke: #cccccc; stroke-width: 0.8; stroke-linecap: round\"/>\n     </g>\n     <g id=\"line2d_12\"/>\n     <g id=\"text_6\">\n      <!-- ? -->\n      <g style=\"fill: #262626\" transform=\"translate(299.354119 26.263095) rotate(-40) scale(0.1 -0.1)\">\n       <defs>\n        <path id=\"ArialMT-3f\" d=\"M 1475 1128 \nQ 1472 1241 1472 1297 \nQ 1472 1628 1566 1869 \nQ 1634 2050 1788 2234 \nQ 1900 2369 2192 2626 \nQ 2484 2884 2571 3037 \nQ 2659 3191 2659 3372 \nQ 2659 3700 2403 3948 \nQ 2147 4197 1775 4197 \nQ 1416 4197 1175 3972 \nQ 934 3747 859 3269 \nL 281 3338 \nQ 359 3978 745 4318 \nQ 1131 4659 1766 4659 \nQ 2438 4659 2838 4293 \nQ 3238 3928 3238 3409 \nQ 3238 3109 3097 2856 \nQ 2956 2603 2547 2241 \nQ 2272 1997 2187 1881 \nQ 2103 1766 2062 1616 \nQ 2022 1466 2016 1128 \nL 1475 1128 \nz\nM 1441 0 \nL 1441 641 \nL 2081 641 \nL 2081 0 \nL 1441 0 \nz\n\" transform=\"scale(0.015625)\"/>\n       </defs>\n       <use xlink:href=\"#ArialMT-3f\"/>\n      </g>\n     </g>\n    </g>\n   </g>\n   <g id=\"matplotlib.axis_2\">\n    <g id=\"ytick_1\">\n     <g id=\"line2d_13\">\n      <path d=\"M 37.934375 44.591208 \nL 323.630375 44.591208 \n\" clip-path=\"url(#pd6183882cf)\" style=\"fill: none; stroke: #cccccc; stroke-width: 0.8; stroke-linecap: round\"/>\n     </g>\n     <g id=\"line2d_14\"/>\n     <g id=\"text_7\">\n      <!-- hey -->\n      <g style=\"fill: #262626\" transform=\"translate(18.3125 48.170115) scale(0.1 -0.1)\">\n       <defs>\n        <path id=\"ArialMT-65\" d=\"M 2694 1069 \nL 3275 997 \nQ 3138 488 2766 206 \nQ 2394 -75 1816 -75 \nQ 1088 -75 661 373 \nQ 234 822 234 1631 \nQ 234 2469 665 2931 \nQ 1097 3394 1784 3394 \nQ 2450 3394 2872 2941 \nQ 3294 2488 3294 1666 \nQ 3294 1616 3291 1516 \nL 816 1516 \nQ 847 969 1125 678 \nQ 1403 388 1819 388 \nQ 2128 388 2347 550 \nQ 2566 713 2694 1069 \nz\nM 847 1978 \nL 2700 1978 \nQ 2663 2397 2488 2606 \nQ 2219 2931 1791 2931 \nQ 1403 2931 1139 2672 \nQ 875 2413 847 1978 \nz\n\" transform=\"scale(0.015625)\"/>\n        <path id=\"ArialMT-79\" d=\"M 397 -1278 \nL 334 -750 \nQ 519 -800 656 -800 \nQ 844 -800 956 -737 \nQ 1069 -675 1141 -563 \nQ 1194 -478 1313 -144 \nQ 1328 -97 1363 -6 \nL 103 3319 \nL 709 3319 \nL 1400 1397 \nQ 1534 1031 1641 628 \nQ 1738 1016 1872 1384 \nL 2581 3319 \nL 3144 3319 \nL 1881 -56 \nQ 1678 -603 1566 -809 \nQ 1416 -1088 1222 -1217 \nQ 1028 -1347 759 -1347 \nQ 597 -1347 397 -1278 \nz\n\" transform=\"scale(0.015625)\"/>\n       </defs>\n       <use xlink:href=\"#ArialMT-68\"/>\n       <use xlink:href=\"#ArialMT-65\" x=\"55.615234\"/>\n       <use xlink:href=\"#ArialMT-79\" x=\"111.230469\"/>\n      </g>\n     </g>\n    </g>\n    <g id=\"ytick_2\">\n     <g id=\"line2d_15\">\n      <path d=\"M 37.934375 71.202408 \nL 323.630375 71.202408 \n\" clip-path=\"url(#pd6183882cf)\" style=\"fill: none; stroke: #cccccc; stroke-width: 0.8; stroke-linecap: round\"/>\n     </g>\n     <g id=\"line2d_16\"/>\n     <g id=\"text_8\">\n      <!-- , -->\n      <g style=\"fill: #262626\" transform=\"translate(31.65625 74.781315) scale(0.1 -0.1)\">\n       <use xlink:href=\"#ArialMT-2c\"/>\n      </g>\n     </g>\n    </g>\n    <g id=\"ytick_3\">\n     <g id=\"line2d_17\">\n      <path d=\"M 37.934375 97.813608 \nL 323.630375 97.813608 \n\" clip-path=\"url(#pd6183882cf)\" style=\"fill: none; stroke: #cccccc; stroke-width: 0.8; stroke-linecap: round\"/>\n     </g>\n     <g id=\"line2d_18\"/>\n     <g id=\"text_9\">\n      <!-- where -->\n      <g style=\"fill: #262626\" transform=\"translate(7.2 101.392515) scale(0.1 -0.1)\">\n       <defs>\n        <path id=\"ArialMT-77\" d=\"M 1034 0 \nL 19 3319 \nL 600 3319 \nL 1128 1403 \nL 1325 691 \nQ 1338 744 1497 1375 \nL 2025 3319 \nL 2603 3319 \nL 3100 1394 \nL 3266 759 \nL 3456 1400 \nL 4025 3319 \nL 4572 3319 \nL 3534 0 \nL 2950 0 \nL 2422 1988 \nL 2294 2553 \nL 1622 0 \nL 1034 0 \nz\n\" transform=\"scale(0.015625)\"/>\n       </defs>\n       <use xlink:href=\"#ArialMT-77\"/>\n       <use xlink:href=\"#ArialMT-68\" x=\"72.216797\"/>\n       <use xlink:href=\"#ArialMT-65\" x=\"127.832031\"/>\n       <use xlink:href=\"#ArialMT-72\" x=\"183.447266\"/>\n       <use xlink:href=\"#ArialMT-65\" x=\"216.748047\"/>\n      </g>\n     </g>\n    </g>\n    <g id=\"ytick_4\">\n     <g id=\"line2d_19\">\n      <path d=\"M 37.934375 124.424808 \nL 323.630375 124.424808 \n\" clip-path=\"url(#pd6183882cf)\" style=\"fill: none; stroke: #cccccc; stroke-width: 0.8; stroke-linecap: round\"/>\n     </g>\n     <g id=\"line2d_20\"/>\n     <g id=\"text_10\">\n      <!-- we -->\n      <g style=\"fill: #262626\" transform=\"translate(21.651563 128.003715) scale(0.1 -0.1)\">\n       <use xlink:href=\"#ArialMT-77\"/>\n       <use xlink:href=\"#ArialMT-65\" x=\"72.216797\"/>\n      </g>\n     </g>\n    </g>\n    <g id=\"ytick_5\">\n     <g id=\"line2d_21\">\n      <path d=\"M 37.934375 151.036008 \nL 323.630375 151.036008 \n\" clip-path=\"url(#pd6183882cf)\" style=\"fill: none; stroke: #cccccc; stroke-width: 0.8; stroke-linecap: round\"/>\n     </g>\n     <g id=\"line2d_22\"/>\n     <g id=\"text_11\">\n      <!-- were -->\n      <g style=\"fill: #262626\" transform=\"translate(12.760938 154.614915) scale(0.1 -0.1)\">\n       <use xlink:href=\"#ArialMT-77\"/>\n       <use xlink:href=\"#ArialMT-65\" x=\"72.216797\"/>\n       <use xlink:href=\"#ArialMT-72\" x=\"127.832031\"/>\n       <use xlink:href=\"#ArialMT-65\" x=\"161.132812\"/>\n      </g>\n     </g>\n    </g>\n    <g id=\"ytick_6\">\n     <g id=\"line2d_23\">\n      <path d=\"M 37.934375 177.647208 \nL 323.630375 177.647208 \n\" clip-path=\"url(#pd6183882cf)\" style=\"fill: none; stroke: #cccccc; stroke-width: 0.8; stroke-linecap: round\"/>\n     </g>\n     <g id=\"line2d_24\"/>\n     <g id=\"text_12\">\n      <!-- we -->\n      <g style=\"fill: #262626\" transform=\"translate(21.651563 181.226115) scale(0.1 -0.1)\">\n       <use xlink:href=\"#ArialMT-77\"/>\n       <use xlink:href=\"#ArialMT-65\" x=\"72.216797\"/>\n      </g>\n     </g>\n    </g>\n    <g id=\"ytick_7\">\n     <g id=\"line2d_25\">\n      <path d=\"M 37.934375 204.258408 \nL 323.630375 204.258408 \n\" clip-path=\"url(#pd6183882cf)\" style=\"fill: none; stroke: #cccccc; stroke-width: 0.8; stroke-linecap: round\"/>\n     </g>\n     <g id=\"line2d_26\"/>\n     <g id=\"text_13\">\n      <!-- , -->\n      <g style=\"fill: #262626\" transform=\"translate(31.65625 207.837315) scale(0.1 -0.1)\">\n       <use xlink:href=\"#ArialMT-2c\"/>\n      </g>\n     </g>\n    </g>\n    <g id=\"ytick_8\">\n     <g id=\"line2d_27\">\n      <path d=\"M 37.934375 230.869608 \nL 323.630375 230.869608 \n\" clip-path=\"url(#pd6183882cf)\" style=\"fill: none; stroke: #cccccc; stroke-width: 0.8; stroke-linecap: round\"/>\n     </g>\n     <g id=\"line2d_28\"/>\n     <g id=\"text_14\">\n      <!-- we -->\n      <g style=\"fill: #262626\" transform=\"translate(21.651563 234.448515) scale(0.1 -0.1)\">\n       <use xlink:href=\"#ArialMT-77\"/>\n       <use xlink:href=\"#ArialMT-65\" x=\"72.216797\"/>\n      </g>\n     </g>\n    </g>\n    <g id=\"ytick_9\">\n     <g id=\"line2d_29\">\n      <path d=\"M 37.934375 257.480808 \nL 323.630375 257.480808 \n\" clip-path=\"url(#pd6183882cf)\" style=\"fill: none; stroke: #cccccc; stroke-width: 0.8; stroke-linecap: round\"/>\n     </g>\n     <g id=\"line2d_30\"/>\n     <g id=\"text_15\">\n      <!-- we -->\n      <g style=\"fill: #262626\" transform=\"translate(21.651563 261.059715) scale(0.1 -0.1)\">\n       <use xlink:href=\"#ArialMT-77\"/>\n       <use xlink:href=\"#ArialMT-65\" x=\"72.216797\"/>\n      </g>\n     </g>\n    </g>\n    <g id=\"ytick_10\">\n     <g id=\"line2d_31\">\n      <path d=\"M 37.934375 284.092008 \nL 323.630375 284.092008 \n\" clip-path=\"url(#pd6183882cf)\" style=\"fill: none; stroke: #cccccc; stroke-width: 0.8; stroke-linecap: round\"/>\n     </g>\n     <g id=\"line2d_32\"/>\n     <g id=\"text_16\">\n      <!-- ? -->\n      <g style=\"fill: #262626\" transform=\"translate(28.873438 287.670915) scale(0.1 -0.1)\">\n       <use xlink:href=\"#ArialMT-3f\"/>\n      </g>\n     </g>\n    </g>\n   </g>\n   <g id=\"PolyCollection_1\">\n    <path d=\"M 37.934375 31.285608 \nL 37.934375 57.896808 \nL 85.550375 57.896808 \nL 85.550375 31.285608 \nL 37.934375 31.285608 \nz\n\" clip-path=\"url(#pd6183882cf)\" style=\"fill: #08326e\"/>\n    <path d=\"M 85.550375 31.285608 \nL 85.550375 57.896808 \nL 133.166375 57.896808 \nL 133.166375 31.285608 \nL 85.550375 31.285608 \nz\n\" clip-path=\"url(#pd6183882cf)\" style=\"fill: #135fa7\"/>\n    <path d=\"M 133.166375 31.285608 \nL 133.166375 57.896808 \nL 180.782375 57.896808 \nL 180.782375 31.285608 \nL 133.166375 31.285608 \nz\n\" clip-path=\"url(#pd6183882cf)\" style=\"fill: #083573\"/>\n    <path d=\"M 180.782375 31.285608 \nL 180.782375 57.896808 \nL 228.398375 57.896808 \nL 228.398375 31.285608 \nL 180.782375 31.285608 \nz\n\" clip-path=\"url(#pd6183882cf)\" style=\"fill: #083877\"/>\n    <path d=\"M 228.398375 31.285608 \nL 228.398375 57.896808 \nL 276.014375 57.896808 \nL 276.014375 31.285608 \nL 228.398375 31.285608 \nz\n\" clip-path=\"url(#pd6183882cf)\" style=\"fill: #2c7cba\"/>\n    <path d=\"M 276.014375 31.285608 \nL 276.014375 57.896808 \nL 323.630375 57.896808 \nL 323.630375 31.285608 \nL 276.014375 31.285608 \nz\n\" clip-path=\"url(#pd6183882cf)\" style=\"fill: #5fa6d1\"/>\n    <path d=\"M 37.934375 57.896808 \nL 37.934375 84.508008 \nL 85.550375 84.508008 \nL 85.550375 57.896808 \nL 37.934375 57.896808 \nz\n\" clip-path=\"url(#pd6183882cf)\" style=\"fill: #105ba4\"/>\n    <path d=\"M 85.550375 57.896808 \nL 85.550375 84.508008 \nL 133.166375 84.508008 \nL 133.166375 57.896808 \nL 85.550375 57.896808 \nz\n\" clip-path=\"url(#pd6183882cf)\" style=\"fill: #71b1d7\"/>\n    <path d=\"M 133.166375 57.896808 \nL 133.166375 84.508008 \nL 180.782375 84.508008 \nL 180.782375 57.896808 \nL 133.166375 57.896808 \nz\n\" clip-path=\"url(#pd6183882cf)\" style=\"fill: #09529d\"/>\n    <path d=\"M 180.782375 57.896808 \nL 180.782375 84.508008 \nL 228.398375 84.508008 \nL 228.398375 57.896808 \nL 180.782375 57.896808 \nz\n\" clip-path=\"url(#pd6183882cf)\" style=\"fill: #084b93\"/>\n    <path d=\"M 228.398375 57.896808 \nL 228.398375 84.508008 \nL 276.014375 84.508008 \nL 276.014375 57.896808 \nL 228.398375 57.896808 \nz\n\" clip-path=\"url(#pd6183882cf)\" style=\"fill: #084387\"/>\n    <path d=\"M 276.014375 57.896808 \nL 276.014375 84.508008 \nL 323.630375 84.508008 \nL 323.630375 57.896808 \nL 276.014375 57.896808 \nz\n\" clip-path=\"url(#pd6183882cf)\" style=\"fill: #083370\"/>\n    <path d=\"M 37.934375 84.508008 \nL 37.934375 111.119208 \nL 85.550375 111.119208 \nL 85.550375 84.508008 \nL 37.934375 84.508008 \nz\n\" clip-path=\"url(#pd6183882cf)\" style=\"fill: #083e81\"/>\n    <path d=\"M 85.550375 84.508008 \nL 85.550375 111.119208 \nL 133.166375 111.119208 \nL 133.166375 84.508008 \nL 85.550375 84.508008 \nz\n\" clip-path=\"url(#pd6183882cf)\" style=\"fill: #3b8bc2\"/>\n    <path d=\"M 133.166375 84.508008 \nL 133.166375 111.119208 \nL 180.782375 111.119208 \nL 180.782375 84.508008 \nL 133.166375 84.508008 \nz\n\" clip-path=\"url(#pd6183882cf)\" style=\"fill: #0b559f\"/>\n    <path d=\"M 180.782375 84.508008 \nL 180.782375 111.119208 \nL 228.398375 111.119208 \nL 228.398375 84.508008 \nL 180.782375 84.508008 \nz\n\" clip-path=\"url(#pd6183882cf)\" style=\"fill: #2e7ebc\"/>\n    <path d=\"M 228.398375 84.508008 \nL 228.398375 111.119208 \nL 276.014375 111.119208 \nL 276.014375 84.508008 \nL 228.398375 84.508008 \nz\n\" clip-path=\"url(#pd6183882cf)\" style=\"fill: #08509b\"/>\n    <path d=\"M 276.014375 84.508008 \nL 276.014375 111.119208 \nL 323.630375 111.119208 \nL 323.630375 84.508008 \nL 276.014375 84.508008 \nz\n\" clip-path=\"url(#pd6183882cf)\" style=\"fill: #083674\"/>\n    <path d=\"M 37.934375 111.119208 \nL 37.934375 137.730408 \nL 85.550375 137.730408 \nL 85.550375 111.119208 \nL 37.934375 111.119208 \nz\n\" clip-path=\"url(#pd6183882cf)\" style=\"fill: #083e81\"/>\n    <path d=\"M 85.550375 111.119208 \nL 85.550375 137.730408 \nL 133.166375 137.730408 \nL 133.166375 111.119208 \nL 85.550375 111.119208 \nz\n\" clip-path=\"url(#pd6183882cf)\" style=\"fill: #1562a9\"/>\n    <path d=\"M 133.166375 111.119208 \nL 133.166375 137.730408 \nL 180.782375 137.730408 \nL 180.782375 111.119208 \nL 133.166375 111.119208 \nz\n\" clip-path=\"url(#pd6183882cf)\" style=\"fill: #3989c1\"/>\n    <path d=\"M 180.782375 111.119208 \nL 180.782375 137.730408 \nL 228.398375 137.730408 \nL 228.398375 111.119208 \nL 180.782375 111.119208 \nz\n\" clip-path=\"url(#pd6183882cf)\" style=\"fill: #1f6eb3\"/>\n    <path d=\"M 228.398375 111.119208 \nL 228.398375 137.730408 \nL 276.014375 137.730408 \nL 276.014375 111.119208 \nL 228.398375 111.119208 \nz\n\" clip-path=\"url(#pd6183882cf)\" style=\"fill: #0a549e\"/>\n    <path d=\"M 276.014375 111.119208 \nL 276.014375 137.730408 \nL 323.630375 137.730408 \nL 323.630375 111.119208 \nL 276.014375 111.119208 \nz\n\" clip-path=\"url(#pd6183882cf)\" style=\"fill: #083674\"/>\n    <path d=\"M 37.934375 137.730408 \nL 37.934375 164.341608 \nL 85.550375 164.341608 \nL 85.550375 137.730408 \nL 37.934375 137.730408 \nz\n\" clip-path=\"url(#pd6183882cf)\" style=\"fill: #083a7a\"/>\n    <path d=\"M 85.550375 137.730408 \nL 85.550375 164.341608 \nL 133.166375 164.341608 \nL 133.166375 137.730408 \nL 85.550375 137.730408 \nz\n\" clip-path=\"url(#pd6183882cf)\" style=\"fill: #0a539e\"/>\n    <path d=\"M 133.166375 137.730408 \nL 133.166375 164.341608 \nL 180.782375 164.341608 \nL 180.782375 137.730408 \nL 133.166375 137.730408 \nz\n\" clip-path=\"url(#pd6183882cf)\" style=\"fill: #2a7ab9\"/>\n    <path d=\"M 180.782375 137.730408 \nL 180.782375 164.341608 \nL 228.398375 164.341608 \nL 228.398375 137.730408 \nL 180.782375 137.730408 \nz\n\" clip-path=\"url(#pd6183882cf)\" style=\"fill: #4191c6\"/>\n    <path d=\"M 228.398375 137.730408 \nL 228.398375 164.341608 \nL 276.014375 164.341608 \nL 276.014375 137.730408 \nL 228.398375 137.730408 \nz\n\" clip-path=\"url(#pd6183882cf)\" style=\"fill: #0a539e\"/>\n    <path d=\"M 276.014375 137.730408 \nL 276.014375 164.341608 \nL 323.630375 164.341608 \nL 323.630375 137.730408 \nL 276.014375 137.730408 \nz\n\" clip-path=\"url(#pd6183882cf)\" style=\"fill: #083979\"/>\n    <path d=\"M 37.934375 164.341608 \nL 37.934375 190.952808 \nL 85.550375 190.952808 \nL 85.550375 164.341608 \nL 37.934375 164.341608 \nz\n\" clip-path=\"url(#pd6183882cf)\" style=\"fill: #083471\"/>\n    <path d=\"M 85.550375 164.341608 \nL 85.550375 190.952808 \nL 133.166375 190.952808 \nL 133.166375 164.341608 \nL 85.550375 164.341608 \nz\n\" clip-path=\"url(#pd6183882cf)\" style=\"fill: #0c56a0\"/>\n    <path d=\"M 133.166375 164.341608 \nL 133.166375 190.952808 \nL 180.782375 190.952808 \nL 180.782375 164.341608 \nL 133.166375 164.341608 \nz\n\" clip-path=\"url(#pd6183882cf)\" style=\"fill: #084b93\"/>\n    <path d=\"M 180.782375 164.341608 \nL 180.782375 190.952808 \nL 228.398375 190.952808 \nL 228.398375 164.341608 \nL 180.782375 164.341608 \nz\n\" clip-path=\"url(#pd6183882cf)\" style=\"fill: #6aaed6\"/>\n    <path d=\"M 228.398375 164.341608 \nL 228.398375 190.952808 \nL 276.014375 190.952808 \nL 276.014375 164.341608 \nL 228.398375 164.341608 \nz\n\" clip-path=\"url(#pd6183882cf)\" style=\"fill: #09529d\"/>\n    <path d=\"M 276.014375 164.341608 \nL 276.014375 190.952808 \nL 323.630375 190.952808 \nL 323.630375 164.341608 \nL 276.014375 164.341608 \nz\n\" clip-path=\"url(#pd6183882cf)\" style=\"fill: #084a91\"/>\n    <path d=\"M 37.934375 190.952808 \nL 37.934375 217.564008 \nL 85.550375 217.564008 \nL 85.550375 190.952808 \nL 37.934375 190.952808 \nz\n\" clip-path=\"url(#pd6183882cf)\" style=\"fill: #083b7c\"/>\n    <path d=\"M 85.550375 190.952808 \nL 85.550375 217.564008 \nL 133.166375 217.564008 \nL 133.166375 190.952808 \nL 85.550375 190.952808 \nz\n\" clip-path=\"url(#pd6183882cf)\" style=\"fill: #2e7ebc\"/>\n    <path d=\"M 133.166375 190.952808 \nL 133.166375 217.564008 \nL 180.782375 217.564008 \nL 180.782375 190.952808 \nL 133.166375 190.952808 \nz\n\" clip-path=\"url(#pd6183882cf)\" style=\"fill: #08509b\"/>\n    <path d=\"M 180.782375 190.952808 \nL 180.782375 217.564008 \nL 228.398375 217.564008 \nL 228.398375 190.952808 \nL 180.782375 190.952808 \nz\n\" clip-path=\"url(#pd6183882cf)\" style=\"fill: #1c6bb0\"/>\n    <path d=\"M 228.398375 190.952808 \nL 228.398375 217.564008 \nL 276.014375 217.564008 \nL 276.014375 190.952808 \nL 228.398375 190.952808 \nz\n\" clip-path=\"url(#pd6183882cf)\" style=\"fill: #1561a9\"/>\n    <path d=\"M 276.014375 190.952808 \nL 276.014375 217.564008 \nL 323.630375 217.564008 \nL 323.630375 190.952808 \nL 276.014375 190.952808 \nz\n\" clip-path=\"url(#pd6183882cf)\" style=\"fill: #084f99\"/>\n    <path d=\"M 37.934375 217.564008 \nL 37.934375 244.175208 \nL 85.550375 244.175208 \nL 85.550375 217.564008 \nL 37.934375 217.564008 \nz\n\" clip-path=\"url(#pd6183882cf)\" style=\"fill: #083776\"/>\n    <path d=\"M 85.550375 217.564008 \nL 85.550375 244.175208 \nL 133.166375 244.175208 \nL 133.166375 217.564008 \nL 85.550375 217.564008 \nz\n\" clip-path=\"url(#pd6183882cf)\" style=\"fill: #125ea6\"/>\n    <path d=\"M 133.166375 217.564008 \nL 133.166375 244.175208 \nL 180.782375 244.175208 \nL 180.782375 217.564008 \nL 133.166375 217.564008 \nz\n\" clip-path=\"url(#pd6183882cf)\" style=\"fill: #084d96\"/>\n    <path d=\"M 180.782375 217.564008 \nL 180.782375 244.175208 \nL 228.398375 244.175208 \nL 228.398375 217.564008 \nL 180.782375 217.564008 \nz\n\" clip-path=\"url(#pd6183882cf)\" style=\"fill: #2c7cba\"/>\n    <path d=\"M 228.398375 217.564008 \nL 228.398375 244.175208 \nL 276.014375 244.175208 \nL 276.014375 217.564008 \nL 228.398375 217.564008 \nz\n\" clip-path=\"url(#pd6183882cf)\" style=\"fill: #1967ad\"/>\n    <path d=\"M 276.014375 217.564008 \nL 276.014375 244.175208 \nL 323.630375 244.175208 \nL 323.630375 217.564008 \nL 276.014375 217.564008 \nz\n\" clip-path=\"url(#pd6183882cf)\" style=\"fill: #125da6\"/>\n    <path d=\"M 37.934375 244.175208 \nL 37.934375 270.786408 \nL 85.550375 270.786408 \nL 85.550375 244.175208 \nL 37.934375 244.175208 \nz\n\" clip-path=\"url(#pd6183882cf)\" style=\"fill: #083a7a\"/>\n    <path d=\"M 85.550375 244.175208 \nL 85.550375 270.786408 \nL 133.166375 270.786408 \nL 133.166375 244.175208 \nL 85.550375 244.175208 \nz\n\" clip-path=\"url(#pd6183882cf)\" style=\"fill: #0c56a0\"/>\n    <path d=\"M 133.166375 244.175208 \nL 133.166375 270.786408 \nL 180.782375 270.786408 \nL 180.782375 244.175208 \nL 133.166375 244.175208 \nz\n\" clip-path=\"url(#pd6183882cf)\" style=\"fill: #0c56a0\"/>\n    <path d=\"M 180.782375 244.175208 \nL 180.782375 270.786408 \nL 228.398375 270.786408 \nL 228.398375 244.175208 \nL 180.782375 244.175208 \nz\n\" clip-path=\"url(#pd6183882cf)\" style=\"fill: #3b8bc2\"/>\n    <path d=\"M 228.398375 244.175208 \nL 228.398375 270.786408 \nL 276.014375 270.786408 \nL 276.014375 244.175208 \nL 228.398375 244.175208 \nz\n\" clip-path=\"url(#pd6183882cf)\" style=\"fill: #1562a9\"/>\n    <path d=\"M 276.014375 244.175208 \nL 276.014375 270.786408 \nL 323.630375 270.786408 \nL 323.630375 244.175208 \nL 276.014375 244.175208 \nz\n\" clip-path=\"url(#pd6183882cf)\" style=\"fill: #08519c\"/>\n    <path d=\"M 37.934375 270.786408 \nL 37.934375 297.397608 \nL 85.550375 297.397608 \nL 85.550375 270.786408 \nL 37.934375 270.786408 \nz\n\" clip-path=\"url(#pd6183882cf)\" style=\"fill: #083573\"/>\n    <path d=\"M 85.550375 270.786408 \nL 85.550375 297.397608 \nL 133.166375 297.397608 \nL 133.166375 270.786408 \nL 85.550375 270.786408 \nz\n\" clip-path=\"url(#pd6183882cf)\" style=\"fill: #0c56a0\"/>\n    <path d=\"M 133.166375 270.786408 \nL 133.166375 297.397608 \nL 180.782375 297.397608 \nL 180.782375 270.786408 \nL 133.166375 270.786408 \nz\n\" clip-path=\"url(#pd6183882cf)\" style=\"fill: #084990\"/>\n    <path d=\"M 180.782375 270.786408 \nL 180.782375 297.397608 \nL 228.398375 297.397608 \nL 228.398375 270.786408 \nL 180.782375 270.786408 \nz\n\" clip-path=\"url(#pd6183882cf)\" style=\"fill: #4493c7\"/>\n    <path d=\"M 228.398375 270.786408 \nL 228.398375 297.397608 \nL 276.014375 297.397608 \nL 276.014375 270.786408 \nL 228.398375 270.786408 \nz\n\" clip-path=\"url(#pd6183882cf)\" style=\"fill: #115ca5\"/>\n    <path d=\"M 276.014375 270.786408 \nL 276.014375 297.397608 \nL 323.630375 297.397608 \nL 323.630375 270.786408 \nL 276.014375 270.786408 \nz\n\" clip-path=\"url(#pd6183882cf)\" style=\"fill: #1460a8\"/>\n   </g>\n   <g id=\"patch_3\">\n    <path d=\"M 37.934375 297.397608 \nL 37.934375 31.285608 \n\" style=\"fill: none; stroke: #cccccc; stroke-linejoin: miter; stroke-linecap: square\"/>\n   </g>\n   <g id=\"patch_4\">\n    <path d=\"M 323.630375 297.397608 \nL 323.630375 31.285608 \n\" style=\"fill: none; stroke: #cccccc; stroke-linejoin: miter; stroke-linecap: square\"/>\n   </g>\n   <g id=\"patch_5\">\n    <path d=\"M 37.934375 297.397608 \nL 323.630375 297.397608 \n\" style=\"fill: none; stroke: #cccccc; stroke-linejoin: miter; stroke-linecap: square\"/>\n   </g>\n   <g id=\"patch_6\">\n    <path d=\"M 37.934375 31.285608 \nL 323.630375 31.285608 \n\" style=\"fill: none; stroke: #cccccc; stroke-linejoin: miter; stroke-linecap: square\"/>\n   </g>\n  </g>\n  <g id=\"axes_2\">\n   <g id=\"patch_7\">\n    <path d=\"M 341.486375 297.397608 \nL 354.791975 297.397608 \nL 354.791975 31.285608 \nL 341.486375 31.285608 \nz\n\" style=\"fill: #ffffff\"/>\n   </g>\n   <g id=\"matplotlib.axis_3\"/>\n   <g id=\"matplotlib.axis_4\">\n    <g id=\"ytick_11\">\n     <g id=\"line2d_33\"/>\n     <g id=\"text_17\">\n      <!-- 0.0 -->\n      <g style=\"fill: #262626\" transform=\"translate(358.291975 300.976515) scale(0.1 -0.1)\">\n       <defs>\n        <path id=\"ArialMT-30\" d=\"M 266 2259 \nQ 266 3072 433 3567 \nQ 600 4063 929 4331 \nQ 1259 4600 1759 4600 \nQ 2128 4600 2406 4451 \nQ 2684 4303 2865 4023 \nQ 3047 3744 3150 3342 \nQ 3253 2941 3253 2259 \nQ 3253 1453 3087 958 \nQ 2922 463 2592 192 \nQ 2263 -78 1759 -78 \nQ 1097 -78 719 397 \nQ 266 969 266 2259 \nz\nM 844 2259 \nQ 844 1131 1108 757 \nQ 1372 384 1759 384 \nQ 2147 384 2411 759 \nQ 2675 1134 2675 2259 \nQ 2675 3391 2411 3762 \nQ 2147 4134 1753 4134 \nQ 1366 4134 1134 3806 \nQ 844 3388 844 2259 \nz\n\" transform=\"scale(0.015625)\"/>\n        <path id=\"ArialMT-2e\" d=\"M 581 0 \nL 581 641 \nL 1222 641 \nL 1222 0 \nL 581 0 \nz\n\" transform=\"scale(0.015625)\"/>\n       </defs>\n       <use xlink:href=\"#ArialMT-30\"/>\n       <use xlink:href=\"#ArialMT-2e\" x=\"55.615234\"/>\n       <use xlink:href=\"#ArialMT-30\" x=\"83.398438\"/>\n      </g>\n     </g>\n    </g>\n    <g id=\"ytick_12\">\n     <g id=\"line2d_34\"/>\n     <g id=\"text_18\">\n      <!-- 0.2 -->\n      <g style=\"fill: #262626\" transform=\"translate(358.291975 247.754115) scale(0.1 -0.1)\">\n       <defs>\n        <path id=\"ArialMT-32\" d=\"M 3222 541 \nL 3222 0 \nL 194 0 \nQ 188 203 259 391 \nQ 375 700 629 1000 \nQ 884 1300 1366 1694 \nQ 2113 2306 2375 2664 \nQ 2638 3022 2638 3341 \nQ 2638 3675 2398 3904 \nQ 2159 4134 1775 4134 \nQ 1369 4134 1125 3890 \nQ 881 3647 878 3216 \nL 300 3275 \nQ 359 3922 746 4261 \nQ 1134 4600 1788 4600 \nQ 2447 4600 2831 4234 \nQ 3216 3869 3216 3328 \nQ 3216 3053 3103 2787 \nQ 2991 2522 2730 2228 \nQ 2469 1934 1863 1422 \nQ 1356 997 1212 845 \nQ 1069 694 975 541 \nL 3222 541 \nz\n\" transform=\"scale(0.015625)\"/>\n       </defs>\n       <use xlink:href=\"#ArialMT-30\"/>\n       <use xlink:href=\"#ArialMT-2e\" x=\"55.615234\"/>\n       <use xlink:href=\"#ArialMT-32\" x=\"83.398438\"/>\n      </g>\n     </g>\n    </g>\n    <g id=\"ytick_13\">\n     <g id=\"line2d_35\"/>\n     <g id=\"text_19\">\n      <!-- 0.4 -->\n      <g style=\"fill: #262626\" transform=\"translate(358.291975 194.531715) scale(0.1 -0.1)\">\n       <defs>\n        <path id=\"ArialMT-34\" d=\"M 2069 0 \nL 2069 1097 \nL 81 1097 \nL 81 1613 \nL 2172 4581 \nL 2631 4581 \nL 2631 1613 \nL 3250 1613 \nL 3250 1097 \nL 2631 1097 \nL 2631 0 \nL 2069 0 \nz\nM 2069 1613 \nL 2069 3678 \nL 634 1613 \nL 2069 1613 \nz\n\" transform=\"scale(0.015625)\"/>\n       </defs>\n       <use xlink:href=\"#ArialMT-30\"/>\n       <use xlink:href=\"#ArialMT-2e\" x=\"55.615234\"/>\n       <use xlink:href=\"#ArialMT-34\" x=\"83.398438\"/>\n      </g>\n     </g>\n    </g>\n    <g id=\"ytick_14\">\n     <g id=\"line2d_36\"/>\n     <g id=\"text_20\">\n      <!-- 0.6 -->\n      <g style=\"fill: #262626\" transform=\"translate(358.291975 141.309315) scale(0.1 -0.1)\">\n       <defs>\n        <path id=\"ArialMT-36\" d=\"M 3184 3459 \nL 2625 3416 \nQ 2550 3747 2413 3897 \nQ 2184 4138 1850 4138 \nQ 1581 4138 1378 3988 \nQ 1113 3794 959 3422 \nQ 806 3050 800 2363 \nQ 1003 2672 1297 2822 \nQ 1591 2972 1913 2972 \nQ 2475 2972 2870 2558 \nQ 3266 2144 3266 1488 \nQ 3266 1056 3080 686 \nQ 2894 316 2569 119 \nQ 2244 -78 1831 -78 \nQ 1128 -78 684 439 \nQ 241 956 241 2144 \nQ 241 3472 731 4075 \nQ 1159 4600 1884 4600 \nQ 2425 4600 2770 4297 \nQ 3116 3994 3184 3459 \nz\nM 888 1484 \nQ 888 1194 1011 928 \nQ 1134 663 1356 523 \nQ 1578 384 1822 384 \nQ 2178 384 2434 671 \nQ 2691 959 2691 1453 \nQ 2691 1928 2437 2201 \nQ 2184 2475 1800 2475 \nQ 1419 2475 1153 2201 \nQ 888 1928 888 1484 \nz\n\" transform=\"scale(0.015625)\"/>\n       </defs>\n       <use xlink:href=\"#ArialMT-30\"/>\n       <use xlink:href=\"#ArialMT-2e\" x=\"55.615234\"/>\n       <use xlink:href=\"#ArialMT-36\" x=\"83.398438\"/>\n      </g>\n     </g>\n    </g>\n    <g id=\"ytick_15\">\n     <g id=\"line2d_37\"/>\n     <g id=\"text_21\">\n      <!-- 0.8 -->\n      <g style=\"fill: #262626\" transform=\"translate(358.291975 88.086915) scale(0.1 -0.1)\">\n       <defs>\n        <path id=\"ArialMT-38\" d=\"M 1131 2484 \nQ 781 2613 612 2850 \nQ 444 3088 444 3419 \nQ 444 3919 803 4259 \nQ 1163 4600 1759 4600 \nQ 2359 4600 2725 4251 \nQ 3091 3903 3091 3403 \nQ 3091 3084 2923 2848 \nQ 2756 2613 2416 2484 \nQ 2838 2347 3058 2040 \nQ 3278 1734 3278 1309 \nQ 3278 722 2862 322 \nQ 2447 -78 1769 -78 \nQ 1091 -78 675 323 \nQ 259 725 259 1325 \nQ 259 1772 486 2073 \nQ 713 2375 1131 2484 \nz\nM 1019 3438 \nQ 1019 3113 1228 2906 \nQ 1438 2700 1772 2700 \nQ 2097 2700 2305 2904 \nQ 2513 3109 2513 3406 \nQ 2513 3716 2298 3927 \nQ 2084 4138 1766 4138 \nQ 1444 4138 1231 3931 \nQ 1019 3725 1019 3438 \nz\nM 838 1322 \nQ 838 1081 952 856 \nQ 1066 631 1291 507 \nQ 1516 384 1775 384 \nQ 2178 384 2440 643 \nQ 2703 903 2703 1303 \nQ 2703 1709 2433 1975 \nQ 2163 2241 1756 2241 \nQ 1359 2241 1098 1978 \nQ 838 1716 838 1322 \nz\n\" transform=\"scale(0.015625)\"/>\n       </defs>\n       <use xlink:href=\"#ArialMT-30\"/>\n       <use xlink:href=\"#ArialMT-2e\" x=\"55.615234\"/>\n       <use xlink:href=\"#ArialMT-38\" x=\"83.398438\"/>\n      </g>\n     </g>\n    </g>\n    <g id=\"ytick_16\">\n     <g id=\"line2d_38\"/>\n     <g id=\"text_22\">\n      <!-- 1.0 -->\n      <g style=\"fill: #262626\" transform=\"translate(358.291975 34.864515) scale(0.1 -0.1)\">\n       <defs>\n        <path id=\"ArialMT-31\" d=\"M 2384 0 \nL 1822 0 \nL 1822 3584 \nQ 1619 3391 1289 3197 \nQ 959 3003 697 2906 \nL 697 3450 \nQ 1169 3672 1522 3987 \nQ 1875 4303 2022 4600 \nL 2384 4600 \nL 2384 0 \nz\n\" transform=\"scale(0.015625)\"/>\n       </defs>\n       <use xlink:href=\"#ArialMT-31\"/>\n       <use xlink:href=\"#ArialMT-2e\" x=\"55.615234\"/>\n       <use xlink:href=\"#ArialMT-30\" x=\"83.398438\"/>\n      </g>\n     </g>\n    </g>\n   </g>\n   <image xlink:href=\"data:image/png;base64,\niVBORw0KGgoAAAANSUhEUgAAABMAAAFxCAYAAACRG5MpAAABwUlEQVR4nO2bwY3DMBADZcOPKyd9pf93rgYuBvAASxYwEEVpV1Li6+/z/R1Iz7luinU40jnnOddFwmozh3Ejo+esNnNYbeYwb9Ug5+zu0ghVm7m8NtUbvTZzmNemdAcssaleGqDNS7s0yJE9h2OZbS5Js0vjXVht5kLXmdimNs1u9Fy1masb/W1YN3qs2szVjT6CYSz3nKGwFTZv7Y8LTXMCW9EDtHNWm7lqcwSTHg+WnIJqM1e70wjWpZHDMBZs895hE00TvKCYbbJVA3wloXcACFvSA8iqIbbZNHMYODBzcWwPiCW2uSVNDNUeMJHYZtOMBR9DSdiS4rjk6A7b5GDipwhyaOJ6tuT5Bt0BS1qdt2yTb0Fim9ruJJ4zbXFULw0ORp9p251y2JI522GThHlvKFsellCY9XjQHZCLXhpWm9o01b87gTDySCW26f27QNN8G6adM/ZWp7XZNHOY1yacJghbcg8Qf6a64/mmaQ5g1qph/rS3PSBV08zlTbPFMVdbXa6mOYC1OA5gHKutbqCmOYC1OA5gWpunaeYwsU0wTbhqcFL3AGura5oDmDZNcQnyjqytLob1jh5rSZpLiuM/wSUIzm1AshEAAAAASUVORK5CYII=\" id=\"imageaa63873547\" transform=\"scale(1 -1) translate(0 -265.68)\" x=\"341.28\" y=\"-30.96\" width=\"13.68\" height=\"265.68\"/>\n   <g id=\"LineCollection_1\"/>\n   <g id=\"patch_8\">\n    <path d=\"M 341.486375 297.397608 \nL 348.139175 297.397608 \nL 354.791975 297.397608 \nL 354.791975 31.285608 \nL 348.139175 31.285608 \nL 341.486375 31.285608 \nL 341.486375 297.397608 \nz\n\" style=\"fill: none; stroke: #cccccc; stroke-linejoin: miter; stroke-linecap: square\"/>\n   </g>\n  </g>\n </g>\n <defs>\n  <clipPath id=\"pd6183882cf\">\n   <rect x=\"37.934375\" y=\"31.285608\" width=\"285.696\" height=\"266.112\"/>\n  </clipPath>\n </defs>\n</svg>\n"
     },
     "metadata": {},
     "output_type": "display_data"
    }
   ],
   "source": [
    "plot_attention(translator, 'hallå , var är vi ?')"
   ],
   "metadata": {
    "collapsed": false,
    "ExecuteTime": {
     "end_time": "2023-07-04T16:59:47.157332700Z",
     "start_time": "2023-07-04T16:59:46.547553600Z"
    }
   }
  },
  {
   "cell_type": "markdown",
   "metadata": {
    "id": "0PYBgjpvsDFi"
   },
   "source": [
    "**🥳 Congratulations on finishing this lab! 🥳**"
   ]
  }
 ],
 "metadata": {
  "accelerator": "GPU",
  "colab": {
   "gpuType": "T4",
   "provenance": []
  },
  "interpreter": {
   "hash": "12f500e95db8c7000aae6810a3b3f88d1298056c5758c6b1fc4b18ff2c238050"
  },
  "kernelspec": {
   "display_name": "Python 3 (ipykernel)",
   "language": "python",
   "name": "python3"
  },
  "language_info": {
   "codemirror_mode": {
    "name": "ipython",
    "version": 3
   },
   "file_extension": ".py",
   "mimetype": "text/x-python",
   "name": "python",
   "nbconvert_exporter": "python",
   "pygments_lexer": "ipython3",
   "version": "3.9.13"
  }
 },
 "nbformat": 4,
 "nbformat_minor": 1
}
